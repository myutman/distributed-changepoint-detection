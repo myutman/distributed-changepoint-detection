{
 "cells": [
  {
   "cell_type": "code",
   "execution_count": 37,
   "metadata": {
    "pycharm": {
     "is_executing": false
    }
   },
   "outputs": [],
   "source": [
    "from importlib import reload\n",
    "\n",
    "import myutman\n",
    "reload(myutman.stand_utils)\n",
    "\n",
    "from myutman.fuse import FuseForWindowAlgo\n",
    "from myutman.generation import ClientTerminalsReorderSampleGeneration, ChangeWithClientSampleGeneration, \\\n",
    "    ChangeWithTerminalSampleGeneration, ChangeSampleGeneration\n",
    "from myutman.node_distribution import RoundrobinNodeDistribution, DependentNodeDistribution, \\\n",
    "    SecondMetaDependentNodeDistribution\n",
    "from myutman.stand import Stand\n",
    "from myutman.stand_utils import compare_mdrs, compare_fdrs, compare_latencies\n",
    "from myutman.window_algo import WindowStreamingAlgo"
   ]
  },
  {
   "cell_type": "code",
   "execution_count": 2,
   "metadata": {
    "pycharm": {
     "is_executing": false,
     "name": "#%%\n"
    }
   },
   "outputs": [],
   "source": [
    "n_nodes = 10\n",
    "stand_roundrobins = Stand(\n",
    "    n_nodes=n_nodes,\n",
    "    algo=WindowStreamingAlgo,\n",
    "    client_node_distribution=RoundrobinNodeDistribution,\n",
    "    terminal_node_distribution=RoundrobinNodeDistribution,\n",
    "    fuse=FuseForWindowAlgo()\n",
    ")\n",
    "stand_client_dependent = Stand(\n",
    "    n_nodes=n_nodes,\n",
    "    algo=WindowStreamingAlgo,\n",
    "    client_node_distribution=DependentNodeDistribution,\n",
    "    terminal_node_distribution=SecondMetaDependentNodeDistribution,\n",
    "    fuse=FuseForWindowAlgo()\n",
    ")\n",
    "stand_terminal_dependent = Stand(\n",
    "    n_nodes=n_nodes,\n",
    "    algo=WindowStreamingAlgo,\n",
    "    client_node_distribution=SecondMetaDependentNodeDistribution,\n",
    "    terminal_node_distribution=DependentNodeDistribution,\n",
    "    fuse=FuseForWindowAlgo()\n",
    ")\n",
    "stand_resharding = Stand(\n",
    "    n_nodes=n_nodes,\n",
    "    algo=WindowStreamingAlgo,\n",
    "    client_node_distribution=DependentNodeDistribution,\n",
    "    terminal_node_distribution=DependentNodeDistribution,\n",
    "    fuse=FuseForWindowAlgo()\n",
    ")"
   ]
  },
  {
   "cell_type": "code",
   "execution_count": 3,
   "metadata": {
    "pycharm": {
     "is_executing": true,
     "name": "#%%\n"
    }
   },
   "outputs": [
    {
     "name": "stderr",
     "output_type": "stream",
     "text": [
      "100000it [17:14, 96.63it/s]\n"
     ]
    },
    {
     "name": "stdout",
     "output_type": "stream",
     "text": [
      "{'TDR': 0.6593406593406593, 'MDR': 0.34065934065934067, 'FDR': 0.3548387096774194, 'latency': 388.98333333333335}\n"
     ]
    },
    {
     "name": "stderr",
     "output_type": "stream",
     "text": [
      "100000it [33:02, 50.43it/s]\n"
     ]
    },
    {
     "name": "stdout",
     "output_type": "stream",
     "text": [
      "{'TDR': 0.6813186813186813, 'MDR': 0.31868131868131866, 'FDR': 0.504, 'latency': 313.80645161290323}\n"
     ]
    },
    {
     "name": "stderr",
     "output_type": "stream",
     "text": [
      "100000it [33:57, 49.07it/s]\n"
     ]
    },
    {
     "name": "stdout",
     "output_type": "stream",
     "text": [
      "{'TDR': 0.6483516483516484, 'MDR': 0.3516483516483516, 'FDR': 0.3058823529411765, 'latency': 453.4406779661017}\n"
     ]
    },
    {
     "name": "stderr",
     "output_type": "stream",
     "text": [
      "100000it [46:42, 35.68it/s]\n"
     ]
    },
    {
     "name": "stdout",
     "output_type": "stream",
     "text": [
      "{'TDR': 0.7142857142857143, 'MDR': 0.2857142857142857, 'FDR': 0.4298245614035088, 'latency': 401.9384615384615}\n"
     ]
    },
    {
     "name": "stderr",
     "output_type": "stream",
     "text": [
      "100000it [22:56, 72.63it/s]\n"
     ]
    },
    {
     "name": "stdout",
     "output_type": "stream",
     "text": [
      "{'TDR': 0.4725274725274725, 'MDR': 0.5274725274725275, 'FDR': 0.36764705882352944, 'latency': 408.2093023255814}\n"
     ]
    },
    {
     "name": "stderr",
     "output_type": "stream",
     "text": [
      "100000it [37:58, 43.89it/s]\n"
     ]
    },
    {
     "name": "stdout",
     "output_type": "stream",
     "text": [
      "{'TDR': 0.7252747252747253, 'MDR': 0.27472527472527475, 'FDR': 0.42105263157894735, 'latency': 314.27272727272725}\n"
     ]
    },
    {
     "name": "stderr",
     "output_type": "stream",
     "text": [
      "100000it [37:34, 44.36it/s]\n"
     ]
    },
    {
     "name": "stdout",
     "output_type": "stream",
     "text": [
      "{'TDR': 0.5494505494505495, 'MDR': 0.4505494505494505, 'FDR': 0.25373134328358204, 'latency': 417.52}\n"
     ]
    },
    {
     "name": "stderr",
     "output_type": "stream",
     "text": [
      "100000it [44:49, 37.19it/s]\n"
     ]
    },
    {
     "name": "stdout",
     "output_type": "stream",
     "text": [
      "{'TDR': 0.6483516483516484, 'MDR': 0.3516483516483516, 'FDR': 0.3979591836734694, 'latency': 306.59322033898303}\n"
     ]
    },
    {
     "name": "stderr",
     "output_type": "stream",
     "text": [
      "100000it [17:35, 94.78it/s]\n"
     ]
    },
    {
     "name": "stdout",
     "output_type": "stream",
     "text": [
      "{'TDR': 0.5824175824175825, 'MDR': 0.41758241758241754, 'FDR': 0.4301075268817204, 'latency': 410.79245283018867}\n"
     ]
    },
    {
     "name": "stderr",
     "output_type": "stream",
     "text": [
      "100000it [35:30, 46.93it/s]\n"
     ]
    },
    {
     "name": "stdout",
     "output_type": "stream",
     "text": [
      "{'TDR': 0.8461538461538461, 'MDR': 0.15384615384615385, 'FDR': 0.493421052631579, 'latency': 317.4155844155844}\n"
     ]
    },
    {
     "name": "stderr",
     "output_type": "stream",
     "text": [
      "100000it [36:14, 45.98it/s]\n"
     ]
    },
    {
     "name": "stdout",
     "output_type": "stream",
     "text": [
      "{'TDR': 0.6043956043956044, 'MDR': 0.39560439560439564, 'FDR': 0.38888888888888884, 'latency': 376.8545454545455}\n"
     ]
    },
    {
     "name": "stderr",
     "output_type": "stream",
     "text": [
      "100000it [42:48, 38.93it/s]\n"
     ]
    },
    {
     "name": "stdout",
     "output_type": "stream",
     "text": [
      "{'TDR': 0.8241758241758241, 'MDR': 0.17582417582417587, 'FDR': 0.460431654676259, 'latency': 298.92}\n"
     ]
    },
    {
     "name": "stderr",
     "output_type": "stream",
     "text": [
      "100000it [18:08, 91.85it/s]\n"
     ]
    },
    {
     "name": "stdout",
     "output_type": "stream",
     "text": [
      "{'TDR': 0.6043956043956044, 'MDR': 0.39560439560439564, 'FDR': 0.375, 'latency': 487.4909090909091}\n"
     ]
    },
    {
     "name": "stderr",
     "output_type": "stream",
     "text": [
      "100000it [34:05, 48.90it/s]\n"
     ]
    },
    {
     "name": "stdout",
     "output_type": "stream",
     "text": [
      "{'TDR': 0.6373626373626373, 'MDR': 0.3626373626373627, 'FDR': 0.4774774774774775, 'latency': 369.2241379310345}\n"
     ]
    },
    {
     "name": "stderr",
     "output_type": "stream",
     "text": [
      "100000it [33:05, 50.37it/s]\n"
     ]
    },
    {
     "name": "stdout",
     "output_type": "stream",
     "text": [
      "{'TDR': 0.6043956043956044, 'MDR': 0.39560439560439564, 'FDR': 0.3820224719101124, 'latency': 474.3454545454546}\n"
     ]
    },
    {
     "name": "stderr",
     "output_type": "stream",
     "text": [
      "100000it [43:07, 38.64it/s]\n"
     ]
    },
    {
     "name": "stdout",
     "output_type": "stream",
     "text": [
      "{'TDR': 0.5714285714285714, 'MDR': 0.4285714285714286, 'FDR': 0.5094339622641509, 'latency': 374.6923076923077}\n"
     ]
    },
    {
     "name": "stderr",
     "output_type": "stream",
     "text": [
      "100000it [15:19, 108.75it/s]\n"
     ]
    },
    {
     "name": "stdout",
     "output_type": "stream",
     "text": [
      "{'TDR': 0.6593406593406593, 'MDR': 0.34065934065934067, 'FDR': 0.4, 'latency': 408.31666666666666}\n"
     ]
    },
    {
     "name": "stderr",
     "output_type": "stream",
     "text": [
      "100000it [31:57, 52.14it/s]\n"
     ]
    },
    {
     "name": "stdout",
     "output_type": "stream",
     "text": [
      "{'TDR': 0.7912087912087912, 'MDR': 0.20879120879120883, 'FDR': 0.4666666666666667, 'latency': 319.06944444444446}\n"
     ]
    },
    {
     "name": "stderr",
     "output_type": "stream",
     "text": [
      "100000it [32:06, 51.90it/s]\n"
     ]
    },
    {
     "name": "stdout",
     "output_type": "stream",
     "text": [
      "{'TDR': 0.6483516483516484, 'MDR': 0.3516483516483516, 'FDR': 0.38541666666666663, 'latency': 378.22033898305085}\n"
     ]
    },
    {
     "name": "stderr",
     "output_type": "stream",
     "text": [
      "100000it [42:29, 39.22it/s]\n"
     ]
    },
    {
     "name": "stdout",
     "output_type": "stream",
     "text": [
      "{'TDR': 0.7362637362637363, 'MDR': 0.2637362637362637, 'FDR': 0.46825396825396826, 'latency': 301.2985074626866}\n"
     ]
    },
    {
     "name": "stderr",
     "output_type": "stream",
     "text": [
      "100000it [17:27, 95.47it/s]\n"
     ]
    },
    {
     "name": "stdout",
     "output_type": "stream",
     "text": [
      "{'TDR': 0.6703296703296703, 'MDR': 0.3296703296703297, 'FDR': 0.35106382978723405, 'latency': 457.1311475409836}\n"
     ]
    },
    {
     "name": "stderr",
     "output_type": "stream",
     "text": [
      "100000it [33:32, 49.70it/s]\n"
     ]
    },
    {
     "name": "stdout",
     "output_type": "stream",
     "text": [
      "{'TDR': 0.7912087912087912, 'MDR': 0.20879120879120883, 'FDR': 0.4626865671641791, 'latency': 296.09722222222223}\n"
     ]
    },
    {
     "name": "stderr",
     "output_type": "stream",
     "text": [
      "100000it [33:56, 49.11it/s]\n"
     ]
    },
    {
     "name": "stdout",
     "output_type": "stream",
     "text": [
      "{'TDR': 0.5714285714285714, 'MDR': 0.4285714285714286, 'FDR': 0.3580246913580247, 'latency': 542.8461538461538}\n"
     ]
    },
    {
     "name": "stderr",
     "output_type": "stream",
     "text": [
      "100000it [43:10, 38.61it/s]\n"
     ]
    },
    {
     "name": "stdout",
     "output_type": "stream",
     "text": [
      "{'TDR': 0.7032967032967034, 'MDR': 0.29670329670329665, 'FDR': 0.4576271186440678, 'latency': 284.40625}\n"
     ]
    },
    {
     "name": "stderr",
     "output_type": "stream",
     "text": [
      "100000it [19:44, 84.46it/s]\n"
     ]
    },
    {
     "name": "stdout",
     "output_type": "stream",
     "text": [
      "{'TDR': 0.5714285714285714, 'MDR': 0.4285714285714286, 'FDR': 0.3580246913580247, 'latency': 446.13461538461536}\n"
     ]
    },
    {
     "name": "stderr",
     "output_type": "stream",
     "text": [
      "100000it [34:21, 48.51it/s]\n"
     ]
    },
    {
     "name": "stdout",
     "output_type": "stream",
     "text": [
      "{'TDR': 0.7582417582417582, 'MDR': 0.2417582417582418, 'FDR': 0.43442622950819676, 'latency': 256.27536231884056}\n"
     ]
    },
    {
     "name": "stderr",
     "output_type": "stream",
     "text": [
      "100000it [36:06, 46.16it/s]\n"
     ]
    },
    {
     "name": "stdout",
     "output_type": "stream",
     "text": [
      "{'TDR': 0.5714285714285714, 'MDR': 0.4285714285714286, 'FDR': 0.2676056338028169, 'latency': 436.7307692307692}\n"
     ]
    },
    {
     "name": "stderr",
     "output_type": "stream",
     "text": [
      "100000it [43:18, 38.48it/s]\n"
     ]
    },
    {
     "name": "stdout",
     "output_type": "stream",
     "text": [
      "{'TDR': 0.7472527472527473, 'MDR': 0.25274725274725274, 'FDR': 0.4035087719298246, 'latency': 265.97058823529414}\n"
     ]
    },
    {
     "name": "stderr",
     "output_type": "stream",
     "text": [
      "100000it [18:03, 92.26it/s]\n"
     ]
    },
    {
     "name": "stdout",
     "output_type": "stream",
     "text": [
      "{'TDR': 0.6703296703296703, 'MDR': 0.3296703296703297, 'FDR': 0.3296703296703297, 'latency': 493.88524590163934}\n"
     ]
    },
    {
     "name": "stderr",
     "output_type": "stream",
     "text": [
      "100000it [33:12, 50.19it/s]\n"
     ]
    },
    {
     "name": "stdout",
     "output_type": "stream",
     "text": [
      "{'TDR': 0.7252747252747253, 'MDR': 0.27472527472527475, 'FDR': 0.472, 'latency': 317.6212121212121}\n"
     ]
    },
    {
     "name": "stderr",
     "output_type": "stream",
     "text": [
      "100000it [35:59, 46.30it/s]\n"
     ]
    },
    {
     "name": "stdout",
     "output_type": "stream",
     "text": [
      "{'TDR': 0.5054945054945055, 'MDR': 0.4945054945054945, 'FDR': 0.36111111111111116, 'latency': 340.0217391304348}\n"
     ]
    },
    {
     "name": "stderr",
     "output_type": "stream",
     "text": [
      "100000it [43:36, 38.21it/s]\n"
     ]
    },
    {
     "name": "stdout",
     "output_type": "stream",
     "text": [
      "{'TDR': 0.6263736263736264, 'MDR': 0.37362637362637363, 'FDR': 0.4672897196261683, 'latency': 245.33333333333334}\n"
     ]
    },
    {
     "name": "stderr",
     "output_type": "stream",
     "text": [
      "100000it [16:12, 102.87it/s]\n"
     ]
    },
    {
     "name": "stdout",
     "output_type": "stream",
     "text": [
      "{'TDR': 0.6373626373626373, 'MDR': 0.3626373626373627, 'FDR': 0.4020618556701031, 'latency': 449.3103448275862}\n"
     ]
    },
    {
     "name": "stderr",
     "output_type": "stream",
     "text": [
      "100000it [33:19, 50.01it/s]\n"
     ]
    },
    {
     "name": "stdout",
     "output_type": "stream",
     "text": [
      "{'TDR': 0.7142857142857143, 'MDR': 0.2857142857142857, 'FDR': 0.45833333333333337, 'latency': 327.67692307692306}\n"
     ]
    },
    {
     "name": "stderr",
     "output_type": "stream",
     "text": [
      "100000it [35:02, 47.55it/s]\n"
     ]
    },
    {
     "name": "stdout",
     "output_type": "stream",
     "text": [
      "{'TDR': 0.6263736263736264, 'MDR': 0.37362637362637363, 'FDR': 0.3448275862068966, 'latency': 410.1578947368421}\n"
     ]
    },
    {
     "name": "stderr",
     "output_type": "stream",
     "text": [
      "100000it [43:38, 38.18it/s]\n"
     ]
    },
    {
     "name": "stdout",
     "output_type": "stream",
     "text": [
      "{'TDR': 0.6593406593406593, 'MDR': 0.34065934065934067, 'FDR': 0.4642857142857143, 'latency': 311.28333333333336}\n"
     ]
    },
    {
     "name": "stderr",
     "output_type": "stream",
     "text": [
      "100000it [18:47, 88.69it/s]\n"
     ]
    },
    {
     "name": "stdout",
     "output_type": "stream",
     "text": [
      "{'TDR': 0.6153846153846154, 'MDR': 0.3846153846153846, 'FDR': 0.3707865168539326, 'latency': 507.4107142857143}\n"
     ]
    },
    {
     "name": "stderr",
     "output_type": "stream",
     "text": [
      "100000it [33:27, 49.81it/s]\n"
     ]
    },
    {
     "name": "stdout",
     "output_type": "stream",
     "text": [
      "{'TDR': 0.7582417582417582, 'MDR': 0.2417582417582418, 'FDR': 0.4152542372881356, 'latency': 299.39130434782606}\n"
     ]
    },
    {
     "name": "stderr",
     "output_type": "stream",
     "text": [
      "100000it [32:56, 50.60it/s]\n"
     ]
    },
    {
     "name": "stdout",
     "output_type": "stream",
     "text": [
      "{'TDR': 0.6593406593406593, 'MDR': 0.34065934065934067, 'FDR': 0.2857142857142857, 'latency': 475.98333333333335}\n"
     ]
    },
    {
     "name": "stderr",
     "output_type": "stream",
     "text": [
      "100000it [44:08, 37.75it/s]\n"
     ]
    },
    {
     "name": "stdout",
     "output_type": "stream",
     "text": [
      "{'TDR': 0.5714285714285714, 'MDR': 0.4285714285714286, 'FDR': 0.4222222222222223, 'latency': 238.28846153846155}\n"
     ]
    }
   ],
   "source": [
    "stands = [\n",
    "    stand_roundrobins,\n",
    "    stand_client_dependent,\n",
    "    stand_terminal_dependent,\n",
    "    stand_resharding\n",
    "]\n",
    "\n",
    "generations = [\n",
    "    ChangeSampleGeneration\n",
    "]\n",
    "\n",
    "results = [[[] for _ in stands] for _ in generations]\n",
    "for state in range(10):\n",
    "    for i, generation in enumerate(generations):\n",
    "        sample, change_points = generation(state=state)()\n",
    "        for j, stand in enumerate(stands):\n",
    "            result1 = stand.test(\n",
    "                p=0.05,\n",
    "                sample=sample,\n",
    "                change_points=change_points,\n",
    "                n_clients=20,\n",
    "                n_terminals=20\n",
    "            )\n",
    "            print(result1)\n",
    "            results[i][j].append(result1)"
   ]
  },
  {
   "cell_type": "code",
   "execution_count": 8,
   "metadata": {},
   "outputs": [],
   "source": [
    "import json\n",
    "\n",
    "with open('results.json', 'w') as results_file:\n",
    "    json.dump(results, results_file, indent=4, ensure_ascii=False)"
   ]
  },
  {
   "cell_type": "markdown",
   "metadata": {},
   "source": [
    "## Roundrobin vs Client dependency"
   ]
  },
  {
   "cell_type": "code",
   "execution_count": 32,
   "metadata": {},
   "outputs": [
    {
     "name": "stdout",
     "output_type": "stream",
     "text": [
      "Results of Wilcoxon T-test of stand_roundrobins MDR to be less then stand_client_dependent MDR is WilcoxonResult(statistic=55.0, pvalue=0.9974689839368661)\n"
     ]
    }
   ],
   "source": [
    "compare_mdrs(results[0][0], results[0][1], 'stand_roundrobins', 'stand_client_dependent')"
   ]
  },
  {
   "cell_type": "code",
   "execution_count": 35,
   "metadata": {},
   "outputs": [
    {
     "name": "stdout",
     "output_type": "stream",
     "text": [
      "Results of Wilcoxon T-test of stand_roundrobins FDR to be less then stand_client_dependent MDR is WilcoxonResult(statistic=0.0, pvalue=0.002531016063133932)\n"
     ]
    }
   ],
   "source": [
    "compare_fdrs(results[0][0], results[0][1], 'stand_roundrobins', 'stand_client_dependent')"
   ]
  },
  {
   "cell_type": "code",
   "execution_count": 38,
   "metadata": {},
   "outputs": [
    {
     "data": {
      "image/png": "[encoded data removed]",
      "text/plain": [
       "<Figure size 432x288 with 1 Axes>"
      ]
     },
     "metadata": {
      "needs_background": "light"
     },
     "output_type": "display_data"
    }
   ],
   "source": [
    "compare_latencies(results[0][0], results[0][1], 'stand_roundrobins', 'stand_client_dependent')"
   ]
  },
  {
   "cell_type": "markdown",
   "metadata": {},
   "source": [
    "## Roundrobin vs Terminal dependency"
   ]
  },
  {
   "cell_type": "code",
   "execution_count": 40,
   "metadata": {},
   "outputs": [
    {
     "name": "stdout",
     "output_type": "stream",
     "text": [
      "Results of Wilcoxon T-test of stand_roundrobins MDR to be less then stand_terminal_dependent MDR is WilcoxonResult(statistic=15.0, pvalue=0.3364546554578759)\n"
     ]
    },
    {
     "name": "stderr",
     "output_type": "stream",
     "text": [
      "/Users/myutman/Documents/distributed-changepoint-detection/venv/lib/python3.7/site-packages/scipy/stats/morestats.py:2879: UserWarning: Sample size too small for normal approximation.\n",
      "  warnings.warn(\"Sample size too small for normal approximation.\")\n"
     ]
    }
   ],
   "source": [
    "compare_mdrs(results[0][0], results[0][2], 'stand_roundrobins', 'stand_terminal_dependent')"
   ]
  },
  {
   "cell_type": "code",
   "execution_count": 41,
   "metadata": {},
   "outputs": [
    {
     "name": "stdout",
     "output_type": "stream",
     "text": [
      "Results of Wilcoxon T-test of stand_roundrobins FDR to be less then stand_terminal_dependent MDR is WilcoxonResult(statistic=48.0, pvalue=0.9816710356638927)\n"
     ]
    }
   ],
   "source": [
    "compare_fdrs(results[0][0], results[0][2], 'stand_roundrobins', 'stand_terminal_dependent')"
   ]
  },
  {
   "cell_type": "code",
   "execution_count": 42,
   "metadata": {},
   "outputs": [
    {
     "data": {
      "image/png": "[encoded data removed]",
      "text/plain": [
       "<Figure size 432x288 with 1 Axes>"
      ]
     },
     "metadata": {
      "needs_background": "light"
     },
     "output_type": "display_data"
    }
   ],
   "source": [
    "compare_latencies(results[0][0], results[0][2], 'stand_roundrobins', 'stand_terminal_dependent')"
   ]
  },
  {
   "cell_type": "markdown",
   "metadata": {},
   "source": [
    "## Client dependent vs Resharding"
   ]
  },
  {
   "cell_type": "code",
   "execution_count": 46,
   "metadata": {},
   "outputs": [
    {
     "name": "stdout",
     "output_type": "stream",
     "text": [
      "Results of Wilcoxon T-test of stand_client_dependent MDR to be less then stand_resharding MDR is WilcoxonResult(statistic=3.0, pvalue=0.0062576593450369864)\n"
     ]
    }
   ],
   "source": [
    "compare_mdrs(results[0][1], results[0][3], 'stand_client_dependent', 'stand_resharding')"
   ]
  },
  {
   "cell_type": "code",
   "execution_count": 47,
   "metadata": {},
   "outputs": [
    {
     "name": "stdout",
     "output_type": "stream",
     "text": [
      "Results of Wilcoxon T-test of stand_client_dependent FDR to be less then stand_resharding MDR is WilcoxonResult(statistic=37.0, pvalue=0.8335601227158056)\n"
     ]
    }
   ],
   "source": [
    "compare_fdrs(results[0][1], results[0][3], 'stand_client_dependent', 'stand_resharding')"
   ]
  },
  {
   "cell_type": "code",
   "execution_count": 48,
   "metadata": {},
   "outputs": [
    {
     "data": {
      "image/png": "[encoded data removed]",
      "text/plain": [
       "<Figure size 432x288 with 1 Axes>"
      ]
     },
     "metadata": {
      "needs_background": "light"
     },
     "output_type": "display_data"
    }
   ],
   "source": [
    "compare_latencies(results[0][1], results[0][3], 'stand_client_dependent', 'stand_resharding')"
   ]
  },
  {
   "cell_type": "code",
   "execution_count": null,
   "metadata": {},
   "outputs": [],
   "source": []
  }
 ],
 "metadata": {
  "kernelspec": {
   "display_name": "Python 3",
   "language": "python",
   "name": "python3"
  },
  "language_info": {
   "codemirror_mode": {
    "name": "ipython",
    "version": 3
   },
   "file_extension": ".py",
   "mimetype": "text/x-python",
   "name": "python",
   "nbconvert_exporter": "python",
   "pygments_lexer": "ipython3",
   "version": "3.7.6"
  },
  "pycharm": {
   "stem_cell": {
    "cell_type": "raw",
    "metadata": {
     "collapsed": false
    },
    "source": []
   }
  }
 },
 "nbformat": 4,
 "nbformat_minor": 1
}
