{
 "cells": [
  {
   "cell_type": "code",
   "execution_count": 2,
   "metadata": {
    "pycharm": {
     "is_executing": false
    }
   },
   "outputs": [
    {
     "ename": "AttributeError",
     "evalue": "module 'myutman' has no attribute 'stand_utils'",
     "output_type": "error",
     "traceback": [
      "\u001b[0;31m---------------------------------------------------------------------------\u001b[0m",
      "\u001b[0;31mAttributeError\u001b[0m                            Traceback (most recent call last)",
      "\u001b[0;32m<ipython-input-2-f18b27a0943e>\u001b[0m in \u001b[0;36m<module>\u001b[0;34m\u001b[0m\n\u001b[1;32m      2\u001b[0m \u001b[0;34m\u001b[0m\u001b[0m\n\u001b[1;32m      3\u001b[0m \u001b[0;32mimport\u001b[0m \u001b[0mmyutman\u001b[0m\u001b[0;34m\u001b[0m\u001b[0;34m\u001b[0m\u001b[0m\n\u001b[0;32m----> 4\u001b[0;31m \u001b[0mreload\u001b[0m\u001b[0;34m(\u001b[0m\u001b[0mmyutman\u001b[0m\u001b[0;34m.\u001b[0m\u001b[0mstand_utils\u001b[0m\u001b[0;34m)\u001b[0m\u001b[0;34m\u001b[0m\u001b[0;34m\u001b[0m\u001b[0m\n\u001b[0m\u001b[1;32m      5\u001b[0m \u001b[0mreload\u001b[0m\u001b[0;34m(\u001b[0m\u001b[0mmyutman\u001b[0m\u001b[0;34m.\u001b[0m\u001b[0mstand\u001b[0m\u001b[0;34m)\u001b[0m\u001b[0;34m\u001b[0m\u001b[0;34m\u001b[0m\u001b[0m\n\u001b[1;32m      6\u001b[0m \u001b[0mreload\u001b[0m\u001b[0;34m(\u001b[0m\u001b[0mmyutman\u001b[0m\u001b[0;34m.\u001b[0m\u001b[0mwindow_algo\u001b[0m\u001b[0;34m)\u001b[0m\u001b[0;34m\u001b[0m\u001b[0;34m\u001b[0m\u001b[0m\n",
      "\u001b[0;31mAttributeError\u001b[0m: module 'myutman' has no attribute 'stand_utils'"
     ]
    }
   ],
   "source": [
    "from importlib import reload\n",
    "\n",
    "import myutman\n",
    "reload(myutman.stand_utils)\n",
    "reload(myutman.stand)\n",
    "reload(myutman.window_algo)\n",
    "reload(myutman.generation)\n",
    "reload(myutman.fuse)\n",
    "\n",
    "from myutman.fuse import FuseForWindowAlgo\n",
    "from myutman.generation import  ChangeSampleGeneration, StillSampleGeneration\n",
    "from myutman.node_distribution import RoundrobinNodeDistribution, DependentNodeDistribution, \\\n",
    "    SecondMetaDependentNodeDistribution\n",
    "from myutman.stand import Stand\n",
    "from myutman.stand_utils import compare_vals, show_boxplots\n",
    "from myutman.window_algo import WindowStreamingAlgo"
   ]
  },
  {
   "cell_type": "code",
   "execution_count": null,
   "metadata": {
    "pycharm": {
     "is_executing": false,
     "name": "#%%\n"
    }
   },
   "outputs": [],
   "source": [
    "n_nodes = 10\n",
    "stand_roundrobins = Stand(\n",
    "    n_nodes=n_nodes,\n",
    "    algo=WindowStreamingAlgo,\n",
    "    client_node_distribution=RoundrobinNodeDistribution,\n",
    "    terminal_node_distribution=RoundrobinNodeDistribution,\n",
    "    fuse=FuseForWindowAlgo()\n",
    ")\n",
    "stand_client_dependent = Stand(\n",
    "    n_nodes=n_nodes,\n",
    "    algo=WindowStreamingAlgo,\n",
    "    client_node_distribution=DependentNodeDistribution,\n",
    "    terminal_node_distribution=SecondMetaDependentNodeDistribution,\n",
    "    fuse=FuseForWindowAlgo()\n",
    ")\n",
    "stand_terminal_dependent = Stand(\n",
    "    n_nodes=n_nodes,\n",
    "    algo=WindowStreamingAlgo,\n",
    "    client_node_distribution=SecondMetaDependentNodeDistribution,\n",
    "    terminal_node_distribution=DependentNodeDistribution,\n",
    "    fuse=FuseForWindowAlgo()\n",
    ")\n",
    "stand_resharding = Stand(\n",
    "    n_nodes=n_nodes,\n",
    "    algo=WindowStreamingAlgo,\n",
    "    client_node_distribution=DependentNodeDistribution,\n",
    "    terminal_node_distribution=DependentNodeDistribution,\n",
    "    fuse=FuseForWindowAlgo()\n",
    ")"
   ]
  },
  {
   "cell_type": "code",
   "execution_count": null,
   "metadata": {
    "pycharm": {
     "is_executing": false,
     "name": "#%%\n"
    }
   },
   "outputs": [],
   "source": [
    "stands = [\n",
    "    stand_roundrobins,\n",
    "    stand_client_dependent,\n",
    "    stand_terminal_dependent,\n",
    "    stand_resharding\n",
    "]\n",
    "\n",
    "generations = [\n",
    "    ChangeSampleGeneration\n",
    "]\n",
    "\n",
    "results = [[[] for _ in stands] for _ in generations]\n",
    "for state in range(10):\n",
    "    for i, generation in enumerate(generations):\n",
    "        sample, change_points = generation(state=state)()\n",
    "        for j, stand in enumerate(stands):\n",
    "            result1 = stand.test(\n",
    "                p=0.05,\n",
    "                sample=sample,\n",
    "                change_points=change_points,\n",
    "                n_clients=20,\n",
    "                n_terminals=20\n",
    "            )\n",
    "            print(result1)\n",
    "            results[i][j].append(result1)"
   ]
  },
  {
   "cell_type": "code",
   "execution_count": null,
   "metadata": {
    "pycharm": {
     "is_executing": false
    }
   },
   "outputs": [],
   "source": [
    "results[0].append([])"
   ]
  },
  {
   "cell_type": "code",
   "execution_count": null,
   "metadata": {
    "pycharm": {
     "is_executing": false
    }
   },
   "outputs": [],
   "source": [
    "stand_centralized = Stand(\n",
    "    n_nodes=1,\n",
    "    algo=WindowStreamingAlgo,\n",
    "    client_node_distribution=RoundrobinNodeDistribution,\n",
    "    terminal_node_distribution=RoundrobinNodeDistribution,\n",
    "    fuse=FuseForWindowAlgo()\n",
    ")"
   ]
  },
  {
   "cell_type": "code",
   "execution_count": null,
   "metadata": {
    "pycharm": {
     "is_executing": false
    }
   },
   "outputs": [],
   "source": [
    "for state in range(10):\n",
    "    sample, change_points = generation(state=state)()\n",
    "    result1 = stand_centralized.test(\n",
    "        p=0.05,\n",
    "        sample=sample,\n",
    "        change_points=change_points,\n",
    "        n_clients=20,\n",
    "        n_terminals=20\n",
    "    )\n",
    "    print(result1)\n",
    "    results[0][4].append(result1)"
   ]
  },
  {
   "cell_type": "code",
   "execution_count": null,
   "metadata": {
    "pycharm": {
     "is_executing": false
    }
   },
   "outputs": [],
   "source": [
    "still_results = [[[] for _ in stands]] \n",
    "for state in range(1):\n",
    "    for i, generation in enumerate([StillSampleGeneration(state=state)]):\n",
    "        sample, change_points = generation(state=state)()\n",
    "        for j, stand in enumerate(stands):\n",
    "            result1 = stand.test(\n",
    "                p=0.05,\n",
    "                sample=sample,\n",
    "                change_points=change_points,\n",
    "                n_clients=20,\n",
    "                n_terminals=20\n",
    "            )\n",
    "            print(result1)\n",
    "            still_results[i][j].append(result1)"
   ]
  },
  {
   "cell_type": "code",
   "execution_count": null,
   "metadata": {
    "pycharm": {
     "is_executing": false
    }
   },
   "outputs": [],
   "source": [
    "import json\n",
    "\n",
    "with open('results.json', 'w') as results_file:\n",
    "    json.dump(results, results_file, indent=4, ensure_ascii=False)"
   ]
  },
  {
   "cell_type": "code",
   "execution_count": null,
   "metadata": {
    "pycharm": {
     "is_executing": false
    }
   },
   "outputs": [],
   "source": []
  },
  {
   "cell_type": "code",
   "execution_count": null,
   "metadata": {
    "pycharm": {
     "is_executing": false
    }
   },
   "outputs": [],
   "source": [
    "with open('centralized_vs_roundrobin_p=[0.01, 0.05, 0.1]_nnodes=[4, 8, 16]_original_experiment1_algo_20k_iter_no_change_period_noise.json') as input_file:\n",
    "    results = json.load(input_file)"
   ]
  },
  {
   "cell_type": "code",
   "execution_count": null,
   "metadata": {
    "pycharm": {
     "is_executing": false
    }
   },
   "outputs": [],
   "source": [
    "len(results[0][0])"
   ]
  },
  {
   "cell_type": "code",
   "execution_count": null,
   "metadata": {
    "pycharm": {
     "is_executing": false
    }
   },
   "outputs": [],
   "source": [
    "show_boxplots('client_MDR', results[0], ['stand_centralized', 'stand_roundrobin', 'stand_client_dependent', 'stand_terminal_dependent'])"
   ]
  },
  {
   "cell_type": "code",
   "execution_count": null,
   "metadata": {
    "pycharm": {
     "is_executing": false
    }
   },
   "outputs": [],
   "source": [
    "show_boxplots('terminal_MDR', results[0], ['stand_centralized', 'stand_roundrobin', 'stand_client_dependent', 'stand_terminal_dependent'])"
   ]
  },
  {
   "cell_type": "code",
   "execution_count": null,
   "metadata": {
    "pycharm": {
     "is_executing": false
    }
   },
   "outputs": [],
   "source": [
    "show_boxplots('client_latency', results[0], ['stand_centralized', 'stand_roundrobin', 'stand_client_dependent', 'stand_terminal_dependent'])"
   ]
  },
  {
   "cell_type": "code",
   "execution_count": null,
   "metadata": {
    "pycharm": {
     "is_executing": false
    }
   },
   "outputs": [],
   "source": [
    "show_boxplots('terminal_latency', results[0], ['stand_centralized', 'stand_roundrobin', 'stand_client_dependent', 'stand_terminal_dependent'])"
   ]
  },
  {
   "cell_type": "code",
   "execution_count": null,
   "metadata": {
    "pycharm": {
     "is_executing": false
    }
   },
   "outputs": [],
   "source": [
    "show_boxplots('client_FDR', results[0], ['stand_centralized', 'stand_roundrobin', 'stand_client_dependent', 'stand_terminal_dependent'])"
   ]
  },
  {
   "cell_type": "code",
   "execution_count": null,
   "metadata": {
    "pycharm": {
     "is_executing": false
    },
    "scrolled": true
   },
   "outputs": [],
   "source": [
    "show_boxplots('terminal_FDR', results[0], ['stand_centralized', 'stand_roundrobin', 'stand_client_dependent', 'stand_terminal_dependent'])"
   ]
  },
  {
   "cell_type": "markdown",
   "metadata": {},
   "source": [
    "## Roundrobin vs Client dependency"
   ]
  },
  {
   "cell_type": "code",
   "execution_count": null,
   "metadata": {
    "pycharm": {
     "is_executing": false
    },
    "scrolled": true
   },
   "outputs": [],
   "source": [
    "compare_vals('client_FDR', results[0][0], results[0][1], 'stand_centralized', 'stand_roundrobins')"
   ]
  },
  {
   "cell_type": "code",
   "execution_count": null,
   "metadata": {
    "pycharm": {
     "is_executing": false
    }
   },
   "outputs": [],
   "source": [
    "compare_vals('terminal_FDR', results[0][0], results[0][1], 'stand_centralized', 'stand_roundrobins')"
   ]
  },
  {
   "cell_type": "code",
   "execution_count": null,
   "metadata": {
    "pycharm": {
     "is_executing": false
    }
   },
   "outputs": [],
   "source": [
    "compare_latencies(results[0][0], results[0][1], 'stand_roundrobins', 'stand_client_dependent')"
   ]
  },
  {
   "cell_type": "markdown",
   "metadata": {},
   "source": [
    "## Roundrobin vs Terminal dependency"
   ]
  },
  {
   "cell_type": "code",
   "execution_count": null,
   "metadata": {
    "pycharm": {
     "is_executing": false
    },
    "scrolled": true
   },
   "outputs": [],
   "source": [
    "compare_mdrs(results[0][0], results[0][2], 'stand_roundrobins', 'stand_terminal_dependent')"
   ]
  },
  {
   "cell_type": "code",
   "execution_count": null,
   "metadata": {
    "pycharm": {
     "is_executing": false
    }
   },
   "outputs": [],
   "source": [
    "compare_fdrs(results[0][0], results[0][2], 'stand_roundrobins', 'stand_terminal_dependent')"
   ]
  },
  {
   "cell_type": "code",
   "execution_count": null,
   "metadata": {
    "pycharm": {
     "is_executing": false
    }
   },
   "outputs": [],
   "source": [
    "compare_latencies(results[0][0], results[0][2], 'stand_roundrobins', 'stand_terminal_dependent')"
   ]
  },
  {
   "cell_type": "markdown",
   "metadata": {},
   "source": [
    "## Client dependency vs Resharding"
   ]
  },
  {
   "cell_type": "code",
   "execution_count": null,
   "metadata": {
    "pycharm": {
     "is_executing": false
    }
   },
   "outputs": [],
   "source": [
    "compare_mdrs(results[0][1], results[0][3], 'stand_client_dependent', 'stand_resharding')"
   ]
  },
  {
   "cell_type": "code",
   "execution_count": null,
   "metadata": {
    "pycharm": {
     "is_executing": false
    }
   },
   "outputs": [],
   "source": [
    "compare_fdrs(results[0][1], results[0][3], 'stand_client_dependent', 'stand_resharding')"
   ]
  },
  {
   "cell_type": "code",
   "execution_count": null,
   "metadata": {
    "pycharm": {
     "is_executing": false
    }
   },
   "outputs": [],
   "source": [
    "compare_latencies(results[0][1], results[0][3], 'stand_client_dependent', 'stand_resharding')"
   ]
  },
  {
   "cell_type": "markdown",
   "metadata": {},
   "source": [
    "## Terminal dependency vs Resharding"
   ]
  },
  {
   "cell_type": "code",
   "execution_count": null,
   "metadata": {
    "pycharm": {
     "is_executing": false
    }
   },
   "outputs": [],
   "source": [
    "compare_mdrs(results[0][2], results[0][3], 'stand_terminal_dependent', 'stand_resharding')"
   ]
  },
  {
   "cell_type": "code",
   "execution_count": null,
   "metadata": {
    "pycharm": {
     "is_executing": false
    }
   },
   "outputs": [],
   "source": [
    "compare_fdrs(results[0][2], results[0][3], 'stand_terminal_dependent', 'stand_resharding')"
   ]
  },
  {
   "cell_type": "code",
   "execution_count": null,
   "metadata": {
    "pycharm": {
     "is_executing": false
    }
   },
   "outputs": [],
   "source": [
    "compare_latencies(results[0][2], results[0][3], 'stand_terminal_dependent', 'stand_resharding')"
   ]
  },
  {
   "cell_type": "code",
   "execution_count": null,
   "metadata": {
    "pycharm": {
     "is_executing": false
    }
   },
   "outputs": [],
   "source": []
  },
  {
   "cell_type": "code",
   "execution_count": null,
   "metadata": {},
   "outputs": [],
   "source": []
  },
  {
   "cell_type": "code",
   "execution_count": 4,
   "metadata": {},
   "outputs": [],
   "source": [
    "import matplotlib.pyplot as plt\n",
    "import numpy as np"
   ]
  },
  {
   "cell_type": "code",
   "execution_count": 7,
   "metadata": {},
   "outputs": [],
   "source": [
    "points = [\n",
    "    *np.random.normal(0, 1, size=1000),\n",
    "    *np.random.normal(2, 1, size=1000),\n",
    "]"
   ]
  },
  {
   "cell_type": "code",
   "execution_count": 25,
   "metadata": {},
   "outputs": [
    {
     "data": {
      "image/png": "[encoded data removed]",
      "text/plain": [
       "<Figure size 432x288 with 1 Axes>"
      ]
     },
     "metadata": {
      "needs_background": "light"
     },
     "output_type": "display_data"
    }
   ],
   "source": [
    "plt.rcParams.update({'font.size': 16})\n",
    "plt.title('Points sampled from a normal distribution')\n",
    "plt.xlabel('Change happens at 1000')\n",
    "plt.plot(points)\n",
    "plt.axvline(1000, color='red')\n",
    "plt.show()"
   ]
  }
 ],
 "metadata": {
  "kernelspec": {
   "display_name": "Python 3",
   "language": "python",
   "name": "python3"
  },
  "language_info": {
   "codemirror_mode": {
    "name": "ipython",
    "version": 3
   },
   "file_extension": ".py",
   "mimetype": "text/x-python",
   "name": "python",
   "nbconvert_exporter": "python",
   "pygments_lexer": "ipython3",
   "version": "3.7.6"
  },
  "pycharm": {
   "stem_cell": {
    "cell_type": "raw",
    "metadata": {
     "collapsed": false
    },
    "source": []
   }
  }
 },
 "nbformat": 4,
 "nbformat_minor": 1
}
