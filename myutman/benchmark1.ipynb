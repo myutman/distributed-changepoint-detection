{
 "cells": [
  {
   "cell_type": "code",
   "execution_count": 19,
   "metadata": {
    "pycharm": {
     "is_executing": false
    }
   },
   "outputs": [],
   "source": [
    "from importlib import reload\n",
    "\n",
    "import myutman\n",
    "reload(myutman.stand_utils)\n",
    "reload(myutman.stand)\n",
    "reload(myutman.window_algo)\n",
    "reload(myutman.generation)\n",
    "reload(myutman.fuse)\n",
    "\n",
    "from myutman.fuse import FuseForWindowAlgo\n",
    "from myutman.generation import ClientTerminalsReorderSampleGeneration, ChangeWithClientSampleGeneration, \\\n",
    "    ChangeWithTerminalSampleGeneration, ChangeSampleGeneration, StillSampleGeneration, \\\n",
    "    SimpleMultichangeSampleGeneration\n",
    "from myutman.node_distribution import RoundrobinNodeDistribution, DependentNodeDistribution, \\\n",
    "    SecondMetaDependentNodeDistribution\n",
    "from myutman.stand import Stand\n",
    "from myutman.stand_utils import compare_vals, show_boxplots\n",
    "from myutman.window_algo import WindowStreamingAlgo\n",
    "\n",
    "import json"
   ]
  },
  {
   "cell_type": "code",
   "execution_count": 23,
   "metadata": {
    "pycharm": {
     "is_executing": false
    }
   },
   "outputs": [
    {
     "data": {
      "text/plain": [
       "'stand_resharding = Stand(\\n    n_nodes=n_nodes,\\n    algo=WindowStreamingAlgo,\\n    client_node_distribution=DependentNodeDistribution,\\n    terminal_node_distribution=DependentNodeDistribution,\\n    fuse=FuseForWindowAlgo()\\n)'"
      ]
     },
     "execution_count": 23,
     "metadata": {},
     "output_type": "execute_result"
    }
   ],
   "source": [
    "big_windows = [(30, 30), (45, 45), (60, 60)]\n",
    "small_windows = [(6, 6), (9, 9), (12, 12)]\n",
    "\n",
    "n_nodes = 5\n",
    "stand_centralized = Stand(\n",
    "    n_nodes=1,\n",
    "    algo=WindowStreamingAlgo,\n",
    "    client_node_distribution=RoundrobinNodeDistribution,\n",
    "    terminal_node_distribution=RoundrobinNodeDistribution,\n",
    "    fuse=FuseForWindowAlgo(),\n",
    "    client_algo_kwargs={\"window_sizes\": big_windows},\n",
    "    terminal_algo_kwargs={\"window_sizes\": big_windows}\n",
    ")\n",
    "stand_roundrobins = Stand(\n",
    "    n_nodes=n_nodes,\n",
    "    algo=WindowStreamingAlgo,\n",
    "    client_node_distribution=RoundrobinNodeDistribution,\n",
    "    terminal_node_distribution=RoundrobinNodeDistribution,\n",
    "    fuse=FuseForWindowAlgo(),\n",
    "    client_algo_kwargs={\"window_sizes\": small_windows},\n",
    "    terminal_algo_kwargs={\"window_sizes\": small_windows}\n",
    ")\n",
    "stand_client_dependent = Stand(\n",
    "    n_nodes=n_nodes,\n",
    "    algo=WindowStreamingAlgo,\n",
    "    client_node_distribution=DependentNodeDistribution,\n",
    "    terminal_node_distribution=SecondMetaDependentNodeDistribution,\n",
    "    fuse=FuseForWindowAlgo(),\n",
    "    client_algo_kwargs={\"window_sizes\": big_windows},\n",
    "    terminal_algo_kwargs={\"window_sizes\": small_windows}\n",
    ")\n",
    "stand_terminal_dependent = Stand(\n",
    "    n_nodes=n_nodes,\n",
    "    algo=WindowStreamingAlgo,\n",
    "    client_node_distribution=SecondMetaDependentNodeDistribution,\n",
    "    terminal_node_distribution=DependentNodeDistribution,\n",
    "    fuse=FuseForWindowAlgo(),\n",
    "    client_algo_kwargs={\"window_sizes\": small_windows},\n",
    "    terminal_algo_kwargs={\"window_sizes\": big_windows}\n",
    ")\n",
    "\"\"\"stand_resharding = Stand(\n",
    "    n_nodes=n_nodes,\n",
    "    algo=WindowStreamingAlgo,\n",
    "    client_node_distribution=DependentNodeDistribution,\n",
    "    terminal_node_distribution=DependentNodeDistribution,\n",
    "    fuse=FuseForWindowAlgo()\n",
    ")\"\"\""
   ]
  },
  {
   "cell_type": "code",
   "execution_count": 24,
   "metadata": {
    "pycharm": {
     "is_executing": false
    }
   },
   "outputs": [
    {
     "name": "stdout",
     "output_type": "stream",
     "text": [
      "outputs/algo=WindowStreamingAlgo_client_dist=RoundrobinNodeDistribution_terminal_dist=RoundrobinNodeDistribution_nnodes=1\n"
     ]
    }
   ],
   "source": [
    "print(stand_centralized.result_filename)"
   ]
  },
  {
   "cell_type": "code",
   "execution_count": null,
   "metadata": {
    "pycharm": {
     "is_executing": false
    }
   },
   "outputs": [],
   "source": []
  },
  {
   "cell_type": "code",
   "execution_count": null,
   "metadata": {
    "pycharm": {
     "is_executing": false
    }
   },
   "outputs": [
    {
     "data": {
      "application/vnd.jupyter.widget-view+json": {
       "model_id": "0a60e9d77cb9462ca2a2902441277232",
       "version_major": 2,
       "version_minor": 0
      },
      "text/plain": [
       "HBox(children=(FloatProgress(value=1.0, bar_style='info', max=1.0), HTML(value='')))"
      ]
     },
     "metadata": {},
     "output_type": "display_data"
    },
    {
     "name": "stdout",
     "output_type": "stream",
     "text": [
      "\n",
      "Result written to outputs/algo=WindowStreamingAlgo_client_dist=RoundrobinNodeDistribution_terminal_dist=RoundrobinNodeDistribution_nnodes=1_1583363674.504991.json\n",
      "{'client_TDR': 1.0, 'client_MDR': 0.0, 'client_FDR': 0.3421052631578947, 'client_CDR': 1.75, 'terminal_TDR': 1.0, 'terminal_MDR': 0.0, 'terminal_FDR': 0.3142857142857143, 'terminal_CDR': 2.56, 'client_False': 13, 'terminal_False': 11, 'client_latency': 47.36, 'terminal_latency': 70.79166666666667}\n"
     ]
    },
    {
     "data": {
      "application/vnd.jupyter.widget-view+json": {
       "model_id": "68708aed70394f3aa7f6c1b048b25d94",
       "version_major": 2,
       "version_minor": 0
      },
      "text/plain": [
       "HBox(children=(FloatProgress(value=1.0, bar_style='info', max=1.0), HTML(value='')))"
      ]
     },
     "metadata": {},
     "output_type": "display_data"
    },
    {
     "name": "stdout",
     "output_type": "stream",
     "text": [
      "\n",
      "Result written to outputs/algo=WindowStreamingAlgo_client_dist=RoundrobinNodeDistribution_terminal_dist=RoundrobinNodeDistribution_nnodes=5_1583363740.815109.json\n",
      "{'client_TDR': 0.96, 'client_MDR': 0.040000000000000036, 'client_FDR': 0.41463414634146345, 'client_CDR': 0.9583333333333334, 'terminal_TDR': 1.0, 'terminal_MDR': 0.0, 'terminal_FDR': 0.3513513513513513, 'terminal_CDR': 1.6, 'client_False': 17, 'terminal_False': 13, 'client_latency': 79.25, 'terminal_latency': 106.33333333333333}\n"
     ]
    },
    {
     "data": {
      "application/vnd.jupyter.widget-view+json": {
       "model_id": "cc54fb8b11274b6a95a5da69102bb338",
       "version_major": 2,
       "version_minor": 0
      },
      "text/plain": [
       "HBox(children=(FloatProgress(value=1.0, bar_style='info', max=1.0), HTML(value='')))"
      ]
     },
     "metadata": {},
     "output_type": "display_data"
    },
    {
     "name": "stdout",
     "output_type": "stream",
     "text": [
      "\n",
      "Result written to outputs/algo=WindowStreamingAlgo_client_dist=DependentNodeDistribution_terminal_dist=SecondMetaDependentNodeDistribution_nnodes=5_1583363874.163281.json\n",
      "{'client_TDR': 1.0, 'client_MDR': 0.0, 'client_FDR': 0.3421052631578947, 'client_CDR': 1.75, 'terminal_TDR': 0.9583333333333334, 'terminal_MDR': 0.04166666666666663, 'terminal_FDR': 0.54, 'terminal_CDR': 4.8, 'client_False': 13, 'terminal_False': 27, 'client_latency': 47.36, 'terminal_latency': 83.47826086956522}\n"
     ]
    },
    {
     "data": {
      "application/vnd.jupyter.widget-view+json": {
       "model_id": "ec7314bd02ea45518ff448ba6cb37ad2",
       "version_major": 2,
       "version_minor": 0
      },
      "text/plain": [
       "HBox(children=(FloatProgress(value=1.0, bar_style='info', max=1.0), HTML(value='')))"
      ]
     },
     "metadata": {},
     "output_type": "display_data"
    },
    {
     "name": "stdout",
     "output_type": "stream",
     "text": [
      "\n",
      "Result written to outputs/algo=WindowStreamingAlgo_client_dist=SecondMetaDependentNodeDistribution_terminal_dist=DependentNodeDistribution_nnodes=5_1583363986.100519.json\n",
      "{'client_TDR': 0.96, 'client_MDR': 0.040000000000000036, 'client_FDR': 0.4545454545454546, 'client_CDR': 3.7083333333333335, 'terminal_TDR': 1.0, 'terminal_MDR': 0.0, 'terminal_FDR': 0.3142857142857143, 'terminal_CDR': 2.56, 'client_False': 20, 'terminal_False': 11, 'client_latency': 82.79166666666667, 'terminal_latency': 70.79166666666667}\n"
     ]
    },
    {
     "data": {
      "application/vnd.jupyter.widget-view+json": {
       "model_id": "d509636763ed470481e0ba24e24c5083",
       "version_major": 2,
       "version_minor": 0
      },
      "text/plain": [
       "HBox(children=(FloatProgress(value=1.0, bar_style='info', max=1.0), HTML(value='')))"
      ]
     },
     "metadata": {},
     "output_type": "display_data"
    },
    {
     "name": "stdout",
     "output_type": "stream",
     "text": [
      "\n",
      "Result written to outputs/algo=WindowStreamingAlgo_client_dist=RoundrobinNodeDistribution_terminal_dist=RoundrobinNodeDistribution_nnodes=1_1583364149.404806.json\n",
      "{'client_TDR': 0.96, 'client_MDR': 0.040000000000000036, 'client_FDR': 0.3513513513513513, 'client_CDR': 1.6666666666666667, 'terminal_TDR': 1.0, 'terminal_MDR': 0.0, 'terminal_FDR': 0.3846153846153846, 'terminal_CDR': 2.44, 'client_False': 13, 'terminal_False': 15, 'client_latency': 45.375, 'terminal_latency': 68.0}\n"
     ]
    },
    {
     "data": {
      "application/vnd.jupyter.widget-view+json": {
       "model_id": "18b86ea693e241fca8fd49bc61d87d25",
       "version_major": 2,
       "version_minor": 0
      },
      "text/plain": [
       "HBox(children=(FloatProgress(value=1.0, bar_style='info', max=1.0), HTML(value='')))"
      ]
     },
     "metadata": {},
     "output_type": "display_data"
    },
    {
     "name": "stdout",
     "output_type": "stream",
     "text": [
      "\n",
      "Result written to outputs/algo=WindowStreamingAlgo_client_dist=RoundrobinNodeDistribution_terminal_dist=RoundrobinNodeDistribution_nnodes=5_1583364213.08989.json\n",
      "{'client_TDR': 1.0, 'client_MDR': 0.0, 'client_FDR': 0.40476190476190477, 'client_CDR': 0.7083333333333334, 'terminal_TDR': 1.0, 'terminal_MDR': 0.0, 'terminal_FDR': 0.41463414634146345, 'terminal_CDR': 1.72, 'client_False': 17, 'terminal_False': 17, 'client_latency': 84.16, 'terminal_latency': 128.83333333333334}\n"
     ]
    },
    {
     "data": {
      "application/vnd.jupyter.widget-view+json": {
       "model_id": "cc22b5cc44404500928441e0b717ee70",
       "version_major": 2,
       "version_minor": 0
      },
      "text/plain": [
       "HBox(children=(FloatProgress(value=1.0, bar_style='info', max=1.0), HTML(value='')))"
      ]
     },
     "metadata": {},
     "output_type": "display_data"
    },
    {
     "name": "stdout",
     "output_type": "stream",
     "text": [
      "\n",
      "Result written to outputs/algo=WindowStreamingAlgo_client_dist=DependentNodeDistribution_terminal_dist=SecondMetaDependentNodeDistribution_nnodes=5_1583364322.563702.json\n",
      "{'client_TDR': 0.96, 'client_MDR': 0.040000000000000036, 'client_FDR': 0.3513513513513513, 'client_CDR': 1.6666666666666667, 'terminal_TDR': 0.9166666666666666, 'terminal_MDR': 0.08333333333333337, 'terminal_FDR': 0.5416666666666667, 'terminal_CDR': 4.84, 'client_False': 13, 'terminal_False': 26, 'client_latency': 45.375, 'terminal_latency': 62.45454545454545}\n"
     ]
    },
    {
     "data": {
      "application/vnd.jupyter.widget-view+json": {
       "model_id": "7ee0ac5cc36a4489a51b8752796b125d",
       "version_major": 2,
       "version_minor": 0
      },
      "text/plain": [
       "HBox(children=(FloatProgress(value=1.0, bar_style='info', max=1.0), HTML(value='')))"
      ]
     },
     "metadata": {},
     "output_type": "display_data"
    },
    {
     "name": "stdout",
     "output_type": "stream",
     "text": [
      "\n",
      "Result written to outputs/algo=WindowStreamingAlgo_client_dist=SecondMetaDependentNodeDistribution_terminal_dist=DependentNodeDistribution_nnodes=5_1583364427.384632.json\n",
      "{'client_TDR': 1.0, 'client_MDR': 0.0, 'client_FDR': 0.3902439024390244, 'client_CDR': 3.625, 'terminal_TDR': 1.0, 'terminal_MDR': 0.0, 'terminal_FDR': 0.3846153846153846, 'terminal_CDR': 2.44, 'client_False': 16, 'terminal_False': 15, 'client_latency': 46.4, 'terminal_latency': 68.0}\n"
     ]
    },
    {
     "data": {
      "application/vnd.jupyter.widget-view+json": {
       "model_id": "f2df097fee6f4a1f8a85a0adc2efadb4",
       "version_major": 2,
       "version_minor": 0
      },
      "text/plain": [
       "HBox(children=(FloatProgress(value=1.0, bar_style='info', max=1.0), HTML(value='')))"
      ]
     },
     "metadata": {},
     "output_type": "display_data"
    },
    {
     "name": "stdout",
     "output_type": "stream",
     "text": [
      "\n",
      "Result written to outputs/algo=WindowStreamingAlgo_client_dist=RoundrobinNodeDistribution_terminal_dist=RoundrobinNodeDistribution_nnodes=1_1583364572.40098.json\n",
      "{'client_TDR': 1.0, 'client_MDR': 0.0, 'client_FDR': 0.3421052631578947, 'client_CDR': 1.625, 'terminal_TDR': 0.9583333333333334, 'terminal_MDR': 0.04166666666666663, 'terminal_FDR': 0.3783783783783784, 'terminal_CDR': 3.36, 'client_False': 13, 'terminal_False': 14, 'client_latency': 49.72, 'terminal_latency': 76.95652173913044}\n"
     ]
    },
    {
     "data": {
      "application/vnd.jupyter.widget-view+json": {
       "model_id": "c9bcfb21554b439bb14c24121eddd8c0",
       "version_major": 2,
       "version_minor": 0
      },
      "text/plain": [
       "HBox(children=(FloatProgress(value=1.0, bar_style='info', max=1.0), HTML(value='')))"
      ]
     },
     "metadata": {},
     "output_type": "display_data"
    },
    {
     "name": "stdout",
     "output_type": "stream",
     "text": [
      "\n",
      "Result written to outputs/algo=WindowStreamingAlgo_client_dist=RoundrobinNodeDistribution_terminal_dist=RoundrobinNodeDistribution_nnodes=5_1583364637.075067.json\n",
      "{'client_TDR': 0.96, 'client_MDR': 0.040000000000000036, 'client_FDR': 0.2941176470588235, 'client_CDR': 0.625, 'terminal_TDR': 0.9166666666666666, 'terminal_MDR': 0.08333333333333337, 'terminal_FDR': 0.3529411764705882, 'terminal_CDR': 1.56, 'client_False': 10, 'terminal_False': 12, 'client_latency': 90.45833333333333, 'terminal_latency': 99.31818181818181}\n"
     ]
    },
    {
     "data": {
      "application/vnd.jupyter.widget-view+json": {
       "model_id": "ef3fd1caa22e4cc7a800b3482d59eb34",
       "version_major": 2,
       "version_minor": 0
      },
      "text/plain": [
       "HBox(children=(FloatProgress(value=1.0, bar_style='info', max=1.0), HTML(value='')))"
      ]
     },
     "metadata": {},
     "output_type": "display_data"
    },
    {
     "name": "stdout",
     "output_type": "stream",
     "text": [
      "\n",
      "Result written to outputs/algo=WindowStreamingAlgo_client_dist=DependentNodeDistribution_terminal_dist=SecondMetaDependentNodeDistribution_nnodes=5_1583364748.587535.json\n",
      "{'client_TDR': 1.0, 'client_MDR': 0.0, 'client_FDR': 0.3421052631578947, 'client_CDR': 1.625, 'terminal_TDR': 1.0, 'terminal_MDR': 0.0, 'terminal_FDR': 0.5384615384615384, 'terminal_CDR': 4.76, 'client_False': 13, 'terminal_False': 28, 'client_latency': 49.72, 'terminal_latency': 62.916666666666664}\n"
     ]
    },
    {
     "data": {
      "application/vnd.jupyter.widget-view+json": {
       "model_id": "3539a368b4fd4722bb4d3f6d514b78ea",
       "version_major": 2,
       "version_minor": 0
      },
      "text/plain": [
       "HBox(children=(FloatProgress(value=1.0, bar_style='info', max=1.0), HTML(value='')))"
      ]
     },
     "metadata": {},
     "output_type": "display_data"
    },
    {
     "name": "stdout",
     "output_type": "stream",
     "text": [
      "\n",
      "Result written to outputs/algo=WindowStreamingAlgo_client_dist=SecondMetaDependentNodeDistribution_terminal_dist=DependentNodeDistribution_nnodes=5_1583364841.566975.json\n",
      "{'client_TDR': 0.96, 'client_MDR': 0.040000000000000036, 'client_FDR': 0.4782608695652174, 'client_CDR': 3.9583333333333335, 'terminal_TDR': 0.9583333333333334, 'terminal_MDR': 0.04166666666666663, 'terminal_FDR': 0.3783783783783784, 'terminal_CDR': 3.36, 'client_False': 22, 'terminal_False': 14, 'client_latency': 58.0, 'terminal_latency': 76.95652173913044}\n"
     ]
    },
    {
     "data": {
      "application/vnd.jupyter.widget-view+json": {
       "model_id": "317521abf4f3446db01cad559d2bd60e",
       "version_major": 2,
       "version_minor": 0
      },
      "text/plain": [
       "HBox(children=(FloatProgress(value=1.0, bar_style='info', max=1.0), HTML(value='')))"
      ]
     },
     "metadata": {},
     "output_type": "display_data"
    },
    {
     "name": "stdout",
     "output_type": "stream",
     "text": [
      "\n",
      "Result written to outputs/algo=WindowStreamingAlgo_client_dist=RoundrobinNodeDistribution_terminal_dist=RoundrobinNodeDistribution_nnodes=1_1583364999.580959.json\n",
      "{'client_TDR': 1.0, 'client_MDR': 0.0, 'client_FDR': 0.3902439024390244, 'client_CDR': 1.4166666666666667, 'terminal_TDR': 0.9166666666666666, 'terminal_MDR': 0.08333333333333337, 'terminal_FDR': 0.29032258064516125, 'terminal_CDR': 2.8, 'client_False': 16, 'terminal_False': 9, 'client_latency': 56.44, 'terminal_latency': 87.36363636363636}\n"
     ]
    },
    {
     "data": {
      "application/vnd.jupyter.widget-view+json": {
       "model_id": "ac5e7b31a1d545d482ca6facc7c591e8",
       "version_major": 2,
       "version_minor": 0
      },
      "text/plain": [
       "HBox(children=(FloatProgress(value=1.0, bar_style='info', max=1.0), HTML(value='')))"
      ]
     },
     "metadata": {},
     "output_type": "display_data"
    },
    {
     "name": "stdout",
     "output_type": "stream",
     "text": [
      "\n",
      "Result written to outputs/algo=WindowStreamingAlgo_client_dist=RoundrobinNodeDistribution_terminal_dist=RoundrobinNodeDistribution_nnodes=5_1583365062.916827.json\n",
      "{'client_TDR': 1.0, 'client_MDR': 0.0, 'client_FDR': 0.2857142857142857, 'client_CDR': 0.9166666666666666, 'terminal_TDR': 1.0, 'terminal_MDR': 0.0, 'terminal_FDR': 0.3142857142857143, 'terminal_CDR': 1.68, 'client_False': 10, 'terminal_False': 11, 'client_latency': 92.36, 'terminal_latency': 99.83333333333333}\n"
     ]
    },
    {
     "data": {
      "application/vnd.jupyter.widget-view+json": {
       "model_id": "0d99cb4919d94a7e8f93b2cf0287156c",
       "version_major": 2,
       "version_minor": 0
      },
      "text/plain": [
       "HBox(children=(FloatProgress(value=1.0, bar_style='info', max=1.0), HTML(value='')))"
      ]
     },
     "metadata": {},
     "output_type": "display_data"
    },
    {
     "name": "stdout",
     "output_type": "stream",
     "text": [
      "\n",
      "Result written to outputs/algo=WindowStreamingAlgo_client_dist=DependentNodeDistribution_terminal_dist=SecondMetaDependentNodeDistribution_nnodes=5_1583365174.200187.json\n",
      "{'client_TDR': 1.0, 'client_MDR': 0.0, 'client_FDR': 0.3902439024390244, 'client_CDR': 1.4166666666666667, 'terminal_TDR': 0.9166666666666666, 'terminal_MDR': 0.08333333333333337, 'terminal_FDR': 0.5849056603773585, 'terminal_CDR': 4.56, 'client_False': 16, 'terminal_False': 31, 'client_latency': 56.44, 'terminal_latency': 68.72727272727273}\n"
     ]
    },
    {
     "data": {
      "application/vnd.jupyter.widget-view+json": {
       "model_id": "34d28c7a15f34dc88ab4d611d9b4cdc5",
       "version_major": 2,
       "version_minor": 0
      },
      "text/plain": [
       "HBox(children=(FloatProgress(value=1.0, bar_style='info', max=1.0), HTML(value='')))"
      ]
     },
     "metadata": {},
     "output_type": "display_data"
    },
    {
     "name": "stdout",
     "output_type": "stream",
     "text": [
      "\n",
      "Result written to outputs/algo=WindowStreamingAlgo_client_dist=SecondMetaDependentNodeDistribution_terminal_dist=DependentNodeDistribution_nnodes=5_1583365283.705837.json\n",
      "{'client_TDR': 0.96, 'client_MDR': 0.040000000000000036, 'client_FDR': 0.368421052631579, 'client_CDR': 3.9583333333333335, 'terminal_TDR': 0.9166666666666666, 'terminal_MDR': 0.08333333333333337, 'terminal_FDR': 0.29032258064516125, 'terminal_CDR': 2.8, 'client_False': 14, 'terminal_False': 9, 'client_latency': 55.541666666666664, 'terminal_latency': 87.36363636363636}\n"
     ]
    },
    {
     "data": {
      "application/vnd.jupyter.widget-view+json": {
       "model_id": "29e4ae6faef44280a24e54e8739f4173",
       "version_major": 2,
       "version_minor": 0
      },
      "text/plain": [
       "HBox(children=(FloatProgress(value=1.0, bar_style='info', max=1.0), HTML(value='')))"
      ]
     },
     "metadata": {},
     "output_type": "display_data"
    },
    {
     "name": "stdout",
     "output_type": "stream",
     "text": [
      "\n",
      "Result written to outputs/algo=WindowStreamingAlgo_client_dist=RoundrobinNodeDistribution_terminal_dist=RoundrobinNodeDistribution_nnodes=1_1583365441.477486.json\n",
      "{'client_TDR': 0.96, 'client_MDR': 0.040000000000000036, 'client_FDR': 0.3846153846153846, 'client_CDR': 1.625, 'terminal_TDR': 0.9583333333333334, 'terminal_MDR': 0.04166666666666663, 'terminal_FDR': 0.34285714285714286, 'terminal_CDR': 2.88, 'client_False': 15, 'terminal_False': 12, 'client_latency': 63.916666666666664, 'terminal_latency': 66.95652173913044}\n"
     ]
    },
    {
     "data": {
      "application/vnd.jupyter.widget-view+json": {
       "model_id": "525f54faad9d4e9693905540c30feecf",
       "version_major": 2,
       "version_minor": 0
      },
      "text/plain": [
       "HBox(children=(FloatProgress(value=1.0, bar_style='info', max=1.0), HTML(value='')))"
      ]
     },
     "metadata": {},
     "output_type": "display_data"
    },
    {
     "name": "stdout",
     "output_type": "stream",
     "text": [
      "\n",
      "Result written to outputs/algo=WindowStreamingAlgo_client_dist=RoundrobinNodeDistribution_terminal_dist=RoundrobinNodeDistribution_nnodes=5_1583365506.290071.json\n",
      "{'client_TDR': 0.96, 'client_MDR': 0.040000000000000036, 'client_FDR': 0.33333333333333337, 'client_CDR': 0.4583333333333333, 'terminal_TDR': 0.9166666666666666, 'terminal_MDR': 0.08333333333333337, 'terminal_FDR': 0.33333333333333337, 'terminal_CDR': 2.04, 'client_False': 12, 'terminal_False': 11, 'client_latency': 103.33333333333333, 'terminal_latency': 110.13636363636364}\n"
     ]
    },
    {
     "data": {
      "application/vnd.jupyter.widget-view+json": {
       "model_id": "552bc7417ed14b17b2a1a8ee56d293d1",
       "version_major": 2,
       "version_minor": 0
      },
      "text/plain": [
       "HBox(children=(FloatProgress(value=1.0, bar_style='info', max=1.0), HTML(value='')))"
      ]
     },
     "metadata": {},
     "output_type": "display_data"
    },
    {
     "name": "stdout",
     "output_type": "stream",
     "text": [
      "\n",
      "Result written to outputs/algo=WindowStreamingAlgo_client_dist=DependentNodeDistribution_terminal_dist=SecondMetaDependentNodeDistribution_nnodes=5_1583365616.437331.json\n",
      "{'client_TDR': 0.96, 'client_MDR': 0.040000000000000036, 'client_FDR': 0.3846153846153846, 'client_CDR': 1.625, 'terminal_TDR': 1.0, 'terminal_MDR': 0.0, 'terminal_FDR': 0.5471698113207547, 'terminal_CDR': 5.08, 'client_False': 15, 'terminal_False': 29, 'client_latency': 63.916666666666664, 'terminal_latency': 52.791666666666664}\n"
     ]
    },
    {
     "data": {
      "application/vnd.jupyter.widget-view+json": {
       "model_id": "409dd4b884f64886bd9400f091486ef5",
       "version_major": 2,
       "version_minor": 0
      },
      "text/plain": [
       "HBox(children=(FloatProgress(value=1.0, bar_style='info', max=1.0), HTML(value='')))"
      ]
     },
     "metadata": {},
     "output_type": "display_data"
    },
    {
     "name": "stdout",
     "output_type": "stream",
     "text": [
      "\n",
      "Result written to outputs/algo=WindowStreamingAlgo_client_dist=SecondMetaDependentNodeDistribution_terminal_dist=DependentNodeDistribution_nnodes=5_1583365719.960834.json\n",
      "{'client_TDR': 0.96, 'client_MDR': 0.040000000000000036, 'client_FDR': 0.5, 'client_CDR': 4.375, 'terminal_TDR': 0.9583333333333334, 'terminal_MDR': 0.04166666666666663, 'terminal_FDR': 0.34285714285714286, 'terminal_CDR': 2.88, 'client_False': 24, 'terminal_False': 12, 'client_latency': 55.458333333333336, 'terminal_latency': 66.95652173913044}\n"
     ]
    },
    {
     "data": {
      "application/vnd.jupyter.widget-view+json": {
       "model_id": "d1ac399f3abb48039e3c5200fda97cce",
       "version_major": 2,
       "version_minor": 0
      },
      "text/plain": [
       "HBox(children=(FloatProgress(value=1.0, bar_style='info', max=1.0), HTML(value='')))"
      ]
     },
     "metadata": {},
     "output_type": "display_data"
    },
    {
     "name": "stdout",
     "output_type": "stream",
     "text": [
      "\n",
      "Result written to outputs/algo=WindowStreamingAlgo_client_dist=RoundrobinNodeDistribution_terminal_dist=RoundrobinNodeDistribution_nnodes=1_1583365879.729715.json\n",
      "{'client_TDR': 1.0, 'client_MDR': 0.0, 'client_FDR': 0.3055555555555556, 'client_CDR': 1.2916666666666667, 'terminal_TDR': 1.0, 'terminal_MDR': 0.0, 'terminal_FDR': 0.33333333333333337, 'terminal_CDR': 3.0, 'client_False': 11, 'terminal_False': 12, 'client_latency': 48.72, 'terminal_latency': 87.70833333333333}\n"
     ]
    },
    {
     "data": {
      "application/vnd.jupyter.widget-view+json": {
       "model_id": "d4484dec08884fef8f913e65b94943ae",
       "version_major": 2,
       "version_minor": 0
      },
      "text/plain": [
       "HBox(children=(FloatProgress(value=1.0, bar_style='info', max=1.0), HTML(value='')))"
      ]
     },
     "metadata": {},
     "output_type": "display_data"
    },
    {
     "name": "stdout",
     "output_type": "stream",
     "text": [
      "\n",
      "Result written to outputs/algo=WindowStreamingAlgo_client_dist=RoundrobinNodeDistribution_terminal_dist=RoundrobinNodeDistribution_nnodes=5_1583365944.327936.json\n",
      "{'client_TDR': 1.0, 'client_MDR': 0.0, 'client_FDR': 0.3589743589743589, 'client_CDR': 0.875, 'terminal_TDR': 1.0, 'terminal_MDR': 0.0, 'terminal_FDR': 0.2941176470588235, 'terminal_CDR': 1.48, 'client_False': 14, 'terminal_False': 10, 'client_latency': 86.48, 'terminal_latency': 123.66666666666667}\n"
     ]
    },
    {
     "data": {
      "application/vnd.jupyter.widget-view+json": {
       "model_id": "eb5303c49f444c80a9d06a9a44c31bed",
       "version_major": 2,
       "version_minor": 0
      },
      "text/plain": [
       "HBox(children=(FloatProgress(value=1.0, bar_style='info', max=1.0), HTML(value='')))"
      ]
     },
     "metadata": {},
     "output_type": "display_data"
    },
    {
     "name": "stdout",
     "output_type": "stream",
     "text": [
      "\n",
      "Result written to outputs/algo=WindowStreamingAlgo_client_dist=DependentNodeDistribution_terminal_dist=SecondMetaDependentNodeDistribution_nnodes=5_1583366062.497866.json\n",
      "{'client_TDR': 1.0, 'client_MDR': 0.0, 'client_FDR': 0.3055555555555556, 'client_CDR': 1.2916666666666667, 'terminal_TDR': 0.875, 'terminal_MDR': 0.125, 'terminal_FDR': 0.5, 'terminal_CDR': 4.92, 'client_False': 11, 'terminal_False': 21, 'client_latency': 48.72, 'terminal_latency': 62.714285714285715}\n"
     ]
    },
    {
     "data": {
      "application/vnd.jupyter.widget-view+json": {
       "model_id": "5e3bb2bcd83f4fec963c23ca48bef0e4",
       "version_major": 2,
       "version_minor": 0
      },
      "text/plain": [
       "HBox(children=(FloatProgress(value=1.0, bar_style='info', max=1.0), HTML(value='')))"
      ]
     },
     "metadata": {},
     "output_type": "display_data"
    },
    {
     "name": "stdout",
     "output_type": "stream",
     "text": [
      "\n",
      "Result written to outputs/algo=WindowStreamingAlgo_client_dist=SecondMetaDependentNodeDistribution_terminal_dist=DependentNodeDistribution_nnodes=5_1583366164.41047.json\n",
      "{'client_TDR': 1.0, 'client_MDR': 0.0, 'client_FDR': 0.5283018867924528, 'client_CDR': 3.1666666666666665, 'terminal_TDR': 1.0, 'terminal_MDR': 0.0, 'terminal_FDR': 0.33333333333333337, 'terminal_CDR': 3.0, 'client_False': 28, 'terminal_False': 12, 'client_latency': 52.68, 'terminal_latency': 87.70833333333333}\n"
     ]
    },
    {
     "data": {
      "application/vnd.jupyter.widget-view+json": {
       "model_id": "0749009262474756b1dddb02cb85ca55",
       "version_major": 2,
       "version_minor": 0
      },
      "text/plain": [
       "HBox(children=(FloatProgress(value=1.0, bar_style='info', max=1.0), HTML(value='')))"
      ]
     },
     "metadata": {},
     "output_type": "display_data"
    },
    {
     "name": "stdout",
     "output_type": "stream",
     "text": [
      "\n",
      "Result written to outputs/algo=WindowStreamingAlgo_client_dist=RoundrobinNodeDistribution_terminal_dist=RoundrobinNodeDistribution_nnodes=1_1583366308.644487.json\n",
      "{'client_TDR': 0.96, 'client_MDR': 0.040000000000000036, 'client_FDR': 0.33333333333333337, 'client_CDR': 1.9166666666666667, 'terminal_TDR': 1.0, 'terminal_MDR': 0.0, 'terminal_FDR': 0.41463414634146345, 'terminal_CDR': 3.0, 'client_False': 12, 'terminal_False': 17, 'client_latency': 56.833333333333336, 'terminal_latency': 71.29166666666667}\n"
     ]
    },
    {
     "data": {
      "application/vnd.jupyter.widget-view+json": {
       "model_id": "8c49ed0b35c54b8e92aeb6066726bcee",
       "version_major": 2,
       "version_minor": 0
      },
      "text/plain": [
       "HBox(children=(FloatProgress(value=1.0, bar_style='info', max=1.0), HTML(value='')))"
      ]
     },
     "metadata": {},
     "output_type": "display_data"
    },
    {
     "name": "stdout",
     "output_type": "stream",
     "text": [
      "\n",
      "Result written to outputs/algo=WindowStreamingAlgo_client_dist=RoundrobinNodeDistribution_terminal_dist=RoundrobinNodeDistribution_nnodes=5_1583366373.177971.json\n",
      "{'client_TDR': 0.96, 'client_MDR': 0.040000000000000036, 'client_FDR': 0.1428571428571429, 'client_CDR': 0.75, 'terminal_TDR': 0.9583333333333334, 'terminal_MDR': 0.04166666666666663, 'terminal_FDR': 0.303030303030303, 'terminal_CDR': 1.44, 'client_False': 4, 'terminal_False': 10, 'client_latency': 76.33333333333333, 'terminal_latency': 98.34782608695652}\n"
     ]
    },
    {
     "data": {
      "application/vnd.jupyter.widget-view+json": {
       "model_id": "db3ec481604240aa8604722665c3f0aa",
       "version_major": 2,
       "version_minor": 0
      },
      "text/plain": [
       "HBox(children=(FloatProgress(value=1.0, bar_style='info', max=1.0), HTML(value='')))"
      ]
     },
     "metadata": {},
     "output_type": "display_data"
    },
    {
     "name": "stdout",
     "output_type": "stream",
     "text": [
      "\n",
      "Result written to outputs/algo=WindowStreamingAlgo_client_dist=DependentNodeDistribution_terminal_dist=SecondMetaDependentNodeDistribution_nnodes=5_1583366481.071884.json\n",
      "{'client_TDR': 0.96, 'client_MDR': 0.040000000000000036, 'client_FDR': 0.33333333333333337, 'client_CDR': 1.9166666666666667, 'terminal_TDR': 0.9583333333333334, 'terminal_MDR': 0.04166666666666663, 'terminal_FDR': 0.5660377358490566, 'terminal_CDR': 4.76, 'client_False': 12, 'terminal_False': 30, 'client_latency': 56.833333333333336, 'terminal_latency': 70.78260869565217}\n"
     ]
    },
    {
     "data": {
      "application/vnd.jupyter.widget-view+json": {
       "model_id": "5a6b520531444fbeb1f736ada6d32c6d",
       "version_major": 2,
       "version_minor": 0
      },
      "text/plain": [
       "HBox(children=(FloatProgress(value=1.0, bar_style='info', max=1.0), HTML(value='')))"
      ]
     },
     "metadata": {},
     "output_type": "display_data"
    },
    {
     "name": "stdout",
     "output_type": "stream",
     "text": [
      "\n",
      "Result written to outputs/algo=WindowStreamingAlgo_client_dist=SecondMetaDependentNodeDistribution_terminal_dist=DependentNodeDistribution_nnodes=5_1583366576.57112.json\n",
      "{'client_TDR': 1.0, 'client_MDR': 0.0, 'client_FDR': 0.4565217391304348, 'client_CDR': 4.333333333333333, 'terminal_TDR': 1.0, 'terminal_MDR': 0.0, 'terminal_FDR': 0.41463414634146345, 'terminal_CDR': 3.0, 'client_False': 21, 'terminal_False': 17, 'client_latency': 62.24, 'terminal_latency': 71.29166666666667}\n"
     ]
    },
    {
     "data": {
      "application/vnd.jupyter.widget-view+json": {
       "model_id": "ded6b87e53db48689f6fa1890acd990f",
       "version_major": 2,
       "version_minor": 0
      },
      "text/plain": [
       "HBox(children=(FloatProgress(value=1.0, bar_style='info', max=1.0), HTML(value='')))"
      ]
     },
     "metadata": {},
     "output_type": "display_data"
    },
    {
     "name": "stdout",
     "output_type": "stream",
     "text": [
      "\n",
      "Result written to outputs/algo=WindowStreamingAlgo_client_dist=RoundrobinNodeDistribution_terminal_dist=RoundrobinNodeDistribution_nnodes=1_1583366733.579348.json\n",
      "{'client_TDR': 1.0, 'client_MDR': 0.0, 'client_FDR': 0.2857142857142857, 'client_CDR': 1.1666666666666667, 'terminal_TDR': 0.9583333333333334, 'terminal_MDR': 0.04166666666666663, 'terminal_FDR': 0.36111111111111116, 'terminal_CDR': 2.96, 'client_False': 10, 'terminal_False': 13, 'client_latency': 54.6, 'terminal_latency': 141.82608695652175}\n"
     ]
    },
    {
     "data": {
      "application/vnd.jupyter.widget-view+json": {
       "model_id": "c730be6958764bab8475e9c05080b315",
       "version_major": 2,
       "version_minor": 0
      },
      "text/plain": [
       "HBox(children=(FloatProgress(value=1.0, bar_style='info', max=1.0), HTML(value='')))"
      ]
     },
     "metadata": {},
     "output_type": "display_data"
    },
    {
     "name": "stdout",
     "output_type": "stream",
     "text": [
      "\n",
      "Result written to outputs/algo=WindowStreamingAlgo_client_dist=RoundrobinNodeDistribution_terminal_dist=RoundrobinNodeDistribution_nnodes=5_1583366794.580045.json\n",
      "{'client_TDR': 0.96, 'client_MDR': 0.040000000000000036, 'client_FDR': 0.4285714285714286, 'client_CDR': 1.25, 'terminal_TDR': 1.0, 'terminal_MDR': 0.0, 'terminal_FDR': 0.3513513513513513, 'terminal_CDR': 1.92, 'client_False': 18, 'terminal_False': 13, 'client_latency': 85.20833333333333, 'terminal_latency': 114.54166666666667}\n"
     ]
    },
    {
     "data": {
      "application/vnd.jupyter.widget-view+json": {
       "model_id": "68e9ef88845f4b20b6a1d0c52a004535",
       "version_major": 2,
       "version_minor": 0
      },
      "text/plain": [
       "HBox(children=(FloatProgress(value=1.0, bar_style='info', max=1.0), HTML(value='')))"
      ]
     },
     "metadata": {},
     "output_type": "display_data"
    },
    {
     "name": "stdout",
     "output_type": "stream",
     "text": [
      "\n",
      "Result written to outputs/algo=WindowStreamingAlgo_client_dist=DependentNodeDistribution_terminal_dist=SecondMetaDependentNodeDistribution_nnodes=5_1583366909.898142.json\n",
      "{'client_TDR': 1.0, 'client_MDR': 0.0, 'client_FDR': 0.2857142857142857, 'client_CDR': 1.1666666666666667, 'terminal_TDR': 0.9583333333333334, 'terminal_MDR': 0.04166666666666663, 'terminal_FDR': 0.5306122448979591, 'terminal_CDR': 5.04, 'client_False': 10, 'terminal_False': 26, 'client_latency': 54.6, 'terminal_latency': 87.08695652173913}\n"
     ]
    },
    {
     "data": {
      "application/vnd.jupyter.widget-view+json": {
       "model_id": "21a6159ca5514ef2b49f9f97f8017a38",
       "version_major": 2,
       "version_minor": 0
      },
      "text/plain": [
       "HBox(children=(FloatProgress(value=1.0, bar_style='info', max=1.0), HTML(value='')))"
      ]
     },
     "metadata": {},
     "output_type": "display_data"
    },
    {
     "name": "stdout",
     "output_type": "stream",
     "text": [
      "\n",
      "Result written to outputs/algo=WindowStreamingAlgo_client_dist=SecondMetaDependentNodeDistribution_terminal_dist=DependentNodeDistribution_nnodes=5_1583367010.660597.json\n",
      "{'client_TDR': 1.0, 'client_MDR': 0.0, 'client_FDR': 0.4565217391304348, 'client_CDR': 3.0833333333333335, 'terminal_TDR': 0.9583333333333334, 'terminal_MDR': 0.04166666666666663, 'terminal_FDR': 0.36111111111111116, 'terminal_CDR': 2.96, 'client_False': 21, 'terminal_False': 13, 'client_latency': 55.88, 'terminal_latency': 141.82608695652175}\n"
     ]
    },
    {
     "data": {
      "application/vnd.jupyter.widget-view+json": {
       "model_id": "3958e45add5e41aa87f730e93268dfa9",
       "version_major": 2,
       "version_minor": 0
      },
      "text/plain": [
       "HBox(children=(FloatProgress(value=1.0, bar_style='info', max=1.0), HTML(value='')))"
      ]
     },
     "metadata": {},
     "output_type": "display_data"
    },
    {
     "name": "stdout",
     "output_type": "stream",
     "text": [
      "\n",
      "Result written to outputs/algo=WindowStreamingAlgo_client_dist=RoundrobinNodeDistribution_terminal_dist=RoundrobinNodeDistribution_nnodes=1_1583367163.738102.json\n",
      "{'client_TDR': 0.88, 'client_MDR': 0.12, 'client_FDR': 0.3125, 'client_CDR': 1.7916666666666667, 'terminal_TDR': 1.0, 'terminal_MDR': 0.0, 'terminal_FDR': 0.368421052631579, 'terminal_CDR': 2.68, 'client_False': 10, 'terminal_False': 14, 'client_latency': 50.40909090909091, 'terminal_latency': 86.75}\n"
     ]
    },
    {
     "data": {
      "application/vnd.jupyter.widget-view+json": {
       "model_id": "90bf1ba6cee1462bb8f31dc78c07d0c5",
       "version_major": 2,
       "version_minor": 0
      },
      "text/plain": [
       "HBox(children=(FloatProgress(value=1.0, bar_style='info', max=1.0), HTML(value='')))"
      ]
     },
     "metadata": {},
     "output_type": "display_data"
    },
    {
     "name": "stdout",
     "output_type": "stream",
     "text": [
      "\n",
      "Result written to outputs/algo=WindowStreamingAlgo_client_dist=RoundrobinNodeDistribution_terminal_dist=RoundrobinNodeDistribution_nnodes=5_1583367228.993466.json\n",
      "{'client_TDR': 0.92, 'client_MDR': 0.07999999999999996, 'client_FDR': 0.39473684210526316, 'client_CDR': 0.5416666666666666, 'terminal_TDR': 1.0, 'terminal_MDR': 0.0, 'terminal_FDR': 0.25, 'terminal_CDR': 1.12, 'client_False': 15, 'terminal_False': 8, 'client_latency': 82.21739130434783, 'terminal_latency': 138.33333333333334}\n"
     ]
    },
    {
     "data": {
      "application/vnd.jupyter.widget-view+json": {
       "model_id": "9657a5b731cf4c2ab8fc3f97cad444e5",
       "version_major": 2,
       "version_minor": 0
      },
      "text/plain": [
       "HBox(children=(FloatProgress(value=1.0, bar_style='info', max=1.0), HTML(value='')))"
      ]
     },
     "metadata": {},
     "output_type": "display_data"
    },
    {
     "name": "stdout",
     "output_type": "stream",
     "text": [
      "\n",
      "Result written to outputs/algo=WindowStreamingAlgo_client_dist=DependentNodeDistribution_terminal_dist=SecondMetaDependentNodeDistribution_nnodes=5_1583367338.934758.json\n",
      "{'client_TDR': 0.88, 'client_MDR': 0.12, 'client_FDR': 0.3125, 'client_CDR': 1.7916666666666667, 'terminal_TDR': 1.0, 'terminal_MDR': 0.0, 'terminal_FDR': 0.5294117647058824, 'terminal_CDR': 5.04, 'client_False': 10, 'terminal_False': 27, 'client_latency': 50.40909090909091, 'terminal_latency': 74.625}\n"
     ]
    },
    {
     "data": {
      "application/vnd.jupyter.widget-view+json": {
       "model_id": "3a398f9d67a34f8997ed7811f91051f4",
       "version_major": 2,
       "version_minor": 0
      },
      "text/plain": [
       "HBox(children=(FloatProgress(value=1.0, bar_style='info', max=1.0), HTML(value='')))"
      ]
     },
     "metadata": {},
     "output_type": "display_data"
    },
    {
     "name": "stdout",
     "output_type": "stream",
     "text": [
      "\n",
      "Result written to outputs/algo=WindowStreamingAlgo_client_dist=SecondMetaDependentNodeDistribution_terminal_dist=DependentNodeDistribution_nnodes=5_1583367440.13432.json\n",
      "{'client_TDR': 1.0, 'client_MDR': 0.0, 'client_FDR': 0.5, 'client_CDR': 3.625, 'terminal_TDR': 1.0, 'terminal_MDR': 0.0, 'terminal_FDR': 0.368421052631579, 'terminal_CDR': 2.68, 'client_False': 25, 'terminal_False': 14, 'client_latency': 48.4, 'terminal_latency': 86.75}\n"
     ]
    },
    {
     "data": {
      "application/vnd.jupyter.widget-view+json": {
       "model_id": "18a118333db544c0afb7692c29849ae8",
       "version_major": 2,
       "version_minor": 0
      },
      "text/plain": [
       "HBox(children=(FloatProgress(value=1.0, bar_style='info', max=1.0), HTML(value='')))"
      ]
     },
     "metadata": {},
     "output_type": "display_data"
    },
    {
     "name": "stdout",
     "output_type": "stream",
     "text": [
      "\n",
      "Result written to outputs/algo=WindowStreamingAlgo_client_dist=RoundrobinNodeDistribution_terminal_dist=RoundrobinNodeDistribution_nnodes=1_1583367579.024532.json\n",
      "{'client_TDR': 0.96, 'client_MDR': 0.040000000000000036, 'client_FDR': 0.4418604651162791, 'client_CDR': 1.625, 'terminal_TDR': 0.9583333333333334, 'terminal_MDR': 0.04166666666666663, 'terminal_FDR': 0.5306122448979591, 'terminal_CDR': 3.16, 'client_False': 19, 'terminal_False': 26, 'client_latency': 54.375, 'terminal_latency': 85.1304347826087}\n"
     ]
    },
    {
     "data": {
      "application/vnd.jupyter.widget-view+json": {
       "model_id": "4fdb34ad572a4aed8624135b2eb240c5",
       "version_major": 2,
       "version_minor": 0
      },
      "text/plain": [
       "HBox(children=(FloatProgress(value=1.0, bar_style='info', max=1.0), HTML(value='')))"
      ]
     },
     "metadata": {},
     "output_type": "display_data"
    },
    {
     "name": "stdout",
     "output_type": "stream",
     "text": [
      "\n",
      "Result written to outputs/algo=WindowStreamingAlgo_client_dist=RoundrobinNodeDistribution_terminal_dist=RoundrobinNodeDistribution_nnodes=5_1583367642.966143.json\n",
      "{'client_TDR': 1.0, 'client_MDR': 0.0, 'client_FDR': 0.4444444444444444, 'client_CDR': 0.7916666666666666, 'terminal_TDR': 0.9166666666666666, 'terminal_MDR': 0.08333333333333337, 'terminal_FDR': 0.3125, 'terminal_CDR': 1.0, 'client_False': 20, 'terminal_False': 10, 'client_latency': 86.56, 'terminal_latency': 111.77272727272727}\n"
     ]
    },
    {
     "data": {
      "application/vnd.jupyter.widget-view+json": {
       "model_id": "1520dcfc539548bfb0560924b791632b",
       "version_major": 2,
       "version_minor": 0
      },
      "text/plain": [
       "HBox(children=(FloatProgress(value=1.0, bar_style='info', max=1.0), HTML(value='')))"
      ]
     },
     "metadata": {},
     "output_type": "display_data"
    },
    {
     "name": "stdout",
     "output_type": "stream",
     "text": [
      "\n",
      "Result written to outputs/algo=WindowStreamingAlgo_client_dist=DependentNodeDistribution_terminal_dist=SecondMetaDependentNodeDistribution_nnodes=5_1583367750.059896.json\n",
      "{'client_TDR': 0.96, 'client_MDR': 0.040000000000000036, 'client_FDR': 0.4418604651162791, 'client_CDR': 1.625, 'terminal_TDR': 0.9166666666666666, 'terminal_MDR': 0.08333333333333337, 'terminal_FDR': 0.56, 'terminal_CDR': 4.8, 'client_False': 19, 'terminal_False': 28, 'client_latency': 54.375, 'terminal_latency': 67.95454545454545}\n"
     ]
    },
    {
     "data": {
      "application/vnd.jupyter.widget-view+json": {
       "model_id": "5d3460492a8d4110ba43827eba8630e7",
       "version_major": 2,
       "version_minor": 0
      },
      "text/plain": [
       "HBox(children=(FloatProgress(value=1.0, bar_style='info', max=1.0), HTML(value='')))"
      ]
     },
     "metadata": {},
     "output_type": "display_data"
    },
    {
     "name": "stdout",
     "output_type": "stream",
     "text": [
      "\n",
      "Result written to outputs/algo=WindowStreamingAlgo_client_dist=SecondMetaDependentNodeDistribution_terminal_dist=DependentNodeDistribution_nnodes=5_1583367840.270942.json\n",
      "{'client_TDR': 1.0, 'client_MDR': 0.0, 'client_FDR': 0.4444444444444444, 'client_CDR': 4.166666666666667, 'terminal_TDR': 0.9583333333333334, 'terminal_MDR': 0.04166666666666663, 'terminal_FDR': 0.5306122448979591, 'terminal_CDR': 3.16, 'client_False': 20, 'terminal_False': 26, 'client_latency': 49.24, 'terminal_latency': 85.1304347826087}\n"
     ]
    },
    {
     "data": {
      "application/vnd.jupyter.widget-view+json": {
       "model_id": "67fcb1a4e68e4a4ebb786b8f11c5d69c",
       "version_major": 2,
       "version_minor": 0
      },
      "text/plain": [
       "HBox(children=(FloatProgress(value=1.0, bar_style='info', max=1.0), HTML(value='')))"
      ]
     },
     "metadata": {},
     "output_type": "display_data"
    },
    {
     "name": "stdout",
     "output_type": "stream",
     "text": [
      "\n",
      "Result written to outputs/algo=WindowStreamingAlgo_client_dist=RoundrobinNodeDistribution_terminal_dist=RoundrobinNodeDistribution_nnodes=1_1583367996.902336.json\n",
      "{'client_TDR': 1.0, 'client_MDR': 0.0, 'client_FDR': 0.2857142857142857, 'client_CDR': 0.7916666666666666, 'terminal_TDR': 0.9166666666666666, 'terminal_MDR': 0.08333333333333337, 'terminal_FDR': 0.2666666666666667, 'terminal_CDR': 3.56, 'client_False': 10, 'terminal_False': 8, 'client_latency': 49.4, 'terminal_latency': 132.0}\n"
     ]
    },
    {
     "data": {
      "application/vnd.jupyter.widget-view+json": {
       "model_id": "d189762d676548f8bec71c250e16afc8",
       "version_major": 2,
       "version_minor": 0
      },
      "text/plain": [
       "HBox(children=(FloatProgress(value=1.0, bar_style='info', max=1.0), HTML(value='')))"
      ]
     },
     "metadata": {},
     "output_type": "display_data"
    },
    {
     "name": "stdout",
     "output_type": "stream",
     "text": [
      "\n",
      "Result written to outputs/algo=WindowStreamingAlgo_client_dist=RoundrobinNodeDistribution_terminal_dist=RoundrobinNodeDistribution_nnodes=5_1583368062.368634.json\n",
      "{'client_TDR': 1.0, 'client_MDR': 0.0, 'client_FDR': 0.3589743589743589, 'client_CDR': 0.5, 'terminal_TDR': 0.9166666666666666, 'terminal_MDR': 0.08333333333333337, 'terminal_FDR': 0.29032258064516125, 'terminal_CDR': 1.2, 'client_False': 14, 'terminal_False': 9, 'client_latency': 79.64, 'terminal_latency': 146.8181818181818}\n"
     ]
    },
    {
     "data": {
      "application/vnd.jupyter.widget-view+json": {
       "model_id": "8a103d80ff3b4d6cbccc7a28c573493a",
       "version_major": 2,
       "version_minor": 0
      },
      "text/plain": [
       "HBox(children=(FloatProgress(value=1.0, bar_style='info', max=1.0), HTML(value='')))"
      ]
     },
     "metadata": {},
     "output_type": "display_data"
    },
    {
     "name": "stdout",
     "output_type": "stream",
     "text": [
      "\n",
      "Result written to outputs/algo=WindowStreamingAlgo_client_dist=DependentNodeDistribution_terminal_dist=SecondMetaDependentNodeDistribution_nnodes=5_1583368181.44277.json\n",
      "{'client_TDR': 1.0, 'client_MDR': 0.0, 'client_FDR': 0.2857142857142857, 'client_CDR': 0.7916666666666666, 'terminal_TDR': 0.9166666666666666, 'terminal_MDR': 0.08333333333333337, 'terminal_FDR': 0.3529411764705882, 'terminal_CDR': 5.24, 'client_False': 10, 'terminal_False': 12, 'client_latency': 49.4, 'terminal_latency': 107.63636363636364}\n"
     ]
    },
    {
     "data": {
      "application/vnd.jupyter.widget-view+json": {
       "model_id": "161bb047f8ac4eb19f26cec3666b497f",
       "version_major": 2,
       "version_minor": 0
      },
      "text/plain": [
       "HBox(children=(FloatProgress(value=1.0, bar_style='info', max=1.0), HTML(value='')))"
      ]
     },
     "metadata": {},
     "output_type": "display_data"
    },
    {
     "name": "stdout",
     "output_type": "stream",
     "text": [
      "\n",
      "Result written to outputs/algo=WindowStreamingAlgo_client_dist=SecondMetaDependentNodeDistribution_terminal_dist=DependentNodeDistribution_nnodes=5_1583368277.688851.json\n",
      "{'client_TDR': 1.0, 'client_MDR': 0.0, 'client_FDR': 0.5098039215686274, 'client_CDR': 3.9583333333333335, 'terminal_TDR': 0.9166666666666666, 'terminal_MDR': 0.08333333333333337, 'terminal_FDR': 0.2666666666666667, 'terminal_CDR': 3.56, 'client_False': 26, 'terminal_False': 8, 'client_latency': 44.72, 'terminal_latency': 132.0}\n"
     ]
    },
    {
     "data": {
      "application/vnd.jupyter.widget-view+json": {
       "model_id": "efbf512a5c6f41cc88c07c59ba4fa7d7",
       "version_major": 2,
       "version_minor": 0
      },
      "text/plain": [
       "HBox(children=(FloatProgress(value=1.0, bar_style='info', max=1.0), HTML(value='')))"
      ]
     },
     "metadata": {},
     "output_type": "display_data"
    },
    {
     "name": "stdout",
     "output_type": "stream",
     "text": [
      "\n",
      "Result written to outputs/algo=WindowStreamingAlgo_client_dist=RoundrobinNodeDistribution_terminal_dist=RoundrobinNodeDistribution_nnodes=1_1583368442.101187.json\n",
      "{'client_TDR': 0.96, 'client_MDR': 0.040000000000000036, 'client_FDR': 0.19999999999999996, 'client_CDR': 0.8333333333333334, 'terminal_TDR': 0.9583333333333334, 'terminal_MDR': 0.04166666666666663, 'terminal_FDR': 0.32352941176470584, 'terminal_CDR': 2.64, 'client_False': 6, 'terminal_False': 11, 'client_latency': 47.041666666666664, 'terminal_latency': 117.52173913043478}\n"
     ]
    },
    {
     "data": {
      "application/vnd.jupyter.widget-view+json": {
       "model_id": "c9c2dca7c4a5468b828a5899aa7550d3",
       "version_major": 2,
       "version_minor": 0
      },
      "text/plain": [
       "HBox(children=(FloatProgress(value=1.0, bar_style='info', max=1.0), HTML(value='')))"
      ]
     },
     "metadata": {},
     "output_type": "display_data"
    },
    {
     "name": "stdout",
     "output_type": "stream",
     "text": [
      "\n",
      "Result written to outputs/algo=WindowStreamingAlgo_client_dist=RoundrobinNodeDistribution_terminal_dist=RoundrobinNodeDistribution_nnodes=5_1583368506.989943.json\n",
      "{'client_TDR': 0.96, 'client_MDR': 0.040000000000000036, 'client_FDR': 0.2941176470588235, 'client_CDR': 0.625, 'terminal_TDR': 0.875, 'terminal_MDR': 0.125, 'terminal_FDR': 0.27586206896551724, 'terminal_CDR': 1.36, 'client_False': 10, 'terminal_False': 8, 'client_latency': 78.83333333333333, 'terminal_latency': 119.9047619047619}\n"
     ]
    },
    {
     "data": {
      "application/vnd.jupyter.widget-view+json": {
       "model_id": "476a84f9a15c4efb8dc6dd14a5c4bcf2",
       "version_major": 2,
       "version_minor": 0
      },
      "text/plain": [
       "HBox(children=(FloatProgress(value=1.0, bar_style='info', max=1.0), HTML(value='')))"
      ]
     },
     "metadata": {},
     "output_type": "display_data"
    },
    {
     "name": "stdout",
     "output_type": "stream",
     "text": [
      "\n",
      "Result written to outputs/algo=WindowStreamingAlgo_client_dist=DependentNodeDistribution_terminal_dist=SecondMetaDependentNodeDistribution_nnodes=5_1583368627.759511.json\n",
      "{'client_TDR': 0.96, 'client_MDR': 0.040000000000000036, 'client_FDR': 0.19999999999999996, 'client_CDR': 0.8333333333333334, 'terminal_TDR': 0.9166666666666666, 'terminal_MDR': 0.08333333333333337, 'terminal_FDR': 0.4883720930232558, 'terminal_CDR': 4.6, 'client_False': 6, 'terminal_False': 21, 'client_latency': 47.041666666666664, 'terminal_latency': 84.63636363636364}\n"
     ]
    },
    {
     "data": {
      "application/vnd.jupyter.widget-view+json": {
       "model_id": "414ae2a81ad341cf8aadbd9396b4fd49",
       "version_major": 2,
       "version_minor": 0
      },
      "text/plain": [
       "HBox(children=(FloatProgress(value=1.0, bar_style='info', max=1.0), HTML(value='')))"
      ]
     },
     "metadata": {},
     "output_type": "display_data"
    },
    {
     "name": "stdout",
     "output_type": "stream",
     "text": [
      "\n",
      "Result written to outputs/algo=WindowStreamingAlgo_client_dist=SecondMetaDependentNodeDistribution_terminal_dist=DependentNodeDistribution_nnodes=5_1583368731.336137.json\n",
      "{'client_TDR': 0.88, 'client_MDR': 0.12, 'client_FDR': 0.5416666666666667, 'client_CDR': 3.625, 'terminal_TDR': 0.9583333333333334, 'terminal_MDR': 0.04166666666666663, 'terminal_FDR': 0.32352941176470584, 'terminal_CDR': 2.64, 'client_False': 26, 'terminal_False': 11, 'client_latency': 50.77272727272727, 'terminal_latency': 117.52173913043478}\n"
     ]
    },
    {
     "data": {
      "application/vnd.jupyter.widget-view+json": {
       "model_id": "23c254eaad62475392906d8be287e3d9",
       "version_major": 2,
       "version_minor": 0
      },
      "text/plain": [
       "HBox(children=(FloatProgress(value=1.0, bar_style='info', max=1.0), HTML(value='')))"
      ]
     },
     "metadata": {},
     "output_type": "display_data"
    },
    {
     "name": "stdout",
     "output_type": "stream",
     "text": [
      "\n",
      "Result written to outputs/algo=WindowStreamingAlgo_client_dist=RoundrobinNodeDistribution_terminal_dist=RoundrobinNodeDistribution_nnodes=1_1583368870.650349.json\n",
      "{'client_TDR': 1.0, 'client_MDR': 0.0, 'client_FDR': 0.21875, 'client_CDR': 1.875, 'terminal_TDR': 1.0, 'terminal_MDR': 0.0, 'terminal_FDR': 0.4285714285714286, 'terminal_CDR': 3.6, 'client_False': 7, 'terminal_False': 18, 'client_latency': 51.04, 'terminal_latency': 57.291666666666664}\n"
     ]
    },
    {
     "data": {
      "application/vnd.jupyter.widget-view+json": {
       "model_id": "3d3604ffe4f04215be26fc935f9e4f41",
       "version_major": 2,
       "version_minor": 0
      },
      "text/plain": [
       "HBox(children=(FloatProgress(value=1.0, bar_style='info', max=1.0), HTML(value='')))"
      ]
     },
     "metadata": {},
     "output_type": "display_data"
    },
    {
     "name": "stdout",
     "output_type": "stream",
     "text": [
      "\n",
      "Result written to outputs/algo=WindowStreamingAlgo_client_dist=RoundrobinNodeDistribution_terminal_dist=RoundrobinNodeDistribution_nnodes=5_1583368934.620703.json\n",
      "{'client_TDR': 1.0, 'client_MDR': 0.0, 'client_FDR': 0.21875, 'client_CDR': 0.9166666666666666, 'terminal_TDR': 0.9583333333333334, 'terminal_MDR': 0.04166666666666663, 'terminal_FDR': 0.41025641025641024, 'terminal_CDR': 1.36, 'client_False': 7, 'terminal_False': 16, 'client_latency': 96.4, 'terminal_latency': 90.56521739130434}\n"
     ]
    },
    {
     "data": {
      "application/vnd.jupyter.widget-view+json": {
       "model_id": "57f034bdecae4779bcb43d012efe7083",
       "version_major": 2,
       "version_minor": 0
      },
      "text/plain": [
       "HBox(children=(FloatProgress(value=1.0, bar_style='info', max=1.0), HTML(value='')))"
      ]
     },
     "metadata": {},
     "output_type": "display_data"
    },
    {
     "name": "stdout",
     "output_type": "stream",
     "text": [
      "\n",
      "Result written to outputs/algo=WindowStreamingAlgo_client_dist=DependentNodeDistribution_terminal_dist=SecondMetaDependentNodeDistribution_nnodes=5_1583369043.894943.json\n",
      "{'client_TDR': 1.0, 'client_MDR': 0.0, 'client_FDR': 0.21875, 'client_CDR': 1.875, 'terminal_TDR': 0.8333333333333334, 'terminal_MDR': 0.16666666666666663, 'terminal_FDR': 0.5121951219512195, 'terminal_CDR': 4.88, 'client_False': 7, 'terminal_False': 21, 'client_latency': 51.04, 'terminal_latency': 62.55}\n"
     ]
    },
    {
     "data": {
      "application/vnd.jupyter.widget-view+json": {
       "model_id": "643612aafc484513a5149fb6b254308f",
       "version_major": 2,
       "version_minor": 0
      },
      "text/plain": [
       "HBox(children=(FloatProgress(value=1.0, bar_style='info', max=1.0), HTML(value='')))"
      ]
     },
     "metadata": {},
     "output_type": "display_data"
    },
    {
     "name": "stdout",
     "output_type": "stream",
     "text": [
      "\n",
      "Result written to outputs/algo=WindowStreamingAlgo_client_dist=SecondMetaDependentNodeDistribution_terminal_dist=DependentNodeDistribution_nnodes=5_1583369132.621688.json\n",
      "{'client_TDR': 1.0, 'client_MDR': 0.0, 'client_FDR': 0.4897959183673469, 'client_CDR': 4.166666666666667, 'terminal_TDR': 1.0, 'terminal_MDR': 0.0, 'terminal_FDR': 0.4285714285714286, 'terminal_CDR': 3.6, 'client_False': 24, 'terminal_False': 18, 'client_latency': 54.84, 'terminal_latency': 57.291666666666664}\n"
     ]
    },
    {
     "data": {
      "application/vnd.jupyter.widget-view+json": {
       "model_id": "4099f60a91214d61862b2eda82fb8302",
       "version_major": 2,
       "version_minor": 0
      },
      "text/plain": [
       "HBox(children=(FloatProgress(value=1.0, bar_style='info', max=1.0), HTML(value='')))"
      ]
     },
     "metadata": {},
     "output_type": "display_data"
    },
    {
     "name": "stdout",
     "output_type": "stream",
     "text": [
      "\n",
      "Result written to outputs/algo=WindowStreamingAlgo_client_dist=RoundrobinNodeDistribution_terminal_dist=RoundrobinNodeDistribution_nnodes=1_1583369285.84425.json\n",
      "{'client_TDR': 0.96, 'client_MDR': 0.040000000000000036, 'client_FDR': 0.2941176470588235, 'client_CDR': 1.7083333333333333, 'terminal_TDR': 1.0, 'terminal_MDR': 0.0, 'terminal_FDR': 0.3142857142857143, 'terminal_CDR': 2.92, 'client_False': 10, 'terminal_False': 11, 'client_latency': 53.541666666666664, 'terminal_latency': 59.083333333333336}\n"
     ]
    },
    {
     "data": {
      "application/vnd.jupyter.widget-view+json": {
       "model_id": "010785fd501c4274abb34c65ab8b426a",
       "version_major": 2,
       "version_minor": 0
      },
      "text/plain": [
       "HBox(children=(FloatProgress(value=1.0, bar_style='info', max=1.0), HTML(value='')))"
      ]
     },
     "metadata": {},
     "output_type": "display_data"
    },
    {
     "name": "stdout",
     "output_type": "stream",
     "text": [
      "\n",
      "Result written to outputs/algo=WindowStreamingAlgo_client_dist=RoundrobinNodeDistribution_terminal_dist=RoundrobinNodeDistribution_nnodes=5_1583369351.400339.json\n",
      "{'client_TDR': 0.92, 'client_MDR': 0.07999999999999996, 'client_FDR': 0.42500000000000004, 'client_CDR': 0.6666666666666666, 'terminal_TDR': 0.9166666666666666, 'terminal_MDR': 0.08333333333333337, 'terminal_FDR': 0.15384615384615385, 'terminal_CDR': 1.0, 'client_False': 17, 'terminal_False': 4, 'client_latency': 86.69565217391305, 'terminal_latency': 103.36363636363636}\n"
     ]
    },
    {
     "data": {
      "application/vnd.jupyter.widget-view+json": {
       "model_id": "28842532fe154ebe869d0b4deaa51065",
       "version_major": 2,
       "version_minor": 0
      },
      "text/plain": [
       "HBox(children=(FloatProgress(value=1.0, bar_style='info', max=1.0), HTML(value='')))"
      ]
     },
     "metadata": {},
     "output_type": "display_data"
    },
    {
     "name": "stdout",
     "output_type": "stream",
     "text": [
      "\n",
      "Result written to outputs/algo=WindowStreamingAlgo_client_dist=DependentNodeDistribution_terminal_dist=SecondMetaDependentNodeDistribution_nnodes=5_1583369463.611816.json\n",
      "{'client_TDR': 0.96, 'client_MDR': 0.040000000000000036, 'client_FDR': 0.2941176470588235, 'client_CDR': 1.7083333333333333, 'terminal_TDR': 1.0, 'terminal_MDR': 0.0, 'terminal_FDR': 0.4782608695652174, 'terminal_CDR': 5.28, 'client_False': 10, 'terminal_False': 22, 'client_latency': 53.541666666666664, 'terminal_latency': 52.458333333333336}\n"
     ]
    },
    {
     "data": {
      "application/vnd.jupyter.widget-view+json": {
       "model_id": "8c2314042e7f479aba0cfaf45f25cbb0",
       "version_major": 2,
       "version_minor": 0
      },
      "text/plain": [
       "HBox(children=(FloatProgress(value=1.0, bar_style='info', max=1.0), HTML(value='')))"
      ]
     },
     "metadata": {},
     "output_type": "display_data"
    },
    {
     "name": "stdout",
     "output_type": "stream",
     "text": [
      "\n",
      "Result written to outputs/algo=WindowStreamingAlgo_client_dist=SecondMetaDependentNodeDistribution_terminal_dist=DependentNodeDistribution_nnodes=5_1583369564.737902.json\n",
      "{'client_TDR': 1.0, 'client_MDR': 0.0, 'client_FDR': 0.47916666666666663, 'client_CDR': 3.7083333333333335, 'terminal_TDR': 1.0, 'terminal_MDR': 0.0, 'terminal_FDR': 0.3142857142857143, 'terminal_CDR': 2.92, 'client_False': 23, 'terminal_False': 11, 'client_latency': 50.16, 'terminal_latency': 59.083333333333336}\n"
     ]
    },
    {
     "data": {
      "application/vnd.jupyter.widget-view+json": {
       "model_id": "b0da93a51eca47c6b83091eabf4f8a25",
       "version_major": 2,
       "version_minor": 0
      },
      "text/plain": [
       "HBox(children=(FloatProgress(value=1.0, bar_style='info', max=1.0), HTML(value='')))"
      ]
     },
     "metadata": {},
     "output_type": "display_data"
    },
    {
     "name": "stdout",
     "output_type": "stream",
     "text": [
      "\n",
      "Result written to outputs/algo=WindowStreamingAlgo_client_dist=RoundrobinNodeDistribution_terminal_dist=RoundrobinNodeDistribution_nnodes=1_1583369728.924591.json\n",
      "{'client_TDR': 0.96, 'client_MDR': 0.040000000000000036, 'client_FDR': 0.22580645161290325, 'client_CDR': 1.2083333333333333, 'terminal_TDR': 1.0, 'terminal_MDR': 0.0, 'terminal_FDR': 0.33333333333333337, 'terminal_CDR': 2.2, 'client_False': 7, 'terminal_False': 12, 'client_latency': 51.166666666666664, 'terminal_latency': 115.33333333333333}\n"
     ]
    },
    {
     "data": {
      "application/vnd.jupyter.widget-view+json": {
       "model_id": "746a27e607ea4782a09bc933d4a13f51",
       "version_major": 2,
       "version_minor": 0
      },
      "text/plain": [
       "HBox(children=(FloatProgress(value=1.0, bar_style='info', max=1.0), HTML(value='')))"
      ]
     },
     "metadata": {},
     "output_type": "display_data"
    },
    {
     "name": "stdout",
     "output_type": "stream",
     "text": [
      "\n",
      "Result written to outputs/algo=WindowStreamingAlgo_client_dist=RoundrobinNodeDistribution_terminal_dist=RoundrobinNodeDistribution_nnodes=5_1583369791.58092.json\n",
      "{'client_TDR': 1.0, 'client_MDR': 0.0, 'client_FDR': 0.3421052631578947, 'client_CDR': 0.9166666666666666, 'terminal_TDR': 0.9583333333333334, 'terminal_MDR': 0.04166666666666663, 'terminal_FDR': 0.41025641025641024, 'terminal_CDR': 1.72, 'client_False': 13, 'terminal_False': 16, 'client_latency': 87.52, 'terminal_latency': 122.69565217391305}\n"
     ]
    },
    {
     "data": {
      "application/vnd.jupyter.widget-view+json": {
       "model_id": "62179621e1074ccca17b330eccfc30c3",
       "version_major": 2,
       "version_minor": 0
      },
      "text/plain": [
       "HBox(children=(FloatProgress(value=1.0, bar_style='info', max=1.0), HTML(value='')))"
      ]
     },
     "metadata": {},
     "output_type": "display_data"
    },
    {
     "name": "stdout",
     "output_type": "stream",
     "text": [
      "\n",
      "Result written to outputs/algo=WindowStreamingAlgo_client_dist=DependentNodeDistribution_terminal_dist=SecondMetaDependentNodeDistribution_nnodes=5_1583369908.606093.json\n",
      "{'client_TDR': 0.96, 'client_MDR': 0.040000000000000036, 'client_FDR': 0.22580645161290325, 'client_CDR': 1.2083333333333333, 'terminal_TDR': 1.0, 'terminal_MDR': 0.0, 'terminal_FDR': 0.5555555555555556, 'terminal_CDR': 4.48, 'client_False': 7, 'terminal_False': 30, 'client_latency': 51.166666666666664, 'terminal_latency': 74.375}\n"
     ]
    },
    {
     "data": {
      "application/vnd.jupyter.widget-view+json": {
       "model_id": "19297e493b0f4c219ab08affb92585b3",
       "version_major": 2,
       "version_minor": 0
      },
      "text/plain": [
       "HBox(children=(FloatProgress(value=1.0, bar_style='info', max=1.0), HTML(value='')))"
      ]
     },
     "metadata": {},
     "output_type": "display_data"
    },
    {
     "name": "stdout",
     "output_type": "stream",
     "text": [
      "\n",
      "Result written to outputs/algo=WindowStreamingAlgo_client_dist=SecondMetaDependentNodeDistribution_terminal_dist=DependentNodeDistribution_nnodes=5_1583370015.977166.json\n",
      "{'client_TDR': 1.0, 'client_MDR': 0.0, 'client_FDR': 0.43181818181818177, 'client_CDR': 3.1666666666666665, 'terminal_TDR': 1.0, 'terminal_MDR': 0.0, 'terminal_FDR': 0.33333333333333337, 'terminal_CDR': 2.2, 'client_False': 19, 'terminal_False': 12, 'client_latency': 55.84, 'terminal_latency': 115.33333333333333}\n"
     ]
    },
    {
     "data": {
      "application/vnd.jupyter.widget-view+json": {
       "model_id": "37594e8a3cf74e10a4872e604bac4973",
       "version_major": 2,
       "version_minor": 0
      },
      "text/plain": [
       "HBox(children=(FloatProgress(value=1.0, bar_style='info', max=1.0), HTML(value='')))"
      ]
     },
     "metadata": {},
     "output_type": "display_data"
    },
    {
     "name": "stdout",
     "output_type": "stream",
     "text": [
      "\n",
      "Result written to outputs/algo=WindowStreamingAlgo_client_dist=RoundrobinNodeDistribution_terminal_dist=RoundrobinNodeDistribution_nnodes=1_1583370159.142723.json\n",
      "{'client_TDR': 1.0, 'client_MDR': 0.0, 'client_FDR': 0.3055555555555556, 'client_CDR': 1.6666666666666667, 'terminal_TDR': 0.9166666666666666, 'terminal_MDR': 0.08333333333333337, 'terminal_FDR': 0.5, 'terminal_CDR': 3.16, 'client_False': 11, 'terminal_False': 22, 'client_latency': 48.24, 'terminal_latency': 99.5}\n"
     ]
    },
    {
     "data": {
      "application/vnd.jupyter.widget-view+json": {
       "model_id": "3a35d9ae08c543f2b2c89c2aa9e5abad",
       "version_major": 2,
       "version_minor": 0
      },
      "text/plain": [
       "HBox(children=(FloatProgress(value=1.0, bar_style='info', max=1.0), HTML(value='')))"
      ]
     },
     "metadata": {},
     "output_type": "display_data"
    },
    {
     "name": "stdout",
     "output_type": "stream",
     "text": [
      "\n",
      "Result written to outputs/algo=WindowStreamingAlgo_client_dist=RoundrobinNodeDistribution_terminal_dist=RoundrobinNodeDistribution_nnodes=5_1583370223.088593.json\n",
      "{'client_TDR': 0.96, 'client_MDR': 0.040000000000000036, 'client_FDR': 0.2727272727272727, 'client_CDR': 0.7916666666666666, 'terminal_TDR': 0.9166666666666666, 'terminal_MDR': 0.08333333333333337, 'terminal_FDR': 0.42105263157894735, 'terminal_CDR': 1.44, 'client_False': 9, 'terminal_False': 16, 'client_latency': 95.125, 'terminal_latency': 132.5909090909091}\n"
     ]
    },
    {
     "data": {
      "application/vnd.jupyter.widget-view+json": {
       "model_id": "5eddcadea6884d7d9c9a14206c13bdf9",
       "version_major": 2,
       "version_minor": 0
      },
      "text/plain": [
       "HBox(children=(FloatProgress(value=1.0, bar_style='info', max=1.0), HTML(value='')))"
      ]
     },
     "metadata": {},
     "output_type": "display_data"
    },
    {
     "name": "stdout",
     "output_type": "stream",
     "text": [
      "\n",
      "Result written to outputs/algo=WindowStreamingAlgo_client_dist=DependentNodeDistribution_terminal_dist=SecondMetaDependentNodeDistribution_nnodes=5_1583370333.794454.json\n",
      "{'client_TDR': 1.0, 'client_MDR': 0.0, 'client_FDR': 0.3055555555555556, 'client_CDR': 1.6666666666666667, 'terminal_TDR': 1.0, 'terminal_MDR': 0.0, 'terminal_FDR': 0.5, 'terminal_CDR': 4.28, 'client_False': 11, 'terminal_False': 24, 'client_latency': 48.24, 'terminal_latency': 85.41666666666667}\n"
     ]
    },
    {
     "data": {
      "application/vnd.jupyter.widget-view+json": {
       "model_id": "725504b548104530b4b99793e3a5f971",
       "version_major": 2,
       "version_minor": 0
      },
      "text/plain": [
       "HBox(children=(FloatProgress(value=1.0, bar_style='info', max=1.0), HTML(value='')))"
      ]
     },
     "metadata": {},
     "output_type": "display_data"
    },
    {
     "name": "stdout",
     "output_type": "stream",
     "text": [
      "\n",
      "Result written to outputs/algo=WindowStreamingAlgo_client_dist=SecondMetaDependentNodeDistribution_terminal_dist=DependentNodeDistribution_nnodes=5_1583370425.976539.json\n",
      "{'client_TDR': 0.96, 'client_MDR': 0.040000000000000036, 'client_FDR': 0.41463414634146345, 'client_CDR': 3.8333333333333335, 'terminal_TDR': 0.9166666666666666, 'terminal_MDR': 0.08333333333333337, 'terminal_FDR': 0.5, 'terminal_CDR': 3.16, 'client_False': 17, 'terminal_False': 22, 'client_latency': 54.5, 'terminal_latency': 99.5}\n"
     ]
    },
    {
     "data": {
      "application/vnd.jupyter.widget-view+json": {
       "model_id": "60bc09e1fde647cf8562743cd3fdcdf6",
       "version_major": 2,
       "version_minor": 0
      },
      "text/plain": [
       "HBox(children=(FloatProgress(value=1.0, bar_style='info', max=1.0), HTML(value='')))"
      ]
     },
     "metadata": {},
     "output_type": "display_data"
    },
    {
     "name": "stdout",
     "output_type": "stream",
     "text": [
      "\n",
      "Result written to outputs/algo=WindowStreamingAlgo_client_dist=RoundrobinNodeDistribution_terminal_dist=RoundrobinNodeDistribution_nnodes=1_1583370575.657386.json\n",
      "{'client_TDR': 1.0, 'client_MDR': 0.0, 'client_FDR': 0.43181818181818177, 'client_CDR': 1.875, 'terminal_TDR': 0.875, 'terminal_MDR': 0.125, 'terminal_FDR': 0.32258064516129037, 'terminal_CDR': 2.64, 'client_False': 19, 'terminal_False': 10, 'client_latency': 49.64, 'terminal_latency': 76.04761904761905}\n"
     ]
    },
    {
     "data": {
      "application/vnd.jupyter.widget-view+json": {
       "model_id": "f9c2564a4bea45cabe9376e4a8af7ea1",
       "version_major": 2,
       "version_minor": 0
      },
      "text/plain": [
       "HBox(children=(FloatProgress(value=1.0, bar_style='info', max=1.0), HTML(value='')))"
      ]
     },
     "metadata": {},
     "output_type": "display_data"
    },
    {
     "name": "stdout",
     "output_type": "stream",
     "text": [
      "\n",
      "Result written to outputs/algo=WindowStreamingAlgo_client_dist=RoundrobinNodeDistribution_terminal_dist=RoundrobinNodeDistribution_nnodes=5_1583370640.108984.json\n",
      "{'client_TDR': 1.0, 'client_MDR': 0.0, 'client_FDR': 0.40476190476190477, 'client_CDR': 1.25, 'terminal_TDR': 0.875, 'terminal_MDR': 0.125, 'terminal_FDR': 0.27586206896551724, 'terminal_CDR': 0.8, 'client_False': 17, 'terminal_False': 8, 'client_latency': 82.52, 'terminal_latency': 112.0952380952381}\n"
     ]
    },
    {
     "data": {
      "application/vnd.jupyter.widget-view+json": {
       "model_id": "727bab339aa04eb29e17761de02c5801",
       "version_major": 2,
       "version_minor": 0
      },
      "text/plain": [
       "HBox(children=(FloatProgress(value=1.0, bar_style='info', max=1.0), HTML(value='')))"
      ]
     },
     "metadata": {},
     "output_type": "display_data"
    },
    {
     "name": "stdout",
     "output_type": "stream",
     "text": [
      "\n",
      "Result written to outputs/algo=WindowStreamingAlgo_client_dist=DependentNodeDistribution_terminal_dist=SecondMetaDependentNodeDistribution_nnodes=5_1583370745.819761.json\n",
      "{'client_TDR': 1.0, 'client_MDR': 0.0, 'client_FDR': 0.43181818181818177, 'client_CDR': 1.875, 'terminal_TDR': 1.0, 'terminal_MDR': 0.0, 'terminal_FDR': 0.5789473684210527, 'terminal_CDR': 4.64, 'client_False': 19, 'terminal_False': 33, 'client_latency': 49.64, 'terminal_latency': 68.29166666666667}\n"
     ]
    },
    {
     "data": {
      "application/vnd.jupyter.widget-view+json": {
       "model_id": "88e39e1dfd724a6e8a2cb4b353a8ecce",
       "version_major": 2,
       "version_minor": 0
      },
      "text/plain": [
       "HBox(children=(FloatProgress(value=1.0, bar_style='info', max=1.0), HTML(value='')))"
      ]
     },
     "metadata": {},
     "output_type": "display_data"
    },
    {
     "name": "stdout",
     "output_type": "stream",
     "text": [
      "\n",
      "Result written to outputs/algo=WindowStreamingAlgo_client_dist=SecondMetaDependentNodeDistribution_terminal_dist=DependentNodeDistribution_nnodes=5_1583370848.722573.json\n",
      "{'client_TDR': 0.96, 'client_MDR': 0.040000000000000036, 'client_FDR': 0.3846153846153846, 'client_CDR': 3.875, 'terminal_TDR': 0.875, 'terminal_MDR': 0.125, 'terminal_FDR': 0.32258064516129037, 'terminal_CDR': 2.64, 'client_False': 15, 'terminal_False': 10, 'client_latency': 56.375, 'terminal_latency': 76.04761904761905}\n"
     ]
    },
    {
     "data": {
      "application/vnd.jupyter.widget-view+json": {
       "model_id": "f24f2636e128447091b53d41710888f9",
       "version_major": 2,
       "version_minor": 0
      },
      "text/plain": [
       "HBox(children=(FloatProgress(value=1.0, bar_style='info', max=1.0), HTML(value='')))"
      ]
     },
     "metadata": {},
     "output_type": "display_data"
    },
    {
     "name": "stdout",
     "output_type": "stream",
     "text": [
      "\n",
      "Result written to outputs/algo=WindowStreamingAlgo_client_dist=RoundrobinNodeDistribution_terminal_dist=RoundrobinNodeDistribution_nnodes=1_1583370987.559472.json\n",
      "{'client_TDR': 0.96, 'client_MDR': 0.040000000000000036, 'client_FDR': 0.41463414634146345, 'client_CDR': 1.875, 'terminal_TDR': 0.9583333333333334, 'terminal_MDR': 0.04166666666666663, 'terminal_FDR': 0.4390243902439024, 'terminal_CDR': 3.4, 'client_False': 17, 'terminal_False': 18, 'client_latency': 61.833333333333336, 'terminal_latency': 66.17391304347827}\n"
     ]
    },
    {
     "data": {
      "application/vnd.jupyter.widget-view+json": {
       "model_id": "00ad7e6e36e44b1a9b596a134dd97f3e",
       "version_major": 2,
       "version_minor": 0
      },
      "text/plain": [
       "HBox(children=(FloatProgress(value=1.0, bar_style='info', max=1.0), HTML(value='')))"
      ]
     },
     "metadata": {},
     "output_type": "display_data"
    },
    {
     "name": "stdout",
     "output_type": "stream",
     "text": [
      "\n",
      "Result written to outputs/algo=WindowStreamingAlgo_client_dist=RoundrobinNodeDistribution_terminal_dist=RoundrobinNodeDistribution_nnodes=5_1583371049.740439.json\n",
      "{'client_TDR': 0.92, 'client_MDR': 0.07999999999999996, 'client_FDR': 0.3783783783783784, 'client_CDR': 0.875, 'terminal_TDR': 0.9583333333333334, 'terminal_MDR': 0.04166666666666663, 'terminal_FDR': 0.4651162790697675, 'terminal_CDR': 1.72, 'client_False': 14, 'terminal_False': 20, 'client_latency': 76.17391304347827, 'terminal_latency': 99.04347826086956}\n"
     ]
    },
    {
     "data": {
      "application/vnd.jupyter.widget-view+json": {
       "model_id": "0aa71a94433142fa8d349500b4d2b9bb",
       "version_major": 2,
       "version_minor": 0
      },
      "text/plain": [
       "HBox(children=(FloatProgress(value=1.0, bar_style='info', max=1.0), HTML(value='')))"
      ]
     },
     "metadata": {},
     "output_type": "display_data"
    },
    {
     "name": "stdout",
     "output_type": "stream",
     "text": [
      "\n",
      "Result written to outputs/algo=WindowStreamingAlgo_client_dist=DependentNodeDistribution_terminal_dist=SecondMetaDependentNodeDistribution_nnodes=5_1583371155.587174.json\n",
      "{'client_TDR': 0.96, 'client_MDR': 0.040000000000000036, 'client_FDR': 0.41463414634146345, 'client_CDR': 1.875, 'terminal_TDR': 1.0, 'terminal_MDR': 0.0, 'terminal_FDR': 0.4782608695652174, 'terminal_CDR': 5.16, 'client_False': 17, 'terminal_False': 22, 'client_latency': 61.833333333333336, 'terminal_latency': 62.541666666666664}\n"
     ]
    },
    {
     "data": {
      "application/vnd.jupyter.widget-view+json": {
       "model_id": "88a2decb826443f684f203e5d5450f11",
       "version_major": 2,
       "version_minor": 0
      },
      "text/plain": [
       "HBox(children=(FloatProgress(value=1.0, bar_style='info', max=1.0), HTML(value='')))"
      ]
     },
     "metadata": {},
     "output_type": "display_data"
    },
    {
     "name": "stdout",
     "output_type": "stream",
     "text": [
      "\n",
      "Result written to outputs/algo=WindowStreamingAlgo_client_dist=SecondMetaDependentNodeDistribution_terminal_dist=DependentNodeDistribution_nnodes=5_1583371247.836095.json\n",
      "{'client_TDR': 1.0, 'client_MDR': 0.0, 'client_FDR': 0.40476190476190477, 'client_CDR': 3.6666666666666665, 'terminal_TDR': 0.9583333333333334, 'terminal_MDR': 0.04166666666666663, 'terminal_FDR': 0.4390243902439024, 'terminal_CDR': 3.4, 'client_False': 17, 'terminal_False': 18, 'client_latency': 47.4, 'terminal_latency': 66.17391304347827}\n"
     ]
    },
    {
     "data": {
      "application/vnd.jupyter.widget-view+json": {
       "model_id": "466aee1143044739ad64b3a8569ef70f",
       "version_major": 2,
       "version_minor": 0
      },
      "text/plain": [
       "HBox(children=(FloatProgress(value=1.0, bar_style='info', max=1.0), HTML(value='')))"
      ]
     },
     "metadata": {},
     "output_type": "display_data"
    },
    {
     "name": "stdout",
     "output_type": "stream",
     "text": [
      "\n",
      "Result written to outputs/algo=WindowStreamingAlgo_client_dist=RoundrobinNodeDistribution_terminal_dist=RoundrobinNodeDistribution_nnodes=1_1583371407.922529.json\n",
      "{'client_TDR': 1.0, 'client_MDR': 0.0, 'client_FDR': 0.21875, 'client_CDR': 1.0, 'terminal_TDR': 0.9583333333333334, 'terminal_MDR': 0.04166666666666663, 'terminal_FDR': 0.34285714285714286, 'terminal_CDR': 2.8, 'client_False': 7, 'terminal_False': 12, 'client_latency': 61.68, 'terminal_latency': 160.1304347826087}\n"
     ]
    },
    {
     "data": {
      "application/vnd.jupyter.widget-view+json": {
       "model_id": "19b8b61b53ad41e6bd0c79d011483333",
       "version_major": 2,
       "version_minor": 0
      },
      "text/plain": [
       "HBox(children=(FloatProgress(value=1.0, bar_style='info', max=1.0), HTML(value='')))"
      ]
     },
     "metadata": {},
     "output_type": "display_data"
    },
    {
     "name": "stdout",
     "output_type": "stream",
     "text": [
      "\n",
      "Result written to outputs/algo=WindowStreamingAlgo_client_dist=RoundrobinNodeDistribution_terminal_dist=RoundrobinNodeDistribution_nnodes=5_1583371475.342126.json\n",
      "{'client_TDR': 0.88, 'client_MDR': 0.12, 'client_FDR': 0.33333333333333337, 'client_CDR': 0.4166666666666667, 'terminal_TDR': 0.9583333333333334, 'terminal_MDR': 0.04166666666666663, 'terminal_FDR': 0.14814814814814814, 'terminal_CDR': 0.72, 'client_False': 11, 'terminal_False': 4, 'client_latency': 83.13636363636364, 'terminal_latency': 182.6086956521739}\n"
     ]
    },
    {
     "data": {
      "application/vnd.jupyter.widget-view+json": {
       "model_id": "31dd3a6d9fde4a88a3442dba950a7952",
       "version_major": 2,
       "version_minor": 0
      },
      "text/plain": [
       "HBox(children=(FloatProgress(value=1.0, bar_style='info', max=1.0), HTML(value='')))"
      ]
     },
     "metadata": {},
     "output_type": "display_data"
    },
    {
     "name": "stdout",
     "output_type": "stream",
     "text": [
      "\n",
      "Result written to outputs/algo=WindowStreamingAlgo_client_dist=DependentNodeDistribution_terminal_dist=SecondMetaDependentNodeDistribution_nnodes=5_1583371594.450031.json\n",
      "{'client_TDR': 1.0, 'client_MDR': 0.0, 'client_FDR': 0.21875, 'client_CDR': 1.0, 'terminal_TDR': 0.9583333333333334, 'terminal_MDR': 0.04166666666666663, 'terminal_FDR': 0.48888888888888893, 'terminal_CDR': 4.88, 'client_False': 7, 'terminal_False': 22, 'client_latency': 61.68, 'terminal_latency': 108.43478260869566}\n"
     ]
    },
    {
     "data": {
      "application/vnd.jupyter.widget-view+json": {
       "model_id": "3e99ee62f6ad4a6a88efaa6d972f6131",
       "version_major": 2,
       "version_minor": 0
      },
      "text/plain": [
       "HBox(children=(FloatProgress(value=1.0, bar_style='info', max=1.0), HTML(value='')))"
      ]
     },
     "metadata": {},
     "output_type": "display_data"
    },
    {
     "name": "stdout",
     "output_type": "stream",
     "text": [
      "\n",
      "Result written to outputs/algo=WindowStreamingAlgo_client_dist=SecondMetaDependentNodeDistribution_terminal_dist=DependentNodeDistribution_nnodes=5_1583371696.680382.json\n",
      "{'client_TDR': 1.0, 'client_MDR': 0.0, 'client_FDR': 0.41860465116279066, 'client_CDR': 2.9166666666666665, 'terminal_TDR': 0.9583333333333334, 'terminal_MDR': 0.04166666666666663, 'terminal_FDR': 0.34285714285714286, 'terminal_CDR': 2.8, 'client_False': 18, 'terminal_False': 12, 'client_latency': 57.36, 'terminal_latency': 160.1304347826087}\n"
     ]
    },
    {
     "data": {
      "application/vnd.jupyter.widget-view+json": {
       "model_id": "0e72778b83904abeafeaeb2b1eef6a93",
       "version_major": 2,
       "version_minor": 0
      },
      "text/plain": [
       "HBox(children=(FloatProgress(value=1.0, bar_style='info', max=1.0), HTML(value='')))"
      ]
     },
     "metadata": {},
     "output_type": "display_data"
    },
    {
     "name": "stdout",
     "output_type": "stream",
     "text": [
      "\n",
      "Result written to outputs/algo=WindowStreamingAlgo_client_dist=RoundrobinNodeDistribution_terminal_dist=RoundrobinNodeDistribution_nnodes=1_1583371837.762533.json\n",
      "{'client_TDR': 0.92, 'client_MDR': 0.07999999999999996, 'client_FDR': 0.3783783783783784, 'client_CDR': 2.0833333333333335, 'terminal_TDR': 1.0, 'terminal_MDR': 0.0, 'terminal_FDR': 0.4545454545454546, 'terminal_CDR': 3.24, 'client_False': 14, 'terminal_False': 20, 'client_latency': 52.78260869565217, 'terminal_latency': 92.83333333333333}\n"
     ]
    },
    {
     "data": {
      "application/vnd.jupyter.widget-view+json": {
       "model_id": "d3e7a49ee580498fb3ebf717b8ef4f48",
       "version_major": 2,
       "version_minor": 0
      },
      "text/plain": [
       "HBox(children=(FloatProgress(value=1.0, bar_style='info', max=1.0), HTML(value='')))"
      ]
     },
     "metadata": {},
     "output_type": "display_data"
    },
    {
     "name": "stdout",
     "output_type": "stream",
     "text": [
      "\n",
      "Result written to outputs/algo=WindowStreamingAlgo_client_dist=RoundrobinNodeDistribution_terminal_dist=RoundrobinNodeDistribution_nnodes=5_1583371900.529398.json\n",
      "{'client_TDR': 1.0, 'client_MDR': 0.0, 'client_FDR': 0.375, 'client_CDR': 1.0, 'terminal_TDR': 1.0, 'terminal_MDR': 0.0, 'terminal_FDR': 0.2727272727272727, 'terminal_CDR': 1.76, 'client_False': 15, 'terminal_False': 9, 'client_latency': 75.8, 'terminal_latency': 101.54166666666667}\n"
     ]
    },
    {
     "data": {
      "application/vnd.jupyter.widget-view+json": {
       "model_id": "1563b834132f4501bdab732f3d5a1305",
       "version_major": 2,
       "version_minor": 0
      },
      "text/plain": [
       "HBox(children=(FloatProgress(value=1.0, bar_style='info', max=1.0), HTML(value='')))"
      ]
     },
     "metadata": {},
     "output_type": "display_data"
    },
    {
     "name": "stdout",
     "output_type": "stream",
     "text": [
      "\n",
      "Result written to outputs/algo=WindowStreamingAlgo_client_dist=DependentNodeDistribution_terminal_dist=SecondMetaDependentNodeDistribution_nnodes=5_1583372007.047451.json\n",
      "{'client_TDR': 0.92, 'client_MDR': 0.07999999999999996, 'client_FDR': 0.3783783783783784, 'client_CDR': 2.0833333333333335, 'terminal_TDR': 1.0, 'terminal_MDR': 0.0, 'terminal_FDR': 0.4666666666666667, 'terminal_CDR': 5.24, 'client_False': 14, 'terminal_False': 21, 'client_latency': 52.78260869565217, 'terminal_latency': 61.875}\n"
     ]
    },
    {
     "data": {
      "application/vnd.jupyter.widget-view+json": {
       "model_id": "f6ca7aa387ec428592c652947f37236b",
       "version_major": 2,
       "version_minor": 0
      },
      "text/plain": [
       "HBox(children=(FloatProgress(value=1.0, bar_style='info', max=1.0), HTML(value='')))"
      ]
     },
     "metadata": {},
     "output_type": "display_data"
    },
    {
     "name": "stdout",
     "output_type": "stream",
     "text": [
      "\n",
      "Result written to outputs/algo=WindowStreamingAlgo_client_dist=SecondMetaDependentNodeDistribution_terminal_dist=DependentNodeDistribution_nnodes=5_1583372100.774163.json\n",
      "{'client_TDR': 1.0, 'client_MDR': 0.0, 'client_FDR': 0.537037037037037, 'client_CDR': 3.4166666666666665, 'terminal_TDR': 1.0, 'terminal_MDR': 0.0, 'terminal_FDR': 0.4545454545454546, 'terminal_CDR': 3.24, 'client_False': 29, 'terminal_False': 20, 'client_latency': 44.72, 'terminal_latency': 92.83333333333333}\n"
     ]
    },
    {
     "data": {
      "application/vnd.jupyter.widget-view+json": {
       "model_id": "16538f76b3214e0fa2f6528adb8c92a1",
       "version_major": 2,
       "version_minor": 0
      },
      "text/plain": [
       "HBox(children=(FloatProgress(value=1.0, bar_style='info', max=1.0), HTML(value='')))"
      ]
     },
     "metadata": {},
     "output_type": "display_data"
    },
    {
     "name": "stdout",
     "output_type": "stream",
     "text": [
      "\n",
      "Result written to outputs/algo=WindowStreamingAlgo_client_dist=RoundrobinNodeDistribution_terminal_dist=RoundrobinNodeDistribution_nnodes=1_1583372248.111812.json\n",
      "{'client_TDR': 1.0, 'client_MDR': 0.0, 'client_FDR': 0.3055555555555556, 'client_CDR': 1.75, 'terminal_TDR': 0.9583333333333334, 'terminal_MDR': 0.04166666666666663, 'terminal_FDR': 0.45238095238095233, 'terminal_CDR': 2.88, 'client_False': 11, 'terminal_False': 19, 'client_latency': 46.68, 'terminal_latency': 94.82608695652173}\n"
     ]
    },
    {
     "data": {
      "application/vnd.jupyter.widget-view+json": {
       "model_id": "633d0457951b4d43bfea73072f14ef13",
       "version_major": 2,
       "version_minor": 0
      },
      "text/plain": [
       "HBox(children=(FloatProgress(value=1.0, bar_style='info', max=1.0), HTML(value='')))"
      ]
     },
     "metadata": {},
     "output_type": "display_data"
    },
    {
     "name": "stdout",
     "output_type": "stream",
     "text": [
      "\n",
      "Result written to outputs/algo=WindowStreamingAlgo_client_dist=RoundrobinNodeDistribution_terminal_dist=RoundrobinNodeDistribution_nnodes=5_1583372311.236458.json\n",
      "{'client_TDR': 1.0, 'client_MDR': 0.0, 'client_FDR': 0.3589743589743589, 'client_CDR': 1.1666666666666667, 'terminal_TDR': 0.9583333333333334, 'terminal_MDR': 0.04166666666666663, 'terminal_FDR': 0.34285714285714286, 'terminal_CDR': 1.48, 'client_False': 14, 'terminal_False': 12, 'client_latency': 80.96, 'terminal_latency': 132.04347826086956}\n"
     ]
    },
    {
     "data": {
      "application/vnd.jupyter.widget-view+json": {
       "model_id": "4852f6121c5e4d95a2396d06c4285fa1",
       "version_major": 2,
       "version_minor": 0
      },
      "text/plain": [
       "HBox(children=(FloatProgress(value=1.0, bar_style='info', max=1.0), HTML(value='')))"
      ]
     },
     "metadata": {},
     "output_type": "display_data"
    },
    {
     "name": "stdout",
     "output_type": "stream",
     "text": [
      "\n",
      "Result written to outputs/algo=WindowStreamingAlgo_client_dist=DependentNodeDistribution_terminal_dist=SecondMetaDependentNodeDistribution_nnodes=5_1583372419.890344.json\n",
      "{'client_TDR': 1.0, 'client_MDR': 0.0, 'client_FDR': 0.3055555555555556, 'client_CDR': 1.75, 'terminal_TDR': 1.0, 'terminal_MDR': 0.0, 'terminal_FDR': 0.52, 'terminal_CDR': 5.0, 'client_False': 11, 'terminal_False': 26, 'client_latency': 46.68, 'terminal_latency': 74.5}\n"
     ]
    },
    {
     "data": {
      "application/vnd.jupyter.widget-view+json": {
       "model_id": "8de8edd585a147a3b95452fbcb43816c",
       "version_major": 2,
       "version_minor": 0
      },
      "text/plain": [
       "HBox(children=(FloatProgress(value=1.0, bar_style='info', max=1.0), HTML(value='')))"
      ]
     },
     "metadata": {},
     "output_type": "display_data"
    },
    {
     "name": "stdout",
     "output_type": "stream",
     "text": [
      "\n",
      "Result written to outputs/algo=WindowStreamingAlgo_client_dist=SecondMetaDependentNodeDistribution_terminal_dist=DependentNodeDistribution_nnodes=5_1583372517.144933.json\n",
      "{'client_TDR': 0.96, 'client_MDR': 0.040000000000000036, 'client_FDR': 0.5294117647058824, 'client_CDR': 3.5, 'terminal_TDR': 0.9583333333333334, 'terminal_MDR': 0.04166666666666663, 'terminal_FDR': 0.45238095238095233, 'terminal_CDR': 2.88, 'client_False': 27, 'terminal_False': 19, 'client_latency': 50.666666666666664, 'terminal_latency': 94.82608695652173}\n"
     ]
    },
    {
     "data": {
      "application/vnd.jupyter.widget-view+json": {
       "model_id": "7878132139e443eab1b7b3172b2b37ed",
       "version_major": 2,
       "version_minor": 0
      },
      "text/plain": [
       "HBox(children=(FloatProgress(value=1.0, bar_style='info', max=1.0), HTML(value='')))"
      ]
     },
     "metadata": {},
     "output_type": "display_data"
    },
    {
     "name": "stdout",
     "output_type": "stream",
     "text": [
      "\n",
      "Result written to outputs/algo=WindowStreamingAlgo_client_dist=RoundrobinNodeDistribution_terminal_dist=RoundrobinNodeDistribution_nnodes=1_1583372667.635927.json\n",
      "{'client_TDR': 1.0, 'client_MDR': 0.0, 'client_FDR': 0.3055555555555556, 'client_CDR': 1.7916666666666667, 'terminal_TDR': 0.9166666666666666, 'terminal_MDR': 0.08333333333333337, 'terminal_FDR': 0.38888888888888884, 'terminal_CDR': 2.56, 'client_False': 11, 'terminal_False': 14, 'client_latency': 54.24, 'terminal_latency': 99.27272727272727}\n"
     ]
    },
    {
     "data": {
      "application/vnd.jupyter.widget-view+json": {
       "model_id": "a7069744e60d42f58b3b01511ed6455e",
       "version_major": 2,
       "version_minor": 0
      },
      "text/plain": [
       "HBox(children=(FloatProgress(value=1.0, bar_style='info', max=1.0), HTML(value='')))"
      ]
     },
     "metadata": {},
     "output_type": "display_data"
    },
    {
     "name": "stdout",
     "output_type": "stream",
     "text": [
      "\n",
      "Result written to outputs/algo=WindowStreamingAlgo_client_dist=RoundrobinNodeDistribution_terminal_dist=RoundrobinNodeDistribution_nnodes=5_1583372729.506796.json\n",
      "{'client_TDR': 1.0, 'client_MDR': 0.0, 'client_FDR': 0.40476190476190477, 'client_CDR': 1.125, 'terminal_TDR': 1.0, 'terminal_MDR': 0.0, 'terminal_FDR': 0.3846153846153846, 'terminal_CDR': 1.52, 'client_False': 17, 'terminal_False': 15, 'client_latency': 92.68, 'terminal_latency': 145.625}\n"
     ]
    },
    {
     "data": {
      "application/vnd.jupyter.widget-view+json": {
       "model_id": "d6bb193502ab44848bd92aaa064b48f9",
       "version_major": 2,
       "version_minor": 0
      },
      "text/plain": [
       "HBox(children=(FloatProgress(value=1.0, bar_style='info', max=1.0), HTML(value='')))"
      ]
     },
     "metadata": {},
     "output_type": "display_data"
    },
    {
     "name": "stdout",
     "output_type": "stream",
     "text": [
      "\n",
      "Result written to outputs/algo=WindowStreamingAlgo_client_dist=DependentNodeDistribution_terminal_dist=SecondMetaDependentNodeDistribution_nnodes=5_1583372837.203778.json\n",
      "{'client_TDR': 1.0, 'client_MDR': 0.0, 'client_FDR': 0.3055555555555556, 'client_CDR': 1.7916666666666667, 'terminal_TDR': 1.0, 'terminal_MDR': 0.0, 'terminal_FDR': 0.4666666666666667, 'terminal_CDR': 4.72, 'client_False': 11, 'terminal_False': 21, 'client_latency': 54.24, 'terminal_latency': 101.0}\n"
     ]
    },
    {
     "data": {
      "application/vnd.jupyter.widget-view+json": {
       "model_id": "bf320ecd6adf487780a018833b3e16ab",
       "version_major": 2,
       "version_minor": 0
      },
      "text/plain": [
       "HBox(children=(FloatProgress(value=1.0, bar_style='info', max=1.0), HTML(value='')))"
      ]
     },
     "metadata": {},
     "output_type": "display_data"
    },
    {
     "name": "stdout",
     "output_type": "stream",
     "text": [
      "\n",
      "Result written to outputs/algo=WindowStreamingAlgo_client_dist=SecondMetaDependentNodeDistribution_terminal_dist=DependentNodeDistribution_nnodes=5_1583372939.328246.json\n",
      "{'client_TDR': 0.96, 'client_MDR': 0.040000000000000036, 'client_FDR': 0.4666666666666667, 'client_CDR': 3.9583333333333335, 'terminal_TDR': 0.9166666666666666, 'terminal_MDR': 0.08333333333333337, 'terminal_FDR': 0.38888888888888884, 'terminal_CDR': 2.56, 'client_False': 21, 'terminal_False': 14, 'client_latency': 48.208333333333336, 'terminal_latency': 99.27272727272727}\n"
     ]
    },
    {
     "data": {
      "application/vnd.jupyter.widget-view+json": {
       "model_id": "b615f28f6a8942bc89ff4a80cb4d9051",
       "version_major": 2,
       "version_minor": 0
      },
      "text/plain": [
       "HBox(children=(FloatProgress(value=1.0, bar_style='info', max=1.0), HTML(value='')))"
      ]
     },
     "metadata": {},
     "output_type": "display_data"
    },
    {
     "name": "stdout",
     "output_type": "stream",
     "text": [
      "\n",
      "Result written to outputs/algo=WindowStreamingAlgo_client_dist=RoundrobinNodeDistribution_terminal_dist=RoundrobinNodeDistribution_nnodes=1_1583373072.982636.json\n",
      "{'client_TDR': 1.0, 'client_MDR': 0.0, 'client_FDR': 0.3589743589743589, 'client_CDR': 2.4166666666666665, 'terminal_TDR': 1.0, 'terminal_MDR': 0.0, 'terminal_FDR': 0.368421052631579, 'terminal_CDR': 3.44, 'client_False': 14, 'terminal_False': 14, 'client_latency': 53.68, 'terminal_latency': 70.75}\n"
     ]
    },
    {
     "data": {
      "application/vnd.jupyter.widget-view+json": {
       "model_id": "e1983acf5d3a41009953077db5eab50b",
       "version_major": 2,
       "version_minor": 0
      },
      "text/plain": [
       "HBox(children=(FloatProgress(value=1.0, bar_style='info', max=1.0), HTML(value='')))"
      ]
     },
     "metadata": {},
     "output_type": "display_data"
    },
    {
     "name": "stdout",
     "output_type": "stream",
     "text": [
      "\n",
      "Result written to outputs/algo=WindowStreamingAlgo_client_dist=RoundrobinNodeDistribution_terminal_dist=RoundrobinNodeDistribution_nnodes=5_1583373136.102204.json\n",
      "{'client_TDR': 1.0, 'client_MDR': 0.0, 'client_FDR': 0.40476190476190477, 'client_CDR': 1.125, 'terminal_TDR': 1.0, 'terminal_MDR': 0.0, 'terminal_FDR': 0.33333333333333337, 'terminal_CDR': 1.28, 'client_False': 17, 'terminal_False': 12, 'client_latency': 86.28, 'terminal_latency': 120.20833333333333}\n"
     ]
    },
    {
     "data": {
      "application/vnd.jupyter.widget-view+json": {
       "model_id": "5ff3e2c95ef84886beffcc7c95c24803",
       "version_major": 2,
       "version_minor": 0
      },
      "text/plain": [
       "HBox(children=(FloatProgress(value=1.0, bar_style='info', max=1.0), HTML(value='')))"
      ]
     },
     "metadata": {},
     "output_type": "display_data"
    },
    {
     "name": "stdout",
     "output_type": "stream",
     "text": [
      "\n",
      "Result written to outputs/algo=WindowStreamingAlgo_client_dist=DependentNodeDistribution_terminal_dist=SecondMetaDependentNodeDistribution_nnodes=5_1583373236.780924.json\n",
      "{'client_TDR': 1.0, 'client_MDR': 0.0, 'client_FDR': 0.3589743589743589, 'client_CDR': 2.4166666666666665, 'terminal_TDR': 0.9583333333333334, 'terminal_MDR': 0.04166666666666663, 'terminal_FDR': 0.5, 'terminal_CDR': 5.0, 'client_False': 14, 'terminal_False': 23, 'client_latency': 53.68, 'terminal_latency': 80.17391304347827}\n"
     ]
    },
    {
     "data": {
      "application/vnd.jupyter.widget-view+json": {
       "model_id": "bb15cb6345bb4ec6a1ad7dafb006f1b8",
       "version_major": 2,
       "version_minor": 0
      },
      "text/plain": [
       "HBox(children=(FloatProgress(value=1.0, bar_style='info', max=1.0), HTML(value='')))"
      ]
     },
     "metadata": {},
     "output_type": "display_data"
    },
    {
     "name": "stdout",
     "output_type": "stream",
     "text": [
      "\n",
      "Result written to outputs/algo=WindowStreamingAlgo_client_dist=SecondMetaDependentNodeDistribution_terminal_dist=DependentNodeDistribution_nnodes=5_1583373327.032495.json\n",
      "{'client_TDR': 0.96, 'client_MDR': 0.040000000000000036, 'client_FDR': 0.4893617021276596, 'client_CDR': 3.9166666666666665, 'terminal_TDR': 1.0, 'terminal_MDR': 0.0, 'terminal_FDR': 0.368421052631579, 'terminal_CDR': 3.44, 'client_False': 23, 'terminal_False': 14, 'client_latency': 52.708333333333336, 'terminal_latency': 70.75}\n"
     ]
    },
    {
     "data": {
      "application/vnd.jupyter.widget-view+json": {
       "model_id": "601e98a3a47444a8b273ed29b5702fc9",
       "version_major": 2,
       "version_minor": 0
      },
      "text/plain": [
       "HBox(children=(FloatProgress(value=1.0, bar_style='info', max=1.0), HTML(value='')))"
      ]
     },
     "metadata": {},
     "output_type": "display_data"
    },
    {
     "name": "stdout",
     "output_type": "stream",
     "text": [
      "\n",
      "Result written to outputs/algo=WindowStreamingAlgo_client_dist=RoundrobinNodeDistribution_terminal_dist=RoundrobinNodeDistribution_nnodes=1_1583373477.970956.json\n",
      "{'client_TDR': 0.96, 'client_MDR': 0.040000000000000036, 'client_FDR': 0.3142857142857143, 'client_CDR': 1.3333333333333333, 'terminal_TDR': 1.0, 'terminal_MDR': 0.0, 'terminal_FDR': 0.41463414634146345, 'terminal_CDR': 3.08, 'client_False': 11, 'terminal_False': 17, 'client_latency': 66.33333333333333, 'terminal_latency': 115.58333333333333}\n"
     ]
    },
    {
     "data": {
      "application/vnd.jupyter.widget-view+json": {
       "model_id": "7a1b56a92c65401687b771c9993736cf",
       "version_major": 2,
       "version_minor": 0
      },
      "text/plain": [
       "HBox(children=(FloatProgress(value=1.0, bar_style='info', max=1.0), HTML(value='')))"
      ]
     },
     "metadata": {},
     "output_type": "display_data"
    },
    {
     "name": "stdout",
     "output_type": "stream",
     "text": [
      "\n",
      "Result written to outputs/algo=WindowStreamingAlgo_client_dist=RoundrobinNodeDistribution_terminal_dist=RoundrobinNodeDistribution_nnodes=5_1583373539.671511.json\n",
      "{'client_TDR': 0.96, 'client_MDR': 0.040000000000000036, 'client_FDR': 0.368421052631579, 'client_CDR': 1.2916666666666667, 'terminal_TDR': 1.0, 'terminal_MDR': 0.0, 'terminal_FDR': 0.33333333333333337, 'terminal_CDR': 2.08, 'client_False': 14, 'terminal_False': 12, 'client_latency': 95.91666666666667, 'terminal_latency': 124.75}\n"
     ]
    },
    {
     "data": {
      "application/vnd.jupyter.widget-view+json": {
       "model_id": "ab9671ea394d44d1a9ee14a81de554e0",
       "version_major": 2,
       "version_minor": 0
      },
      "text/plain": [
       "HBox(children=(FloatProgress(value=1.0, bar_style='info', max=1.0), HTML(value='')))"
      ]
     },
     "metadata": {},
     "output_type": "display_data"
    },
    {
     "name": "stdout",
     "output_type": "stream",
     "text": [
      "\n",
      "Result written to outputs/algo=WindowStreamingAlgo_client_dist=DependentNodeDistribution_terminal_dist=SecondMetaDependentNodeDistribution_nnodes=5_1583373655.819439.json\n",
      "{'client_TDR': 0.96, 'client_MDR': 0.040000000000000036, 'client_FDR': 0.3142857142857143, 'client_CDR': 1.3333333333333333, 'terminal_TDR': 0.9166666666666666, 'terminal_MDR': 0.08333333333333337, 'terminal_FDR': 0.38888888888888884, 'terminal_CDR': 4.6, 'client_False': 11, 'terminal_False': 14, 'client_latency': 66.33333333333333, 'terminal_latency': 73.18181818181819}\n"
     ]
    },
    {
     "data": {
      "application/vnd.jupyter.widget-view+json": {
       "model_id": "5f8e3094a8bc4a29878fd5aac35805f4",
       "version_major": 2,
       "version_minor": 0
      },
      "text/plain": [
       "HBox(children=(FloatProgress(value=1.0, bar_style='info', max=1.0), HTML(value='')))"
      ]
     },
     "metadata": {},
     "output_type": "display_data"
    },
    {
     "name": "stdout",
     "output_type": "stream",
     "text": [
      "\n",
      "Result written to outputs/algo=WindowStreamingAlgo_client_dist=SecondMetaDependentNodeDistribution_terminal_dist=DependentNodeDistribution_nnodes=5_1583373751.190887.json\n",
      "{'client_TDR': 0.96, 'client_MDR': 0.040000000000000036, 'client_FDR': 0.5384615384615384, 'client_CDR': 3.5416666666666665, 'terminal_TDR': 1.0, 'terminal_MDR': 0.0, 'terminal_FDR': 0.41463414634146345, 'terminal_CDR': 3.08, 'client_False': 28, 'terminal_False': 17, 'client_latency': 60.083333333333336, 'terminal_latency': 115.58333333333333}\n"
     ]
    },
    {
     "data": {
      "application/vnd.jupyter.widget-view+json": {
       "model_id": "3d44e69a6fee4b0e9a35bdd52418be35",
       "version_major": 2,
       "version_minor": 0
      },
      "text/plain": [
       "HBox(children=(FloatProgress(value=1.0, bar_style='info', max=1.0), HTML(value='')))"
      ]
     },
     "metadata": {},
     "output_type": "display_data"
    },
    {
     "name": "stdout",
     "output_type": "stream",
     "text": [
      "\n",
      "Result written to outputs/algo=WindowStreamingAlgo_client_dist=RoundrobinNodeDistribution_terminal_dist=RoundrobinNodeDistribution_nnodes=1_1583373906.184161.json\n",
      "{'client_TDR': 1.0, 'client_MDR': 0.0, 'client_FDR': 0.2857142857142857, 'client_CDR': 1.5416666666666667, 'terminal_TDR': 0.9583333333333334, 'terminal_MDR': 0.04166666666666663, 'terminal_FDR': 0.34285714285714286, 'terminal_CDR': 2.48, 'client_False': 10, 'terminal_False': 12, 'client_latency': 53.04, 'terminal_latency': 85.30434782608695}\n"
     ]
    },
    {
     "data": {
      "application/vnd.jupyter.widget-view+json": {
       "model_id": "d978f09e73264178bd62fffd4cf9734b",
       "version_major": 2,
       "version_minor": 0
      },
      "text/plain": [
       "HBox(children=(FloatProgress(value=1.0, bar_style='info', max=1.0), HTML(value='')))"
      ]
     },
     "metadata": {},
     "output_type": "display_data"
    },
    {
     "name": "stdout",
     "output_type": "stream",
     "text": [
      "\n",
      "Result written to outputs/algo=WindowStreamingAlgo_client_dist=RoundrobinNodeDistribution_terminal_dist=RoundrobinNodeDistribution_nnodes=5_1583373970.647204.json\n",
      "{'client_TDR': 0.96, 'client_MDR': 0.040000000000000036, 'client_FDR': 0.2941176470588235, 'client_CDR': 1.125, 'terminal_TDR': 0.75, 'terminal_MDR': 0.25, 'terminal_FDR': 0.3793103448275862, 'terminal_CDR': 1.16, 'client_False': 10, 'terminal_False': 11, 'client_latency': 82.45833333333333, 'terminal_latency': 122.05555555555556}\n"
     ]
    },
    {
     "data": {
      "application/vnd.jupyter.widget-view+json": {
       "model_id": "1d1c11e54cea4d188620fe742cbea681",
       "version_major": 2,
       "version_minor": 0
      },
      "text/plain": [
       "HBox(children=(FloatProgress(value=1.0, bar_style='info', max=1.0), HTML(value='')))"
      ]
     },
     "metadata": {},
     "output_type": "display_data"
    },
    {
     "name": "stdout",
     "output_type": "stream",
     "text": [
      "\n",
      "Result written to outputs/algo=WindowStreamingAlgo_client_dist=DependentNodeDistribution_terminal_dist=SecondMetaDependentNodeDistribution_nnodes=5_1583374081.722475.json\n",
      "{'client_TDR': 1.0, 'client_MDR': 0.0, 'client_FDR': 0.2857142857142857, 'client_CDR': 1.5416666666666667, 'terminal_TDR': 0.9583333333333334, 'terminal_MDR': 0.04166666666666663, 'terminal_FDR': 0.5208333333333333, 'terminal_CDR': 4.44, 'client_False': 10, 'terminal_False': 25, 'client_latency': 53.04, 'terminal_latency': 71.47826086956522}\n"
     ]
    },
    {
     "data": {
      "application/vnd.jupyter.widget-view+json": {
       "model_id": "0170659b1afc4e7fb77993f57bfcfa68",
       "version_major": 2,
       "version_minor": 0
      },
      "text/plain": [
       "HBox(children=(FloatProgress(value=1.0, bar_style='info', max=1.0), HTML(value='')))"
      ]
     },
     "metadata": {},
     "output_type": "display_data"
    },
    {
     "name": "stdout",
     "output_type": "stream",
     "text": [
      "\n",
      "Result written to outputs/algo=WindowStreamingAlgo_client_dist=SecondMetaDependentNodeDistribution_terminal_dist=DependentNodeDistribution_nnodes=5_1583374184.847301.json\n",
      "{'client_TDR': 1.0, 'client_MDR': 0.0, 'client_FDR': 0.375, 'client_CDR': 3.875, 'terminal_TDR': 0.9583333333333334, 'terminal_MDR': 0.04166666666666663, 'terminal_FDR': 0.34285714285714286, 'terminal_CDR': 2.48, 'client_False': 15, 'terminal_False': 12, 'client_latency': 52.52, 'terminal_latency': 85.30434782608695}\n"
     ]
    },
    {
     "data": {
      "application/vnd.jupyter.widget-view+json": {
       "model_id": "aa7130cfa6f54959825db433a9a5b4b5",
       "version_major": 2,
       "version_minor": 0
      },
      "text/plain": [
       "HBox(children=(FloatProgress(value=1.0, bar_style='info', max=1.0), HTML(value='')))"
      ]
     },
     "metadata": {},
     "output_type": "display_data"
    },
    {
     "name": "stdout",
     "output_type": "stream",
     "text": [
      "\n",
      "Result written to outputs/algo=WindowStreamingAlgo_client_dist=RoundrobinNodeDistribution_terminal_dist=RoundrobinNodeDistribution_nnodes=1_1583374334.578432.json\n",
      "{'client_TDR': 1.0, 'client_MDR': 0.0, 'client_FDR': 0.2647058823529411, 'client_CDR': 1.6666666666666667, 'terminal_TDR': 0.9166666666666666, 'terminal_MDR': 0.08333333333333337, 'terminal_FDR': 0.33333333333333337, 'terminal_CDR': 3.12, 'client_False': 9, 'terminal_False': 11, 'client_latency': 53.4, 'terminal_latency': 76.72727272727273}\n"
     ]
    },
    {
     "data": {
      "application/vnd.jupyter.widget-view+json": {
       "model_id": "83feac2bf62444af9e9af074f8d57281",
       "version_major": 2,
       "version_minor": 0
      },
      "text/plain": [
       "HBox(children=(FloatProgress(value=1.0, bar_style='info', max=1.0), HTML(value='')))"
      ]
     },
     "metadata": {},
     "output_type": "display_data"
    },
    {
     "name": "stdout",
     "output_type": "stream",
     "text": [
      "\n",
      "Result written to outputs/algo=WindowStreamingAlgo_client_dist=RoundrobinNodeDistribution_terminal_dist=RoundrobinNodeDistribution_nnodes=5_1583374397.781607.json\n",
      "{'client_TDR': 1.0, 'client_MDR': 0.0, 'client_FDR': 0.32432432432432434, 'client_CDR': 0.9166666666666666, 'terminal_TDR': 1.0, 'terminal_MDR': 0.0, 'terminal_FDR': 0.3142857142857143, 'terminal_CDR': 1.4, 'client_False': 12, 'terminal_False': 11, 'client_latency': 79.56, 'terminal_latency': 110.125}\n"
     ]
    },
    {
     "data": {
      "application/vnd.jupyter.widget-view+json": {
       "model_id": "3940dcd664d74ee4b01551577db4ff7e",
       "version_major": 2,
       "version_minor": 0
      },
      "text/plain": [
       "HBox(children=(FloatProgress(value=1.0, bar_style='info', max=1.0), HTML(value='')))"
      ]
     },
     "metadata": {},
     "output_type": "display_data"
    },
    {
     "name": "stdout",
     "output_type": "stream",
     "text": [
      "\n",
      "Result written to outputs/algo=WindowStreamingAlgo_client_dist=DependentNodeDistribution_terminal_dist=SecondMetaDependentNodeDistribution_nnodes=5_1583374508.090189.json\n",
      "{'client_TDR': 1.0, 'client_MDR': 0.0, 'client_FDR': 0.2647058823529411, 'client_CDR': 1.6666666666666667, 'terminal_TDR': 0.875, 'terminal_MDR': 0.125, 'terminal_FDR': 0.5800000000000001, 'terminal_CDR': 5.28, 'client_False': 9, 'terminal_False': 29, 'client_latency': 53.4, 'terminal_latency': 92.14285714285714}\n"
     ]
    },
    {
     "data": {
      "application/vnd.jupyter.widget-view+json": {
       "model_id": "2aa7158683274a5c912808664c72d78c",
       "version_major": 2,
       "version_minor": 0
      },
      "text/plain": [
       "HBox(children=(FloatProgress(value=1.0, bar_style='info', max=1.0), HTML(value='')))"
      ]
     },
     "metadata": {},
     "output_type": "display_data"
    },
    {
     "name": "stdout",
     "output_type": "stream",
     "text": [
      "\n",
      "Result written to outputs/algo=WindowStreamingAlgo_client_dist=SecondMetaDependentNodeDistribution_terminal_dist=DependentNodeDistribution_nnodes=5_1583374604.527578.json\n",
      "{'client_TDR': 0.96, 'client_MDR': 0.040000000000000036, 'client_FDR': 0.4418604651162791, 'client_CDR': 4.25, 'terminal_TDR': 0.9166666666666666, 'terminal_MDR': 0.08333333333333337, 'terminal_FDR': 0.33333333333333337, 'terminal_CDR': 3.12, 'client_False': 19, 'terminal_False': 11, 'client_latency': 45.458333333333336, 'terminal_latency': 76.72727272727273}\n"
     ]
    },
    {
     "data": {
      "application/vnd.jupyter.widget-view+json": {
       "model_id": "163b9f6db80f45c18bd3ad0f2d5b3d24",
       "version_major": 2,
       "version_minor": 0
      },
      "text/plain": [
       "HBox(children=(FloatProgress(value=1.0, bar_style='info', max=1.0), HTML(value='')))"
      ]
     },
     "metadata": {},
     "output_type": "display_data"
    },
    {
     "name": "stdout",
     "output_type": "stream",
     "text": [
      "\n",
      "Result written to outputs/algo=WindowStreamingAlgo_client_dist=RoundrobinNodeDistribution_terminal_dist=RoundrobinNodeDistribution_nnodes=1_1583374760.000773.json\n",
      "{'client_TDR': 1.0, 'client_MDR': 0.0, 'client_FDR': 0.21875, 'client_CDR': 1.5416666666666667, 'terminal_TDR': 1.0, 'terminal_MDR': 0.0, 'terminal_FDR': 0.33333333333333337, 'terminal_CDR': 2.68, 'client_False': 7, 'terminal_False': 12, 'client_latency': 54.24, 'terminal_latency': 71.41666666666667}\n"
     ]
    },
    {
     "data": {
      "application/vnd.jupyter.widget-view+json": {
       "model_id": "806cd0734d324d32b8df9743555920b6",
       "version_major": 2,
       "version_minor": 0
      },
      "text/plain": [
       "HBox(children=(FloatProgress(value=1.0, bar_style='info', max=1.0), HTML(value='')))"
      ]
     },
     "metadata": {},
     "output_type": "display_data"
    },
    {
     "name": "stdout",
     "output_type": "stream",
     "text": [
      "\n",
      "Result written to outputs/algo=WindowStreamingAlgo_client_dist=RoundrobinNodeDistribution_terminal_dist=RoundrobinNodeDistribution_nnodes=5_1583374824.637208.json\n",
      "{'client_TDR': 1.0, 'client_MDR': 0.0, 'client_FDR': 0.32432432432432434, 'client_CDR': 0.7916666666666666, 'terminal_TDR': 0.9583333333333334, 'terminal_MDR': 0.04166666666666663, 'terminal_FDR': 0.2068965517241379, 'terminal_CDR': 1.4, 'client_False': 12, 'terminal_False': 6, 'client_latency': 82.48, 'terminal_latency': 95.73913043478261}\n"
     ]
    },
    {
     "data": {
      "application/vnd.jupyter.widget-view+json": {
       "model_id": "758477ca4d4749d1b25e3cea4563e7ca",
       "version_major": 2,
       "version_minor": 0
      },
      "text/plain": [
       "HBox(children=(FloatProgress(value=1.0, bar_style='info', max=1.0), HTML(value='')))"
      ]
     },
     "metadata": {},
     "output_type": "display_data"
    },
    {
     "name": "stdout",
     "output_type": "stream",
     "text": [
      "\n",
      "Result written to outputs/algo=WindowStreamingAlgo_client_dist=DependentNodeDistribution_terminal_dist=SecondMetaDependentNodeDistribution_nnodes=5_1583374939.076059.json\n",
      "{'client_TDR': 1.0, 'client_MDR': 0.0, 'client_FDR': 0.21875, 'client_CDR': 1.5416666666666667, 'terminal_TDR': 0.9583333333333334, 'terminal_MDR': 0.04166666666666663, 'terminal_FDR': 0.36111111111111116, 'terminal_CDR': 4.52, 'client_False': 7, 'terminal_False': 13, 'client_latency': 54.24, 'terminal_latency': 76.69565217391305}\n"
     ]
    },
    {
     "data": {
      "application/vnd.jupyter.widget-view+json": {
       "model_id": "98f026dd34ac4e46b85658e8a5080f66",
       "version_major": 2,
       "version_minor": 0
      },
      "text/plain": [
       "HBox(children=(FloatProgress(value=1.0, bar_style='info', max=1.0), HTML(value='')))"
      ]
     },
     "metadata": {},
     "output_type": "display_data"
    },
    {
     "name": "stdout",
     "output_type": "stream",
     "text": [
      "\n",
      "Result written to outputs/algo=WindowStreamingAlgo_client_dist=SecondMetaDependentNodeDistribution_terminal_dist=DependentNodeDistribution_nnodes=5_1583375040.56076.json\n",
      "{'client_TDR': 1.0, 'client_MDR': 0.0, 'client_FDR': 0.43181818181818177, 'client_CDR': 3.75, 'terminal_TDR': 1.0, 'terminal_MDR': 0.0, 'terminal_FDR': 0.33333333333333337, 'terminal_CDR': 2.68, 'client_False': 19, 'terminal_False': 12, 'client_latency': 49.04, 'terminal_latency': 71.41666666666667}\n"
     ]
    },
    {
     "data": {
      "application/vnd.jupyter.widget-view+json": {
       "model_id": "dddfa92a952f466ebca4872ee2757d6a",
       "version_major": 2,
       "version_minor": 0
      },
      "text/plain": [
       "HBox(children=(FloatProgress(value=1.0, bar_style='info', max=1.0), HTML(value='')))"
      ]
     },
     "metadata": {},
     "output_type": "display_data"
    },
    {
     "name": "stdout",
     "output_type": "stream",
     "text": [
      "\n",
      "Result written to outputs/algo=WindowStreamingAlgo_client_dist=RoundrobinNodeDistribution_terminal_dist=RoundrobinNodeDistribution_nnodes=1_1583375184.110135.json\n",
      "{'client_TDR': 1.0, 'client_MDR': 0.0, 'client_FDR': 0.3421052631578947, 'client_CDR': 1.75, 'terminal_TDR': 1.0, 'terminal_MDR': 0.0, 'terminal_FDR': 0.4285714285714286, 'terminal_CDR': 3.04, 'client_False': 13, 'terminal_False': 18, 'client_latency': 60.88, 'terminal_latency': 70.33333333333333}\n"
     ]
    },
    {
     "data": {
      "application/vnd.jupyter.widget-view+json": {
       "model_id": "95f6bf45853443959d9356782dc11a9a",
       "version_major": 2,
       "version_minor": 0
      },
      "text/plain": [
       "HBox(children=(FloatProgress(value=1.0, bar_style='info', max=1.0), HTML(value='')))"
      ]
     },
     "metadata": {},
     "output_type": "display_data"
    },
    {
     "name": "stdout",
     "output_type": "stream",
     "text": [
      "\n",
      "Result written to outputs/algo=WindowStreamingAlgo_client_dist=RoundrobinNodeDistribution_terminal_dist=RoundrobinNodeDistribution_nnodes=5_1583375248.011857.json\n",
      "{'client_TDR': 0.96, 'client_MDR': 0.040000000000000036, 'client_FDR': 0.368421052631579, 'client_CDR': 0.8333333333333334, 'terminal_TDR': 1.0, 'terminal_MDR': 0.0, 'terminal_FDR': 0.2727272727272727, 'terminal_CDR': 1.48, 'client_False': 14, 'terminal_False': 9, 'client_latency': 79.04166666666667, 'terminal_latency': 92.79166666666667}\n"
     ]
    },
    {
     "data": {
      "application/vnd.jupyter.widget-view+json": {
       "model_id": "edfbb92e0dc547aca51896cc7ce743d9",
       "version_major": 2,
       "version_minor": 0
      },
      "text/plain": [
       "HBox(children=(FloatProgress(value=1.0, bar_style='info', max=1.0), HTML(value='')))"
      ]
     },
     "metadata": {},
     "output_type": "display_data"
    },
    {
     "name": "stdout",
     "output_type": "stream",
     "text": [
      "\n",
      "Result written to outputs/algo=WindowStreamingAlgo_client_dist=DependentNodeDistribution_terminal_dist=SecondMetaDependentNodeDistribution_nnodes=5_1583375356.433505.json\n",
      "{'client_TDR': 1.0, 'client_MDR': 0.0, 'client_FDR': 0.3421052631578947, 'client_CDR': 1.75, 'terminal_TDR': 0.9583333333333334, 'terminal_MDR': 0.04166666666666663, 'terminal_FDR': 0.34285714285714286, 'terminal_CDR': 4.72, 'client_False': 13, 'terminal_False': 12, 'client_latency': 60.88, 'terminal_latency': 61.21739130434783}\n"
     ]
    },
    {
     "data": {
      "application/vnd.jupyter.widget-view+json": {
       "model_id": "9874450130544600b7dcd2320e9a5f79",
       "version_major": 2,
       "version_minor": 0
      },
      "text/plain": [
       "HBox(children=(FloatProgress(value=1.0, bar_style='info', max=1.0), HTML(value='')))"
      ]
     },
     "metadata": {},
     "output_type": "display_data"
    },
    {
     "name": "stdout",
     "output_type": "stream",
     "text": [
      "\n",
      "Result written to outputs/algo=WindowStreamingAlgo_client_dist=SecondMetaDependentNodeDistribution_terminal_dist=DependentNodeDistribution_nnodes=5_1583375452.137885.json\n",
      "{'client_TDR': 1.0, 'client_MDR': 0.0, 'client_FDR': 0.2857142857142857, 'client_CDR': 3.5, 'terminal_TDR': 1.0, 'terminal_MDR': 0.0, 'terminal_FDR': 0.4285714285714286, 'terminal_CDR': 3.04, 'client_False': 10, 'terminal_False': 18, 'client_latency': 54.36, 'terminal_latency': 70.33333333333333}\n"
     ]
    },
    {
     "data": {
      "application/vnd.jupyter.widget-view+json": {
       "model_id": "f1a407fee74d49e89fe0809525ba1844",
       "version_major": 2,
       "version_minor": 0
      },
      "text/plain": [
       "HBox(children=(FloatProgress(value=1.0, bar_style='info', max=1.0), HTML(value='')))"
      ]
     },
     "metadata": {},
     "output_type": "display_data"
    },
    {
     "name": "stdout",
     "output_type": "stream",
     "text": [
      "\n",
      "Result written to outputs/algo=WindowStreamingAlgo_client_dist=RoundrobinNodeDistribution_terminal_dist=RoundrobinNodeDistribution_nnodes=1_1583375600.725524.json\n",
      "{'client_TDR': 0.96, 'client_MDR': 0.040000000000000036, 'client_FDR': 0.2727272727272727, 'client_CDR': 1.8333333333333333, 'terminal_TDR': 1.0, 'terminal_MDR': 0.0, 'terminal_FDR': 0.3846153846153846, 'terminal_CDR': 3.0, 'client_False': 9, 'terminal_False': 15, 'client_latency': 54.708333333333336, 'terminal_latency': 80.5}\n"
     ]
    },
    {
     "data": {
      "application/vnd.jupyter.widget-view+json": {
       "model_id": "a085111c48d94b22bbb741108886ef2e",
       "version_major": 2,
       "version_minor": 0
      },
      "text/plain": [
       "HBox(children=(FloatProgress(value=1.0, bar_style='info', max=1.0), HTML(value='')))"
      ]
     },
     "metadata": {},
     "output_type": "display_data"
    },
    {
     "name": "stdout",
     "output_type": "stream",
     "text": [
      "\n",
      "Result written to outputs/algo=WindowStreamingAlgo_client_dist=RoundrobinNodeDistribution_terminal_dist=RoundrobinNodeDistribution_nnodes=5_1583375665.447884.json\n",
      "{'client_TDR': 1.0, 'client_MDR': 0.0, 'client_FDR': 0.2647058823529411, 'client_CDR': 0.5833333333333334, 'terminal_TDR': 1.0, 'terminal_MDR': 0.0, 'terminal_FDR': 0.2941176470588235, 'terminal_CDR': 1.44, 'client_False': 9, 'terminal_False': 10, 'client_latency': 79.68, 'terminal_latency': 108.58333333333333}\n"
     ]
    },
    {
     "data": {
      "application/vnd.jupyter.widget-view+json": {
       "model_id": "b049edbe0a544e8c86396aac0d22aa55",
       "version_major": 2,
       "version_minor": 0
      },
      "text/plain": [
       "HBox(children=(FloatProgress(value=1.0, bar_style='info', max=1.0), HTML(value='')))"
      ]
     },
     "metadata": {},
     "output_type": "display_data"
    },
    {
     "name": "stdout",
     "output_type": "stream",
     "text": [
      "\n",
      "Result written to outputs/algo=WindowStreamingAlgo_client_dist=DependentNodeDistribution_terminal_dist=SecondMetaDependentNodeDistribution_nnodes=5_1583375775.255001.json\n",
      "{'client_TDR': 0.96, 'client_MDR': 0.040000000000000036, 'client_FDR': 0.2727272727272727, 'client_CDR': 1.8333333333333333, 'terminal_TDR': 1.0, 'terminal_MDR': 0.0, 'terminal_FDR': 0.5789473684210527, 'terminal_CDR': 5.28, 'client_False': 9, 'terminal_False': 33, 'client_latency': 54.708333333333336, 'terminal_latency': 56.0}\n"
     ]
    },
    {
     "data": {
      "application/vnd.jupyter.widget-view+json": {
       "model_id": "a4a1e5e02dad413cb38c20cc24014ff8",
       "version_major": 2,
       "version_minor": 0
      },
      "text/plain": [
       "HBox(children=(FloatProgress(value=1.0, bar_style='info', max=1.0), HTML(value='')))"
      ]
     },
     "metadata": {},
     "output_type": "display_data"
    },
    {
     "name": "stdout",
     "output_type": "stream",
     "text": [
      "\n",
      "Result written to outputs/algo=WindowStreamingAlgo_client_dist=SecondMetaDependentNodeDistribution_terminal_dist=DependentNodeDistribution_nnodes=5_1583375872.838173.json\n",
      "{'client_TDR': 1.0, 'client_MDR': 0.0, 'client_FDR': 0.46808510638297873, 'client_CDR': 3.7083333333333335, 'terminal_TDR': 1.0, 'terminal_MDR': 0.0, 'terminal_FDR': 0.3846153846153846, 'terminal_CDR': 3.0, 'client_False': 22, 'terminal_False': 15, 'client_latency': 47.72, 'terminal_latency': 80.5}\n"
     ]
    },
    {
     "data": {
      "application/vnd.jupyter.widget-view+json": {
       "model_id": "01e2e48b35324429b0625c3628cfa0c1",
       "version_major": 2,
       "version_minor": 0
      },
      "text/plain": [
       "HBox(children=(FloatProgress(value=1.0, bar_style='info', max=1.0), HTML(value='')))"
      ]
     },
     "metadata": {},
     "output_type": "display_data"
    },
    {
     "name": "stdout",
     "output_type": "stream",
     "text": [
      "\n",
      "Result written to outputs/algo=WindowStreamingAlgo_client_dist=RoundrobinNodeDistribution_terminal_dist=RoundrobinNodeDistribution_nnodes=1_1583376018.634717.json\n",
      "{'client_TDR': 1.0, 'client_MDR': 0.0, 'client_FDR': 0.375, 'client_CDR': 1.6666666666666667, 'terminal_TDR': 0.9166666666666666, 'terminal_MDR': 0.08333333333333337, 'terminal_FDR': 0.4054054054054054, 'terminal_CDR': 3.32, 'client_False': 15, 'terminal_False': 15, 'client_latency': 68.28, 'terminal_latency': 105.04545454545455}\n"
     ]
    },
    {
     "data": {
      "application/vnd.jupyter.widget-view+json": {
       "model_id": "40bb02df274045ed9edc26c02ca9d5c5",
       "version_major": 2,
       "version_minor": 0
      },
      "text/plain": [
       "HBox(children=(FloatProgress(value=1.0, bar_style='info', max=1.0), HTML(value='')))"
      ]
     },
     "metadata": {},
     "output_type": "display_data"
    },
    {
     "name": "stdout",
     "output_type": "stream",
     "text": [
      "\n",
      "Result written to outputs/algo=WindowStreamingAlgo_client_dist=RoundrobinNodeDistribution_terminal_dist=RoundrobinNodeDistribution_nnodes=5_1583376081.141077.json\n",
      "{'client_TDR': 1.0, 'client_MDR': 0.0, 'client_FDR': 0.40476190476190477, 'client_CDR': 1.2083333333333333, 'terminal_TDR': 1.0, 'terminal_MDR': 0.0, 'terminal_FDR': 0.33333333333333337, 'terminal_CDR': 1.4, 'client_False': 17, 'terminal_False': 12, 'client_latency': 83.92, 'terminal_latency': 142.54166666666666}\n"
     ]
    },
    {
     "data": {
      "application/vnd.jupyter.widget-view+json": {
       "model_id": "cfa404e755c4493b98ee826c22a897aa",
       "version_major": 2,
       "version_minor": 0
      },
      "text/plain": [
       "HBox(children=(FloatProgress(value=1.0, bar_style='info', max=1.0), HTML(value='')))"
      ]
     },
     "metadata": {},
     "output_type": "display_data"
    },
    {
     "name": "stdout",
     "output_type": "stream",
     "text": [
      "\n",
      "Result written to outputs/algo=WindowStreamingAlgo_client_dist=DependentNodeDistribution_terminal_dist=SecondMetaDependentNodeDistribution_nnodes=5_1583376189.669046.json\n",
      "{'client_TDR': 1.0, 'client_MDR': 0.0, 'client_FDR': 0.375, 'client_CDR': 1.6666666666666667, 'terminal_TDR': 0.9583333333333334, 'terminal_MDR': 0.04166666666666663, 'terminal_FDR': 0.6290322580645161, 'terminal_CDR': 4.84, 'client_False': 15, 'terminal_False': 39, 'client_latency': 68.28, 'terminal_latency': 107.91304347826087}\n"
     ]
    },
    {
     "data": {
      "application/vnd.jupyter.widget-view+json": {
       "model_id": "5d0643faebf344f7bcf2a2d4474f6df2",
       "version_major": 2,
       "version_minor": 0
      },
      "text/plain": [
       "HBox(children=(FloatProgress(value=1.0, bar_style='info', max=1.0), HTML(value='')))"
      ]
     },
     "metadata": {},
     "output_type": "display_data"
    },
    {
     "name": "stdout",
     "output_type": "stream",
     "text": [
      "\n",
      "Result written to outputs/algo=WindowStreamingAlgo_client_dist=SecondMetaDependentNodeDistribution_terminal_dist=DependentNodeDistribution_nnodes=5_1583376284.335482.json\n",
      "{'client_TDR': 0.96, 'client_MDR': 0.040000000000000036, 'client_FDR': 0.5471698113207547, 'client_CDR': 3.5, 'terminal_TDR': 0.9166666666666666, 'terminal_MDR': 0.08333333333333337, 'terminal_FDR': 0.4054054054054054, 'terminal_CDR': 3.32, 'client_False': 29, 'terminal_False': 15, 'client_latency': 64.16666666666667, 'terminal_latency': 105.04545454545455}\n"
     ]
    },
    {
     "data": {
      "application/vnd.jupyter.widget-view+json": {
       "model_id": "e1fb496584ef484e9ac9b3d6eaffe945",
       "version_major": 2,
       "version_minor": 0
      },
      "text/plain": [
       "HBox(children=(FloatProgress(value=1.0, bar_style='info', max=1.0), HTML(value='')))"
      ]
     },
     "metadata": {},
     "output_type": "display_data"
    },
    {
     "name": "stdout",
     "output_type": "stream",
     "text": [
      "\n",
      "Result written to outputs/algo=WindowStreamingAlgo_client_dist=RoundrobinNodeDistribution_terminal_dist=RoundrobinNodeDistribution_nnodes=1_1583376430.042479.json\n",
      "{'client_TDR': 1.0, 'client_MDR': 0.0, 'client_FDR': 0.24242424242424243, 'client_CDR': 2.0416666666666665, 'terminal_TDR': 0.9166666666666666, 'terminal_MDR': 0.08333333333333337, 'terminal_FDR': 0.42105263157894735, 'terminal_CDR': 2.96, 'client_False': 8, 'terminal_False': 16, 'client_latency': 54.4, 'terminal_latency': 83.5909090909091}\n"
     ]
    },
    {
     "data": {
      "application/vnd.jupyter.widget-view+json": {
       "model_id": "96fb8b53f180431e8f5f5f2a7bcfbe09",
       "version_major": 2,
       "version_minor": 0
      },
      "text/plain": [
       "HBox(children=(FloatProgress(value=1.0, bar_style='info', max=1.0), HTML(value='')))"
      ]
     },
     "metadata": {},
     "output_type": "display_data"
    },
    {
     "name": "stdout",
     "output_type": "stream",
     "text": [
      "\n",
      "Result written to outputs/algo=WindowStreamingAlgo_client_dist=RoundrobinNodeDistribution_terminal_dist=RoundrobinNodeDistribution_nnodes=5_1583376492.945812.json\n",
      "{'client_TDR': 1.0, 'client_MDR': 0.0, 'client_FDR': 0.3902439024390244, 'client_CDR': 1.125, 'terminal_TDR': 0.9583333333333334, 'terminal_MDR': 0.04166666666666663, 'terminal_FDR': 0.32352941176470584, 'terminal_CDR': 1.44, 'client_False': 16, 'terminal_False': 11, 'client_latency': 91.68, 'terminal_latency': 110.47826086956522}\n"
     ]
    },
    {
     "data": {
      "application/vnd.jupyter.widget-view+json": {
       "model_id": "a9a56337bc824bd9a430e8fc97bbad4b",
       "version_major": 2,
       "version_minor": 0
      },
      "text/plain": [
       "HBox(children=(FloatProgress(value=1.0, bar_style='info', max=1.0), HTML(value='')))"
      ]
     },
     "metadata": {},
     "output_type": "display_data"
    },
    {
     "name": "stdout",
     "output_type": "stream",
     "text": [
      "\n",
      "Result written to outputs/algo=WindowStreamingAlgo_client_dist=DependentNodeDistribution_terminal_dist=SecondMetaDependentNodeDistribution_nnodes=5_1583376599.943901.json\n",
      "{'client_TDR': 1.0, 'client_MDR': 0.0, 'client_FDR': 0.24242424242424243, 'client_CDR': 2.0416666666666665, 'terminal_TDR': 0.875, 'terminal_MDR': 0.125, 'terminal_FDR': 0.5800000000000001, 'terminal_CDR': 4.92, 'client_False': 8, 'terminal_False': 29, 'client_latency': 54.4, 'terminal_latency': 71.04761904761905}\n"
     ]
    },
    {
     "data": {
      "application/vnd.jupyter.widget-view+json": {
       "model_id": "9d7b21ac92e447e3b3069b12e01db9b0",
       "version_major": 2,
       "version_minor": 0
      },
      "text/plain": [
       "HBox(children=(FloatProgress(value=1.0, bar_style='info', max=1.0), HTML(value='')))"
      ]
     },
     "metadata": {},
     "output_type": "display_data"
    },
    {
     "name": "stdout",
     "output_type": "stream",
     "text": [
      "\n",
      "Result written to outputs/algo=WindowStreamingAlgo_client_dist=SecondMetaDependentNodeDistribution_terminal_dist=DependentNodeDistribution_nnodes=5_1583376697.231401.json\n",
      "{'client_TDR': 0.96, 'client_MDR': 0.040000000000000036, 'client_FDR': 0.5294117647058824, 'client_CDR': 3.8333333333333335, 'terminal_TDR': 0.9166666666666666, 'terminal_MDR': 0.08333333333333337, 'terminal_FDR': 0.42105263157894735, 'terminal_CDR': 2.96, 'client_False': 27, 'terminal_False': 16, 'client_latency': 52.25, 'terminal_latency': 83.5909090909091}\n"
     ]
    },
    {
     "data": {
      "application/vnd.jupyter.widget-view+json": {
       "model_id": "373546c45e294b3f944919500304dd8a",
       "version_major": 2,
       "version_minor": 0
      },
      "text/plain": [
       "HBox(children=(FloatProgress(value=1.0, bar_style='info', max=1.0), HTML(value='')))"
      ]
     },
     "metadata": {},
     "output_type": "display_data"
    },
    {
     "name": "stdout",
     "output_type": "stream",
     "text": [
      "\n",
      "Result written to outputs/algo=WindowStreamingAlgo_client_dist=RoundrobinNodeDistribution_terminal_dist=RoundrobinNodeDistribution_nnodes=1_1583376850.600289.json\n",
      "{'client_TDR': 1.0, 'client_MDR': 0.0, 'client_FDR': 0.3055555555555556, 'client_CDR': 1.25, 'terminal_TDR': 0.875, 'terminal_MDR': 0.125, 'terminal_FDR': 0.41666666666666663, 'terminal_CDR': 3.28, 'client_False': 11, 'terminal_False': 15, 'client_latency': 53.72, 'terminal_latency': 177.38095238095238}\n"
     ]
    },
    {
     "data": {
      "application/vnd.jupyter.widget-view+json": {
       "model_id": "ba85a786392f4cebb9dabddb76deea22",
       "version_major": 2,
       "version_minor": 0
      },
      "text/plain": [
       "HBox(children=(FloatProgress(value=1.0, bar_style='info', max=1.0), HTML(value='')))"
      ]
     },
     "metadata": {},
     "output_type": "display_data"
    },
    {
     "name": "stdout",
     "output_type": "stream",
     "text": [
      "\n",
      "Result written to outputs/algo=WindowStreamingAlgo_client_dist=RoundrobinNodeDistribution_terminal_dist=RoundrobinNodeDistribution_nnodes=5_1583376915.47914.json\n",
      "{'client_TDR': 0.96, 'client_MDR': 0.040000000000000036, 'client_FDR': 0.3142857142857143, 'client_CDR': 0.6666666666666666, 'terminal_TDR': 1.0, 'terminal_MDR': 0.0, 'terminal_FDR': 0.33333333333333337, 'terminal_CDR': 1.28, 'client_False': 11, 'terminal_False': 12, 'client_latency': 89.75, 'terminal_latency': 145.70833333333334}\n"
     ]
    },
    {
     "data": {
      "application/vnd.jupyter.widget-view+json": {
       "model_id": "d28df36d4e074b698f3e4cafd37cd047",
       "version_major": 2,
       "version_minor": 0
      },
      "text/plain": [
       "HBox(children=(FloatProgress(value=1.0, bar_style='info', max=1.0), HTML(value='')))"
      ]
     },
     "metadata": {},
     "output_type": "display_data"
    },
    {
     "name": "stdout",
     "output_type": "stream",
     "text": [
      "\n",
      "Result written to outputs/algo=WindowStreamingAlgo_client_dist=DependentNodeDistribution_terminal_dist=SecondMetaDependentNodeDistribution_nnodes=5_1583377031.391422.json\n",
      "{'client_TDR': 1.0, 'client_MDR': 0.0, 'client_FDR': 0.3055555555555556, 'client_CDR': 1.25, 'terminal_TDR': 0.9583333333333334, 'terminal_MDR': 0.04166666666666663, 'terminal_FDR': 0.5576923076923077, 'terminal_CDR': 4.84, 'client_False': 11, 'terminal_False': 29, 'client_latency': 53.72, 'terminal_latency': 117.30434782608695}\n"
     ]
    },
    {
     "data": {
      "application/vnd.jupyter.widget-view+json": {
       "model_id": "5665f8d122ff453692f69adf6140328f",
       "version_major": 2,
       "version_minor": 0
      },
      "text/plain": [
       "HBox(children=(FloatProgress(value=1.0, bar_style='info', max=1.0), HTML(value='')))"
      ]
     },
     "metadata": {},
     "output_type": "display_data"
    },
    {
     "name": "stdout",
     "output_type": "stream",
     "text": [
      "\n",
      "Result written to outputs/algo=WindowStreamingAlgo_client_dist=SecondMetaDependentNodeDistribution_terminal_dist=DependentNodeDistribution_nnodes=5_1583377128.400115.json\n",
      "{'client_TDR': 1.0, 'client_MDR': 0.0, 'client_FDR': 0.40476190476190477, 'client_CDR': 3.4166666666666665, 'terminal_TDR': 0.875, 'terminal_MDR': 0.125, 'terminal_FDR': 0.41666666666666663, 'terminal_CDR': 3.28, 'client_False': 17, 'terminal_False': 15, 'client_latency': 61.0, 'terminal_latency': 177.38095238095238}\n"
     ]
    },
    {
     "data": {
      "application/vnd.jupyter.widget-view+json": {
       "model_id": "d30725b3312945f08a12bfa7fe9e0e26",
       "version_major": 2,
       "version_minor": 0
      },
      "text/plain": [
       "HBox(children=(FloatProgress(value=1.0, bar_style='info', max=1.0), HTML(value='')))"
      ]
     },
     "metadata": {},
     "output_type": "display_data"
    },
    {
     "name": "stdout",
     "output_type": "stream",
     "text": [
      "\n",
      "Result written to outputs/algo=WindowStreamingAlgo_client_dist=RoundrobinNodeDistribution_terminal_dist=RoundrobinNodeDistribution_nnodes=1_1583377283.359306.json\n",
      "{'client_TDR': 1.0, 'client_MDR': 0.0, 'client_FDR': 0.3055555555555556, 'client_CDR': 1.625, 'terminal_TDR': 1.0, 'terminal_MDR': 0.0, 'terminal_FDR': 0.368421052631579, 'terminal_CDR': 2.4, 'client_False': 11, 'terminal_False': 14, 'client_latency': 52.4, 'terminal_latency': 89.41666666666667}\n"
     ]
    },
    {
     "data": {
      "application/vnd.jupyter.widget-view+json": {
       "model_id": "573fd3604d054fcdb62e4b53c8ec5574",
       "version_major": 2,
       "version_minor": 0
      },
      "text/plain": [
       "HBox(children=(FloatProgress(value=1.0, bar_style='info', max=1.0), HTML(value='')))"
      ]
     },
     "metadata": {},
     "output_type": "display_data"
    },
    {
     "name": "stdout",
     "output_type": "stream",
     "text": [
      "\n",
      "Result written to outputs/algo=WindowStreamingAlgo_client_dist=RoundrobinNodeDistribution_terminal_dist=RoundrobinNodeDistribution_nnodes=5_1583377347.263.json\n",
      "{'client_TDR': 1.0, 'client_MDR': 0.0, 'client_FDR': 0.4444444444444444, 'client_CDR': 0.8333333333333334, 'terminal_TDR': 0.9583333333333334, 'terminal_MDR': 0.04166666666666663, 'terminal_FDR': 0.32352941176470584, 'terminal_CDR': 1.12, 'client_False': 20, 'terminal_False': 11, 'client_latency': 78.56, 'terminal_latency': 106.26086956521739}\n"
     ]
    },
    {
     "data": {
      "application/vnd.jupyter.widget-view+json": {
       "model_id": "d36da7ac1dd94508b71dab59544048d5",
       "version_major": 2,
       "version_minor": 0
      },
      "text/plain": [
       "HBox(children=(FloatProgress(value=1.0, bar_style='info', max=1.0), HTML(value='')))"
      ]
     },
     "metadata": {},
     "output_type": "display_data"
    },
    {
     "name": "stdout",
     "output_type": "stream",
     "text": [
      "\n",
      "Result written to outputs/algo=WindowStreamingAlgo_client_dist=DependentNodeDistribution_terminal_dist=SecondMetaDependentNodeDistribution_nnodes=5_1583377457.979789.json\n",
      "{'client_TDR': 1.0, 'client_MDR': 0.0, 'client_FDR': 0.3055555555555556, 'client_CDR': 1.625, 'terminal_TDR': 1.0, 'terminal_MDR': 0.0, 'terminal_FDR': 0.5932203389830508, 'terminal_CDR': 4.56, 'client_False': 11, 'terminal_False': 35, 'client_latency': 52.4, 'terminal_latency': 69.83333333333333}\n"
     ]
    },
    {
     "data": {
      "application/vnd.jupyter.widget-view+json": {
       "model_id": "1784937a550146bd860d092b5e18d4b9",
       "version_major": 2,
       "version_minor": 0
      },
      "text/plain": [
       "HBox(children=(FloatProgress(value=1.0, bar_style='info', max=1.0), HTML(value='')))"
      ]
     },
     "metadata": {},
     "output_type": "display_data"
    },
    {
     "name": "stdout",
     "output_type": "stream",
     "text": [
      "\n",
      "Result written to outputs/algo=WindowStreamingAlgo_client_dist=SecondMetaDependentNodeDistribution_terminal_dist=DependentNodeDistribution_nnodes=5_1583377560.616711.json\n",
      "{'client_TDR': 1.0, 'client_MDR': 0.0, 'client_FDR': 0.5689655172413793, 'client_CDR': 4.083333333333333, 'terminal_TDR': 1.0, 'terminal_MDR': 0.0, 'terminal_FDR': 0.368421052631579, 'terminal_CDR': 2.4, 'client_False': 33, 'terminal_False': 14, 'client_latency': 52.56, 'terminal_latency': 89.41666666666667}\n"
     ]
    },
    {
     "data": {
      "application/vnd.jupyter.widget-view+json": {
       "model_id": "2053287a36634a2aab7518fc7076b841",
       "version_major": 2,
       "version_minor": 0
      },
      "text/plain": [
       "HBox(children=(FloatProgress(value=1.0, bar_style='info', max=1.0), HTML(value='')))"
      ]
     },
     "metadata": {},
     "output_type": "display_data"
    },
    {
     "name": "stdout",
     "output_type": "stream",
     "text": [
      "\n",
      "Result written to outputs/algo=WindowStreamingAlgo_client_dist=RoundrobinNodeDistribution_terminal_dist=RoundrobinNodeDistribution_nnodes=1_1583377705.422093.json\n",
      "{'client_TDR': 1.0, 'client_MDR': 0.0, 'client_FDR': 0.375, 'client_CDR': 1.75, 'terminal_TDR': 0.9583333333333334, 'terminal_MDR': 0.04166666666666663, 'terminal_FDR': 0.3783783783783784, 'terminal_CDR': 3.2, 'client_False': 15, 'terminal_False': 14, 'client_latency': 48.28, 'terminal_latency': 90.95652173913044}\n"
     ]
    },
    {
     "data": {
      "application/vnd.jupyter.widget-view+json": {
       "model_id": "4a2a6a614fda454b92e3acef2fdee836",
       "version_major": 2,
       "version_minor": 0
      },
      "text/plain": [
       "HBox(children=(FloatProgress(value=1.0, bar_style='info', max=1.0), HTML(value='')))"
      ]
     },
     "metadata": {},
     "output_type": "display_data"
    },
    {
     "name": "stdout",
     "output_type": "stream",
     "text": [
      "\n",
      "Result written to outputs/algo=WindowStreamingAlgo_client_dist=RoundrobinNodeDistribution_terminal_dist=RoundrobinNodeDistribution_nnodes=5_1583377768.856705.json\n",
      "{'client_TDR': 1.0, 'client_MDR': 0.0, 'client_FDR': 0.32432432432432434, 'client_CDR': 0.9166666666666666, 'terminal_TDR': 0.9166666666666666, 'terminal_MDR': 0.08333333333333337, 'terminal_FDR': 0.4054054054054054, 'terminal_CDR': 1.36, 'client_False': 12, 'terminal_False': 15, 'client_latency': 86.36, 'terminal_latency': 148.4090909090909}\n"
     ]
    },
    {
     "data": {
      "application/vnd.jupyter.widget-view+json": {
       "model_id": "162995434eaa4cd79f593ae8823077cd",
       "version_major": 2,
       "version_minor": 0
      },
      "text/plain": [
       "HBox(children=(FloatProgress(value=1.0, bar_style='info', max=1.0), HTML(value='')))"
      ]
     },
     "metadata": {},
     "output_type": "display_data"
    },
    {
     "name": "stdout",
     "output_type": "stream",
     "text": [
      "\n",
      "Result written to outputs/algo=WindowStreamingAlgo_client_dist=DependentNodeDistribution_terminal_dist=SecondMetaDependentNodeDistribution_nnodes=5_1583377875.940761.json\n",
      "{'client_TDR': 1.0, 'client_MDR': 0.0, 'client_FDR': 0.375, 'client_CDR': 1.75, 'terminal_TDR': 1.0, 'terminal_MDR': 0.0, 'terminal_FDR': 0.4893617021276596, 'terminal_CDR': 4.72, 'client_False': 15, 'terminal_False': 23, 'client_latency': 48.28, 'terminal_latency': 95.33333333333333}\n"
     ]
    },
    {
     "data": {
      "application/vnd.jupyter.widget-view+json": {
       "model_id": "00768da41e344fdb96eca8bf11aa57d9",
       "version_major": 2,
       "version_minor": 0
      },
      "text/plain": [
       "HBox(children=(FloatProgress(value=1.0, bar_style='info', max=1.0), HTML(value='')))"
      ]
     },
     "metadata": {},
     "output_type": "display_data"
    },
    {
     "name": "stdout",
     "output_type": "stream",
     "text": [
      "\n",
      "Result written to outputs/algo=WindowStreamingAlgo_client_dist=SecondMetaDependentNodeDistribution_terminal_dist=DependentNodeDistribution_nnodes=5_1583377972.123141.json\n",
      "{'client_TDR': 0.96, 'client_MDR': 0.040000000000000036, 'client_FDR': 0.4893617021276596, 'client_CDR': 4.208333333333333, 'terminal_TDR': 0.9583333333333334, 'terminal_MDR': 0.04166666666666663, 'terminal_FDR': 0.3783783783783784, 'terminal_CDR': 3.2, 'client_False': 23, 'terminal_False': 14, 'client_latency': 51.666666666666664, 'terminal_latency': 90.95652173913044}\n"
     ]
    },
    {
     "data": {
      "application/vnd.jupyter.widget-view+json": {
       "model_id": "9cbc9640d6d34edeb1439a606751b7a5",
       "version_major": 2,
       "version_minor": 0
      },
      "text/plain": [
       "HBox(children=(FloatProgress(value=1.0, bar_style='info', max=1.0), HTML(value='')))"
      ]
     },
     "metadata": {},
     "output_type": "display_data"
    },
    {
     "name": "stdout",
     "output_type": "stream",
     "text": [
      "\n",
      "Result written to outputs/algo=WindowStreamingAlgo_client_dist=RoundrobinNodeDistribution_terminal_dist=RoundrobinNodeDistribution_nnodes=1_1583378123.077653.json\n",
      "{'client_TDR': 1.0, 'client_MDR': 0.0, 'client_FDR': 0.21875, 'client_CDR': 1.625, 'terminal_TDR': 1.0, 'terminal_MDR': 0.0, 'terminal_FDR': 0.4418604651162791, 'terminal_CDR': 2.76, 'client_False': 7, 'terminal_False': 19, 'client_latency': 59.84, 'terminal_latency': 57.541666666666664}\n"
     ]
    },
    {
     "data": {
      "application/vnd.jupyter.widget-view+json": {
       "model_id": "da4fc6ee522844e498f9fa2d8dad60fc",
       "version_major": 2,
       "version_minor": 0
      },
      "text/plain": [
       "HBox(children=(FloatProgress(value=1.0, bar_style='info', max=1.0), HTML(value='')))"
      ]
     },
     "metadata": {},
     "output_type": "display_data"
    },
    {
     "name": "stdout",
     "output_type": "stream",
     "text": [
      "\n",
      "Result written to outputs/algo=WindowStreamingAlgo_client_dist=RoundrobinNodeDistribution_terminal_dist=RoundrobinNodeDistribution_nnodes=5_1583378186.454984.json\n",
      "{'client_TDR': 0.84, 'client_MDR': 0.16000000000000003, 'client_FDR': 0.32258064516129037, 'client_CDR': 0.75, 'terminal_TDR': 1.0, 'terminal_MDR': 0.0, 'terminal_FDR': 0.3513513513513513, 'terminal_CDR': 1.92, 'client_False': 10, 'terminal_False': 13, 'client_latency': 78.85714285714286, 'terminal_latency': 95.08333333333333}\n"
     ]
    },
    {
     "data": {
      "application/vnd.jupyter.widget-view+json": {
       "model_id": "6be85854570b4070843ff5a4f0f8884c",
       "version_major": 2,
       "version_minor": 0
      },
      "text/plain": [
       "HBox(children=(FloatProgress(value=1.0, bar_style='info', max=1.0), HTML(value='')))"
      ]
     },
     "metadata": {},
     "output_type": "display_data"
    },
    {
     "name": "stdout",
     "output_type": "stream",
     "text": [
      "\n",
      "Result written to outputs/algo=WindowStreamingAlgo_client_dist=DependentNodeDistribution_terminal_dist=SecondMetaDependentNodeDistribution_nnodes=5_1583378298.80519.json\n",
      "{'client_TDR': 1.0, 'client_MDR': 0.0, 'client_FDR': 0.21875, 'client_CDR': 1.625, 'terminal_TDR': 0.9583333333333334, 'terminal_MDR': 0.04166666666666663, 'terminal_FDR': 0.5, 'terminal_CDR': 4.92, 'client_False': 7, 'terminal_False': 23, 'client_latency': 59.84, 'terminal_latency': 58.95652173913044}\n"
     ]
    },
    {
     "data": {
      "application/vnd.jupyter.widget-view+json": {
       "model_id": "81db32f1063041b090583f280741098a",
       "version_major": 2,
       "version_minor": 0
      },
      "text/plain": [
       "HBox(children=(FloatProgress(value=1.0, bar_style='info', max=1.0), HTML(value='')))"
      ]
     },
     "metadata": {},
     "output_type": "display_data"
    },
    {
     "name": "stdout",
     "output_type": "stream",
     "text": [
      "\n",
      "Result written to outputs/algo=WindowStreamingAlgo_client_dist=SecondMetaDependentNodeDistribution_terminal_dist=DependentNodeDistribution_nnodes=5_1583378396.52731.json\n",
      "{'client_TDR': 1.0, 'client_MDR': 0.0, 'client_FDR': 0.46808510638297873, 'client_CDR': 3.4583333333333335, 'terminal_TDR': 1.0, 'terminal_MDR': 0.0, 'terminal_FDR': 0.4418604651162791, 'terminal_CDR': 2.76, 'client_False': 22, 'terminal_False': 19, 'client_latency': 63.68, 'terminal_latency': 57.541666666666664}\n"
     ]
    },
    {
     "data": {
      "application/vnd.jupyter.widget-view+json": {
       "model_id": "8c08afc00a6241e0b37a171cd37be291",
       "version_major": 2,
       "version_minor": 0
      },
      "text/plain": [
       "HBox(children=(FloatProgress(value=1.0, bar_style='info', max=1.0), HTML(value='')))"
      ]
     },
     "metadata": {},
     "output_type": "display_data"
    },
    {
     "name": "stdout",
     "output_type": "stream",
     "text": [
      "\n",
      "Result written to outputs/algo=WindowStreamingAlgo_client_dist=RoundrobinNodeDistribution_terminal_dist=RoundrobinNodeDistribution_nnodes=1_1583378557.975467.json\n",
      "{'client_TDR': 1.0, 'client_MDR': 0.0, 'client_FDR': 0.21875, 'client_CDR': 1.375, 'terminal_TDR': 1.0, 'terminal_MDR': 0.0, 'terminal_FDR': 0.33333333333333337, 'terminal_CDR': 2.4, 'client_False': 7, 'terminal_False': 12, 'client_latency': 70.96, 'terminal_latency': 87.79166666666667}\n"
     ]
    },
    {
     "data": {
      "application/vnd.jupyter.widget-view+json": {
       "model_id": "803a3af5da8e4a2fa0c40fe17dba1a50",
       "version_major": 2,
       "version_minor": 0
      },
      "text/plain": [
       "HBox(children=(FloatProgress(value=1.0, bar_style='info', max=1.0), HTML(value='')))"
      ]
     },
     "metadata": {},
     "output_type": "display_data"
    },
    {
     "name": "stdout",
     "output_type": "stream",
     "text": [
      "\n",
      "Result written to outputs/algo=WindowStreamingAlgo_client_dist=RoundrobinNodeDistribution_terminal_dist=RoundrobinNodeDistribution_nnodes=5_1583378622.061064.json\n",
      "{'client_TDR': 1.0, 'client_MDR': 0.0, 'client_FDR': 0.3055555555555556, 'client_CDR': 0.5833333333333334, 'terminal_TDR': 0.9583333333333334, 'terminal_MDR': 0.04166666666666663, 'terminal_FDR': 0.303030303030303, 'terminal_CDR': 1.84, 'client_False': 11, 'terminal_False': 10, 'client_latency': 92.32, 'terminal_latency': 95.21739130434783}\n"
     ]
    },
    {
     "data": {
      "application/vnd.jupyter.widget-view+json": {
       "model_id": "f76fbea330b54d8ea52745b0867af74a",
       "version_major": 2,
       "version_minor": 0
      },
      "text/plain": [
       "HBox(children=(FloatProgress(value=1.0, bar_style='info', max=1.0), HTML(value='')))"
      ]
     },
     "metadata": {},
     "output_type": "display_data"
    },
    {
     "name": "stdout",
     "output_type": "stream",
     "text": [
      "\n",
      "Result written to outputs/algo=WindowStreamingAlgo_client_dist=DependentNodeDistribution_terminal_dist=SecondMetaDependentNodeDistribution_nnodes=5_1583378736.433541.json\n",
      "{'client_TDR': 1.0, 'client_MDR': 0.0, 'client_FDR': 0.21875, 'client_CDR': 1.375, 'terminal_TDR': 0.9583333333333334, 'terminal_MDR': 0.04166666666666663, 'terminal_FDR': 0.5, 'terminal_CDR': 5.24, 'client_False': 7, 'terminal_False': 23, 'client_latency': 70.96, 'terminal_latency': 81.73913043478261}\n"
     ]
    },
    {
     "data": {
      "application/vnd.jupyter.widget-view+json": {
       "model_id": "df1485ae0ce24dbebaad5acefe52e23d",
       "version_major": 2,
       "version_minor": 0
      },
      "text/plain": [
       "HBox(children=(FloatProgress(value=1.0, bar_style='info', max=1.0), HTML(value='')))"
      ]
     },
     "metadata": {},
     "output_type": "display_data"
    },
    {
     "name": "stdout",
     "output_type": "stream",
     "text": [
      "\n",
      "Result written to outputs/algo=WindowStreamingAlgo_client_dist=SecondMetaDependentNodeDistribution_terminal_dist=DependentNodeDistribution_nnodes=5_1583378841.541246.json\n",
      "{'client_TDR': 0.96, 'client_MDR': 0.040000000000000036, 'client_FDR': 0.4893617021276596, 'client_CDR': 4.25, 'terminal_TDR': 1.0, 'terminal_MDR': 0.0, 'terminal_FDR': 0.33333333333333337, 'terminal_CDR': 2.4, 'client_False': 23, 'terminal_False': 12, 'client_latency': 60.0, 'terminal_latency': 87.79166666666667}\n"
     ]
    },
    {
     "data": {
      "application/vnd.jupyter.widget-view+json": {
       "model_id": "a44942aaddeb4d0d98b9c8d76d2f8faf",
       "version_major": 2,
       "version_minor": 0
      },
      "text/plain": [
       "HBox(children=(FloatProgress(value=1.0, bar_style='info', max=1.0), HTML(value='')))"
      ]
     },
     "metadata": {},
     "output_type": "display_data"
    },
    {
     "name": "stdout",
     "output_type": "stream",
     "text": [
      "\n",
      "Result written to outputs/algo=WindowStreamingAlgo_client_dist=RoundrobinNodeDistribution_terminal_dist=RoundrobinNodeDistribution_nnodes=1_1583378994.892275.json\n",
      "{'client_TDR': 1.0, 'client_MDR': 0.0, 'client_FDR': 0.4444444444444444, 'client_CDR': 1.1666666666666667, 'terminal_TDR': 0.9166666666666666, 'terminal_MDR': 0.08333333333333337, 'terminal_FDR': 0.4054054054054054, 'terminal_CDR': 3.08, 'client_False': 20, 'terminal_False': 15, 'client_latency': 56.08, 'terminal_latency': 132.36363636363637}\n"
     ]
    },
    {
     "data": {
      "application/vnd.jupyter.widget-view+json": {
       "model_id": "0915351cee90435fbf6e1f9548f5c967",
       "version_major": 2,
       "version_minor": 0
      },
      "text/plain": [
       "HBox(children=(FloatProgress(value=1.0, bar_style='info', max=1.0), HTML(value='')))"
      ]
     },
     "metadata": {},
     "output_type": "display_data"
    },
    {
     "name": "stdout",
     "output_type": "stream",
     "text": [
      "\n",
      "Result written to outputs/algo=WindowStreamingAlgo_client_dist=RoundrobinNodeDistribution_terminal_dist=RoundrobinNodeDistribution_nnodes=5_1583379059.596063.json\n",
      "{'client_TDR': 1.0, 'client_MDR': 0.0, 'client_FDR': 0.2857142857142857, 'client_CDR': 0.75, 'terminal_TDR': 0.9583333333333334, 'terminal_MDR': 0.04166666666666663, 'terminal_FDR': 0.32352941176470584, 'terminal_CDR': 1.32, 'client_False': 10, 'terminal_False': 11, 'client_latency': 85.88, 'terminal_latency': 143.65217391304347}\n"
     ]
    },
    {
     "data": {
      "application/vnd.jupyter.widget-view+json": {
       "model_id": "494a50dde51a4d5ab23f403c415be592",
       "version_major": 2,
       "version_minor": 0
      },
      "text/plain": [
       "HBox(children=(FloatProgress(value=1.0, bar_style='info', max=1.0), HTML(value='')))"
      ]
     },
     "metadata": {},
     "output_type": "display_data"
    },
    {
     "name": "stdout",
     "output_type": "stream",
     "text": [
      "\n",
      "Result written to outputs/algo=WindowStreamingAlgo_client_dist=DependentNodeDistribution_terminal_dist=SecondMetaDependentNodeDistribution_nnodes=5_1583379172.31513.json\n",
      "{'client_TDR': 1.0, 'client_MDR': 0.0, 'client_FDR': 0.4444444444444444, 'client_CDR': 1.1666666666666667, 'terminal_TDR': 0.9166666666666666, 'terminal_MDR': 0.08333333333333337, 'terminal_FDR': 0.4883720930232558, 'terminal_CDR': 4.64, 'client_False': 20, 'terminal_False': 21, 'client_latency': 56.08, 'terminal_latency': 88.18181818181819}\n"
     ]
    },
    {
     "data": {
      "application/vnd.jupyter.widget-view+json": {
       "model_id": "dcbfd273f8e6416e808580e94e16d2fb",
       "version_major": 2,
       "version_minor": 0
      },
      "text/plain": [
       "HBox(children=(FloatProgress(value=1.0, bar_style='info', max=1.0), HTML(value='')))"
      ]
     },
     "metadata": {},
     "output_type": "display_data"
    },
    {
     "name": "stdout",
     "output_type": "stream",
     "text": [
      "\n",
      "Result written to outputs/algo=WindowStreamingAlgo_client_dist=SecondMetaDependentNodeDistribution_terminal_dist=DependentNodeDistribution_nnodes=5_1583379273.101794.json\n",
      "{'client_TDR': 0.96, 'client_MDR': 0.040000000000000036, 'client_FDR': 0.41463414634146345, 'client_CDR': 3.5416666666666665, 'terminal_TDR': 0.9166666666666666, 'terminal_MDR': 0.08333333333333337, 'terminal_FDR': 0.4054054054054054, 'terminal_CDR': 3.08, 'client_False': 17, 'terminal_False': 15, 'client_latency': 54.375, 'terminal_latency': 132.36363636363637}\n"
     ]
    },
    {
     "data": {
      "application/vnd.jupyter.widget-view+json": {
       "model_id": "3c45f7c6e3c143148c6e57a071286054",
       "version_major": 2,
       "version_minor": 0
      },
      "text/plain": [
       "HBox(children=(FloatProgress(value=1.0, bar_style='info', max=1.0), HTML(value='')))"
      ]
     },
     "metadata": {},
     "output_type": "display_data"
    },
    {
     "name": "stdout",
     "output_type": "stream",
     "text": [
      "\n",
      "Result written to outputs/algo=WindowStreamingAlgo_client_dist=RoundrobinNodeDistribution_terminal_dist=RoundrobinNodeDistribution_nnodes=1_1583379418.466653.json\n",
      "{'client_TDR': 1.0, 'client_MDR': 0.0, 'client_FDR': 0.40476190476190477, 'client_CDR': 1.4583333333333333, 'terminal_TDR': 0.9583333333333334, 'terminal_MDR': 0.04166666666666663, 'terminal_FDR': 0.4772727272727273, 'terminal_CDR': 3.08, 'client_False': 17, 'terminal_False': 21, 'client_latency': 59.44, 'terminal_latency': 112.1304347826087}\n"
     ]
    },
    {
     "data": {
      "application/vnd.jupyter.widget-view+json": {
       "model_id": "5d622ba3be774a8bab74d0bb6602dccd",
       "version_major": 2,
       "version_minor": 0
      },
      "text/plain": [
       "HBox(children=(FloatProgress(value=1.0, bar_style='info', max=1.0), HTML(value='')))"
      ]
     },
     "metadata": {},
     "output_type": "display_data"
    },
    {
     "name": "stdout",
     "output_type": "stream",
     "text": [
      "\n",
      "Result written to outputs/algo=WindowStreamingAlgo_client_dist=RoundrobinNodeDistribution_terminal_dist=RoundrobinNodeDistribution_nnodes=5_1583379484.145679.json\n",
      "{'client_TDR': 1.0, 'client_MDR': 0.0, 'client_FDR': 0.40476190476190477, 'client_CDR': 0.5, 'terminal_TDR': 1.0, 'terminal_MDR': 0.0, 'terminal_FDR': 0.22580645161290325, 'terminal_CDR': 1.04, 'client_False': 17, 'terminal_False': 7, 'client_latency': 87.32, 'terminal_latency': 116.5}\n"
     ]
    },
    {
     "data": {
      "application/vnd.jupyter.widget-view+json": {
       "model_id": "d29dee874f984420bb95d26d2313e489",
       "version_major": 2,
       "version_minor": 0
      },
      "text/plain": [
       "HBox(children=(FloatProgress(value=1.0, bar_style='info', max=1.0), HTML(value='')))"
      ]
     },
     "metadata": {},
     "output_type": "display_data"
    },
    {
     "name": "stdout",
     "output_type": "stream",
     "text": [
      "\n",
      "Result written to outputs/algo=WindowStreamingAlgo_client_dist=DependentNodeDistribution_terminal_dist=SecondMetaDependentNodeDistribution_nnodes=5_1583379594.179153.json\n",
      "{'client_TDR': 1.0, 'client_MDR': 0.0, 'client_FDR': 0.40476190476190477, 'client_CDR': 1.4583333333333333, 'terminal_TDR': 1.0, 'terminal_MDR': 0.0, 'terminal_FDR': 0.5471698113207547, 'terminal_CDR': 4.68, 'client_False': 17, 'terminal_False': 29, 'client_latency': 59.44, 'terminal_latency': 107.70833333333333}\n"
     ]
    },
    {
     "data": {
      "application/vnd.jupyter.widget-view+json": {
       "model_id": "9f91988474fc4aeb9ef9ba80b8c387ea",
       "version_major": 2,
       "version_minor": 0
      },
      "text/plain": [
       "HBox(children=(FloatProgress(value=1.0, bar_style='info', max=1.0), HTML(value='')))"
      ]
     },
     "metadata": {},
     "output_type": "display_data"
    },
    {
     "name": "stdout",
     "output_type": "stream",
     "text": [
      "\n",
      "Result written to outputs/algo=WindowStreamingAlgo_client_dist=SecondMetaDependentNodeDistribution_terminal_dist=DependentNodeDistribution_nnodes=5_1583379688.584576.json\n",
      "{'client_TDR': 1.0, 'client_MDR': 0.0, 'client_FDR': 0.24242424242424243, 'client_CDR': 3.9166666666666665, 'terminal_TDR': 0.9583333333333334, 'terminal_MDR': 0.04166666666666663, 'terminal_FDR': 0.4772727272727273, 'terminal_CDR': 3.08, 'client_False': 8, 'terminal_False': 21, 'client_latency': 53.16, 'terminal_latency': 112.1304347826087}\n"
     ]
    },
    {
     "data": {
      "application/vnd.jupyter.widget-view+json": {
       "model_id": "b5d7251340914adba9ceb88e4f78ebd4",
       "version_major": 2,
       "version_minor": 0
      },
      "text/plain": [
       "HBox(children=(FloatProgress(value=1.0, bar_style='info', max=1.0), HTML(value='')))"
      ]
     },
     "metadata": {},
     "output_type": "display_data"
    },
    {
     "name": "stdout",
     "output_type": "stream",
     "text": [
      "\n",
      "Result written to outputs/algo=WindowStreamingAlgo_client_dist=RoundrobinNodeDistribution_terminal_dist=RoundrobinNodeDistribution_nnodes=1_1583379836.880284.json\n",
      "{'client_TDR': 1.0, 'client_MDR': 0.0, 'client_FDR': 0.3902439024390244, 'client_CDR': 1.625, 'terminal_TDR': 0.9583333333333334, 'terminal_MDR': 0.04166666666666663, 'terminal_FDR': 0.39473684210526316, 'terminal_CDR': 3.04, 'client_False': 16, 'terminal_False': 15, 'client_latency': 62.24, 'terminal_latency': 106.69565217391305}\n"
     ]
    },
    {
     "data": {
      "application/vnd.jupyter.widget-view+json": {
       "model_id": "1bc0e6dda1f84488b0af81d0a702817a",
       "version_major": 2,
       "version_minor": 0
      },
      "text/plain": [
       "HBox(children=(FloatProgress(value=1.0, bar_style='info', max=1.0), HTML(value='')))"
      ]
     },
     "metadata": {},
     "output_type": "display_data"
    },
    {
     "name": "stdout",
     "output_type": "stream",
     "text": [
      "\n",
      "Result written to outputs/algo=WindowStreamingAlgo_client_dist=RoundrobinNodeDistribution_terminal_dist=RoundrobinNodeDistribution_nnodes=5_1583379899.827252.json\n",
      "{'client_TDR': 1.0, 'client_MDR': 0.0, 'client_FDR': 0.32432432432432434, 'client_CDR': 0.7916666666666666, 'terminal_TDR': 0.9166666666666666, 'terminal_MDR': 0.08333333333333337, 'terminal_FDR': 0.4054054054054054, 'terminal_CDR': 1.84, 'client_False': 12, 'terminal_False': 15, 'client_latency': 75.08, 'terminal_latency': 132.5909090909091}\n"
     ]
    },
    {
     "data": {
      "application/vnd.jupyter.widget-view+json": {
       "model_id": "ebff31f7f6a2407fa20b3650f12e4dad",
       "version_major": 2,
       "version_minor": 0
      },
      "text/plain": [
       "HBox(children=(FloatProgress(value=1.0, bar_style='info', max=1.0), HTML(value='')))"
      ]
     },
     "metadata": {},
     "output_type": "display_data"
    },
    {
     "name": "stdout",
     "output_type": "stream",
     "text": [
      "\n",
      "Result written to outputs/algo=WindowStreamingAlgo_client_dist=DependentNodeDistribution_terminal_dist=SecondMetaDependentNodeDistribution_nnodes=5_1583380009.262677.json\n",
      "{'client_TDR': 1.0, 'client_MDR': 0.0, 'client_FDR': 0.3902439024390244, 'client_CDR': 1.625, 'terminal_TDR': 0.9166666666666666, 'terminal_MDR': 0.08333333333333337, 'terminal_FDR': 0.5111111111111111, 'terminal_CDR': 5.0, 'client_False': 16, 'terminal_False': 23, 'client_latency': 62.24, 'terminal_latency': 80.68181818181819}\n"
     ]
    },
    {
     "data": {
      "application/vnd.jupyter.widget-view+json": {
       "model_id": "9aefc5184e2141a58536e5e4efbafcfe",
       "version_major": 2,
       "version_minor": 0
      },
      "text/plain": [
       "HBox(children=(FloatProgress(value=1.0, bar_style='info', max=1.0), HTML(value='')))"
      ]
     },
     "metadata": {},
     "output_type": "display_data"
    },
    {
     "name": "stdout",
     "output_type": "stream",
     "text": [
      "\n",
      "Result written to outputs/algo=WindowStreamingAlgo_client_dist=SecondMetaDependentNodeDistribution_terminal_dist=DependentNodeDistribution_nnodes=5_1583380107.734252.json\n",
      "{'client_TDR': 1.0, 'client_MDR': 0.0, 'client_FDR': 0.43181818181818177, 'client_CDR': 3.7083333333333335, 'terminal_TDR': 0.9583333333333334, 'terminal_MDR': 0.04166666666666663, 'terminal_FDR': 0.39473684210526316, 'terminal_CDR': 3.04, 'client_False': 19, 'terminal_False': 15, 'client_latency': 50.44, 'terminal_latency': 106.69565217391305}\n"
     ]
    },
    {
     "data": {
      "application/vnd.jupyter.widget-view+json": {
       "model_id": "7e3569b9cb40462caa75bea99689d550",
       "version_major": 2,
       "version_minor": 0
      },
      "text/plain": [
       "HBox(children=(FloatProgress(value=1.0, bar_style='info', max=1.0), HTML(value='')))"
      ]
     },
     "metadata": {},
     "output_type": "display_data"
    },
    {
     "name": "stdout",
     "output_type": "stream",
     "text": [
      "\n",
      "Result written to outputs/algo=WindowStreamingAlgo_client_dist=RoundrobinNodeDistribution_terminal_dist=RoundrobinNodeDistribution_nnodes=1_1583380266.222222.json\n",
      "{'client_TDR': 1.0, 'client_MDR': 0.0, 'client_FDR': 0.3055555555555556, 'client_CDR': 1.4166666666666667, 'terminal_TDR': 0.9166666666666666, 'terminal_MDR': 0.08333333333333337, 'terminal_FDR': 0.2666666666666667, 'terminal_CDR': 2.76, 'client_False': 11, 'terminal_False': 8, 'client_latency': 70.84, 'terminal_latency': 77.86363636363636}\n"
     ]
    },
    {
     "data": {
      "application/vnd.jupyter.widget-view+json": {
       "model_id": "e625475079d64a6988be086d7c8262ad",
       "version_major": 2,
       "version_minor": 0
      },
      "text/plain": [
       "HBox(children=(FloatProgress(value=1.0, bar_style='info', max=1.0), HTML(value='')))"
      ]
     },
     "metadata": {},
     "output_type": "display_data"
    },
    {
     "name": "stdout",
     "output_type": "stream",
     "text": [
      "\n",
      "Result written to outputs/algo=WindowStreamingAlgo_client_dist=RoundrobinNodeDistribution_terminal_dist=RoundrobinNodeDistribution_nnodes=5_1583380329.755294.json\n",
      "{'client_TDR': 0.96, 'client_MDR': 0.040000000000000036, 'client_FDR': 0.4545454545454546, 'client_CDR': 1.0, 'terminal_TDR': 0.875, 'terminal_MDR': 0.125, 'terminal_FDR': 0.36363636363636365, 'terminal_CDR': 1.28, 'client_False': 20, 'terminal_False': 12, 'client_latency': 88.95833333333333, 'terminal_latency': 118.52380952380952}\n"
     ]
    },
    {
     "data": {
      "application/vnd.jupyter.widget-view+json": {
       "model_id": "fd05be886e8d43e2887752b921ad3668",
       "version_major": 2,
       "version_minor": 0
      },
      "text/plain": [
       "HBox(children=(FloatProgress(value=1.0, bar_style='info', max=1.0), HTML(value='')))"
      ]
     },
     "metadata": {},
     "output_type": "display_data"
    },
    {
     "name": "stdout",
     "output_type": "stream",
     "text": [
      "\n",
      "Result written to outputs/algo=WindowStreamingAlgo_client_dist=DependentNodeDistribution_terminal_dist=SecondMetaDependentNodeDistribution_nnodes=5_1583380444.316345.json\n",
      "{'client_TDR': 1.0, 'client_MDR': 0.0, 'client_FDR': 0.3055555555555556, 'client_CDR': 1.4166666666666667, 'terminal_TDR': 1.0, 'terminal_MDR': 0.0, 'terminal_FDR': 0.52, 'terminal_CDR': 4.68, 'client_False': 11, 'terminal_False': 26, 'client_latency': 70.84, 'terminal_latency': 65.70833333333333}\n"
     ]
    },
    {
     "data": {
      "application/vnd.jupyter.widget-view+json": {
       "model_id": "62aeb11e955246c8b21ef29451c1abfd",
       "version_major": 2,
       "version_minor": 0
      },
      "text/plain": [
       "HBox(children=(FloatProgress(value=1.0, bar_style='info', max=1.0), HTML(value='')))"
      ]
     },
     "metadata": {},
     "output_type": "display_data"
    },
    {
     "name": "stdout",
     "output_type": "stream",
     "text": [
      "\n",
      "Result written to outputs/algo=WindowStreamingAlgo_client_dist=SecondMetaDependentNodeDistribution_terminal_dist=DependentNodeDistribution_nnodes=5_1583380548.634874.json\n",
      "{'client_TDR': 0.96, 'client_MDR': 0.040000000000000036, 'client_FDR': 0.3846153846153846, 'client_CDR': 4.125, 'terminal_TDR': 0.9166666666666666, 'terminal_MDR': 0.08333333333333337, 'terminal_FDR': 0.2666666666666667, 'terminal_CDR': 2.76, 'client_False': 15, 'terminal_False': 8, 'client_latency': 53.375, 'terminal_latency': 77.86363636363636}\n"
     ]
    },
    {
     "data": {
      "application/vnd.jupyter.widget-view+json": {
       "model_id": "aa4b688378174fe5ae01ad7e718cf938",
       "version_major": 2,
       "version_minor": 0
      },
      "text/plain": [
       "HBox(children=(FloatProgress(value=1.0, bar_style='info', max=1.0), HTML(value='')))"
      ]
     },
     "metadata": {},
     "output_type": "display_data"
    },
    {
     "name": "stdout",
     "output_type": "stream",
     "text": [
      "\n",
      "Result written to outputs/algo=WindowStreamingAlgo_client_dist=RoundrobinNodeDistribution_terminal_dist=RoundrobinNodeDistribution_nnodes=1_1583380695.657615.json\n",
      "{'client_TDR': 1.0, 'client_MDR': 0.0, 'client_FDR': 0.40476190476190477, 'client_CDR': 1.5833333333333333, 'terminal_TDR': 0.9583333333333334, 'terminal_MDR': 0.04166666666666663, 'terminal_FDR': 0.3783783783783784, 'terminal_CDR': 3.0, 'client_False': 17, 'terminal_False': 14, 'client_latency': 51.28, 'terminal_latency': 73.04347826086956}\n"
     ]
    },
    {
     "data": {
      "application/vnd.jupyter.widget-view+json": {
       "model_id": "83bc29dd0bd84e6bae0a9e43861de953",
       "version_major": 2,
       "version_minor": 0
      },
      "text/plain": [
       "HBox(children=(FloatProgress(value=1.0, bar_style='info', max=1.0), HTML(value='')))"
      ]
     },
     "metadata": {},
     "output_type": "display_data"
    },
    {
     "name": "stdout",
     "output_type": "stream",
     "text": [
      "\n",
      "Result written to outputs/algo=WindowStreamingAlgo_client_dist=RoundrobinNodeDistribution_terminal_dist=RoundrobinNodeDistribution_nnodes=5_1583380760.16903.json\n",
      "{'client_TDR': 1.0, 'client_MDR': 0.0, 'client_FDR': 0.3589743589743589, 'client_CDR': 0.8333333333333334, 'terminal_TDR': 1.0, 'terminal_MDR': 0.0, 'terminal_FDR': 0.3142857142857143, 'terminal_CDR': 1.24, 'client_False': 14, 'terminal_False': 11, 'client_latency': 79.76, 'terminal_latency': 113.0}\n"
     ]
    },
    {
     "data": {
      "application/vnd.jupyter.widget-view+json": {
       "model_id": "c3202af2c7db4f8aac8a10c90e95cf7b",
       "version_major": 2,
       "version_minor": 0
      },
      "text/plain": [
       "HBox(children=(FloatProgress(value=1.0, bar_style='info', max=1.0), HTML(value='')))"
      ]
     },
     "metadata": {},
     "output_type": "display_data"
    },
    {
     "name": "stdout",
     "output_type": "stream",
     "text": [
      "\n",
      "Result written to outputs/algo=WindowStreamingAlgo_client_dist=DependentNodeDistribution_terminal_dist=SecondMetaDependentNodeDistribution_nnodes=5_1583380868.914014.json\n",
      "{'client_TDR': 1.0, 'client_MDR': 0.0, 'client_FDR': 0.40476190476190477, 'client_CDR': 1.5833333333333333, 'terminal_TDR': 0.9166666666666666, 'terminal_MDR': 0.08333333333333337, 'terminal_FDR': 0.5217391304347826, 'terminal_CDR': 4.72, 'client_False': 17, 'terminal_False': 24, 'client_latency': 51.28, 'terminal_latency': 86.27272727272727}\n"
     ]
    },
    {
     "data": {
      "application/vnd.jupyter.widget-view+json": {
       "model_id": "0d737f59966e4d948f5c350b8666dbcc",
       "version_major": 2,
       "version_minor": 0
      },
      "text/plain": [
       "HBox(children=(FloatProgress(value=1.0, bar_style='info', max=1.0), HTML(value='')))"
      ]
     },
     "metadata": {},
     "output_type": "display_data"
    },
    {
     "name": "stdout",
     "output_type": "stream",
     "text": [
      "\n",
      "Result written to outputs/algo=WindowStreamingAlgo_client_dist=SecondMetaDependentNodeDistribution_terminal_dist=DependentNodeDistribution_nnodes=5_1583380966.394173.json\n",
      "{'client_TDR': 1.0, 'client_MDR': 0.0, 'client_FDR': 0.5283018867924528, 'client_CDR': 3.75, 'terminal_TDR': 0.9583333333333334, 'terminal_MDR': 0.04166666666666663, 'terminal_FDR': 0.3783783783783784, 'terminal_CDR': 3.0, 'client_False': 28, 'terminal_False': 14, 'client_latency': 42.44, 'terminal_latency': 73.04347826086956}\n"
     ]
    },
    {
     "data": {
      "application/vnd.jupyter.widget-view+json": {
       "model_id": "9d20684dd99a4d0fb115545a5cbacf7c",
       "version_major": 2,
       "version_minor": 0
      },
      "text/plain": [
       "HBox(children=(FloatProgress(value=1.0, bar_style='info', max=1.0), HTML(value='')))"
      ]
     },
     "metadata": {},
     "output_type": "display_data"
    },
    {
     "name": "stdout",
     "output_type": "stream",
     "text": [
      "\n",
      "Result written to outputs/algo=WindowStreamingAlgo_client_dist=RoundrobinNodeDistribution_terminal_dist=RoundrobinNodeDistribution_nnodes=1_1583381121.838516.json\n",
      "{'client_TDR': 1.0, 'client_MDR': 0.0, 'client_FDR': 0.3055555555555556, 'client_CDR': 1.625, 'terminal_TDR': 0.9166666666666666, 'terminal_MDR': 0.08333333333333337, 'terminal_FDR': 0.2666666666666667, 'terminal_CDR': 2.76, 'client_False': 11, 'terminal_False': 8, 'client_latency': 50.48, 'terminal_latency': 96.68181818181819}\n"
     ]
    },
    {
     "data": {
      "application/vnd.jupyter.widget-view+json": {
       "model_id": "61b8fed892bb4269897201c90e1f1d0f",
       "version_major": 2,
       "version_minor": 0
      },
      "text/plain": [
       "HBox(children=(FloatProgress(value=1.0, bar_style='info', max=1.0), HTML(value='')))"
      ]
     },
     "metadata": {},
     "output_type": "display_data"
    },
    {
     "name": "stdout",
     "output_type": "stream",
     "text": [
      "\n",
      "Result written to outputs/algo=WindowStreamingAlgo_client_dist=RoundrobinNodeDistribution_terminal_dist=RoundrobinNodeDistribution_nnodes=5_1583381186.521955.json\n",
      "{'client_TDR': 1.0, 'client_MDR': 0.0, 'client_FDR': 0.2857142857142857, 'client_CDR': 0.7083333333333334, 'terminal_TDR': 0.8333333333333334, 'terminal_MDR': 0.16666666666666663, 'terminal_FDR': 0.4444444444444444, 'terminal_CDR': 1.24, 'client_False': 10, 'terminal_False': 16, 'client_latency': 91.84, 'terminal_latency': 131.1}\n"
     ]
    },
    {
     "data": {
      "application/vnd.jupyter.widget-view+json": {
       "model_id": "336a0996fa474348b39efa6b5465c8e2",
       "version_major": 2,
       "version_minor": 0
      },
      "text/plain": [
       "HBox(children=(FloatProgress(value=1.0, bar_style='info', max=1.0), HTML(value='')))"
      ]
     },
     "metadata": {},
     "output_type": "display_data"
    },
    {
     "name": "stdout",
     "output_type": "stream",
     "text": [
      "\n",
      "Result written to outputs/algo=WindowStreamingAlgo_client_dist=DependentNodeDistribution_terminal_dist=SecondMetaDependentNodeDistribution_nnodes=5_1583381300.030645.json\n",
      "{'client_TDR': 1.0, 'client_MDR': 0.0, 'client_FDR': 0.3055555555555556, 'client_CDR': 1.625, 'terminal_TDR': 0.9583333333333334, 'terminal_MDR': 0.04166666666666663, 'terminal_FDR': 0.54, 'terminal_CDR': 4.52, 'client_False': 11, 'terminal_False': 27, 'client_latency': 50.48, 'terminal_latency': 82.65217391304348}\n"
     ]
    },
    {
     "data": {
      "application/vnd.jupyter.widget-view+json": {
       "model_id": "b4ad6069cee14cd79e2a0cb9cd61e7c2",
       "version_major": 2,
       "version_minor": 0
      },
      "text/plain": [
       "HBox(children=(FloatProgress(value=1.0, bar_style='info', max=1.0), HTML(value='')))"
      ]
     },
     "metadata": {},
     "output_type": "display_data"
    },
    {
     "name": "stdout",
     "output_type": "stream",
     "text": [
      "\n",
      "Result written to outputs/algo=WindowStreamingAlgo_client_dist=SecondMetaDependentNodeDistribution_terminal_dist=DependentNodeDistribution_nnodes=5_1583381404.528735.json\n",
      "{'client_TDR': 1.0, 'client_MDR': 0.0, 'client_FDR': 0.4565217391304348, 'client_CDR': 3.5416666666666665, 'terminal_TDR': 0.9166666666666666, 'terminal_MDR': 0.08333333333333337, 'terminal_FDR': 0.2666666666666667, 'terminal_CDR': 2.76, 'client_False': 21, 'terminal_False': 8, 'client_latency': 53.92, 'terminal_latency': 96.68181818181819}\n"
     ]
    },
    {
     "data": {
      "application/vnd.jupyter.widget-view+json": {
       "model_id": "dc4cf536af7c43c0a432bcd271e0b484",
       "version_major": 2,
       "version_minor": 0
      },
      "text/plain": [
       "HBox(children=(FloatProgress(value=1.0, bar_style='info', max=1.0), HTML(value='')))"
      ]
     },
     "metadata": {},
     "output_type": "display_data"
    },
    {
     "name": "stdout",
     "output_type": "stream",
     "text": [
      "\n",
      "Result written to outputs/algo=WindowStreamingAlgo_client_dist=RoundrobinNodeDistribution_terminal_dist=RoundrobinNodeDistribution_nnodes=1_1583381551.831412.json\n",
      "{'client_TDR': 1.0, 'client_MDR': 0.0, 'client_FDR': 0.2647058823529411, 'client_CDR': 1.4583333333333333, 'terminal_TDR': 0.9166666666666666, 'terminal_MDR': 0.08333333333333337, 'terminal_FDR': 0.37142857142857144, 'terminal_CDR': 3.52, 'client_False': 9, 'terminal_False': 13, 'client_latency': 46.84, 'terminal_latency': 109.45454545454545}\n"
     ]
    },
    {
     "data": {
      "application/vnd.jupyter.widget-view+json": {
       "model_id": "15de56c2c49644ecaac682f1ab37cd4a",
       "version_major": 2,
       "version_minor": 0
      },
      "text/plain": [
       "HBox(children=(FloatProgress(value=1.0, bar_style='info', max=1.0), HTML(value='')))"
      ]
     },
     "metadata": {},
     "output_type": "display_data"
    },
    {
     "name": "stdout",
     "output_type": "stream",
     "text": [
      "\n",
      "Result written to outputs/algo=WindowStreamingAlgo_client_dist=RoundrobinNodeDistribution_terminal_dist=RoundrobinNodeDistribution_nnodes=5_1583381615.498242.json\n",
      "{'client_TDR': 1.0, 'client_MDR': 0.0, 'client_FDR': 0.32432432432432434, 'client_CDR': 0.9166666666666666, 'terminal_TDR': 0.875, 'terminal_MDR': 0.125, 'terminal_FDR': 0.4473684210526315, 'terminal_CDR': 1.44, 'client_False': 12, 'terminal_False': 17, 'client_latency': 82.96, 'terminal_latency': 131.71428571428572}\n"
     ]
    },
    {
     "data": {
      "application/vnd.jupyter.widget-view+json": {
       "model_id": "af5b8da1e7eb4027a166347a62ab07c0",
       "version_major": 2,
       "version_minor": 0
      },
      "text/plain": [
       "HBox(children=(FloatProgress(value=1.0, bar_style='info', max=1.0), HTML(value='')))"
      ]
     },
     "metadata": {},
     "output_type": "display_data"
    },
    {
     "name": "stdout",
     "output_type": "stream",
     "text": [
      "\n",
      "Result written to outputs/algo=WindowStreamingAlgo_client_dist=DependentNodeDistribution_terminal_dist=SecondMetaDependentNodeDistribution_nnodes=5_1583381727.8405.json\n",
      "{'client_TDR': 1.0, 'client_MDR': 0.0, 'client_FDR': 0.2647058823529411, 'client_CDR': 1.4583333333333333, 'terminal_TDR': 0.9166666666666666, 'terminal_MDR': 0.08333333333333337, 'terminal_FDR': 0.5769230769230769, 'terminal_CDR': 4.84, 'client_False': 9, 'terminal_False': 30, 'client_latency': 46.84, 'terminal_latency': 115.0}\n"
     ]
    },
    {
     "data": {
      "application/vnd.jupyter.widget-view+json": {
       "model_id": "2931826722c944d582494809b5e62216",
       "version_major": 2,
       "version_minor": 0
      },
      "text/plain": [
       "HBox(children=(FloatProgress(value=1.0, bar_style='info', max=1.0), HTML(value='')))"
      ]
     },
     "metadata": {},
     "output_type": "display_data"
    },
    {
     "name": "stdout",
     "output_type": "stream",
     "text": [
      "\n",
      "Result written to outputs/algo=WindowStreamingAlgo_client_dist=SecondMetaDependentNodeDistribution_terminal_dist=DependentNodeDistribution_nnodes=5_1583381821.96019.json\n",
      "{'client_TDR': 0.96, 'client_MDR': 0.040000000000000036, 'client_FDR': 0.4285714285714286, 'client_CDR': 3.5416666666666665, 'terminal_TDR': 0.9166666666666666, 'terminal_MDR': 0.08333333333333337, 'terminal_FDR': 0.37142857142857144, 'terminal_CDR': 3.52, 'client_False': 18, 'terminal_False': 13, 'client_latency': 54.041666666666664, 'terminal_latency': 109.45454545454545}\n"
     ]
    },
    {
     "data": {
      "application/vnd.jupyter.widget-view+json": {
       "model_id": "a9af4d5b11944bfa910d2e1d779ffa41",
       "version_major": 2,
       "version_minor": 0
      },
      "text/plain": [
       "HBox(children=(FloatProgress(value=1.0, bar_style='info', max=1.0), HTML(value='')))"
      ]
     },
     "metadata": {},
     "output_type": "display_data"
    },
    {
     "name": "stdout",
     "output_type": "stream",
     "text": [
      "\n",
      "Result written to outputs/algo=WindowStreamingAlgo_client_dist=RoundrobinNodeDistribution_terminal_dist=RoundrobinNodeDistribution_nnodes=1_1583381967.008577.json\n",
      "{'client_TDR': 0.92, 'client_MDR': 0.07999999999999996, 'client_FDR': 0.39473684210526316, 'client_CDR': 2.0416666666666665, 'terminal_TDR': 0.9583333333333334, 'terminal_MDR': 0.04166666666666663, 'terminal_FDR': 0.36111111111111116, 'terminal_CDR': 3.0, 'client_False': 15, 'terminal_False': 13, 'client_latency': 60.21739130434783, 'terminal_latency': 53.82608695652174}\n"
     ]
    },
    {
     "data": {
      "application/vnd.jupyter.widget-view+json": {
       "model_id": "6c70fa1167894d1ca620e5c7534d2759",
       "version_major": 2,
       "version_minor": 0
      },
      "text/plain": [
       "HBox(children=(FloatProgress(value=1.0, bar_style='info', max=1.0), HTML(value='')))"
      ]
     },
     "metadata": {},
     "output_type": "display_data"
    },
    {
     "name": "stdout",
     "output_type": "stream",
     "text": [
      "\n",
      "Result written to outputs/algo=WindowStreamingAlgo_client_dist=RoundrobinNodeDistribution_terminal_dist=RoundrobinNodeDistribution_nnodes=5_1583382031.621214.json\n",
      "{'client_TDR': 1.0, 'client_MDR': 0.0, 'client_FDR': 0.32432432432432434, 'client_CDR': 0.4166666666666667, 'terminal_TDR': 0.875, 'terminal_MDR': 0.125, 'terminal_FDR': 0.4, 'terminal_CDR': 1.6, 'client_False': 12, 'terminal_False': 14, 'client_latency': 81.24, 'terminal_latency': 108.19047619047619}\n"
     ]
    },
    {
     "data": {
      "application/vnd.jupyter.widget-view+json": {
       "model_id": "c4c0e8e6d36f4f9695e00311feaf2ff7",
       "version_major": 2,
       "version_minor": 0
      },
      "text/plain": [
       "HBox(children=(FloatProgress(value=1.0, bar_style='info', max=1.0), HTML(value='')))"
      ]
     },
     "metadata": {},
     "output_type": "display_data"
    },
    {
     "name": "stdout",
     "output_type": "stream",
     "text": [
      "\n",
      "Result written to outputs/algo=WindowStreamingAlgo_client_dist=DependentNodeDistribution_terminal_dist=SecondMetaDependentNodeDistribution_nnodes=5_1583382137.574721.json\n",
      "{'client_TDR': 0.92, 'client_MDR': 0.07999999999999996, 'client_FDR': 0.39473684210526316, 'client_CDR': 2.0416666666666665, 'terminal_TDR': 0.9166666666666666, 'terminal_MDR': 0.08333333333333337, 'terminal_FDR': 0.5510204081632653, 'terminal_CDR': 4.96, 'client_False': 15, 'terminal_False': 27, 'client_latency': 60.21739130434783, 'terminal_latency': 59.59090909090909}\n"
     ]
    },
    {
     "data": {
      "application/vnd.jupyter.widget-view+json": {
       "model_id": "2bf4fee6b73f4d09abae4a0343b67709",
       "version_major": 2,
       "version_minor": 0
      },
      "text/plain": [
       "HBox(children=(FloatProgress(value=1.0, bar_style='info', max=1.0), HTML(value='')))"
      ]
     },
     "metadata": {},
     "output_type": "display_data"
    },
    {
     "name": "stdout",
     "output_type": "stream",
     "text": [
      "\n",
      "Result written to outputs/algo=WindowStreamingAlgo_client_dist=SecondMetaDependentNodeDistribution_terminal_dist=DependentNodeDistribution_nnodes=5_1583382235.99876.json\n",
      "{'client_TDR': 0.96, 'client_MDR': 0.040000000000000036, 'client_FDR': 0.4, 'client_CDR': 4.208333333333333, 'terminal_TDR': 0.9583333333333334, 'terminal_MDR': 0.04166666666666663, 'terminal_FDR': 0.36111111111111116, 'terminal_CDR': 3.0, 'client_False': 16, 'terminal_False': 13, 'client_latency': 57.708333333333336, 'terminal_latency': 53.82608695652174}\n"
     ]
    },
    {
     "data": {
      "application/vnd.jupyter.widget-view+json": {
       "model_id": "a1fa5efa36a34178bae95fbf88fc8a44",
       "version_major": 2,
       "version_minor": 0
      },
      "text/plain": [
       "HBox(children=(FloatProgress(value=1.0, bar_style='info', max=1.0), HTML(value='')))"
      ]
     },
     "metadata": {},
     "output_type": "display_data"
    },
    {
     "name": "stdout",
     "output_type": "stream",
     "text": [
      "\n",
      "Result written to outputs/algo=WindowStreamingAlgo_client_dist=RoundrobinNodeDistribution_terminal_dist=RoundrobinNodeDistribution_nnodes=1_1583382388.177402.json\n",
      "{'client_TDR': 1.0, 'client_MDR': 0.0, 'client_FDR': 0.4565217391304348, 'client_CDR': 1.5, 'terminal_TDR': 1.0, 'terminal_MDR': 0.0, 'terminal_FDR': 0.25, 'terminal_CDR': 2.56, 'client_False': 21, 'terminal_False': 8, 'client_latency': 47.28, 'terminal_latency': 96.79166666666667}\n"
     ]
    },
    {
     "data": {
      "application/vnd.jupyter.widget-view+json": {
       "model_id": "7b2f75192be54689bd0179fbd9b44c35",
       "version_major": 2,
       "version_minor": 0
      },
      "text/plain": [
       "HBox(children=(FloatProgress(value=1.0, bar_style='info', max=1.0), HTML(value='')))"
      ]
     },
     "metadata": {},
     "output_type": "display_data"
    },
    {
     "name": "stdout",
     "output_type": "stream",
     "text": [
      "\n",
      "Result written to outputs/algo=WindowStreamingAlgo_client_dist=RoundrobinNodeDistribution_terminal_dist=RoundrobinNodeDistribution_nnodes=5_1583382452.672673.json\n",
      "{'client_TDR': 1.0, 'client_MDR': 0.0, 'client_FDR': 0.2857142857142857, 'client_CDR': 1.0, 'terminal_TDR': 1.0, 'terminal_MDR': 0.0, 'terminal_FDR': 0.2941176470588235, 'terminal_CDR': 1.24, 'client_False': 10, 'terminal_False': 10, 'client_latency': 75.84, 'terminal_latency': 132.58333333333334}\n"
     ]
    },
    {
     "data": {
      "application/vnd.jupyter.widget-view+json": {
       "model_id": "7e760f5c1cc14964ac048cb52aefe475",
       "version_major": 2,
       "version_minor": 0
      },
      "text/plain": [
       "HBox(children=(FloatProgress(value=1.0, bar_style='info', max=1.0), HTML(value='')))"
      ]
     },
     "metadata": {},
     "output_type": "display_data"
    },
    {
     "name": "stdout",
     "output_type": "stream",
     "text": [
      "\n",
      "Result written to outputs/algo=WindowStreamingAlgo_client_dist=DependentNodeDistribution_terminal_dist=SecondMetaDependentNodeDistribution_nnodes=5_1583382559.000916.json\n",
      "{'client_TDR': 1.0, 'client_MDR': 0.0, 'client_FDR': 0.4565217391304348, 'client_CDR': 1.5, 'terminal_TDR': 0.9583333333333334, 'terminal_MDR': 0.04166666666666663, 'terminal_FDR': 0.5306122448979591, 'terminal_CDR': 5.2, 'client_False': 21, 'terminal_False': 26, 'client_latency': 47.28, 'terminal_latency': 63.52173913043478}\n"
     ]
    },
    {
     "data": {
      "application/vnd.jupyter.widget-view+json": {
       "model_id": "48a8c057fb44406dba58e322e61397fb",
       "version_major": 2,
       "version_minor": 0
      },
      "text/plain": [
       "HBox(children=(FloatProgress(value=1.0, bar_style='info', max=1.0), HTML(value='')))"
      ]
     },
     "metadata": {},
     "output_type": "display_data"
    },
    {
     "name": "stdout",
     "output_type": "stream",
     "text": [
      "\n",
      "Result written to outputs/algo=WindowStreamingAlgo_client_dist=SecondMetaDependentNodeDistribution_terminal_dist=DependentNodeDistribution_nnodes=5_1583382663.096729.json\n",
      "{'client_TDR': 0.96, 'client_MDR': 0.040000000000000036, 'client_FDR': 0.5636363636363637, 'client_CDR': 3.9166666666666665, 'terminal_TDR': 1.0, 'terminal_MDR': 0.0, 'terminal_FDR': 0.25, 'terminal_CDR': 2.56, 'client_False': 31, 'terminal_False': 8, 'client_latency': 52.166666666666664, 'terminal_latency': 96.79166666666667}\n"
     ]
    },
    {
     "data": {
      "application/vnd.jupyter.widget-view+json": {
       "model_id": "b57d1acc5f374eba94321869b9ceae9a",
       "version_major": 2,
       "version_minor": 0
      },
      "text/plain": [
       "HBox(children=(FloatProgress(value=1.0, bar_style='info', max=1.0), HTML(value='')))"
      ]
     },
     "metadata": {},
     "output_type": "display_data"
    },
    {
     "name": "stdout",
     "output_type": "stream",
     "text": [
      "\n",
      "Result written to outputs/algo=WindowStreamingAlgo_client_dist=RoundrobinNodeDistribution_terminal_dist=RoundrobinNodeDistribution_nnodes=1_1583382812.527192.json\n",
      "{'client_TDR': 1.0, 'client_MDR': 0.0, 'client_FDR': 0.3589743589743589, 'client_CDR': 1.5416666666666667, 'terminal_TDR': 0.9166666666666666, 'terminal_MDR': 0.08333333333333337, 'terminal_FDR': 0.42105263157894735, 'terminal_CDR': 2.84, 'client_False': 14, 'terminal_False': 16, 'client_latency': 64.84, 'terminal_latency': 105.95454545454545}\n"
     ]
    },
    {
     "data": {
      "application/vnd.jupyter.widget-view+json": {
       "model_id": "e0c575465ce949f29c04a7de7f92da1f",
       "version_major": 2,
       "version_minor": 0
      },
      "text/plain": [
       "HBox(children=(FloatProgress(value=1.0, bar_style='info', max=1.0), HTML(value='')))"
      ]
     },
     "metadata": {},
     "output_type": "display_data"
    },
    {
     "name": "stdout",
     "output_type": "stream",
     "text": [
      "\n",
      "Result written to outputs/algo=WindowStreamingAlgo_client_dist=RoundrobinNodeDistribution_terminal_dist=RoundrobinNodeDistribution_nnodes=5_1583382878.0713.json\n",
      "{'client_TDR': 0.96, 'client_MDR': 0.040000000000000036, 'client_FDR': 0.33333333333333337, 'client_CDR': 0.5833333333333334, 'terminal_TDR': 0.875, 'terminal_MDR': 0.125, 'terminal_FDR': 0.27586206896551724, 'terminal_CDR': 1.32, 'client_False': 12, 'terminal_False': 8, 'client_latency': 82.75, 'terminal_latency': 110.19047619047619}\n"
     ]
    },
    {
     "data": {
      "application/vnd.jupyter.widget-view+json": {
       "model_id": "f8a605c8db534582a71e81832e7d9bae",
       "version_major": 2,
       "version_minor": 0
      },
      "text/plain": [
       "HBox(children=(FloatProgress(value=1.0, bar_style='info', max=1.0), HTML(value='')))"
      ]
     },
     "metadata": {},
     "output_type": "display_data"
    },
    {
     "name": "stdout",
     "output_type": "stream",
     "text": [
      "\n",
      "Result written to outputs/algo=WindowStreamingAlgo_client_dist=DependentNodeDistribution_terminal_dist=SecondMetaDependentNodeDistribution_nnodes=5_1583382987.933503.json\n",
      "{'client_TDR': 1.0, 'client_MDR': 0.0, 'client_FDR': 0.3589743589743589, 'client_CDR': 1.5416666666666667, 'terminal_TDR': 0.9166666666666666, 'terminal_MDR': 0.08333333333333337, 'terminal_FDR': 0.47619047619047616, 'terminal_CDR': 5.32, 'client_False': 14, 'terminal_False': 20, 'client_latency': 64.84, 'terminal_latency': 74.13636363636364}\n"
     ]
    },
    {
     "data": {
      "application/vnd.jupyter.widget-view+json": {
       "model_id": "5b262d65258b493487dd652643c6a14b",
       "version_major": 2,
       "version_minor": 0
      },
      "text/plain": [
       "HBox(children=(FloatProgress(value=1.0, bar_style='info', max=1.0), HTML(value='')))"
      ]
     },
     "metadata": {},
     "output_type": "display_data"
    },
    {
     "name": "stdout",
     "output_type": "stream",
     "text": [
      "\n",
      "Result written to outputs/algo=WindowStreamingAlgo_client_dist=SecondMetaDependentNodeDistribution_terminal_dist=DependentNodeDistribution_nnodes=5_1583383086.106933.json\n",
      "{'client_TDR': 1.0, 'client_MDR': 0.0, 'client_FDR': 0.4444444444444444, 'client_CDR': 4.041666666666667, 'terminal_TDR': 0.9166666666666666, 'terminal_MDR': 0.08333333333333337, 'terminal_FDR': 0.42105263157894735, 'terminal_CDR': 2.84, 'client_False': 20, 'terminal_False': 16, 'client_latency': 50.08, 'terminal_latency': 105.95454545454545}\n"
     ]
    },
    {
     "data": {
      "application/vnd.jupyter.widget-view+json": {
       "model_id": "b5a28ca84ada4a628058f20a7cb445f5",
       "version_major": 2,
       "version_minor": 0
      },
      "text/plain": [
       "HBox(children=(FloatProgress(value=1.0, bar_style='info', max=1.0), HTML(value='')))"
      ]
     },
     "metadata": {},
     "output_type": "display_data"
    },
    {
     "name": "stdout",
     "output_type": "stream",
     "text": [
      "\n",
      "Result written to outputs/algo=WindowStreamingAlgo_client_dist=RoundrobinNodeDistribution_terminal_dist=RoundrobinNodeDistribution_nnodes=1_1583383228.195547.json\n",
      "{'client_TDR': 0.96, 'client_MDR': 0.040000000000000036, 'client_FDR': 0.41463414634146345, 'client_CDR': 1.75, 'terminal_TDR': 0.9583333333333334, 'terminal_MDR': 0.04166666666666663, 'terminal_FDR': 0.41025641025641024, 'terminal_CDR': 3.32, 'client_False': 17, 'terminal_False': 16, 'client_latency': 59.083333333333336, 'terminal_latency': 88.04347826086956}\n"
     ]
    },
    {
     "data": {
      "application/vnd.jupyter.widget-view+json": {
       "model_id": "8f0856554b814919b9858215432e2991",
       "version_major": 2,
       "version_minor": 0
      },
      "text/plain": [
       "HBox(children=(FloatProgress(value=1.0, bar_style='info', max=1.0), HTML(value='')))"
      ]
     },
     "metadata": {},
     "output_type": "display_data"
    },
    {
     "name": "stdout",
     "output_type": "stream",
     "text": [
      "\n",
      "Result written to outputs/algo=WindowStreamingAlgo_client_dist=RoundrobinNodeDistribution_terminal_dist=RoundrobinNodeDistribution_nnodes=5_1583383292.613857.json\n",
      "{'client_TDR': 0.96, 'client_MDR': 0.040000000000000036, 'client_FDR': 0.41463414634146345, 'client_CDR': 0.75, 'terminal_TDR': 0.9583333333333334, 'terminal_MDR': 0.04166666666666663, 'terminal_FDR': 0.34285714285714286, 'terminal_CDR': 1.32, 'client_False': 17, 'terminal_False': 12, 'client_latency': 96.70833333333333, 'terminal_latency': 110.8695652173913}\n"
     ]
    },
    {
     "data": {
      "application/vnd.jupyter.widget-view+json": {
       "model_id": "2c15dc9d4ca5490288b8f67ac17ff4b9",
       "version_major": 2,
       "version_minor": 0
      },
      "text/plain": [
       "HBox(children=(FloatProgress(value=1.0, bar_style='info', max=1.0), HTML(value='')))"
      ]
     },
     "metadata": {},
     "output_type": "display_data"
    },
    {
     "name": "stdout",
     "output_type": "stream",
     "text": [
      "\n",
      "Result written to outputs/algo=WindowStreamingAlgo_client_dist=DependentNodeDistribution_terminal_dist=SecondMetaDependentNodeDistribution_nnodes=5_1583383399.910707.json\n",
      "{'client_TDR': 0.96, 'client_MDR': 0.040000000000000036, 'client_FDR': 0.41463414634146345, 'client_CDR': 1.75, 'terminal_TDR': 0.9166666666666666, 'terminal_MDR': 0.08333333333333337, 'terminal_FDR': 0.5686274509803921, 'terminal_CDR': 4.84, 'client_False': 17, 'terminal_False': 29, 'client_latency': 59.083333333333336, 'terminal_latency': 76.27272727272727}\n"
     ]
    },
    {
     "data": {
      "application/vnd.jupyter.widget-view+json": {
       "model_id": "f784594cdd0f400d9838ea84d0752724",
       "version_major": 2,
       "version_minor": 0
      },
      "text/plain": [
       "HBox(children=(FloatProgress(value=1.0, bar_style='info', max=1.0), HTML(value='')))"
      ]
     },
     "metadata": {},
     "output_type": "display_data"
    },
    {
     "name": "stdout",
     "output_type": "stream",
     "text": [
      "\n",
      "Result written to outputs/algo=WindowStreamingAlgo_client_dist=SecondMetaDependentNodeDistribution_terminal_dist=DependentNodeDistribution_nnodes=5_1583383493.762836.json\n",
      "{'client_TDR': 0.96, 'client_MDR': 0.040000000000000036, 'client_FDR': 0.52, 'client_CDR': 3.8333333333333335, 'terminal_TDR': 0.9583333333333334, 'terminal_MDR': 0.04166666666666663, 'terminal_FDR': 0.41025641025641024, 'terminal_CDR': 3.32, 'client_False': 26, 'terminal_False': 16, 'client_latency': 52.291666666666664, 'terminal_latency': 88.04347826086956}\n"
     ]
    },
    {
     "data": {
      "application/vnd.jupyter.widget-view+json": {
       "model_id": "b73d1cca183b401481c6c25f0472c52c",
       "version_major": 2,
       "version_minor": 0
      },
      "text/plain": [
       "HBox(children=(FloatProgress(value=1.0, bar_style='info', max=1.0), HTML(value='')))"
      ]
     },
     "metadata": {},
     "output_type": "display_data"
    },
    {
     "name": "stdout",
     "output_type": "stream",
     "text": [
      "\n",
      "Result written to outputs/algo=WindowStreamingAlgo_client_dist=RoundrobinNodeDistribution_terminal_dist=RoundrobinNodeDistribution_nnodes=1_1583383640.388081.json\n",
      "{'client_TDR': 1.0, 'client_MDR': 0.0, 'client_FDR': 0.3902439024390244, 'client_CDR': 1.5, 'terminal_TDR': 1.0, 'terminal_MDR': 0.0, 'terminal_FDR': 0.3846153846153846, 'terminal_CDR': 3.04, 'client_False': 16, 'terminal_False': 15, 'client_latency': 47.36, 'terminal_latency': 91.29166666666667}\n"
     ]
    },
    {
     "data": {
      "application/vnd.jupyter.widget-view+json": {
       "model_id": "041d5161c7964df7a6b880dd80ab1fe6",
       "version_major": 2,
       "version_minor": 0
      },
      "text/plain": [
       "HBox(children=(FloatProgress(value=1.0, bar_style='info', max=1.0), HTML(value='')))"
      ]
     },
     "metadata": {},
     "output_type": "display_data"
    },
    {
     "name": "stdout",
     "output_type": "stream",
     "text": [
      "\n",
      "Result written to outputs/algo=WindowStreamingAlgo_client_dist=RoundrobinNodeDistribution_terminal_dist=RoundrobinNodeDistribution_nnodes=5_1583383704.350283.json\n",
      "{'client_TDR': 0.96, 'client_MDR': 0.040000000000000036, 'client_FDR': 0.2941176470588235, 'client_CDR': 0.875, 'terminal_TDR': 1.0, 'terminal_MDR': 0.0, 'terminal_FDR': 0.25, 'terminal_CDR': 1.52, 'client_False': 10, 'terminal_False': 8, 'client_latency': 97.875, 'terminal_latency': 101.125}\n"
     ]
    },
    {
     "data": {
      "application/vnd.jupyter.widget-view+json": {
       "model_id": "34973d0f07bf40d9a91cc64bf1d2b8e9",
       "version_major": 2,
       "version_minor": 0
      },
      "text/plain": [
       "HBox(children=(FloatProgress(value=1.0, bar_style='info', max=1.0), HTML(value='')))"
      ]
     },
     "metadata": {},
     "output_type": "display_data"
    },
    {
     "name": "stdout",
     "output_type": "stream",
     "text": [
      "\n",
      "Result written to outputs/algo=WindowStreamingAlgo_client_dist=DependentNodeDistribution_terminal_dist=SecondMetaDependentNodeDistribution_nnodes=5_1583383814.382038.json\n",
      "{'client_TDR': 1.0, 'client_MDR': 0.0, 'client_FDR': 0.3902439024390244, 'client_CDR': 1.5, 'terminal_TDR': 0.9583333333333334, 'terminal_MDR': 0.04166666666666663, 'terminal_FDR': 0.5892857142857143, 'terminal_CDR': 5.04, 'client_False': 16, 'terminal_False': 33, 'client_latency': 47.36, 'terminal_latency': 63.47826086956522}\n"
     ]
    },
    {
     "data": {
      "application/vnd.jupyter.widget-view+json": {
       "model_id": "f18bbe4d7e24495385241467f838249a",
       "version_major": 2,
       "version_minor": 0
      },
      "text/plain": [
       "HBox(children=(FloatProgress(value=1.0, bar_style='info', max=1.0), HTML(value='')))"
      ]
     },
     "metadata": {},
     "output_type": "display_data"
    },
    {
     "name": "stdout",
     "output_type": "stream",
     "text": [
      "\n",
      "Result written to outputs/algo=WindowStreamingAlgo_client_dist=SecondMetaDependentNodeDistribution_terminal_dist=DependentNodeDistribution_nnodes=5_1583383910.266626.json\n",
      "{'client_TDR': 1.0, 'client_MDR': 0.0, 'client_FDR': 0.5535714285714286, 'client_CDR': 4.416666666666667, 'terminal_TDR': 1.0, 'terminal_MDR': 0.0, 'terminal_FDR': 0.3846153846153846, 'terminal_CDR': 3.04, 'client_False': 31, 'terminal_False': 15, 'client_latency': 51.84, 'terminal_latency': 91.29166666666667}\n"
     ]
    },
    {
     "data": {
      "application/vnd.jupyter.widget-view+json": {
       "model_id": "f503990cc8494541a4328a76062dedb4",
       "version_major": 2,
       "version_minor": 0
      },
      "text/plain": [
       "HBox(children=(FloatProgress(value=1.0, bar_style='info', max=1.0), HTML(value='')))"
      ]
     },
     "metadata": {},
     "output_type": "display_data"
    },
    {
     "name": "stdout",
     "output_type": "stream",
     "text": [
      "\n",
      "Result written to outputs/algo=WindowStreamingAlgo_client_dist=RoundrobinNodeDistribution_terminal_dist=RoundrobinNodeDistribution_nnodes=1_1583384064.654931.json\n",
      "{'client_TDR': 1.0, 'client_MDR': 0.0, 'client_FDR': 0.2647058823529411, 'client_CDR': 1.0833333333333333, 'terminal_TDR': 0.9583333333333334, 'terminal_MDR': 0.04166666666666663, 'terminal_FDR': 0.42500000000000004, 'terminal_CDR': 3.0, 'client_False': 9, 'terminal_False': 17, 'client_latency': 44.6, 'terminal_latency': 101.08695652173913}\n"
     ]
    },
    {
     "data": {
      "application/vnd.jupyter.widget-view+json": {
       "model_id": "42463593700e447b9d99aab4aaa7d55a",
       "version_major": 2,
       "version_minor": 0
      },
      "text/plain": [
       "HBox(children=(FloatProgress(value=1.0, bar_style='info', max=1.0), HTML(value='')))"
      ]
     },
     "metadata": {},
     "output_type": "display_data"
    },
    {
     "name": "stdout",
     "output_type": "stream",
     "text": [
      "\n",
      "Result written to outputs/algo=WindowStreamingAlgo_client_dist=RoundrobinNodeDistribution_terminal_dist=RoundrobinNodeDistribution_nnodes=5_1583384131.753637.json\n",
      "{'client_TDR': 1.0, 'client_MDR': 0.0, 'client_FDR': 0.19354838709677424, 'client_CDR': 0.5, 'terminal_TDR': 0.875, 'terminal_MDR': 0.125, 'terminal_FDR': 0.30000000000000004, 'terminal_CDR': 0.92, 'client_False': 6, 'terminal_False': 9, 'client_latency': 75.28, 'terminal_latency': 149.95238095238096}\n"
     ]
    },
    {
     "data": {
      "application/vnd.jupyter.widget-view+json": {
       "model_id": "fdb0774b78cd4e60a9c5f3ecece9b4a7",
       "version_major": 2,
       "version_minor": 0
      },
      "text/plain": [
       "HBox(children=(FloatProgress(value=1.0, bar_style='info', max=1.0), HTML(value='')))"
      ]
     },
     "metadata": {},
     "output_type": "display_data"
    },
    {
     "name": "stdout",
     "output_type": "stream",
     "text": [
      "\n",
      "Result written to outputs/algo=WindowStreamingAlgo_client_dist=DependentNodeDistribution_terminal_dist=SecondMetaDependentNodeDistribution_nnodes=5_1583384249.475922.json\n",
      "{'client_TDR': 1.0, 'client_MDR': 0.0, 'client_FDR': 0.2647058823529411, 'client_CDR': 1.0833333333333333, 'terminal_TDR': 1.0, 'terminal_MDR': 0.0, 'terminal_FDR': 0.4666666666666667, 'terminal_CDR': 4.48, 'client_False': 9, 'terminal_False': 21, 'client_latency': 44.6, 'terminal_latency': 87.08333333333333}\n"
     ]
    },
    {
     "data": {
      "application/vnd.jupyter.widget-view+json": {
       "model_id": "660e9eb34061475f821d292f9dda3af1",
       "version_major": 2,
       "version_minor": 0
      },
      "text/plain": [
       "HBox(children=(FloatProgress(value=1.0, bar_style='info', max=1.0), HTML(value='')))"
      ]
     },
     "metadata": {},
     "output_type": "display_data"
    },
    {
     "name": "stdout",
     "output_type": "stream",
     "text": [
      "\n",
      "Result written to outputs/algo=WindowStreamingAlgo_client_dist=SecondMetaDependentNodeDistribution_terminal_dist=DependentNodeDistribution_nnodes=5_1583384346.79731.json\n",
      "{'client_TDR': 1.0, 'client_MDR': 0.0, 'client_FDR': 0.4444444444444444, 'client_CDR': 3.7083333333333335, 'terminal_TDR': 0.9583333333333334, 'terminal_MDR': 0.04166666666666663, 'terminal_FDR': 0.42500000000000004, 'terminal_CDR': 3.0, 'client_False': 20, 'terminal_False': 17, 'client_latency': 54.36, 'terminal_latency': 101.08695652173913}\n"
     ]
    },
    {
     "data": {
      "application/vnd.jupyter.widget-view+json": {
       "model_id": "7793aaf7112d49f29b5818ec5cbb78d5",
       "version_major": 2,
       "version_minor": 0
      },
      "text/plain": [
       "HBox(children=(FloatProgress(value=1.0, bar_style='info', max=1.0), HTML(value='')))"
      ]
     },
     "metadata": {},
     "output_type": "display_data"
    },
    {
     "name": "stdout",
     "output_type": "stream",
     "text": [
      "\n",
      "Result written to outputs/algo=WindowStreamingAlgo_client_dist=RoundrobinNodeDistribution_terminal_dist=RoundrobinNodeDistribution_nnodes=1_1583384485.008044.json\n",
      "{'client_TDR': 1.0, 'client_MDR': 0.0, 'client_FDR': 0.47916666666666663, 'client_CDR': 2.125, 'terminal_TDR': 1.0, 'terminal_MDR': 0.0, 'terminal_FDR': 0.33333333333333337, 'terminal_CDR': 3.08, 'client_False': 23, 'terminal_False': 12, 'client_latency': 48.96, 'terminal_latency': 71.125}\n"
     ]
    },
    {
     "data": {
      "application/vnd.jupyter.widget-view+json": {
       "model_id": "8a5467238d994e9f819ea63666836627",
       "version_major": 2,
       "version_minor": 0
      },
      "text/plain": [
       "HBox(children=(FloatProgress(value=1.0, bar_style='info', max=1.0), HTML(value='')))"
      ]
     },
     "metadata": {},
     "output_type": "display_data"
    },
    {
     "name": "stdout",
     "output_type": "stream",
     "text": [
      "\n",
      "Result written to outputs/algo=WindowStreamingAlgo_client_dist=RoundrobinNodeDistribution_terminal_dist=RoundrobinNodeDistribution_nnodes=5_1583384547.569425.json\n",
      "{'client_TDR': 1.0, 'client_MDR': 0.0, 'client_FDR': 0.3055555555555556, 'client_CDR': 1.0, 'terminal_TDR': 0.9583333333333334, 'terminal_MDR': 0.04166666666666663, 'terminal_FDR': 0.3783783783783784, 'terminal_CDR': 1.72, 'client_False': 11, 'terminal_False': 14, 'client_latency': 94.0, 'terminal_latency': 123.65217391304348}\n"
     ]
    },
    {
     "data": {
      "application/vnd.jupyter.widget-view+json": {
       "model_id": "c0fafcf451e24a9bbf01715ec0eb98bf",
       "version_major": 2,
       "version_minor": 0
      },
      "text/plain": [
       "HBox(children=(FloatProgress(value=1.0, bar_style='info', max=1.0), HTML(value='')))"
      ]
     },
     "metadata": {},
     "output_type": "display_data"
    },
    {
     "name": "stdout",
     "output_type": "stream",
     "text": [
      "\n",
      "Result written to outputs/algo=WindowStreamingAlgo_client_dist=DependentNodeDistribution_terminal_dist=SecondMetaDependentNodeDistribution_nnodes=5_1583384648.165651.json\n",
      "{'client_TDR': 1.0, 'client_MDR': 0.0, 'client_FDR': 0.47916666666666663, 'client_CDR': 2.125, 'terminal_TDR': 0.8333333333333334, 'terminal_MDR': 0.16666666666666663, 'terminal_FDR': 0.5348837209302326, 'terminal_CDR': 5.2, 'client_False': 23, 'terminal_False': 23, 'client_latency': 48.96, 'terminal_latency': 68.3}\n"
     ]
    },
    {
     "data": {
      "application/vnd.jupyter.widget-view+json": {
       "model_id": "4ea060635e7242c1bfa1ca84685799fb",
       "version_major": 2,
       "version_minor": 0
      },
      "text/plain": [
       "HBox(children=(FloatProgress(value=1.0, bar_style='info', max=1.0), HTML(value='')))"
      ]
     },
     "metadata": {},
     "output_type": "display_data"
    },
    {
     "name": "stdout",
     "output_type": "stream",
     "text": [
      "\n",
      "Result written to outputs/algo=WindowStreamingAlgo_client_dist=SecondMetaDependentNodeDistribution_terminal_dist=DependentNodeDistribution_nnodes=5_1583384743.043082.json\n",
      "{'client_TDR': 0.96, 'client_MDR': 0.040000000000000036, 'client_FDR': 0.4893617021276596, 'client_CDR': 4.625, 'terminal_TDR': 1.0, 'terminal_MDR': 0.0, 'terminal_FDR': 0.33333333333333337, 'terminal_CDR': 3.08, 'client_False': 23, 'terminal_False': 12, 'client_latency': 49.5, 'terminal_latency': 71.125}\n"
     ]
    },
    {
     "data": {
      "application/vnd.jupyter.widget-view+json": {
       "model_id": "1747d0adfca443efbdb126b6f5b626e6",
       "version_major": 2,
       "version_minor": 0
      },
      "text/plain": [
       "HBox(children=(FloatProgress(value=1.0, bar_style='info', max=1.0), HTML(value='')))"
      ]
     },
     "metadata": {},
     "output_type": "display_data"
    },
    {
     "name": "stdout",
     "output_type": "stream",
     "text": [
      "\n",
      "Result written to outputs/algo=WindowStreamingAlgo_client_dist=RoundrobinNodeDistribution_terminal_dist=RoundrobinNodeDistribution_nnodes=1_1583384896.97989.json\n",
      "{'client_TDR': 1.0, 'client_MDR': 0.0, 'client_FDR': 0.2647058823529411, 'client_CDR': 1.875, 'terminal_TDR': 0.9583333333333334, 'terminal_MDR': 0.04166666666666663, 'terminal_FDR': 0.36111111111111116, 'terminal_CDR': 2.52, 'client_False': 9, 'terminal_False': 13, 'client_latency': 58.64, 'terminal_latency': 70.69565217391305}\n"
     ]
    },
    {
     "data": {
      "application/vnd.jupyter.widget-view+json": {
       "model_id": "f33174058aae46b5b782a67cd1e203a7",
       "version_major": 2,
       "version_minor": 0
      },
      "text/plain": [
       "HBox(children=(FloatProgress(value=1.0, bar_style='info', max=1.0), HTML(value='')))"
      ]
     },
     "metadata": {},
     "output_type": "display_data"
    },
    {
     "name": "stdout",
     "output_type": "stream",
     "text": [
      "\n",
      "Result written to outputs/algo=WindowStreamingAlgo_client_dist=RoundrobinNodeDistribution_terminal_dist=RoundrobinNodeDistribution_nnodes=5_1583384961.782111.json\n",
      "{'client_TDR': 0.92, 'client_MDR': 0.07999999999999996, 'client_FDR': 0.28125, 'client_CDR': 0.8333333333333334, 'terminal_TDR': 0.875, 'terminal_MDR': 0.125, 'terminal_FDR': 0.27586206896551724, 'terminal_CDR': 1.56, 'client_False': 9, 'terminal_False': 8, 'client_latency': 85.52173913043478, 'terminal_latency': 109.47619047619048}\n"
     ]
    },
    {
     "data": {
      "application/vnd.jupyter.widget-view+json": {
       "model_id": "382ef7ca9d0c4c0591f00c15a4f599c8",
       "version_major": 2,
       "version_minor": 0
      },
      "text/plain": [
       "HBox(children=(FloatProgress(value=1.0, bar_style='info', max=1.0), HTML(value='')))"
      ]
     },
     "metadata": {},
     "output_type": "display_data"
    },
    {
     "name": "stdout",
     "output_type": "stream",
     "text": [
      "\n",
      "Result written to outputs/algo=WindowStreamingAlgo_client_dist=DependentNodeDistribution_terminal_dist=SecondMetaDependentNodeDistribution_nnodes=5_1583385070.885623.json\n",
      "{'client_TDR': 1.0, 'client_MDR': 0.0, 'client_FDR': 0.2647058823529411, 'client_CDR': 1.875, 'terminal_TDR': 0.9583333333333334, 'terminal_MDR': 0.04166666666666663, 'terminal_FDR': 0.5740740740740741, 'terminal_CDR': 4.6, 'client_False': 9, 'terminal_False': 31, 'client_latency': 58.64, 'terminal_latency': 69.91304347826087}\n"
     ]
    },
    {
     "data": {
      "application/vnd.jupyter.widget-view+json": {
       "model_id": "ff67c1536300467692246f70350f7caf",
       "version_major": 2,
       "version_minor": 0
      },
      "text/plain": [
       "HBox(children=(FloatProgress(value=1.0, bar_style='info', max=1.0), HTML(value='')))"
      ]
     },
     "metadata": {},
     "output_type": "display_data"
    },
    {
     "name": "stdout",
     "output_type": "stream",
     "text": [
      "\n",
      "Result written to outputs/algo=WindowStreamingAlgo_client_dist=SecondMetaDependentNodeDistribution_terminal_dist=DependentNodeDistribution_nnodes=5_1583385174.88894.json\n",
      "{'client_TDR': 0.96, 'client_MDR': 0.040000000000000036, 'client_FDR': 0.52, 'client_CDR': 3.9166666666666665, 'terminal_TDR': 0.9583333333333334, 'terminal_MDR': 0.04166666666666663, 'terminal_FDR': 0.36111111111111116, 'terminal_CDR': 2.52, 'client_False': 26, 'terminal_False': 13, 'client_latency': 55.708333333333336, 'terminal_latency': 70.69565217391305}\n"
     ]
    },
    {
     "data": {
      "application/vnd.jupyter.widget-view+json": {
       "model_id": "c145a803d3f245cbbf384ca46f521108",
       "version_major": 2,
       "version_minor": 0
      },
      "text/plain": [
       "HBox(children=(FloatProgress(value=1.0, bar_style='info', max=1.0), HTML(value='')))"
      ]
     },
     "metadata": {},
     "output_type": "display_data"
    },
    {
     "name": "stdout",
     "output_type": "stream",
     "text": [
      "\n",
      "Result written to outputs/algo=WindowStreamingAlgo_client_dist=RoundrobinNodeDistribution_terminal_dist=RoundrobinNodeDistribution_nnodes=1_1583385322.36724.json\n",
      "{'client_TDR': 1.0, 'client_MDR': 0.0, 'client_FDR': 0.21875, 'client_CDR': 1.5833333333333333, 'terminal_TDR': 1.0, 'terminal_MDR': 0.0, 'terminal_FDR': 0.3846153846153846, 'terminal_CDR': 3.36, 'client_False': 7, 'terminal_False': 15, 'client_latency': 55.4, 'terminal_latency': 87.20833333333333}\n"
     ]
    },
    {
     "data": {
      "application/vnd.jupyter.widget-view+json": {
       "model_id": "c6e8ae7122ec46f3ba8e3cbd6af43233",
       "version_major": 2,
       "version_minor": 0
      },
      "text/plain": [
       "HBox(children=(FloatProgress(value=1.0, bar_style='info', max=1.0), HTML(value='')))"
      ]
     },
     "metadata": {},
     "output_type": "display_data"
    },
    {
     "name": "stdout",
     "output_type": "stream",
     "text": [
      "\n",
      "Result written to outputs/algo=WindowStreamingAlgo_client_dist=RoundrobinNodeDistribution_terminal_dist=RoundrobinNodeDistribution_nnodes=5_1583385385.109505.json\n",
      "{'client_TDR': 1.0, 'client_MDR': 0.0, 'client_FDR': 0.40476190476190477, 'client_CDR': 0.9583333333333334, 'terminal_TDR': 0.875, 'terminal_MDR': 0.125, 'terminal_FDR': 0.41666666666666663, 'terminal_CDR': 1.68, 'client_False': 17, 'terminal_False': 15, 'client_latency': 76.28, 'terminal_latency': 130.85714285714286}\n"
     ]
    },
    {
     "data": {
      "application/vnd.jupyter.widget-view+json": {
       "model_id": "2c231ab9fddf4d119e6455c50ca1cfc5",
       "version_major": 2,
       "version_minor": 0
      },
      "text/plain": [
       "HBox(children=(FloatProgress(value=1.0, bar_style='info', max=1.0), HTML(value='')))"
      ]
     },
     "metadata": {},
     "output_type": "display_data"
    },
    {
     "name": "stdout",
     "output_type": "stream",
     "text": [
      "\n",
      "Result written to outputs/algo=WindowStreamingAlgo_client_dist=DependentNodeDistribution_terminal_dist=SecondMetaDependentNodeDistribution_nnodes=5_1583385497.423258.json\n",
      "{'client_TDR': 1.0, 'client_MDR': 0.0, 'client_FDR': 0.21875, 'client_CDR': 1.5833333333333333, 'terminal_TDR': 1.0, 'terminal_MDR': 0.0, 'terminal_FDR': 0.5384615384615384, 'terminal_CDR': 5.04, 'client_False': 7, 'terminal_False': 28, 'client_latency': 55.4, 'terminal_latency': 65.625}\n"
     ]
    },
    {
     "data": {
      "application/vnd.jupyter.widget-view+json": {
       "model_id": "5ca23130edf140b1945dec508e3ff6b5",
       "version_major": 2,
       "version_minor": 0
      },
      "text/plain": [
       "HBox(children=(FloatProgress(value=1.0, bar_style='info', max=1.0), HTML(value='')))"
      ]
     },
     "metadata": {},
     "output_type": "display_data"
    },
    {
     "name": "stdout",
     "output_type": "stream",
     "text": [
      "\n",
      "Result written to outputs/algo=WindowStreamingAlgo_client_dist=SecondMetaDependentNodeDistribution_terminal_dist=DependentNodeDistribution_nnodes=5_1583385590.998374.json\n",
      "{'client_TDR': 0.96, 'client_MDR': 0.040000000000000036, 'client_FDR': 0.5294117647058824, 'client_CDR': 3.75, 'terminal_TDR': 1.0, 'terminal_MDR': 0.0, 'terminal_FDR': 0.3846153846153846, 'terminal_CDR': 3.36, 'client_False': 27, 'terminal_False': 15, 'client_latency': 64.04166666666667, 'terminal_latency': 87.20833333333333}\n"
     ]
    },
    {
     "data": {
      "application/vnd.jupyter.widget-view+json": {
       "model_id": "b82561307c3245d58084a104595d1429",
       "version_major": 2,
       "version_minor": 0
      },
      "text/plain": [
       "HBox(children=(FloatProgress(value=1.0, bar_style='info', max=1.0), HTML(value='')))"
      ]
     },
     "metadata": {},
     "output_type": "display_data"
    },
    {
     "name": "stdout",
     "output_type": "stream",
     "text": [
      "\n",
      "Result written to outputs/algo=WindowStreamingAlgo_client_dist=RoundrobinNodeDistribution_terminal_dist=RoundrobinNodeDistribution_nnodes=1_1583385735.431359.json\n",
      "{'client_TDR': 1.0, 'client_MDR': 0.0, 'client_FDR': 0.3421052631578947, 'client_CDR': 1.7083333333333333, 'terminal_TDR': 1.0, 'terminal_MDR': 0.0, 'terminal_FDR': 0.4545454545454546, 'terminal_CDR': 3.04, 'client_False': 13, 'terminal_False': 20, 'client_latency': 59.96, 'terminal_latency': 63.083333333333336}\n"
     ]
    },
    {
     "data": {
      "application/vnd.jupyter.widget-view+json": {
       "model_id": "c1131c5f86ce4efdb440a41b64bae94e",
       "version_major": 2,
       "version_minor": 0
      },
      "text/plain": [
       "HBox(children=(FloatProgress(value=1.0, bar_style='info', max=1.0), HTML(value='')))"
      ]
     },
     "metadata": {},
     "output_type": "display_data"
    },
    {
     "name": "stdout",
     "output_type": "stream",
     "text": [
      "\n",
      "Result written to outputs/algo=WindowStreamingAlgo_client_dist=RoundrobinNodeDistribution_terminal_dist=RoundrobinNodeDistribution_nnodes=5_1583385798.079014.json\n",
      "{'client_TDR': 0.96, 'client_MDR': 0.040000000000000036, 'client_FDR': 0.4, 'client_CDR': 1.125, 'terminal_TDR': 1.0, 'terminal_MDR': 0.0, 'terminal_FDR': 0.41463414634146345, 'terminal_CDR': 1.44, 'client_False': 16, 'terminal_False': 17, 'client_latency': 90.08333333333333, 'terminal_latency': 99.25}\n"
     ]
    },
    {
     "data": {
      "application/vnd.jupyter.widget-view+json": {
       "model_id": "e8e5d7f723334d3e83f51b5b56dc4e95",
       "version_major": 2,
       "version_minor": 0
      },
      "text/plain": [
       "HBox(children=(FloatProgress(value=1.0, bar_style='info', max=1.0), HTML(value='')))"
      ]
     },
     "metadata": {},
     "output_type": "display_data"
    },
    {
     "name": "stdout",
     "output_type": "stream",
     "text": [
      "\n",
      "Result written to outputs/algo=WindowStreamingAlgo_client_dist=DependentNodeDistribution_terminal_dist=SecondMetaDependentNodeDistribution_nnodes=5_1583385907.390288.json\n",
      "{'client_TDR': 1.0, 'client_MDR': 0.0, 'client_FDR': 0.3421052631578947, 'client_CDR': 1.7083333333333333, 'terminal_TDR': 1.0, 'terminal_MDR': 0.0, 'terminal_FDR': 0.5714285714285714, 'terminal_CDR': 4.4, 'client_False': 13, 'terminal_False': 32, 'client_latency': 59.96, 'terminal_latency': 57.208333333333336}\n"
     ]
    },
    {
     "data": {
      "application/vnd.jupyter.widget-view+json": {
       "model_id": "ef19f1a3bebb404ba764a9cc7e384b5a",
       "version_major": 2,
       "version_minor": 0
      },
      "text/plain": [
       "HBox(children=(FloatProgress(value=1.0, bar_style='info', max=1.0), HTML(value='')))"
      ]
     },
     "metadata": {},
     "output_type": "display_data"
    },
    {
     "name": "stdout",
     "output_type": "stream",
     "text": [
      "\n",
      "Result written to outputs/algo=WindowStreamingAlgo_client_dist=SecondMetaDependentNodeDistribution_terminal_dist=DependentNodeDistribution_nnodes=5_1583386001.705195.json\n",
      "{'client_TDR': 1.0, 'client_MDR': 0.0, 'client_FDR': 0.46808510638297873, 'client_CDR': 4.166666666666667, 'terminal_TDR': 1.0, 'terminal_MDR': 0.0, 'terminal_FDR': 0.4545454545454546, 'terminal_CDR': 3.04, 'client_False': 22, 'terminal_False': 20, 'client_latency': 46.96, 'terminal_latency': 63.083333333333336}\n"
     ]
    },
    {
     "data": {
      "application/vnd.jupyter.widget-view+json": {
       "model_id": "b9335c7b4c2846be90224a3d704fdfdb",
       "version_major": 2,
       "version_minor": 0
      },
      "text/plain": [
       "HBox(children=(FloatProgress(value=1.0, bar_style='info', max=1.0), HTML(value='')))"
      ]
     },
     "metadata": {},
     "output_type": "display_data"
    },
    {
     "name": "stdout",
     "output_type": "stream",
     "text": [
      "\n",
      "Result written to outputs/algo=WindowStreamingAlgo_client_dist=RoundrobinNodeDistribution_terminal_dist=RoundrobinNodeDistribution_nnodes=1_1583386153.309284.json\n",
      "{'client_TDR': 0.96, 'client_MDR': 0.040000000000000036, 'client_FDR': 0.3142857142857143, 'client_CDR': 1.5416666666666667, 'terminal_TDR': 1.0, 'terminal_MDR': 0.0, 'terminal_FDR': 0.33333333333333337, 'terminal_CDR': 2.92, 'client_False': 11, 'terminal_False': 12, 'client_latency': 52.458333333333336, 'terminal_latency': 71.41666666666667}\n"
     ]
    },
    {
     "data": {
      "application/vnd.jupyter.widget-view+json": {
       "model_id": "3ccc907b9f284301a750c96ee2f182d7",
       "version_major": 2,
       "version_minor": 0
      },
      "text/plain": [
       "HBox(children=(FloatProgress(value=1.0, bar_style='info', max=1.0), HTML(value='')))"
      ]
     },
     "metadata": {},
     "output_type": "display_data"
    },
    {
     "name": "stdout",
     "output_type": "stream",
     "text": [
      "\n",
      "Result written to outputs/algo=WindowStreamingAlgo_client_dist=RoundrobinNodeDistribution_terminal_dist=RoundrobinNodeDistribution_nnodes=5_1583386217.915267.json\n",
      "{'client_TDR': 1.0, 'client_MDR': 0.0, 'client_FDR': 0.24242424242424243, 'client_CDR': 0.6666666666666666, 'terminal_TDR': 0.875, 'terminal_MDR': 0.125, 'terminal_FDR': 0.38235294117647056, 'terminal_CDR': 1.6, 'client_False': 8, 'terminal_False': 13, 'client_latency': 78.08, 'terminal_latency': 109.95238095238095}\n"
     ]
    },
    {
     "data": {
      "application/vnd.jupyter.widget-view+json": {
       "model_id": "ac16f2f7736347fd9f810849ff198da8",
       "version_major": 2,
       "version_minor": 0
      },
      "text/plain": [
       "HBox(children=(FloatProgress(value=1.0, bar_style='info', max=1.0), HTML(value='')))"
      ]
     },
     "metadata": {},
     "output_type": "display_data"
    },
    {
     "name": "stdout",
     "output_type": "stream",
     "text": [
      "\n",
      "Result written to outputs/algo=WindowStreamingAlgo_client_dist=DependentNodeDistribution_terminal_dist=SecondMetaDependentNodeDistribution_nnodes=5_1583386330.1173.json\n",
      "{'client_TDR': 0.96, 'client_MDR': 0.040000000000000036, 'client_FDR': 0.3142857142857143, 'client_CDR': 1.5416666666666667, 'terminal_TDR': 0.9583333333333334, 'terminal_MDR': 0.04166666666666663, 'terminal_FDR': 0.5106382978723405, 'terminal_CDR': 4.92, 'client_False': 11, 'terminal_False': 24, 'client_latency': 52.458333333333336, 'terminal_latency': 75.95652173913044}\n"
     ]
    },
    {
     "data": {
      "application/vnd.jupyter.widget-view+json": {
       "model_id": "4f0f4f22f3854627bcb6b3f9e81727df",
       "version_major": 2,
       "version_minor": 0
      },
      "text/plain": [
       "HBox(children=(FloatProgress(value=1.0, bar_style='info', max=1.0), HTML(value='')))"
      ]
     },
     "metadata": {},
     "output_type": "display_data"
    },
    {
     "name": "stdout",
     "output_type": "stream",
     "text": [
      "\n",
      "Result written to outputs/algo=WindowStreamingAlgo_client_dist=SecondMetaDependentNodeDistribution_terminal_dist=DependentNodeDistribution_nnodes=5_1583386429.309232.json\n",
      "{'client_TDR': 1.0, 'client_MDR': 0.0, 'client_FDR': 0.43181818181818177, 'client_CDR': 3.625, 'terminal_TDR': 1.0, 'terminal_MDR': 0.0, 'terminal_FDR': 0.33333333333333337, 'terminal_CDR': 2.92, 'client_False': 19, 'terminal_False': 12, 'client_latency': 53.68, 'terminal_latency': 71.41666666666667}\n"
     ]
    },
    {
     "data": {
      "application/vnd.jupyter.widget-view+json": {
       "model_id": "bc5898c2bb4a45c5ba5d64415a0c66b6",
       "version_major": 2,
       "version_minor": 0
      },
      "text/plain": [
       "HBox(children=(FloatProgress(value=1.0, bar_style='info', max=1.0), HTML(value='')))"
      ]
     },
     "metadata": {},
     "output_type": "display_data"
    },
    {
     "name": "stdout",
     "output_type": "stream",
     "text": [
      "\n",
      "Result written to outputs/algo=WindowStreamingAlgo_client_dist=RoundrobinNodeDistribution_terminal_dist=RoundrobinNodeDistribution_nnodes=1_1583386572.101464.json\n",
      "{'client_TDR': 1.0, 'client_MDR': 0.0, 'client_FDR': 0.41860465116279066, 'client_CDR': 2.0833333333333335, 'terminal_TDR': 1.0, 'terminal_MDR': 0.0, 'terminal_FDR': 0.3513513513513513, 'terminal_CDR': 2.84, 'client_False': 18, 'terminal_False': 13, 'client_latency': 48.68, 'terminal_latency': 78.625}\n"
     ]
    },
    {
     "data": {
      "application/vnd.jupyter.widget-view+json": {
       "model_id": "98e79bf0778c4c5f92397cb3e5ac555c",
       "version_major": 2,
       "version_minor": 0
      },
      "text/plain": [
       "HBox(children=(FloatProgress(value=1.0, bar_style='info', max=1.0), HTML(value='')))"
      ]
     },
     "metadata": {},
     "output_type": "display_data"
    },
    {
     "name": "stdout",
     "output_type": "stream",
     "text": [
      "\n",
      "Result written to outputs/algo=WindowStreamingAlgo_client_dist=RoundrobinNodeDistribution_terminal_dist=RoundrobinNodeDistribution_nnodes=5_1583386635.470338.json\n",
      "{'client_TDR': 1.0, 'client_MDR': 0.0, 'client_FDR': 0.3055555555555556, 'client_CDR': 0.875, 'terminal_TDR': 0.9583333333333334, 'terminal_MDR': 0.04166666666666663, 'terminal_FDR': 0.42500000000000004, 'terminal_CDR': 1.52, 'client_False': 11, 'terminal_False': 17, 'client_latency': 82.12, 'terminal_latency': 92.26086956521739}\n"
     ]
    },
    {
     "data": {
      "application/vnd.jupyter.widget-view+json": {
       "model_id": "05eb3a2ff5bf4c529657f817ff0d5375",
       "version_major": 2,
       "version_minor": 0
      },
      "text/plain": [
       "HBox(children=(FloatProgress(value=1.0, bar_style='info', max=1.0), HTML(value='')))"
      ]
     },
     "metadata": {},
     "output_type": "display_data"
    },
    {
     "name": "stdout",
     "output_type": "stream",
     "text": [
      "\n",
      "Result written to outputs/algo=WindowStreamingAlgo_client_dist=DependentNodeDistribution_terminal_dist=SecondMetaDependentNodeDistribution_nnodes=5_1583386738.042773.json\n",
      "{'client_TDR': 1.0, 'client_MDR': 0.0, 'client_FDR': 0.41860465116279066, 'client_CDR': 2.0833333333333335, 'terminal_TDR': 0.9583333333333334, 'terminal_MDR': 0.04166666666666663, 'terminal_FDR': 0.42500000000000004, 'terminal_CDR': 5.12, 'client_False': 18, 'terminal_False': 17, 'client_latency': 48.68, 'terminal_latency': 64.1304347826087}\n"
     ]
    },
    {
     "data": {
      "application/vnd.jupyter.widget-view+json": {
       "model_id": "d5f5eb3c5bc3424f987cedcad978c41a",
       "version_major": 2,
       "version_minor": 0
      },
      "text/plain": [
       "HBox(children=(FloatProgress(value=1.0, bar_style='info', max=1.0), HTML(value='')))"
      ]
     },
     "metadata": {},
     "output_type": "display_data"
    },
    {
     "name": "stdout",
     "output_type": "stream",
     "text": [
      "\n",
      "Result written to outputs/algo=WindowStreamingAlgo_client_dist=SecondMetaDependentNodeDistribution_terminal_dist=DependentNodeDistribution_nnodes=5_1583386837.267503.json\n",
      "{'client_TDR': 1.0, 'client_MDR': 0.0, 'client_FDR': 0.4444444444444444, 'client_CDR': 4.208333333333333, 'terminal_TDR': 1.0, 'terminal_MDR': 0.0, 'terminal_FDR': 0.3513513513513513, 'terminal_CDR': 2.84, 'client_False': 20, 'terminal_False': 13, 'client_latency': 45.24, 'terminal_latency': 78.625}\n"
     ]
    },
    {
     "data": {
      "application/vnd.jupyter.widget-view+json": {
       "model_id": "bea6e2fdfb544b4183f919679fc1e318",
       "version_major": 2,
       "version_minor": 0
      },
      "text/plain": [
       "HBox(children=(FloatProgress(value=1.0, bar_style='info', max=1.0), HTML(value='')))"
      ]
     },
     "metadata": {},
     "output_type": "display_data"
    },
    {
     "name": "stdout",
     "output_type": "stream",
     "text": [
      "\n",
      "Result written to outputs/algo=WindowStreamingAlgo_client_dist=RoundrobinNodeDistribution_terminal_dist=RoundrobinNodeDistribution_nnodes=1_1583386989.95365.json\n",
      "{'client_TDR': 1.0, 'client_MDR': 0.0, 'client_FDR': 0.32432432432432434, 'client_CDR': 1.75, 'terminal_TDR': 1.0, 'terminal_MDR': 0.0, 'terminal_FDR': 0.2941176470588235, 'terminal_CDR': 2.56, 'client_False': 12, 'terminal_False': 10, 'client_latency': 52.2, 'terminal_latency': 73.70833333333333}\n"
     ]
    },
    {
     "data": {
      "application/vnd.jupyter.widget-view+json": {
       "model_id": "ea4a574a9c744429b5e49d1c5e4cbb7d",
       "version_major": 2,
       "version_minor": 0
      },
      "text/plain": [
       "HBox(children=(FloatProgress(value=1.0, bar_style='info', max=1.0), HTML(value='')))"
      ]
     },
     "metadata": {},
     "output_type": "display_data"
    },
    {
     "name": "stdout",
     "output_type": "stream",
     "text": [
      "\n",
      "Result written to outputs/algo=WindowStreamingAlgo_client_dist=RoundrobinNodeDistribution_terminal_dist=RoundrobinNodeDistribution_nnodes=5_1583387053.476527.json\n",
      "{'client_TDR': 0.96, 'client_MDR': 0.040000000000000036, 'client_FDR': 0.33333333333333337, 'client_CDR': 1.25, 'terminal_TDR': 1.0, 'terminal_MDR': 0.0, 'terminal_FDR': 0.22580645161290325, 'terminal_CDR': 1.52, 'client_False': 12, 'terminal_False': 7, 'client_latency': 78.33333333333333, 'terminal_latency': 111.875}\n"
     ]
    },
    {
     "data": {
      "application/vnd.jupyter.widget-view+json": {
       "model_id": "4f6abebf410248f5949f19c2c2a8748f",
       "version_major": 2,
       "version_minor": 0
      },
      "text/plain": [
       "HBox(children=(FloatProgress(value=1.0, bar_style='info', max=1.0), HTML(value='')))"
      ]
     },
     "metadata": {},
     "output_type": "display_data"
    },
    {
     "name": "stdout",
     "output_type": "stream",
     "text": [
      "\n",
      "Result written to outputs/algo=WindowStreamingAlgo_client_dist=DependentNodeDistribution_terminal_dist=SecondMetaDependentNodeDistribution_nnodes=5_1583387162.666419.json\n",
      "{'client_TDR': 1.0, 'client_MDR': 0.0, 'client_FDR': 0.32432432432432434, 'client_CDR': 1.75, 'terminal_TDR': 1.0, 'terminal_MDR': 0.0, 'terminal_FDR': 0.3846153846153846, 'terminal_CDR': 5.24, 'client_False': 12, 'terminal_False': 15, 'client_latency': 52.2, 'terminal_latency': 71.75}\n"
     ]
    },
    {
     "data": {
      "application/vnd.jupyter.widget-view+json": {
       "model_id": "53873f07655145fb988e16753f977fbb",
       "version_major": 2,
       "version_minor": 0
      },
      "text/plain": [
       "HBox(children=(FloatProgress(value=1.0, bar_style='info', max=1.0), HTML(value='')))"
      ]
     },
     "metadata": {},
     "output_type": "display_data"
    },
    {
     "name": "stdout",
     "output_type": "stream",
     "text": [
      "\n",
      "Result written to outputs/algo=WindowStreamingAlgo_client_dist=SecondMetaDependentNodeDistribution_terminal_dist=DependentNodeDistribution_nnodes=5_1583387267.191974.json\n",
      "{'client_TDR': 1.0, 'client_MDR': 0.0, 'client_FDR': 0.41860465116279066, 'client_CDR': 3.625, 'terminal_TDR': 1.0, 'terminal_MDR': 0.0, 'terminal_FDR': 0.2941176470588235, 'terminal_CDR': 2.56, 'client_False': 18, 'terminal_False': 10, 'client_latency': 45.96, 'terminal_latency': 73.70833333333333}\n"
     ]
    },
    {
     "data": {
      "application/vnd.jupyter.widget-view+json": {
       "model_id": "324f2e91e8c74d2ca1fa4b91da3d0d85",
       "version_major": 2,
       "version_minor": 0
      },
      "text/plain": [
       "HBox(children=(FloatProgress(value=1.0, bar_style='info', max=1.0), HTML(value='')))"
      ]
     },
     "metadata": {},
     "output_type": "display_data"
    },
    {
     "name": "stdout",
     "output_type": "stream",
     "text": [
      "\n",
      "Result written to outputs/algo=WindowStreamingAlgo_client_dist=RoundrobinNodeDistribution_terminal_dist=RoundrobinNodeDistribution_nnodes=1_1583387406.539065.json\n",
      "{'client_TDR': 1.0, 'client_MDR': 0.0, 'client_FDR': 0.4444444444444444, 'client_CDR': 2.2916666666666665, 'terminal_TDR': 0.9583333333333334, 'terminal_MDR': 0.04166666666666663, 'terminal_FDR': 0.34285714285714286, 'terminal_CDR': 3.0, 'client_False': 20, 'terminal_False': 12, 'client_latency': 56.32, 'terminal_latency': 103.3913043478261}\n"
     ]
    },
    {
     "data": {
      "application/vnd.jupyter.widget-view+json": {
       "model_id": "a8e9c838133446e980f208792dfb7cda",
       "version_major": 2,
       "version_minor": 0
      },
      "text/plain": [
       "HBox(children=(FloatProgress(value=1.0, bar_style='info', max=1.0), HTML(value='')))"
      ]
     },
     "metadata": {},
     "output_type": "display_data"
    },
    {
     "name": "stdout",
     "output_type": "stream",
     "text": [
      "\n",
      "Result written to outputs/algo=WindowStreamingAlgo_client_dist=RoundrobinNodeDistribution_terminal_dist=RoundrobinNodeDistribution_nnodes=5_1583387470.593187.json\n",
      "{'client_TDR': 1.0, 'client_MDR': 0.0, 'client_FDR': 0.3055555555555556, 'client_CDR': 0.9583333333333334, 'terminal_TDR': 0.9583333333333334, 'terminal_MDR': 0.04166666666666663, 'terminal_FDR': 0.41025641025641024, 'terminal_CDR': 1.28, 'client_False': 11, 'terminal_False': 16, 'client_latency': 70.84, 'terminal_latency': 105.73913043478261}\n"
     ]
    },
    {
     "data": {
      "application/vnd.jupyter.widget-view+json": {
       "model_id": "8250e4aac6ab49339599bb3ae87eeb6c",
       "version_major": 2,
       "version_minor": 0
      },
      "text/plain": [
       "HBox(children=(FloatProgress(value=1.0, bar_style='info', max=1.0), HTML(value='')))"
      ]
     },
     "metadata": {},
     "output_type": "display_data"
    },
    {
     "name": "stdout",
     "output_type": "stream",
     "text": [
      "\n",
      "Result written to outputs/algo=WindowStreamingAlgo_client_dist=DependentNodeDistribution_terminal_dist=SecondMetaDependentNodeDistribution_nnodes=5_1583387571.79573.json\n",
      "{'client_TDR': 1.0, 'client_MDR': 0.0, 'client_FDR': 0.4444444444444444, 'client_CDR': 2.2916666666666665, 'terminal_TDR': 0.9166666666666666, 'terminal_MDR': 0.08333333333333337, 'terminal_FDR': 0.5319148936170213, 'terminal_CDR': 4.36, 'client_False': 20, 'terminal_False': 25, 'client_latency': 56.32, 'terminal_latency': 91.54545454545455}\n"
     ]
    },
    {
     "data": {
      "application/vnd.jupyter.widget-view+json": {
       "model_id": "2efdb0fb42b8468a994958d1ea9aca42",
       "version_major": 2,
       "version_minor": 0
      },
      "text/plain": [
       "HBox(children=(FloatProgress(value=1.0, bar_style='info', max=1.0), HTML(value='')))"
      ]
     },
     "metadata": {},
     "output_type": "display_data"
    },
    {
     "name": "stdout",
     "output_type": "stream",
     "text": [
      "\n",
      "Result written to outputs/algo=WindowStreamingAlgo_client_dist=SecondMetaDependentNodeDistribution_terminal_dist=DependentNodeDistribution_nnodes=5_1583387670.546951.json\n",
      "{'client_TDR': 1.0, 'client_MDR': 0.0, 'client_FDR': 0.375, 'client_CDR': 3.75, 'terminal_TDR': 0.9583333333333334, 'terminal_MDR': 0.04166666666666663, 'terminal_FDR': 0.34285714285714286, 'terminal_CDR': 3.0, 'client_False': 15, 'terminal_False': 12, 'client_latency': 54.56, 'terminal_latency': 103.3913043478261}\n"
     ]
    },
    {
     "data": {
      "application/vnd.jupyter.widget-view+json": {
       "model_id": "55494805df6441e38cc56dd671f87108",
       "version_major": 2,
       "version_minor": 0
      },
      "text/plain": [
       "HBox(children=(FloatProgress(value=1.0, bar_style='info', max=1.0), HTML(value='')))"
      ]
     },
     "metadata": {},
     "output_type": "display_data"
    },
    {
     "name": "stdout",
     "output_type": "stream",
     "text": [
      "\n",
      "Result written to outputs/algo=WindowStreamingAlgo_client_dist=RoundrobinNodeDistribution_terminal_dist=RoundrobinNodeDistribution_nnodes=1_1583387826.888551.json\n",
      "{'client_TDR': 1.0, 'client_MDR': 0.0, 'client_FDR': 0.21875, 'client_CDR': 1.4583333333333333, 'terminal_TDR': 0.9583333333333334, 'terminal_MDR': 0.04166666666666663, 'terminal_FDR': 0.36111111111111116, 'terminal_CDR': 2.76, 'client_False': 7, 'terminal_False': 13, 'client_latency': 44.8, 'terminal_latency': 77.30434782608695}\n"
     ]
    },
    {
     "data": {
      "application/vnd.jupyter.widget-view+json": {
       "model_id": "6498eff9409046599e558fae968b0aaf",
       "version_major": 2,
       "version_minor": 0
      },
      "text/plain": [
       "HBox(children=(FloatProgress(value=1.0, bar_style='info', max=1.0), HTML(value='')))"
      ]
     },
     "metadata": {},
     "output_type": "display_data"
    },
    {
     "name": "stdout",
     "output_type": "stream",
     "text": [
      "\n",
      "Result written to outputs/algo=WindowStreamingAlgo_client_dist=RoundrobinNodeDistribution_terminal_dist=RoundrobinNodeDistribution_nnodes=5_1583387891.248813.json\n",
      "{'client_TDR': 1.0, 'client_MDR': 0.0, 'client_FDR': 0.40476190476190477, 'client_CDR': 0.625, 'terminal_TDR': 1.0, 'terminal_MDR': 0.0, 'terminal_FDR': 0.25, 'terminal_CDR': 1.48, 'client_False': 17, 'terminal_False': 8, 'client_latency': 82.68, 'terminal_latency': 125.33333333333333}\n"
     ]
    },
    {
     "data": {
      "application/vnd.jupyter.widget-view+json": {
       "model_id": "5a73a5d7ec134c09a00fa7aaa3325ba4",
       "version_major": 2,
       "version_minor": 0
      },
      "text/plain": [
       "HBox(children=(FloatProgress(value=1.0, bar_style='info', max=1.0), HTML(value='')))"
      ]
     },
     "metadata": {},
     "output_type": "display_data"
    },
    {
     "name": "stdout",
     "output_type": "stream",
     "text": [
      "\n",
      "Result written to outputs/algo=WindowStreamingAlgo_client_dist=DependentNodeDistribution_terminal_dist=SecondMetaDependentNodeDistribution_nnodes=5_1583388005.720945.json\n",
      "{'client_TDR': 1.0, 'client_MDR': 0.0, 'client_FDR': 0.21875, 'client_CDR': 1.4583333333333333, 'terminal_TDR': 1.0, 'terminal_MDR': 0.0, 'terminal_FDR': 0.52, 'terminal_CDR': 4.64, 'client_False': 7, 'terminal_False': 26, 'client_latency': 44.8, 'terminal_latency': 70.625}\n"
     ]
    },
    {
     "data": {
      "application/vnd.jupyter.widget-view+json": {
       "model_id": "4c412beed8984c47b3568958ea3086ac",
       "version_major": 2,
       "version_minor": 0
      },
      "text/plain": [
       "HBox(children=(FloatProgress(value=1.0, bar_style='info', max=1.0), HTML(value='')))"
      ]
     },
     "metadata": {},
     "output_type": "display_data"
    },
    {
     "name": "stdout",
     "output_type": "stream",
     "text": [
      "\n",
      "Result written to outputs/algo=WindowStreamingAlgo_client_dist=SecondMetaDependentNodeDistribution_terminal_dist=DependentNodeDistribution_nnodes=5_1583388107.171205.json\n",
      "{'client_TDR': 0.96, 'client_MDR': 0.040000000000000036, 'client_FDR': 0.5384615384615384, 'client_CDR': 3.8333333333333335, 'terminal_TDR': 0.9583333333333334, 'terminal_MDR': 0.04166666666666663, 'terminal_FDR': 0.36111111111111116, 'terminal_CDR': 2.76, 'client_False': 28, 'terminal_False': 13, 'client_latency': 46.291666666666664, 'terminal_latency': 77.30434782608695}\n"
     ]
    },
    {
     "data": {
      "application/vnd.jupyter.widget-view+json": {
       "model_id": "c26776487c444682a64b1403970db78a",
       "version_major": 2,
       "version_minor": 0
      },
      "text/plain": [
       "HBox(children=(FloatProgress(value=1.0, bar_style='info', max=1.0), HTML(value='')))"
      ]
     },
     "metadata": {},
     "output_type": "display_data"
    },
    {
     "name": "stdout",
     "output_type": "stream",
     "text": [
      "\n",
      "Result written to outputs/algo=WindowStreamingAlgo_client_dist=RoundrobinNodeDistribution_terminal_dist=RoundrobinNodeDistribution_nnodes=1_1583388259.441177.json\n",
      "{'client_TDR': 1.0, 'client_MDR': 0.0, 'client_FDR': 0.2857142857142857, 'client_CDR': 1.7083333333333333, 'terminal_TDR': 0.875, 'terminal_MDR': 0.125, 'terminal_FDR': 0.4, 'terminal_CDR': 2.92, 'client_False': 10, 'terminal_False': 14, 'client_latency': 42.76, 'terminal_latency': 110.95238095238095}\n"
     ]
    },
    {
     "data": {
      "application/vnd.jupyter.widget-view+json": {
       "model_id": "3e08d17f44ff43b0a0eb812f26348846",
       "version_major": 2,
       "version_minor": 0
      },
      "text/plain": [
       "HBox(children=(FloatProgress(value=1.0, bar_style='info', max=1.0), HTML(value='')))"
      ]
     },
     "metadata": {},
     "output_type": "display_data"
    },
    {
     "name": "stdout",
     "output_type": "stream",
     "text": [
      "\n",
      "Result written to outputs/algo=WindowStreamingAlgo_client_dist=RoundrobinNodeDistribution_terminal_dist=RoundrobinNodeDistribution_nnodes=5_1583388323.42533.json\n",
      "{'client_TDR': 0.96, 'client_MDR': 0.040000000000000036, 'client_FDR': 0.4285714285714286, 'client_CDR': 0.75, 'terminal_TDR': 0.75, 'terminal_MDR': 0.25, 'terminal_FDR': 0.4375, 'terminal_CDR': 1.6, 'client_False': 18, 'terminal_False': 14, 'client_latency': 82.33333333333333, 'terminal_latency': 139.83333333333334}\n"
     ]
    },
    {
     "data": {
      "application/vnd.jupyter.widget-view+json": {
       "model_id": "784e68da4ea847c7926a91c4b49b9bcc",
       "version_major": 2,
       "version_minor": 0
      },
      "text/plain": [
       "HBox(children=(FloatProgress(value=1.0, bar_style='info', max=1.0), HTML(value='')))"
      ]
     },
     "metadata": {},
     "output_type": "display_data"
    },
    {
     "name": "stdout",
     "output_type": "stream",
     "text": [
      "\n",
      "Result written to outputs/algo=WindowStreamingAlgo_client_dist=DependentNodeDistribution_terminal_dist=SecondMetaDependentNodeDistribution_nnodes=5_1583388433.029002.json\n",
      "{'client_TDR': 1.0, 'client_MDR': 0.0, 'client_FDR': 0.2857142857142857, 'client_CDR': 1.7083333333333333, 'terminal_TDR': 0.9583333333333334, 'terminal_MDR': 0.04166666666666663, 'terminal_FDR': 0.5106382978723405, 'terminal_CDR': 4.76, 'client_False': 10, 'terminal_False': 24, 'client_latency': 42.76, 'terminal_latency': 101.65217391304348}\n"
     ]
    },
    {
     "data": {
      "application/vnd.jupyter.widget-view+json": {
       "model_id": "3f22673e37c94c4693516807c1d96581",
       "version_major": 2,
       "version_minor": 0
      },
      "text/plain": [
       "HBox(children=(FloatProgress(value=1.0, bar_style='info', max=1.0), HTML(value='')))"
      ]
     },
     "metadata": {},
     "output_type": "display_data"
    },
    {
     "name": "stdout",
     "output_type": "stream",
     "text": [
      "\n",
      "Result written to outputs/algo=WindowStreamingAlgo_client_dist=SecondMetaDependentNodeDistribution_terminal_dist=DependentNodeDistribution_nnodes=5_1583388534.047273.json\n",
      "{'client_TDR': 1.0, 'client_MDR': 0.0, 'client_FDR': 0.3421052631578947, 'client_CDR': 3.875, 'terminal_TDR': 0.875, 'terminal_MDR': 0.125, 'terminal_FDR': 0.4, 'terminal_CDR': 2.92, 'client_False': 13, 'terminal_False': 14, 'client_latency': 53.12, 'terminal_latency': 110.95238095238095}\n"
     ]
    },
    {
     "data": {
      "application/vnd.jupyter.widget-view+json": {
       "model_id": "3a3dc0a634684850a6fcb1d1effa525f",
       "version_major": 2,
       "version_minor": 0
      },
      "text/plain": [
       "HBox(children=(FloatProgress(value=1.0, bar_style='info', max=1.0), HTML(value='')))"
      ]
     },
     "metadata": {},
     "output_type": "display_data"
    },
    {
     "name": "stdout",
     "output_type": "stream",
     "text": [
      "\n",
      "Result written to outputs/algo=WindowStreamingAlgo_client_dist=RoundrobinNodeDistribution_terminal_dist=RoundrobinNodeDistribution_nnodes=1_1583388686.041384.json\n",
      "{'client_TDR': 1.0, 'client_MDR': 0.0, 'client_FDR': 0.3589743589743589, 'client_CDR': 1.5, 'terminal_TDR': 1.0, 'terminal_MDR': 0.0, 'terminal_FDR': 0.4418604651162791, 'terminal_CDR': 2.64, 'client_False': 14, 'terminal_False': 19, 'client_latency': 65.6, 'terminal_latency': 73.91666666666667}\n"
     ]
    },
    {
     "data": {
      "application/vnd.jupyter.widget-view+json": {
       "model_id": "39c02ce234b9472e8fd61eb9178c7147",
       "version_major": 2,
       "version_minor": 0
      },
      "text/plain": [
       "HBox(children=(FloatProgress(value=1.0, bar_style='info', max=1.0), HTML(value='')))"
      ]
     },
     "metadata": {},
     "output_type": "display_data"
    },
    {
     "name": "stdout",
     "output_type": "stream",
     "text": [
      "\n",
      "Result written to outputs/algo=WindowStreamingAlgo_client_dist=RoundrobinNodeDistribution_terminal_dist=RoundrobinNodeDistribution_nnodes=5_1583388751.242484.json\n",
      "{'client_TDR': 0.96, 'client_MDR': 0.040000000000000036, 'client_FDR': 0.3846153846153846, 'client_CDR': 0.8333333333333334, 'terminal_TDR': 0.9583333333333334, 'terminal_MDR': 0.04166666666666663, 'terminal_FDR': 0.34285714285714286, 'terminal_CDR': 1.2, 'client_False': 15, 'terminal_False': 12, 'client_latency': 84.125, 'terminal_latency': 123.43478260869566}\n"
     ]
    },
    {
     "data": {
      "application/vnd.jupyter.widget-view+json": {
       "model_id": "9cc017019eb34f29b9817bdb544b1693",
       "version_major": 2,
       "version_minor": 0
      },
      "text/plain": [
       "HBox(children=(FloatProgress(value=1.0, bar_style='info', max=1.0), HTML(value='')))"
      ]
     },
     "metadata": {},
     "output_type": "display_data"
    },
    {
     "name": "stdout",
     "output_type": "stream",
     "text": [
      "\n",
      "Result written to outputs/algo=WindowStreamingAlgo_client_dist=DependentNodeDistribution_terminal_dist=SecondMetaDependentNodeDistribution_nnodes=5_1583388861.782314.json\n",
      "{'client_TDR': 1.0, 'client_MDR': 0.0, 'client_FDR': 0.3589743589743589, 'client_CDR': 1.5, 'terminal_TDR': 1.0, 'terminal_MDR': 0.0, 'terminal_FDR': 0.5384615384615384, 'terminal_CDR': 4.84, 'client_False': 14, 'terminal_False': 28, 'client_latency': 65.6, 'terminal_latency': 66.41666666666667}\n"
     ]
    },
    {
     "data": {
      "application/vnd.jupyter.widget-view+json": {
       "model_id": "cd9c65ab3e2d4fbdb63dacd4df67c549",
       "version_major": 2,
       "version_minor": 0
      },
      "text/plain": [
       "HBox(children=(FloatProgress(value=1.0, bar_style='info', max=1.0), HTML(value='')))"
      ]
     },
     "metadata": {},
     "output_type": "display_data"
    },
    {
     "name": "stdout",
     "output_type": "stream",
     "text": [
      "\n",
      "Result written to outputs/algo=WindowStreamingAlgo_client_dist=SecondMetaDependentNodeDistribution_terminal_dist=DependentNodeDistribution_nnodes=5_1583388962.830303.json\n",
      "{'client_TDR': 1.0, 'client_MDR': 0.0, 'client_FDR': 0.43181818181818177, 'client_CDR': 4.0, 'terminal_TDR': 1.0, 'terminal_MDR': 0.0, 'terminal_FDR': 0.4418604651162791, 'terminal_CDR': 2.64, 'client_False': 19, 'terminal_False': 19, 'client_latency': 60.44, 'terminal_latency': 73.91666666666667}\n"
     ]
    },
    {
     "data": {
      "application/vnd.jupyter.widget-view+json": {
       "model_id": "5161facd9132452097be434b91200d8e",
       "version_major": 2,
       "version_minor": 0
      },
      "text/plain": [
       "HBox(children=(FloatProgress(value=1.0, bar_style='info', max=1.0), HTML(value='')))"
      ]
     },
     "metadata": {},
     "output_type": "display_data"
    },
    {
     "name": "stdout",
     "output_type": "stream",
     "text": [
      "\n",
      "Result written to outputs/algo=WindowStreamingAlgo_client_dist=RoundrobinNodeDistribution_terminal_dist=RoundrobinNodeDistribution_nnodes=1_1583389107.46732.json\n",
      "{'client_TDR': 1.0, 'client_MDR': 0.0, 'client_FDR': 0.3421052631578947, 'client_CDR': 2.125, 'terminal_TDR': 0.9583333333333334, 'terminal_MDR': 0.04166666666666663, 'terminal_FDR': 0.28125, 'terminal_CDR': 2.84, 'client_False': 13, 'terminal_False': 9, 'client_latency': 54.72, 'terminal_latency': 85.8695652173913}\n"
     ]
    },
    {
     "data": {
      "application/vnd.jupyter.widget-view+json": {
       "model_id": "709b144cdb81479aa2e42342cf200f02",
       "version_major": 2,
       "version_minor": 0
      },
      "text/plain": [
       "HBox(children=(FloatProgress(value=1.0, bar_style='info', max=1.0), HTML(value='')))"
      ]
     },
     "metadata": {},
     "output_type": "display_data"
    },
    {
     "name": "stdout",
     "output_type": "stream",
     "text": [
      "\n",
      "Result written to outputs/algo=WindowStreamingAlgo_client_dist=RoundrobinNodeDistribution_terminal_dist=RoundrobinNodeDistribution_nnodes=5_1583389170.475793.json\n",
      "{'client_TDR': 0.96, 'client_MDR': 0.040000000000000036, 'client_FDR': 0.3513513513513513, 'client_CDR': 1.5, 'terminal_TDR': 0.9583333333333334, 'terminal_MDR': 0.04166666666666663, 'terminal_FDR': 0.303030303030303, 'terminal_CDR': 1.52, 'client_False': 13, 'terminal_False': 10, 'client_latency': 80.04166666666667, 'terminal_latency': 119.43478260869566}\n"
     ]
    },
    {
     "data": {
      "application/vnd.jupyter.widget-view+json": {
       "model_id": "15899a661c8147fa8c0260b72a7a553a",
       "version_major": 2,
       "version_minor": 0
      },
      "text/plain": [
       "HBox(children=(FloatProgress(value=1.0, bar_style='info', max=1.0), HTML(value='')))"
      ]
     },
     "metadata": {},
     "output_type": "display_data"
    },
    {
     "name": "stdout",
     "output_type": "stream",
     "text": [
      "\n",
      "Result written to outputs/algo=WindowStreamingAlgo_client_dist=DependentNodeDistribution_terminal_dist=SecondMetaDependentNodeDistribution_nnodes=5_1583389274.243652.json\n",
      "{'client_TDR': 1.0, 'client_MDR': 0.0, 'client_FDR': 0.3421052631578947, 'client_CDR': 2.125, 'terminal_TDR': 1.0, 'terminal_MDR': 0.0, 'terminal_FDR': 0.5555555555555556, 'terminal_CDR': 4.84, 'client_False': 13, 'terminal_False': 30, 'client_latency': 54.72, 'terminal_latency': 65.95833333333333}\n"
     ]
    },
    {
     "data": {
      "application/vnd.jupyter.widget-view+json": {
       "model_id": "61b3b3cefc2a4556a2f106fbe401adae",
       "version_major": 2,
       "version_minor": 0
      },
      "text/plain": [
       "HBox(children=(FloatProgress(value=1.0, bar_style='info', max=1.0), HTML(value='')))"
      ]
     },
     "metadata": {},
     "output_type": "display_data"
    },
    {
     "name": "stdout",
     "output_type": "stream",
     "text": [
      "\n",
      "Result written to outputs/algo=WindowStreamingAlgo_client_dist=SecondMetaDependentNodeDistribution_terminal_dist=DependentNodeDistribution_nnodes=5_1583389374.158296.json\n",
      "{'client_TDR': 0.96, 'client_MDR': 0.040000000000000036, 'client_FDR': 0.4, 'client_CDR': 4.166666666666667, 'terminal_TDR': 0.9583333333333334, 'terminal_MDR': 0.04166666666666663, 'terminal_FDR': 0.28125, 'terminal_CDR': 2.84, 'client_False': 16, 'terminal_False': 9, 'client_latency': 53.083333333333336, 'terminal_latency': 85.8695652173913}\n"
     ]
    },
    {
     "data": {
      "application/vnd.jupyter.widget-view+json": {
       "model_id": "a8713cc0b71c454cb72fae1f6ca509db",
       "version_major": 2,
       "version_minor": 0
      },
      "text/plain": [
       "HBox(children=(FloatProgress(value=1.0, bar_style='info', max=1.0), HTML(value='')))"
      ]
     },
     "metadata": {},
     "output_type": "display_data"
    },
    {
     "name": "stdout",
     "output_type": "stream",
     "text": [
      "\n",
      "Result written to outputs/algo=WindowStreamingAlgo_client_dist=RoundrobinNodeDistribution_terminal_dist=RoundrobinNodeDistribution_nnodes=1_1583389529.136596.json\n",
      "{'client_TDR': 1.0, 'client_MDR': 0.0, 'client_FDR': 0.21875, 'client_CDR': 0.9583333333333334, 'terminal_TDR': 0.875, 'terminal_MDR': 0.125, 'terminal_FDR': 0.5, 'terminal_CDR': 3.16, 'client_False': 7, 'terminal_False': 21, 'client_latency': 49.28, 'terminal_latency': 121.47619047619048}\n"
     ]
    },
    {
     "data": {
      "application/vnd.jupyter.widget-view+json": {
       "model_id": "37cd2b3c75c9405b8e9460fe7f997169",
       "version_major": 2,
       "version_minor": 0
      },
      "text/plain": [
       "HBox(children=(FloatProgress(value=1.0, bar_style='info', max=1.0), HTML(value='')))"
      ]
     },
     "metadata": {},
     "output_type": "display_data"
    },
    {
     "name": "stdout",
     "output_type": "stream",
     "text": [
      "\n",
      "Result written to outputs/algo=WindowStreamingAlgo_client_dist=RoundrobinNodeDistribution_terminal_dist=RoundrobinNodeDistribution_nnodes=5_1583389594.117985.json\n",
      "{'client_TDR': 0.96, 'client_MDR': 0.040000000000000036, 'client_FDR': 0.3142857142857143, 'client_CDR': 0.5833333333333334, 'terminal_TDR': 1.0, 'terminal_MDR': 0.0, 'terminal_FDR': 0.368421052631579, 'terminal_CDR': 1.4, 'client_False': 11, 'terminal_False': 14, 'client_latency': 86.95833333333333, 'terminal_latency': 143.45833333333334}\n"
     ]
    },
    {
     "data": {
      "application/vnd.jupyter.widget-view+json": {
       "model_id": "8213c8ba2c0b44b8abfd98277ad77060",
       "version_major": 2,
       "version_minor": 0
      },
      "text/plain": [
       "HBox(children=(FloatProgress(value=1.0, bar_style='info', max=1.0), HTML(value='')))"
      ]
     },
     "metadata": {},
     "output_type": "display_data"
    },
    {
     "name": "stdout",
     "output_type": "stream",
     "text": [
      "\n",
      "Result written to outputs/algo=WindowStreamingAlgo_client_dist=DependentNodeDistribution_terminal_dist=SecondMetaDependentNodeDistribution_nnodes=5_1583389714.659787.json\n",
      "{'client_TDR': 1.0, 'client_MDR': 0.0, 'client_FDR': 0.21875, 'client_CDR': 0.9583333333333334, 'terminal_TDR': 0.7916666666666666, 'terminal_MDR': 0.20833333333333337, 'terminal_FDR': 0.5476190476190477, 'terminal_CDR': 4.76, 'client_False': 7, 'terminal_False': 23, 'client_latency': 49.28, 'terminal_latency': 120.78947368421052}\n"
     ]
    },
    {
     "data": {
      "application/vnd.jupyter.widget-view+json": {
       "model_id": "51148f47d2f746df8bcc5dba9fb24672",
       "version_major": 2,
       "version_minor": 0
      },
      "text/plain": [
       "HBox(children=(FloatProgress(value=1.0, bar_style='info', max=1.0), HTML(value='')))"
      ]
     },
     "metadata": {},
     "output_type": "display_data"
    },
    {
     "name": "stdout",
     "output_type": "stream",
     "text": [
      "\n",
      "Result written to outputs/algo=WindowStreamingAlgo_client_dist=SecondMetaDependentNodeDistribution_terminal_dist=DependentNodeDistribution_nnodes=5_1583389809.775994.json\n",
      "{'client_TDR': 1.0, 'client_MDR': 0.0, 'client_FDR': 0.47916666666666663, 'client_CDR': 3.5833333333333335, 'terminal_TDR': 0.875, 'terminal_MDR': 0.125, 'terminal_FDR': 0.5, 'terminal_CDR': 3.16, 'client_False': 23, 'terminal_False': 21, 'client_latency': 59.56, 'terminal_latency': 121.47619047619048}\n"
     ]
    },
    {
     "data": {
      "application/vnd.jupyter.widget-view+json": {
       "model_id": "d5106025cc0347bd944f46ee292a529a",
       "version_major": 2,
       "version_minor": 0
      },
      "text/plain": [
       "HBox(children=(FloatProgress(value=1.0, bar_style='info', max=1.0), HTML(value='')))"
      ]
     },
     "metadata": {},
     "output_type": "display_data"
    },
    {
     "name": "stdout",
     "output_type": "stream",
     "text": [
      "\n",
      "Result written to outputs/algo=WindowStreamingAlgo_client_dist=RoundrobinNodeDistribution_terminal_dist=RoundrobinNodeDistribution_nnodes=1_1583389961.821592.json\n",
      "{'client_TDR': 0.88, 'client_MDR': 0.12, 'client_FDR': 0.33333333333333337, 'client_CDR': 1.3333333333333333, 'terminal_TDR': 0.9583333333333334, 'terminal_MDR': 0.04166666666666663, 'terminal_FDR': 0.3783783783783784, 'terminal_CDR': 3.12, 'client_False': 11, 'terminal_False': 14, 'client_latency': 44.86363636363637, 'terminal_latency': 108.78260869565217}\n"
     ]
    },
    {
     "data": {
      "application/vnd.jupyter.widget-view+json": {
       "model_id": "f7d70674d3684aca85c39c390c6f46dc",
       "version_major": 2,
       "version_minor": 0
      },
      "text/plain": [
       "HBox(children=(FloatProgress(value=1.0, bar_style='info', max=1.0), HTML(value='')))"
      ]
     },
     "metadata": {},
     "output_type": "display_data"
    },
    {
     "name": "stdout",
     "output_type": "stream",
     "text": [
      "\n",
      "Result written to outputs/algo=WindowStreamingAlgo_client_dist=RoundrobinNodeDistribution_terminal_dist=RoundrobinNodeDistribution_nnodes=5_1583390025.365432.json\n",
      "{'client_TDR': 1.0, 'client_MDR': 0.0, 'client_FDR': 0.375, 'client_CDR': 0.5833333333333334, 'terminal_TDR': 0.9166666666666666, 'terminal_MDR': 0.08333333333333337, 'terminal_FDR': 0.3529411764705882, 'terminal_CDR': 1.92, 'client_False': 15, 'terminal_False': 12, 'client_latency': 86.24, 'terminal_latency': 135.45454545454547}\n"
     ]
    },
    {
     "data": {
      "application/vnd.jupyter.widget-view+json": {
       "model_id": "cbe2ee81b326445aafb063cc966444eb",
       "version_major": 2,
       "version_minor": 0
      },
      "text/plain": [
       "HBox(children=(FloatProgress(value=1.0, bar_style='info', max=1.0), HTML(value='')))"
      ]
     },
     "metadata": {},
     "output_type": "display_data"
    },
    {
     "name": "stdout",
     "output_type": "stream",
     "text": [
      "\n",
      "Result written to outputs/algo=WindowStreamingAlgo_client_dist=DependentNodeDistribution_terminal_dist=SecondMetaDependentNodeDistribution_nnodes=5_1583390140.717603.json\n",
      "{'client_TDR': 0.88, 'client_MDR': 0.12, 'client_FDR': 0.33333333333333337, 'client_CDR': 1.3333333333333333, 'terminal_TDR': 0.9583333333333334, 'terminal_MDR': 0.04166666666666663, 'terminal_FDR': 0.45238095238095233, 'terminal_CDR': 4.56, 'client_False': 11, 'terminal_False': 19, 'client_latency': 44.86363636363637, 'terminal_latency': 90.95652173913044}\n"
     ]
    },
    {
     "data": {
      "application/vnd.jupyter.widget-view+json": {
       "model_id": "82522b3695554d83bac54732cd8d7969",
       "version_major": 2,
       "version_minor": 0
      },
      "text/plain": [
       "HBox(children=(FloatProgress(value=1.0, bar_style='info', max=1.0), HTML(value='')))"
      ]
     },
     "metadata": {},
     "output_type": "display_data"
    },
    {
     "name": "stdout",
     "output_type": "stream",
     "text": [
      "\n",
      "Result written to outputs/algo=WindowStreamingAlgo_client_dist=SecondMetaDependentNodeDistribution_terminal_dist=DependentNodeDistribution_nnodes=5_1583390239.161689.json\n",
      "{'client_TDR': 0.96, 'client_MDR': 0.040000000000000036, 'client_FDR': 0.4666666666666667, 'client_CDR': 3.25, 'terminal_TDR': 0.9583333333333334, 'terminal_MDR': 0.04166666666666663, 'terminal_FDR': 0.3783783783783784, 'terminal_CDR': 3.12, 'client_False': 21, 'terminal_False': 14, 'client_latency': 59.583333333333336, 'terminal_latency': 108.78260869565217}\n"
     ]
    },
    {
     "data": {
      "application/vnd.jupyter.widget-view+json": {
       "model_id": "28d1026f402c4037b4d4f3b5a458b2ee",
       "version_major": 2,
       "version_minor": 0
      },
      "text/plain": [
       "HBox(children=(FloatProgress(value=1.0, bar_style='info', max=1.0), HTML(value='')))"
      ]
     },
     "metadata": {},
     "output_type": "display_data"
    },
    {
     "name": "stdout",
     "output_type": "stream",
     "text": [
      "\n",
      "Result written to outputs/algo=WindowStreamingAlgo_client_dist=RoundrobinNodeDistribution_terminal_dist=RoundrobinNodeDistribution_nnodes=1_1583390389.755655.json\n",
      "{'client_TDR': 0.96, 'client_MDR': 0.040000000000000036, 'client_FDR': 0.3142857142857143, 'client_CDR': 1.6666666666666667, 'terminal_TDR': 0.9583333333333334, 'terminal_MDR': 0.04166666666666663, 'terminal_FDR': 0.36111111111111116, 'terminal_CDR': 2.96, 'client_False': 11, 'terminal_False': 13, 'client_latency': 62.791666666666664, 'terminal_latency': 127.26086956521739}\n"
     ]
    },
    {
     "data": {
      "application/vnd.jupyter.widget-view+json": {
       "model_id": "492e3b882c4e4b27b841fc6e916262fe",
       "version_major": 2,
       "version_minor": 0
      },
      "text/plain": [
       "HBox(children=(FloatProgress(value=1.0, bar_style='info', max=1.0), HTML(value='')))"
      ]
     },
     "metadata": {},
     "output_type": "display_data"
    },
    {
     "name": "stdout",
     "output_type": "stream",
     "text": [
      "\n",
      "Result written to outputs/algo=WindowStreamingAlgo_client_dist=RoundrobinNodeDistribution_terminal_dist=RoundrobinNodeDistribution_nnodes=5_1583390454.221432.json\n",
      "{'client_TDR': 1.0, 'client_MDR': 0.0, 'client_FDR': 0.32432432432432434, 'client_CDR': 0.625, 'terminal_TDR': 1.0, 'terminal_MDR': 0.0, 'terminal_FDR': 0.33333333333333337, 'terminal_CDR': 1.6, 'client_False': 12, 'terminal_False': 12, 'client_latency': 84.64, 'terminal_latency': 135.41666666666666}\n"
     ]
    },
    {
     "data": {
      "application/vnd.jupyter.widget-view+json": {
       "model_id": "f0b3022b6ddb49c7828172c599613204",
       "version_major": 2,
       "version_minor": 0
      },
      "text/plain": [
       "HBox(children=(FloatProgress(value=1.0, bar_style='info', max=1.0), HTML(value='')))"
      ]
     },
     "metadata": {},
     "output_type": "display_data"
    },
    {
     "name": "stdout",
     "output_type": "stream",
     "text": [
      "\n",
      "Result written to outputs/algo=WindowStreamingAlgo_client_dist=DependentNodeDistribution_terminal_dist=SecondMetaDependentNodeDistribution_nnodes=5_1583390564.940945.json\n",
      "{'client_TDR': 0.96, 'client_MDR': 0.040000000000000036, 'client_FDR': 0.3142857142857143, 'client_CDR': 1.6666666666666667, 'terminal_TDR': 0.8333333333333334, 'terminal_MDR': 0.16666666666666663, 'terminal_FDR': 0.4444444444444444, 'terminal_CDR': 5.08, 'client_False': 11, 'terminal_False': 16, 'client_latency': 62.791666666666664, 'terminal_latency': 81.9}\n"
     ]
    },
    {
     "data": {
      "application/vnd.jupyter.widget-view+json": {
       "model_id": "c267a09119024bb587fc453ef8132928",
       "version_major": 2,
       "version_minor": 0
      },
      "text/plain": [
       "HBox(children=(FloatProgress(value=1.0, bar_style='info', max=1.0), HTML(value='')))"
      ]
     },
     "metadata": {},
     "output_type": "display_data"
    },
    {
     "name": "stdout",
     "output_type": "stream",
     "text": [
      "\n",
      "Result written to outputs/algo=WindowStreamingAlgo_client_dist=SecondMetaDependentNodeDistribution_terminal_dist=DependentNodeDistribution_nnodes=5_1583390665.737262.json\n",
      "{'client_TDR': 0.96, 'client_MDR': 0.040000000000000036, 'client_FDR': 0.3846153846153846, 'client_CDR': 3.75, 'terminal_TDR': 0.9583333333333334, 'terminal_MDR': 0.04166666666666663, 'terminal_FDR': 0.36111111111111116, 'terminal_CDR': 2.96, 'client_False': 15, 'terminal_False': 13, 'client_latency': 58.708333333333336, 'terminal_latency': 127.26086956521739}\n"
     ]
    },
    {
     "data": {
      "application/vnd.jupyter.widget-view+json": {
       "model_id": "d890b4bb1c9347398475159276b573b9",
       "version_major": 2,
       "version_minor": 0
      },
      "text/plain": [
       "HBox(children=(FloatProgress(value=1.0, bar_style='info', max=1.0), HTML(value='')))"
      ]
     },
     "metadata": {},
     "output_type": "display_data"
    },
    {
     "name": "stdout",
     "output_type": "stream",
     "text": [
      "\n",
      "Result written to outputs/algo=WindowStreamingAlgo_client_dist=RoundrobinNodeDistribution_terminal_dist=RoundrobinNodeDistribution_nnodes=1_1583390804.911125.json\n",
      "{'client_TDR': 1.0, 'client_MDR': 0.0, 'client_FDR': 0.32432432432432434, 'client_CDR': 2.1666666666666665, 'terminal_TDR': 1.0, 'terminal_MDR': 0.0, 'terminal_FDR': 0.3846153846153846, 'terminal_CDR': 3.48, 'client_False': 12, 'terminal_False': 15, 'client_latency': 56.0, 'terminal_latency': 97.375}\n"
     ]
    },
    {
     "data": {
      "application/vnd.jupyter.widget-view+json": {
       "model_id": "8b42916b4d1d46bc91b579ae42cbe187",
       "version_major": 2,
       "version_minor": 0
      },
      "text/plain": [
       "HBox(children=(FloatProgress(value=1.0, bar_style='info', max=1.0), HTML(value='')))"
      ]
     },
     "metadata": {},
     "output_type": "display_data"
    },
    {
     "name": "stdout",
     "output_type": "stream",
     "text": [
      "\n",
      "Result written to outputs/algo=WindowStreamingAlgo_client_dist=RoundrobinNodeDistribution_terminal_dist=RoundrobinNodeDistribution_nnodes=5_1583390874.798502.json\n",
      "{'client_TDR': 1.0, 'client_MDR': 0.0, 'client_FDR': 0.375, 'client_CDR': 0.9583333333333334, 'terminal_TDR': 1.0, 'terminal_MDR': 0.0, 'terminal_FDR': 0.3513513513513513, 'terminal_CDR': 1.6, 'client_False': 15, 'terminal_False': 13, 'client_latency': 75.52, 'terminal_latency': 105.83333333333333}\n"
     ]
    },
    {
     "data": {
      "application/vnd.jupyter.widget-view+json": {
       "model_id": "efc29185a796418187ef8100620fa4fe",
       "version_major": 2,
       "version_minor": 0
      },
      "text/plain": [
       "HBox(children=(FloatProgress(value=1.0, bar_style='info', max=1.0), HTML(value='')))"
      ]
     },
     "metadata": {},
     "output_type": "display_data"
    },
    {
     "name": "stdout",
     "output_type": "stream",
     "text": [
      "\n",
      "Result written to outputs/algo=WindowStreamingAlgo_client_dist=DependentNodeDistribution_terminal_dist=SecondMetaDependentNodeDistribution_nnodes=5_1583390992.201376.json\n",
      "{'client_TDR': 1.0, 'client_MDR': 0.0, 'client_FDR': 0.32432432432432434, 'client_CDR': 2.1666666666666665, 'terminal_TDR': 0.875, 'terminal_MDR': 0.125, 'terminal_FDR': 0.5531914893617021, 'terminal_CDR': 4.76, 'client_False': 12, 'terminal_False': 26, 'client_latency': 56.0, 'terminal_latency': 87.76190476190476}\n"
     ]
    },
    {
     "data": {
      "application/vnd.jupyter.widget-view+json": {
       "model_id": "e1a22862a191496f8579243b8211e12c",
       "version_major": 2,
       "version_minor": 0
      },
      "text/plain": [
       "HBox(children=(FloatProgress(value=1.0, bar_style='info', max=1.0), HTML(value='')))"
      ]
     },
     "metadata": {},
     "output_type": "display_data"
    },
    {
     "name": "stdout",
     "output_type": "stream",
     "text": [
      "\n",
      "Result written to outputs/algo=WindowStreamingAlgo_client_dist=SecondMetaDependentNodeDistribution_terminal_dist=DependentNodeDistribution_nnodes=5_1583391090.67631.json\n",
      "{'client_TDR': 1.0, 'client_MDR': 0.0, 'client_FDR': 0.40476190476190477, 'client_CDR': 3.8333333333333335, 'terminal_TDR': 1.0, 'terminal_MDR': 0.0, 'terminal_FDR': 0.3846153846153846, 'terminal_CDR': 3.48, 'client_False': 17, 'terminal_False': 15, 'client_latency': 48.36, 'terminal_latency': 97.375}\n"
     ]
    },
    {
     "data": {
      "application/vnd.jupyter.widget-view+json": {
       "model_id": "35ee193387c24881af7623f601579d61",
       "version_major": 2,
       "version_minor": 0
      },
      "text/plain": [
       "HBox(children=(FloatProgress(value=1.0, bar_style='info', max=1.0), HTML(value='')))"
      ]
     },
     "metadata": {},
     "output_type": "display_data"
    },
    {
     "name": "stdout",
     "output_type": "stream",
     "text": [
      "\n",
      "Result written to outputs/algo=WindowStreamingAlgo_client_dist=RoundrobinNodeDistribution_terminal_dist=RoundrobinNodeDistribution_nnodes=1_1583391246.682505.json\n",
      "{'client_TDR': 1.0, 'client_MDR': 0.0, 'client_FDR': 0.3055555555555556, 'client_CDR': 1.4583333333333333, 'terminal_TDR': 0.9166666666666666, 'terminal_MDR': 0.08333333333333337, 'terminal_FDR': 0.42105263157894735, 'terminal_CDR': 2.96, 'client_False': 11, 'terminal_False': 16, 'client_latency': 49.72, 'terminal_latency': 109.0909090909091}\n"
     ]
    },
    {
     "data": {
      "application/vnd.jupyter.widget-view+json": {
       "model_id": "c42fac85cbbb44e596fba7077dcee8cc",
       "version_major": 2,
       "version_minor": 0
      },
      "text/plain": [
       "HBox(children=(FloatProgress(value=1.0, bar_style='info', max=1.0), HTML(value='')))"
      ]
     },
     "metadata": {},
     "output_type": "display_data"
    },
    {
     "name": "stdout",
     "output_type": "stream",
     "text": [
      "\n",
      "Result written to outputs/algo=WindowStreamingAlgo_client_dist=RoundrobinNodeDistribution_terminal_dist=RoundrobinNodeDistribution_nnodes=5_1583391311.779052.json\n",
      "{'client_TDR': 1.0, 'client_MDR': 0.0, 'client_FDR': 0.2857142857142857, 'client_CDR': 1.0416666666666667, 'terminal_TDR': 0.875, 'terminal_MDR': 0.125, 'terminal_FDR': 0.475, 'terminal_CDR': 1.6, 'client_False': 10, 'terminal_False': 19, 'client_latency': 70.76, 'terminal_latency': 136.66666666666666}\n"
     ]
    },
    {
     "data": {
      "application/vnd.jupyter.widget-view+json": {
       "model_id": "2f7f51d6cf6049bea1da5080f60baaf3",
       "version_major": 2,
       "version_minor": 0
      },
      "text/plain": [
       "HBox(children=(FloatProgress(value=1.0, bar_style='info', max=1.0), HTML(value='')))"
      ]
     },
     "metadata": {},
     "output_type": "display_data"
    },
    {
     "name": "stdout",
     "output_type": "stream",
     "text": [
      "\n",
      "Result written to outputs/algo=WindowStreamingAlgo_client_dist=DependentNodeDistribution_terminal_dist=SecondMetaDependentNodeDistribution_nnodes=5_1583391427.299363.json\n",
      "{'client_TDR': 1.0, 'client_MDR': 0.0, 'client_FDR': 0.3055555555555556, 'client_CDR': 1.4583333333333333, 'terminal_TDR': 0.9166666666666666, 'terminal_MDR': 0.08333333333333337, 'terminal_FDR': 0.6, 'terminal_CDR': 4.68, 'client_False': 11, 'terminal_False': 33, 'client_latency': 49.72, 'terminal_latency': 83.0}\n"
     ]
    },
    {
     "data": {
      "application/vnd.jupyter.widget-view+json": {
       "model_id": "ac2ee2a9d7d346dcba8ad50a8eec408b",
       "version_major": 2,
       "version_minor": 0
      },
      "text/plain": [
       "HBox(children=(FloatProgress(value=1.0, bar_style='info', max=1.0), HTML(value='')))"
      ]
     },
     "metadata": {},
     "output_type": "display_data"
    },
    {
     "name": "stdout",
     "output_type": "stream",
     "text": [
      "\n",
      "Result written to outputs/algo=WindowStreamingAlgo_client_dist=SecondMetaDependentNodeDistribution_terminal_dist=DependentNodeDistribution_nnodes=5_1583391527.940514.json\n",
      "{'client_TDR': 1.0, 'client_MDR': 0.0, 'client_FDR': 0.47916666666666663, 'client_CDR': 3.7083333333333335, 'terminal_TDR': 0.9166666666666666, 'terminal_MDR': 0.08333333333333337, 'terminal_FDR': 0.42105263157894735, 'terminal_CDR': 2.96, 'client_False': 23, 'terminal_False': 16, 'client_latency': 56.96, 'terminal_latency': 109.0909090909091}\n"
     ]
    },
    {
     "data": {
      "application/vnd.jupyter.widget-view+json": {
       "model_id": "b182b3769a884e1c939b564ffda651cc",
       "version_major": 2,
       "version_minor": 0
      },
      "text/plain": [
       "HBox(children=(FloatProgress(value=1.0, bar_style='info', max=1.0), HTML(value='')))"
      ]
     },
     "metadata": {},
     "output_type": "display_data"
    },
    {
     "name": "stdout",
     "output_type": "stream",
     "text": [
      "\n",
      "Result written to outputs/algo=WindowStreamingAlgo_client_dist=RoundrobinNodeDistribution_terminal_dist=RoundrobinNodeDistribution_nnodes=1_1583391689.138601.json\n",
      "{'client_TDR': 1.0, 'client_MDR': 0.0, 'client_FDR': 0.3902439024390244, 'client_CDR': 1.75, 'terminal_TDR': 1.0, 'terminal_MDR': 0.0, 'terminal_FDR': 0.368421052631579, 'terminal_CDR': 2.84, 'client_False': 16, 'terminal_False': 14, 'client_latency': 65.24, 'terminal_latency': 59.25}\n"
     ]
    },
    {
     "data": {
      "application/vnd.jupyter.widget-view+json": {
       "model_id": "e7b580d61b0f47f0932d2515f13d41b3",
       "version_major": 2,
       "version_minor": 0
      },
      "text/plain": [
       "HBox(children=(FloatProgress(value=1.0, bar_style='info', max=1.0), HTML(value='')))"
      ]
     },
     "metadata": {},
     "output_type": "display_data"
    },
    {
     "name": "stdout",
     "output_type": "stream",
     "text": [
      "\n",
      "Result written to outputs/algo=WindowStreamingAlgo_client_dist=RoundrobinNodeDistribution_terminal_dist=RoundrobinNodeDistribution_nnodes=5_1583391752.39848.json\n",
      "{'client_TDR': 1.0, 'client_MDR': 0.0, 'client_FDR': 0.3902439024390244, 'client_CDR': 0.9166666666666666, 'terminal_TDR': 1.0, 'terminal_MDR': 0.0, 'terminal_FDR': 0.3513513513513513, 'terminal_CDR': 1.68, 'client_False': 16, 'terminal_False': 13, 'client_latency': 83.4, 'terminal_latency': 103.625}\n"
     ]
    },
    {
     "data": {
      "application/vnd.jupyter.widget-view+json": {
       "model_id": "fbc5cf4472594e29954f4feede6f92b9",
       "version_major": 2,
       "version_minor": 0
      },
      "text/plain": [
       "HBox(children=(FloatProgress(value=1.0, bar_style='info', max=1.0), HTML(value='')))"
      ]
     },
     "metadata": {},
     "output_type": "display_data"
    },
    {
     "name": "stdout",
     "output_type": "stream",
     "text": [
      "\n",
      "Result written to outputs/algo=WindowStreamingAlgo_client_dist=DependentNodeDistribution_terminal_dist=SecondMetaDependentNodeDistribution_nnodes=5_1583391860.793749.json\n",
      "{'client_TDR': 1.0, 'client_MDR': 0.0, 'client_FDR': 0.3902439024390244, 'client_CDR': 1.75, 'terminal_TDR': 1.0, 'terminal_MDR': 0.0, 'terminal_FDR': 0.5789473684210527, 'terminal_CDR': 4.8, 'client_False': 16, 'terminal_False': 33, 'client_latency': 65.24, 'terminal_latency': 58.583333333333336}\n"
     ]
    },
    {
     "data": {
      "application/vnd.jupyter.widget-view+json": {
       "model_id": "8c01c9402a09410890d20b96d1113b5c",
       "version_major": 2,
       "version_minor": 0
      },
      "text/plain": [
       "HBox(children=(FloatProgress(value=1.0, bar_style='info', max=1.0), HTML(value='')))"
      ]
     },
     "metadata": {},
     "output_type": "display_data"
    },
    {
     "name": "stdout",
     "output_type": "stream",
     "text": [
      "\n",
      "Result written to outputs/algo=WindowStreamingAlgo_client_dist=SecondMetaDependentNodeDistribution_terminal_dist=DependentNodeDistribution_nnodes=5_1583391959.902211.json\n",
      "{'client_TDR': 1.0, 'client_MDR': 0.0, 'client_FDR': 0.375, 'client_CDR': 4.083333333333333, 'terminal_TDR': 1.0, 'terminal_MDR': 0.0, 'terminal_FDR': 0.368421052631579, 'terminal_CDR': 2.84, 'client_False': 15, 'terminal_False': 14, 'client_latency': 51.72, 'terminal_latency': 59.25}\n"
     ]
    },
    {
     "data": {
      "application/vnd.jupyter.widget-view+json": {
       "model_id": "1da0577e8795433fbe4d001937cf0a63",
       "version_major": 2,
       "version_minor": 0
      },
      "text/plain": [
       "HBox(children=(FloatProgress(value=1.0, bar_style='info', max=1.0), HTML(value='')))"
      ]
     },
     "metadata": {},
     "output_type": "display_data"
    },
    {
     "name": "stdout",
     "output_type": "stream",
     "text": [
      "\n",
      "Result written to outputs/algo=WindowStreamingAlgo_client_dist=RoundrobinNodeDistribution_terminal_dist=RoundrobinNodeDistribution_nnodes=1_1583392110.850487.json\n",
      "{'client_TDR': 1.0, 'client_MDR': 0.0, 'client_FDR': 0.40476190476190477, 'client_CDR': 1.6666666666666667, 'terminal_TDR': 1.0, 'terminal_MDR': 0.0, 'terminal_FDR': 0.4285714285714286, 'terminal_CDR': 2.6, 'client_False': 17, 'terminal_False': 18, 'client_latency': 45.6, 'terminal_latency': 106.41666666666667}\n"
     ]
    },
    {
     "data": {
      "application/vnd.jupyter.widget-view+json": {
       "model_id": "87c6d766e25a42d08c374734c164451b",
       "version_major": 2,
       "version_minor": 0
      },
      "text/plain": [
       "HBox(children=(FloatProgress(value=1.0, bar_style='info', max=1.0), HTML(value='')))"
      ]
     },
     "metadata": {},
     "output_type": "display_data"
    },
    {
     "name": "stdout",
     "output_type": "stream",
     "text": [
      "\n",
      "Result written to outputs/algo=WindowStreamingAlgo_client_dist=RoundrobinNodeDistribution_terminal_dist=RoundrobinNodeDistribution_nnodes=5_1583392176.715441.json\n",
      "{'client_TDR': 1.0, 'client_MDR': 0.0, 'client_FDR': 0.3055555555555556, 'client_CDR': 0.5833333333333334, 'terminal_TDR': 0.9583333333333334, 'terminal_MDR': 0.04166666666666663, 'terminal_FDR': 0.25806451612903225, 'terminal_CDR': 1.52, 'client_False': 11, 'terminal_False': 8, 'client_latency': 90.28, 'terminal_latency': 138.8695652173913}\n"
     ]
    },
    {
     "data": {
      "application/vnd.jupyter.widget-view+json": {
       "model_id": "094d53d81f844e9d85c3f45995ca634e",
       "version_major": 2,
       "version_minor": 0
      },
      "text/plain": [
       "HBox(children=(FloatProgress(value=1.0, bar_style='info', max=1.0), HTML(value='')))"
      ]
     },
     "metadata": {},
     "output_type": "display_data"
    },
    {
     "name": "stdout",
     "output_type": "stream",
     "text": [
      "\n",
      "Result written to outputs/algo=WindowStreamingAlgo_client_dist=DependentNodeDistribution_terminal_dist=SecondMetaDependentNodeDistribution_nnodes=5_1583392286.071557.json\n",
      "{'client_TDR': 1.0, 'client_MDR': 0.0, 'client_FDR': 0.40476190476190477, 'client_CDR': 1.6666666666666667, 'terminal_TDR': 0.9583333333333334, 'terminal_MDR': 0.04166666666666663, 'terminal_FDR': 0.5208333333333333, 'terminal_CDR': 5.04, 'client_False': 17, 'terminal_False': 25, 'client_latency': 45.6, 'terminal_latency': 62.82608695652174}\n"
     ]
    },
    {
     "data": {
      "application/vnd.jupyter.widget-view+json": {
       "model_id": "7c77aaac58e94de1a1864e9d4b1473c7",
       "version_major": 2,
       "version_minor": 0
      },
      "text/plain": [
       "HBox(children=(FloatProgress(value=1.0, bar_style='info', max=1.0), HTML(value='')))"
      ]
     },
     "metadata": {},
     "output_type": "display_data"
    },
    {
     "name": "stdout",
     "output_type": "stream",
     "text": [
      "\n",
      "Result written to outputs/algo=WindowStreamingAlgo_client_dist=SecondMetaDependentNodeDistribution_terminal_dist=DependentNodeDistribution_nnodes=5_1583392388.257219.json\n",
      "{'client_TDR': 0.96, 'client_MDR': 0.040000000000000036, 'client_FDR': 0.41463414634146345, 'client_CDR': 3.75, 'terminal_TDR': 1.0, 'terminal_MDR': 0.0, 'terminal_FDR': 0.4285714285714286, 'terminal_CDR': 2.6, 'client_False': 17, 'terminal_False': 18, 'client_latency': 59.333333333333336, 'terminal_latency': 106.41666666666667}\n"
     ]
    },
    {
     "data": {
      "application/vnd.jupyter.widget-view+json": {
       "model_id": "c007a8c9a3fe41faacf001e6b0f99cef",
       "version_major": 2,
       "version_minor": 0
      },
      "text/plain": [
       "HBox(children=(FloatProgress(value=1.0, bar_style='info', max=1.0), HTML(value='')))"
      ]
     },
     "metadata": {},
     "output_type": "display_data"
    },
    {
     "name": "stdout",
     "output_type": "stream",
     "text": [
      "\n",
      "Result written to outputs/algo=WindowStreamingAlgo_client_dist=RoundrobinNodeDistribution_terminal_dist=RoundrobinNodeDistribution_nnodes=1_1583392531.540713.json\n",
      "{'client_TDR': 0.96, 'client_MDR': 0.040000000000000036, 'client_FDR': 0.5102040816326531, 'client_CDR': 2.0416666666666665, 'terminal_TDR': 0.9583333333333334, 'terminal_MDR': 0.04166666666666663, 'terminal_FDR': 0.39473684210526316, 'terminal_CDR': 2.76, 'client_False': 25, 'terminal_False': 15, 'client_latency': 60.833333333333336, 'terminal_latency': 77.1304347826087}\n"
     ]
    },
    {
     "data": {
      "application/vnd.jupyter.widget-view+json": {
       "model_id": "3b6efc3434ce4892b6b2e1baf76e07e4",
       "version_major": 2,
       "version_minor": 0
      },
      "text/plain": [
       "HBox(children=(FloatProgress(value=1.0, bar_style='info', max=1.0), HTML(value='')))"
      ]
     },
     "metadata": {},
     "output_type": "display_data"
    },
    {
     "name": "stdout",
     "output_type": "stream",
     "text": [
      "\n",
      "Result written to outputs/algo=WindowStreamingAlgo_client_dist=RoundrobinNodeDistribution_terminal_dist=RoundrobinNodeDistribution_nnodes=5_1583392595.355155.json\n",
      "{'client_TDR': 1.0, 'client_MDR': 0.0, 'client_FDR': 0.47916666666666663, 'client_CDR': 0.875, 'terminal_TDR': 1.0, 'terminal_MDR': 0.0, 'terminal_FDR': 0.2727272727272727, 'terminal_CDR': 1.48, 'client_False': 23, 'terminal_False': 9, 'client_latency': 83.16, 'terminal_latency': 118.08333333333333}\n"
     ]
    },
    {
     "data": {
      "application/vnd.jupyter.widget-view+json": {
       "model_id": "4d6f102d779649adb580752ae81182bd",
       "version_major": 2,
       "version_minor": 0
      },
      "text/plain": [
       "HBox(children=(FloatProgress(value=1.0, bar_style='info', max=1.0), HTML(value='')))"
      ]
     },
     "metadata": {},
     "output_type": "display_data"
    },
    {
     "name": "stdout",
     "output_type": "stream",
     "text": [
      "\n",
      "Result written to outputs/algo=WindowStreamingAlgo_client_dist=DependentNodeDistribution_terminal_dist=SecondMetaDependentNodeDistribution_nnodes=5_1583392697.623988.json\n",
      "{'client_TDR': 0.96, 'client_MDR': 0.040000000000000036, 'client_FDR': 0.5102040816326531, 'client_CDR': 2.0416666666666665, 'terminal_TDR': 0.9583333333333334, 'terminal_MDR': 0.04166666666666663, 'terminal_FDR': 0.5660377358490566, 'terminal_CDR': 5.16, 'client_False': 25, 'terminal_False': 30, 'client_latency': 60.833333333333336, 'terminal_latency': 58.43478260869565}\n"
     ]
    },
    {
     "data": {
      "application/vnd.jupyter.widget-view+json": {
       "model_id": "34925c680bb74aaea4034f46501f1077",
       "version_major": 2,
       "version_minor": 0
      },
      "text/plain": [
       "HBox(children=(FloatProgress(value=1.0, bar_style='info', max=1.0), HTML(value='')))"
      ]
     },
     "metadata": {},
     "output_type": "display_data"
    },
    {
     "name": "stdout",
     "output_type": "stream",
     "text": [
      "\n",
      "Result written to outputs/algo=WindowStreamingAlgo_client_dist=SecondMetaDependentNodeDistribution_terminal_dist=DependentNodeDistribution_nnodes=5_1583392797.168921.json\n",
      "{'client_TDR': 0.96, 'client_MDR': 0.040000000000000036, 'client_FDR': 0.5102040816326531, 'client_CDR': 3.9583333333333335, 'terminal_TDR': 0.9583333333333334, 'terminal_MDR': 0.04166666666666663, 'terminal_FDR': 0.39473684210526316, 'terminal_CDR': 2.76, 'client_False': 25, 'terminal_False': 15, 'client_latency': 54.875, 'terminal_latency': 77.1304347826087}\n"
     ]
    },
    {
     "data": {
      "application/vnd.jupyter.widget-view+json": {
       "model_id": "47e1e493111c4df8ab850afbe7032b2e",
       "version_major": 2,
       "version_minor": 0
      },
      "text/plain": [
       "HBox(children=(FloatProgress(value=1.0, bar_style='info', max=1.0), HTML(value='')))"
      ]
     },
     "metadata": {},
     "output_type": "display_data"
    },
    {
     "name": "stdout",
     "output_type": "stream",
     "text": [
      "\n",
      "Result written to outputs/algo=WindowStreamingAlgo_client_dist=RoundrobinNodeDistribution_terminal_dist=RoundrobinNodeDistribution_nnodes=1_1583392945.07213.json\n",
      "{'client_TDR': 0.96, 'client_MDR': 0.040000000000000036, 'client_FDR': 0.22580645161290325, 'client_CDR': 1.7916666666666667, 'terminal_TDR': 1.0, 'terminal_MDR': 0.0, 'terminal_FDR': 0.3513513513513513, 'terminal_CDR': 3.24, 'client_False': 7, 'terminal_False': 13, 'client_latency': 54.958333333333336, 'terminal_latency': 82.95833333333333}\n"
     ]
    },
    {
     "data": {
      "application/vnd.jupyter.widget-view+json": {
       "model_id": "f5a4be20395d4cf6a837e48f3398c833",
       "version_major": 2,
       "version_minor": 0
      },
      "text/plain": [
       "HBox(children=(FloatProgress(value=1.0, bar_style='info', max=1.0), HTML(value='')))"
      ]
     },
     "metadata": {},
     "output_type": "display_data"
    },
    {
     "name": "stdout",
     "output_type": "stream",
     "text": [
      "\n",
      "Result written to outputs/algo=WindowStreamingAlgo_client_dist=RoundrobinNodeDistribution_terminal_dist=RoundrobinNodeDistribution_nnodes=5_1583393009.889174.json\n",
      "{'client_TDR': 1.0, 'client_MDR': 0.0, 'client_FDR': 0.2857142857142857, 'client_CDR': 0.7916666666666666, 'terminal_TDR': 0.9166666666666666, 'terminal_MDR': 0.08333333333333337, 'terminal_FDR': 0.3125, 'terminal_CDR': 1.48, 'client_False': 10, 'terminal_False': 10, 'client_latency': 77.56, 'terminal_latency': 114.27272727272727}\n"
     ]
    },
    {
     "data": {
      "application/vnd.jupyter.widget-view+json": {
       "model_id": "20e926d33361487994b3ced6d42531e3",
       "version_major": 2,
       "version_minor": 0
      },
      "text/plain": [
       "HBox(children=(FloatProgress(value=1.0, bar_style='info', max=1.0), HTML(value='')))"
      ]
     },
     "metadata": {},
     "output_type": "display_data"
    },
    {
     "name": "stdout",
     "output_type": "stream",
     "text": [
      "\n",
      "Result written to outputs/algo=WindowStreamingAlgo_client_dist=DependentNodeDistribution_terminal_dist=SecondMetaDependentNodeDistribution_nnodes=5_1583393121.020027.json\n",
      "{'client_TDR': 0.96, 'client_MDR': 0.040000000000000036, 'client_FDR': 0.22580645161290325, 'client_CDR': 1.7916666666666667, 'terminal_TDR': 1.0, 'terminal_MDR': 0.0, 'terminal_FDR': 0.5384615384615384, 'terminal_CDR': 5.0, 'client_False': 7, 'terminal_False': 28, 'client_latency': 54.958333333333336, 'terminal_latency': 71.16666666666667}\n"
     ]
    },
    {
     "data": {
      "application/vnd.jupyter.widget-view+json": {
       "model_id": "121c7f7420c8428881ffd12ed041b552",
       "version_major": 2,
       "version_minor": 0
      },
      "text/plain": [
       "HBox(children=(FloatProgress(value=1.0, bar_style='info', max=1.0), HTML(value='')))"
      ]
     },
     "metadata": {},
     "output_type": "display_data"
    },
    {
     "name": "stdout",
     "output_type": "stream",
     "text": [
      "\n",
      "Result written to outputs/algo=WindowStreamingAlgo_client_dist=SecondMetaDependentNodeDistribution_terminal_dist=DependentNodeDistribution_nnodes=5_1583393217.945335.json\n",
      "{'client_TDR': 0.96, 'client_MDR': 0.040000000000000036, 'client_FDR': 0.4285714285714286, 'client_CDR': 3.5833333333333335, 'terminal_TDR': 1.0, 'terminal_MDR': 0.0, 'terminal_FDR': 0.3513513513513513, 'terminal_CDR': 3.24, 'client_False': 18, 'terminal_False': 13, 'client_latency': 60.708333333333336, 'terminal_latency': 82.95833333333333}\n"
     ]
    },
    {
     "data": {
      "application/vnd.jupyter.widget-view+json": {
       "model_id": "f4abb035cd64406aa7d17ccbc61d6c7c",
       "version_major": 2,
       "version_minor": 0
      },
      "text/plain": [
       "HBox(children=(FloatProgress(value=1.0, bar_style='info', max=1.0), HTML(value='')))"
      ]
     },
     "metadata": {},
     "output_type": "display_data"
    },
    {
     "name": "stdout",
     "output_type": "stream",
     "text": [
      "\n",
      "Result written to outputs/algo=WindowStreamingAlgo_client_dist=RoundrobinNodeDistribution_terminal_dist=RoundrobinNodeDistribution_nnodes=1_1583393362.042057.json\n",
      "{'client_TDR': 1.0, 'client_MDR': 0.0, 'client_FDR': 0.3421052631578947, 'client_CDR': 2.125, 'terminal_TDR': 0.9583333333333334, 'terminal_MDR': 0.04166666666666663, 'terminal_FDR': 0.39473684210526316, 'terminal_CDR': 3.48, 'client_False': 13, 'terminal_False': 15, 'client_latency': 62.24, 'terminal_latency': 78.69565217391305}\n"
     ]
    },
    {
     "data": {
      "application/vnd.jupyter.widget-view+json": {
       "model_id": "a36507f477e74ebbb14daab4f88787c5",
       "version_major": 2,
       "version_minor": 0
      },
      "text/plain": [
       "HBox(children=(FloatProgress(value=1.0, bar_style='info', max=1.0), HTML(value='')))"
      ]
     },
     "metadata": {},
     "output_type": "display_data"
    },
    {
     "name": "stdout",
     "output_type": "stream",
     "text": [
      "\n",
      "Result written to outputs/algo=WindowStreamingAlgo_client_dist=RoundrobinNodeDistribution_terminal_dist=RoundrobinNodeDistribution_nnodes=5_1583393429.518436.json\n",
      "{'client_TDR': 0.92, 'client_MDR': 0.07999999999999996, 'client_FDR': 0.32352941176470584, 'client_CDR': 0.7916666666666666, 'terminal_TDR': 0.9583333333333334, 'terminal_MDR': 0.04166666666666663, 'terminal_FDR': 0.303030303030303, 'terminal_CDR': 1.44, 'client_False': 11, 'terminal_False': 10, 'client_latency': 82.82608695652173, 'terminal_latency': 96.30434782608695}\n"
     ]
    },
    {
     "data": {
      "application/vnd.jupyter.widget-view+json": {
       "model_id": "27d9d1a83254430badf8c7d733bb211a",
       "version_major": 2,
       "version_minor": 0
      },
      "text/plain": [
       "HBox(children=(FloatProgress(value=1.0, bar_style='info', max=1.0), HTML(value='')))"
      ]
     },
     "metadata": {},
     "output_type": "display_data"
    },
    {
     "name": "stdout",
     "output_type": "stream",
     "text": [
      "\n",
      "Result written to outputs/algo=WindowStreamingAlgo_client_dist=DependentNodeDistribution_terminal_dist=SecondMetaDependentNodeDistribution_nnodes=5_1583393535.65577.json\n",
      "{'client_TDR': 1.0, 'client_MDR': 0.0, 'client_FDR': 0.3421052631578947, 'client_CDR': 2.125, 'terminal_TDR': 1.0, 'terminal_MDR': 0.0, 'terminal_FDR': 0.5, 'terminal_CDR': 4.96, 'client_False': 13, 'terminal_False': 24, 'client_latency': 62.24, 'terminal_latency': 57.125}\n"
     ]
    },
    {
     "data": {
      "application/vnd.jupyter.widget-view+json": {
       "model_id": "284e3c490e8e4fe6a24efb732e102a30",
       "version_major": 2,
       "version_minor": 0
      },
      "text/plain": [
       "HBox(children=(FloatProgress(value=1.0, bar_style='info', max=1.0), HTML(value='')))"
      ]
     },
     "metadata": {},
     "output_type": "display_data"
    },
    {
     "name": "stdout",
     "output_type": "stream",
     "text": [
      "\n",
      "Result written to outputs/algo=WindowStreamingAlgo_client_dist=SecondMetaDependentNodeDistribution_terminal_dist=DependentNodeDistribution_nnodes=5_1583393630.484981.json\n",
      "{'client_TDR': 1.0, 'client_MDR': 0.0, 'client_FDR': 0.4565217391304348, 'client_CDR': 4.0, 'terminal_TDR': 0.9583333333333334, 'terminal_MDR': 0.04166666666666663, 'terminal_FDR': 0.39473684210526316, 'terminal_CDR': 3.48, 'client_False': 21, 'terminal_False': 15, 'client_latency': 54.08, 'terminal_latency': 78.69565217391305}\n"
     ]
    },
    {
     "data": {
      "application/vnd.jupyter.widget-view+json": {
       "model_id": "78ca8f4418614ffdadcbb840d73d02e8",
       "version_major": 2,
       "version_minor": 0
      },
      "text/plain": [
       "HBox(children=(FloatProgress(value=1.0, bar_style='info', max=1.0), HTML(value='')))"
      ]
     },
     "metadata": {},
     "output_type": "display_data"
    },
    {
     "name": "stdout",
     "output_type": "stream",
     "text": [
      "\n",
      "Result written to outputs/algo=WindowStreamingAlgo_client_dist=RoundrobinNodeDistribution_terminal_dist=RoundrobinNodeDistribution_nnodes=1_1583393778.963163.json\n",
      "{'client_TDR': 0.96, 'client_MDR': 0.040000000000000036, 'client_FDR': 0.41463414634146345, 'client_CDR': 2.0416666666666665, 'terminal_TDR': 0.9583333333333334, 'terminal_MDR': 0.04166666666666663, 'terminal_FDR': 0.39473684210526316, 'terminal_CDR': 2.72, 'client_False': 17, 'terminal_False': 15, 'client_latency': 41.041666666666664, 'terminal_latency': 103.65217391304348}\n"
     ]
    },
    {
     "data": {
      "application/vnd.jupyter.widget-view+json": {
       "model_id": "891327509ab04ef7b8d068537e8eea58",
       "version_major": 2,
       "version_minor": 0
      },
      "text/plain": [
       "HBox(children=(FloatProgress(value=1.0, bar_style='info', max=1.0), HTML(value='')))"
      ]
     },
     "metadata": {},
     "output_type": "display_data"
    },
    {
     "name": "stdout",
     "output_type": "stream",
     "text": [
      "\n",
      "Result written to outputs/algo=WindowStreamingAlgo_client_dist=RoundrobinNodeDistribution_terminal_dist=RoundrobinNodeDistribution_nnodes=5_1583393843.640427.json\n",
      "{'client_TDR': 1.0, 'client_MDR': 0.0, 'client_FDR': 0.3055555555555556, 'client_CDR': 1.125, 'terminal_TDR': 0.9583333333333334, 'terminal_MDR': 0.04166666666666663, 'terminal_FDR': 0.34285714285714286, 'terminal_CDR': 1.36, 'client_False': 11, 'terminal_False': 12, 'client_latency': 77.28, 'terminal_latency': 104.78260869565217}\n"
     ]
    },
    {
     "data": {
      "application/vnd.jupyter.widget-view+json": {
       "model_id": "86f2676a311a46e4a47344d1582b866e",
       "version_major": 2,
       "version_minor": 0
      },
      "text/plain": [
       "HBox(children=(FloatProgress(value=1.0, bar_style='info', max=1.0), HTML(value='')))"
      ]
     },
     "metadata": {},
     "output_type": "display_data"
    },
    {
     "name": "stdout",
     "output_type": "stream",
     "text": [
      "\n",
      "Result written to outputs/algo=WindowStreamingAlgo_client_dist=DependentNodeDistribution_terminal_dist=SecondMetaDependentNodeDistribution_nnodes=5_1583393960.370525.json\n",
      "{'client_TDR': 0.96, 'client_MDR': 0.040000000000000036, 'client_FDR': 0.41463414634146345, 'client_CDR': 2.0416666666666665, 'terminal_TDR': 0.875, 'terminal_MDR': 0.125, 'terminal_FDR': 0.5714285714285714, 'terminal_CDR': 5.04, 'client_False': 17, 'terminal_False': 28, 'client_latency': 41.041666666666664, 'terminal_latency': 65.42857142857143}\n"
     ]
    },
    {
     "data": {
      "application/vnd.jupyter.widget-view+json": {
       "model_id": "37fe2f6b274e4ab48efd5b8f8650420e",
       "version_major": 2,
       "version_minor": 0
      },
      "text/plain": [
       "HBox(children=(FloatProgress(value=1.0, bar_style='info', max=1.0), HTML(value='')))"
      ]
     },
     "metadata": {},
     "output_type": "display_data"
    }
   ],
   "source": [
    "stands = [\n",
    "    stand_centralized,\n",
    "    stand_roundrobins,\n",
    "    stand_client_dependent,\n",
    "    stand_terminal_dependent\n",
    "]\n",
    "\n",
    "generations = [\n",
    "    ChangeSampleGeneration\n",
    "]\n",
    "\n",
    "n_clients = 5\n",
    "n_terminals = 5\n",
    "\n",
    "results = [[[] for _ in stands] for _ in generations]\n",
    "for state in range(100):\n",
    "    for i, generation in enumerate(generations):\n",
    "        sample, change_points, change_points_ids = generation(state=state)(\n",
    "            size=20000, \n",
    "            n_clients=n_clients,\n",
    "            n_terminals=n_terminals,\n",
    "            change_period=400,\n",
    "            change_period_noise=0,\n",
    "            change_interval=400\n",
    "        )\n",
    "        for j, stand in enumerate(stands):\n",
    "            result1 = stand.test(\n",
    "                p=0.05,\n",
    "                sample=sample,\n",
    "                change_points=change_points,\n",
    "                change_ids=change_points_ids,\n",
    "                n_clients=n_clients,\n",
    "                n_terminals=n_terminals\n",
    "            )\n",
    "            print(result1)\n",
    "            results[i][j].append(result1)\n",
    "        with open('tuned_sizes_results.json', 'w') as output_file:\n",
    "            json.dump(results, output_file, indent=4, ensure_ascii=False)"
   ]
  },
  {
   "cell_type": "code",
   "execution_count": null,
   "metadata": {},
   "outputs": [],
   "source": []
  },
  {
   "cell_type": "code",
   "execution_count": null,
   "metadata": {
    "pycharm": {
     "is_executing": true
    }
   },
   "outputs": [],
   "source": [
    "show_boxplots('client_MDR', results[0], ['centralized', 'roundrobin', 'client_dependent', 'terminal_dependent'])"
   ]
  },
  {
   "cell_type": "code",
   "execution_count": null,
   "metadata": {
    "pycharm": {
     "is_executing": true
    }
   },
   "outputs": [],
   "source": [
    "show_boxplots('client_FDR', results[0], ['centralized', 'roundrobin', 'client_dependent', 'terminal_dependent'])"
   ]
  },
  {
   "cell_type": "code",
   "execution_count": null,
   "metadata": {
    "pycharm": {
     "is_executing": true
    }
   },
   "outputs": [],
   "source": [
    "show_boxplots('terminal_MDR', results[0], ['centralized', 'roundrobin', 'client_dependent', 'terminal_dependent'])"
   ]
  },
  {
   "cell_type": "code",
   "execution_count": null,
   "metadata": {
    "pycharm": {
     "is_executing": true
    }
   },
   "outputs": [],
   "source": [
    "show_boxplots('terminal_FDR', results[0], ['centralized', 'roundrobin', 'client_dependent', 'terminal_dependent'])"
   ]
  },
  {
   "cell_type": "code",
   "execution_count": null,
   "metadata": {
    "pycharm": {
     "is_executing": true
    }
   },
   "outputs": [],
   "source": [
    "show_boxplots('client_latency', results[0], ['centralized', 'roundrobin', 'client_dependent', 'terminal_dependent'])"
   ]
  },
  {
   "cell_type": "code",
   "execution_count": null,
   "metadata": {
    "pycharm": {
     "is_executing": true
    }
   },
   "outputs": [],
   "source": [
    "show_boxplots('terminal_latency', results[0], ['centralized', 'roundrobin', 'client_dependent', 'terminal_dependent'])"
   ]
  },
  {
   "cell_type": "code",
   "execution_count": null,
   "metadata": {
    "pycharm": {
     "is_executing": true
    },
    "scrolled": true
   },
   "outputs": [],
   "source": [
    "stands = [\n",
    "    stand_centralized,\n",
    "    stand_roundrobins,\n",
    "    stand_client_dependent,\n",
    "]\n",
    "\n",
    "generations = [\n",
    "    SimpleMultichangeSampleGeneration\n",
    "]\n",
    "\n",
    "n_clients = 1\n",
    "n_terminals = 1\n",
    "\n",
    "results = [[[] for _ in stands] for _ in generations]\n",
    "for state in range(1):\n",
    "    for i, generation in enumerate(generations):\n",
    "        sample, change_points, change_points_ids = generation(state=state)(\n",
    "            size=10000,\n",
    "            tau=200\n",
    "        )\n",
    "        for j, stand in enumerate(stands):\n",
    "            result1 = stand.test(\n",
    "                p=0.05,\n",
    "                sample=sample,\n",
    "                change_points=change_points,\n",
    "                change_ids=change_points_ids,\n",
    "                n_clients=n_clients,\n",
    "                n_terminals=n_terminals\n",
    "            )\n",
    "            print(result1)\n",
    "            results[i][j].append(result1)"
   ]
  },
  {
   "cell_type": "code",
   "execution_count": null,
   "metadata": {
    "pycharm": {
     "is_executing": true
    }
   },
   "outputs": [],
   "source": [
    "show_boxplots('client_MDR', results[0], ['centralized', 'roundrobin', 'client_dependent'])"
   ]
  },
  {
   "cell_type": "code",
   "execution_count": null,
   "metadata": {
    "pycharm": {
     "is_executing": true
    }
   },
   "outputs": [],
   "source": [
    "show_boxplots('client_FDR', results[0], ['centralized', 'roundrobin', 'client_dependent'])"
   ]
  },
  {
   "cell_type": "code",
   "execution_count": null,
   "metadata": {
    "pycharm": {
     "is_executing": true
    }
   },
   "outputs": [],
   "source": [
    "show_boxplots('client_latency', results[0], ['centralized', 'roundrobin', 'client_dependent'])"
   ]
  },
  {
   "cell_type": "code",
   "execution_count": null,
   "metadata": {
    "pycharm": {
     "is_executing": true
    }
   },
   "outputs": [],
   "source": [
    "with open('simple_results.json', 'w') as simple_file:\n",
    "    json.dump(results, simple_file, indent=4, ensure_ascii=False)"
   ]
  },
  {
   "cell_type": "code",
   "execution_count": null,
   "metadata": {
    "pycharm": {
     "is_executing": true
    }
   },
   "outputs": [],
   "source": []
  },
  {
   "cell_type": "code",
   "execution_count": null,
   "metadata": {
    "pycharm": {
     "is_executing": true
    }
   },
   "outputs": [],
   "source": []
  }
 ],
 "metadata": {
  "kernelspec": {
   "display_name": "Python 3",
   "language": "python",
   "name": "python3"
  },
  "language_info": {
   "codemirror_mode": {
    "name": "ipython",
    "version": 3
   },
   "file_extension": ".py",
   "mimetype": "text/x-python",
   "name": "python",
   "nbconvert_exporter": "python",
   "pygments_lexer": "ipython3",
   "version": "3.7.6"
  },
  "pycharm": {
   "stem_cell": {
    "cell_type": "raw",
    "metadata": {
     "collapsed": false
    },
    "source": []
   }
  }
 },
 "nbformat": 4,
 "nbformat_minor": 1
}
