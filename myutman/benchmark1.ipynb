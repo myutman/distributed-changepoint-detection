{
 "cells": [
  {
   "cell_type": "code",
   "execution_count": 75,
   "metadata": {
    "pycharm": {
     "is_executing": false
    }
   },
   "outputs": [],
   "source": [
    "from importlib import reload\n",
    "\n",
    "import myutman\n",
    "reload(myutman.stand_utils)\n",
    "reload(myutman.stand)\n",
    "reload(myutman.window_algo)\n",
    "reload(myutman.generation)\n",
    "reload(myutman.fuse)\n",
    "\n",
    "from myutman.fuse import FuseForWindowAlgo\n",
    "from myutman.generation import ClientTerminalsReorderSampleGeneration, ChangeWithClientSampleGeneration, \\\n",
    "    ChangeWithTerminalSampleGeneration, ChangeSampleGeneration, StillSampleGeneration, \\\n",
    "    SimpleMultichangeSampleGeneration\n",
    "from myutman.node_distribution import RoundrobinNodeDistribution, DependentNodeDistribution, \\\n",
    "    SecondMetaDependentNodeDistribution\n",
    "from myutman.stand import Stand\n",
    "from myutman.stand_utils import compare_vals, show_boxplots, show_plot_by_p_levels, show_boxplots_by_p_levels\n",
    "from myutman.window_algo import WindowStreamingAlgo\n",
    "\n",
    "import json"
   ]
  },
  {
   "cell_type": "code",
   "execution_count": 11,
   "metadata": {
    "pycharm": {
     "is_executing": false
    }
   },
   "outputs": [
    {
     "data": {
      "text/plain": [
       "'stand_resharding = Stand(\\n    n_nodes=n_nodes,\\n    algo=WindowStreamingAlgo,\\n    client_node_distribution=DependentNodeDistribution,\\n    terminal_node_distribution=DependentNodeDistribution,\\n    fuse=FuseForWindowAlgo()\\n)'"
      ]
     },
     "execution_count": 11,
     "metadata": {},
     "output_type": "execute_result"
    }
   ],
   "source": [
    "big_windows = [(100, 100), (150, 150), (200, 200)]\n",
    "small_windows = lambda n_nodes: [(a // n_nodes, b // n_nodes) for a, b in big_windows]\n",
    "\n",
    "n_nodes = 5\n",
    "stand_centralized = lambda n_nodes: Stand(\n",
    "    n_nodes=1,\n",
    "    algo=WindowStreamingAlgo,\n",
    "    client_node_distribution=RoundrobinNodeDistribution,\n",
    "    terminal_node_distribution=RoundrobinNodeDistribution,\n",
    "    fuse=FuseForWindowAlgo(),\n",
    "    client_algo_kwargs={\"window_sizes\": big_windows},\n",
    "    terminal_algo_kwargs={\"window_sizes\": big_windows}\n",
    ")\n",
    "stand_roundrobins = lambda n_nodes: Stand(\n",
    "    n_nodes=n_nodes,\n",
    "    algo=WindowStreamingAlgo,\n",
    "    client_node_distribution=RoundrobinNodeDistribution,\n",
    "    terminal_node_distribution=RoundrobinNodeDistribution,\n",
    "    fuse=FuseForWindowAlgo(),\n",
    "    client_algo_kwargs={\"window_sizes\": small_windows(n_nodes)},\n",
    "    terminal_algo_kwargs={\"window_sizes\": small_windows(n_nodes)}\n",
    ")\n",
    "stand_client_dependent = lambda n_nodes: Stand(\n",
    "    n_nodes=n_nodes,\n",
    "    algo=WindowStreamingAlgo,\n",
    "    client_node_distribution=DependentNodeDistribution,\n",
    "    terminal_node_distribution=SecondMetaDependentNodeDistribution,\n",
    "    fuse=FuseForWindowAlgo(),\n",
    "    client_algo_kwargs={\"window_sizes\": big_windows},\n",
    "    terminal_algo_kwargs={\"window_sizes\": small_windows(n_nodes)}\n",
    ")\n",
    "stand_terminal_dependent = lambda n_nodes: Stand(\n",
    "    n_nodes=n_nodes,\n",
    "    algo=WindowStreamingAlgo,\n",
    "    client_node_distribution=SecondMetaDependentNodeDistribution,\n",
    "    terminal_node_distribution=DependentNodeDistribution,\n",
    "    fuse=FuseForWindowAlgo(),\n",
    "    client_algo_kwargs={\"window_sizes\": small_windows(n_nodes)},\n",
    "    terminal_algo_kwargs={\"window_sizes\": big_windows}\n",
    ")\n",
    "\"\"\"stand_resharding = Stand(\n",
    "    n_nodes=n_nodes,\n",
    "    algo=WindowStreamingAlgo,\n",
    "    client_node_distribution=DependentNodeDistribution,\n",
    "    terminal_node_distribution=DependentNodeDistribution,\n",
    "    fuse=FuseForWindowAlgo()\n",
    ")\"\"\""
   ]
  },
  {
   "cell_type": "code",
   "execution_count": null,
   "metadata": {
    "pycharm": {
     "is_executing": false
    }
   },
   "outputs": [],
   "source": []
  },
  {
   "cell_type": "code",
   "execution_count": 13,
   "metadata": {
    "pycharm": {
     "is_executing": false
    }
   },
   "outputs": [
    {
     "data": {
      "application/vnd.jupyter.widget-view+json": {
       "model_id": "9ff16671c1ef4e42b4c4823bd910d461",
       "version_major": 2,
       "version_minor": 0
      },
      "text/plain": [
       "HBox(children=(FloatProgress(value=1.0, bar_style='info', max=1.0), HTML(value='')))"
      ]
     },
     "metadata": {},
     "output_type": "display_data"
    },
    {
     "name": "stdout",
     "output_type": "stream",
     "text": [
      "\n",
      "Result written to outputs/algo=WindowStreamingAlgo_client_dist=RoundrobinNodeDistribution_terminal_dist=RoundrobinNodeDistribution_nnodes=1_1583417305.207329.json\n",
      "{'client_TDR': 0.98, 'client_MDR': 0.020000000000000018, 'client_FDR': 0.4024390243902439, 'client_CDR': 2.6, 'terminal_TDR': 0.88, 'terminal_MDR': 0.12, 'terminal_FDR': 0.5111111111111111, 'terminal_CDR': 4.3, 'client_False': 33, 'terminal_False': 46, 'client_latency': 134.55102040816325, 'terminal_latency': 314.3636363636364}\n"
     ]
    },
    {
     "data": {
      "application/vnd.jupyter.widget-view+json": {
       "model_id": "b68d4c18c0c3409eab2db726482d68e0",
       "version_major": 2,
       "version_minor": 0
      },
      "text/plain": [
       "HBox(children=(FloatProgress(value=1.0, bar_style='info', max=1.0), HTML(value='')))"
      ]
     },
     "metadata": {},
     "output_type": "display_data"
    },
    {
     "name": "stdout",
     "output_type": "stream",
     "text": [
      "\n",
      "Result written to outputs/algo=WindowStreamingAlgo_client_dist=RoundrobinNodeDistribution_terminal_dist=RoundrobinNodeDistribution_nnodes=4_1583417858.765988.json\n",
      "{'client_TDR': 0.96, 'client_MDR': 0.040000000000000036, 'client_FDR': 0.4725274725274725, 'client_CDR': 2.2, 'terminal_TDR': 0.98, 'terminal_MDR': 0.020000000000000018, 'terminal_FDR': 0.4842105263157894, 'terminal_CDR': 3.38, 'client_False': 43, 'terminal_False': 46, 'client_latency': 214.20833333333334, 'terminal_latency': 294.3469387755102}\n"
     ]
    },
    {
     "data": {
      "application/vnd.jupyter.widget-view+json": {
       "model_id": "6c1ba4f643b149ff8b092ab73ddfb5eb",
       "version_major": 2,
       "version_minor": 0
      },
      "text/plain": [
       "HBox(children=(FloatProgress(value=1.0, bar_style='info', max=1.0), HTML(value='')))"
      ]
     },
     "metadata": {},
     "output_type": "display_data"
    },
    {
     "name": "stdout",
     "output_type": "stream",
     "text": [
      "\n",
      "Result written to outputs/algo=WindowStreamingAlgo_client_dist=RoundrobinNodeDistribution_terminal_dist=RoundrobinNodeDistribution_nnodes=8_1583418387.391069.json\n",
      "{'client_TDR': 0.98, 'client_MDR': 0.020000000000000018, 'client_FDR': 0.43023255813953487, 'client_CDR': 1.58, 'terminal_TDR': 0.98, 'terminal_MDR': 0.020000000000000018, 'terminal_FDR': 0.48958333333333337, 'terminal_CDR': 2.42, 'client_False': 37, 'terminal_False': 47, 'client_latency': 170.69387755102042, 'terminal_latency': 283.57142857142856}\n"
     ]
    },
    {
     "data": {
      "application/vnd.jupyter.widget-view+json": {
       "model_id": "05fe8b32e0cd404b89b682173a4c76b1",
       "version_major": 2,
       "version_minor": 0
      },
      "text/plain": [
       "HBox(children=(FloatProgress(value=1.0, bar_style='info', max=1.0), HTML(value='')))"
      ]
     },
     "metadata": {},
     "output_type": "display_data"
    },
    {
     "name": "stdout",
     "output_type": "stream",
     "text": [
      "\n",
      "Result written to outputs/algo=WindowStreamingAlgo_client_dist=RoundrobinNodeDistribution_terminal_dist=RoundrobinNodeDistribution_nnodes=16_1583418879.116514.json\n",
      "{'client_TDR': 0.98, 'client_MDR': 0.020000000000000018, 'client_FDR': 0.30000000000000004, 'client_CDR': 1.0, 'terminal_TDR': 0.96, 'terminal_MDR': 0.040000000000000036, 'terminal_FDR': 0.41463414634146345, 'terminal_CDR': 1.98, 'client_False': 21, 'terminal_False': 34, 'client_latency': 214.16326530612244, 'terminal_latency': 286.3958333333333}\n"
     ]
    },
    {
     "data": {
      "application/vnd.jupyter.widget-view+json": {
       "model_id": "dc5eb35a18b4453db07cb3ab3ebff204",
       "version_major": 2,
       "version_minor": 0
      },
      "text/plain": [
       "HBox(children=(FloatProgress(value=1.0, bar_style='info', max=1.0), HTML(value='')))"
      ]
     },
     "metadata": {},
     "output_type": "display_data"
    },
    {
     "name": "stdout",
     "output_type": "stream",
     "text": [
      "\n",
      "Result written to outputs/algo=WindowStreamingAlgo_client_dist=RoundrobinNodeDistribution_terminal_dist=RoundrobinNodeDistribution_nnodes=1_1583423468.730915.json\n",
      "{'client_TDR': 1.0, 'client_MDR': 0.0, 'client_FDR': 0.36708860759493667, 'client_CDR': 2.62, 'terminal_TDR': 0.94, 'terminal_MDR': 0.06000000000000005, 'terminal_FDR': 0.3648648648648649, 'terminal_CDR': 4.06, 'client_False': 29, 'terminal_False': 27, 'client_latency': 191.36, 'terminal_latency': 398.63829787234044}\n"
     ]
    },
    {
     "data": {
      "application/vnd.jupyter.widget-view+json": {
       "model_id": "ae9b098758b5465bb62194ccb872f966",
       "version_major": 2,
       "version_minor": 0
      },
      "text/plain": [
       "HBox(children=(FloatProgress(value=1.0, bar_style='info', max=1.0), HTML(value='')))"
      ]
     },
     "metadata": {},
     "output_type": "display_data"
    },
    {
     "name": "stdout",
     "output_type": "stream",
     "text": [
      "\n",
      "Result written to outputs/algo=WindowStreamingAlgo_client_dist=RoundrobinNodeDistribution_terminal_dist=RoundrobinNodeDistribution_nnodes=4_1583427339.937415.json\n",
      "{'client_TDR': 0.98, 'client_MDR': 0.020000000000000018, 'client_FDR': 0.449438202247191, 'client_CDR': 1.68, 'terminal_TDR': 0.96, 'terminal_MDR': 0.040000000000000036, 'terminal_FDR': 0.5102040816326531, 'terminal_CDR': 3.32, 'client_False': 40, 'terminal_False': 50, 'client_latency': 203.6734693877551, 'terminal_latency': 256.8333333333333}\n"
     ]
    },
    {
     "data": {
      "application/vnd.jupyter.widget-view+json": {
       "model_id": "cd58cd8623674e9296f79c4b0e5aca8a",
       "version_major": 2,
       "version_minor": 0
      },
      "text/plain": [
       "HBox(children=(FloatProgress(value=1.0, bar_style='info', max=1.0), HTML(value='')))"
      ]
     },
     "metadata": {},
     "output_type": "display_data"
    },
    {
     "name": "stdout",
     "output_type": "stream",
     "text": [
      "\n",
      "Result written to outputs/algo=WindowStreamingAlgo_client_dist=RoundrobinNodeDistribution_terminal_dist=RoundrobinNodeDistribution_nnodes=8_1583429966.962401.json\n",
      "{'client_TDR': 0.96, 'client_MDR': 0.040000000000000036, 'client_FDR': 0.43529411764705883, 'client_CDR': 1.44, 'terminal_TDR': 0.96, 'terminal_MDR': 0.040000000000000036, 'terminal_FDR': 0.4482758620689655, 'terminal_CDR': 2.28, 'client_False': 37, 'terminal_False': 39, 'client_latency': 178.125, 'terminal_latency': 249.45833333333334}\n"
     ]
    },
    {
     "data": {
      "application/vnd.jupyter.widget-view+json": {
       "model_id": "23c3f3852d47471d8e2173a8e345afac",
       "version_major": 2,
       "version_minor": 0
      },
      "text/plain": [
       "HBox(children=(FloatProgress(value=1.0, bar_style='info', max=1.0), HTML(value='')))"
      ]
     },
     "metadata": {},
     "output_type": "display_data"
    },
    {
     "name": "stdout",
     "output_type": "stream",
     "text": [
      "\n",
      "Result written to outputs/algo=WindowStreamingAlgo_client_dist=RoundrobinNodeDistribution_terminal_dist=RoundrobinNodeDistribution_nnodes=16_1583430398.067826.json\n",
      "{'client_TDR': 1.0, 'client_MDR': 0.0, 'client_FDR': 0.40476190476190477, 'client_CDR': 0.8, 'terminal_TDR': 1.0, 'terminal_MDR': 0.0, 'terminal_FDR': 0.36708860759493667, 'terminal_CDR': 1.78, 'client_False': 34, 'terminal_False': 29, 'client_latency': 218.88, 'terminal_latency': 265.6}\n"
     ]
    },
    {
     "data": {
      "application/vnd.jupyter.widget-view+json": {
       "model_id": "7e4d4d94177641b7899e5556ebff92ec",
       "version_major": 2,
       "version_minor": 0
      },
      "text/plain": [
       "HBox(children=(FloatProgress(value=1.0, bar_style='info', max=1.0), HTML(value='')))"
      ]
     },
     "metadata": {},
     "output_type": "display_data"
    },
    {
     "name": "stdout",
     "output_type": "stream",
     "text": [
      "\n",
      "Result written to outputs/algo=WindowStreamingAlgo_client_dist=RoundrobinNodeDistribution_terminal_dist=RoundrobinNodeDistribution_nnodes=1_1583432150.722889.json\n",
      "{'client_TDR': 1.0, 'client_MDR': 0.0, 'client_FDR': 0.35064935064935066, 'client_CDR': 2.18, 'terminal_TDR': 0.88, 'terminal_MDR': 0.12, 'terminal_FDR': 0.47619047619047616, 'terminal_CDR': 4.06, 'client_False': 27, 'terminal_False': 40, 'client_latency': 149.5, 'terminal_latency': 338.1818181818182}\n"
     ]
    },
    {
     "data": {
      "application/vnd.jupyter.widget-view+json": {
       "model_id": "c7596c04a18e47d4b1716c2f919c62d2",
       "version_major": 2,
       "version_minor": 0
      },
      "text/plain": [
       "HBox(children=(FloatProgress(value=1.0, bar_style='info', max=1.0), HTML(value='')))"
      ]
     },
     "metadata": {},
     "output_type": "display_data"
    },
    {
     "name": "stdout",
     "output_type": "stream",
     "text": [
      "\n",
      "Result written to outputs/algo=WindowStreamingAlgo_client_dist=RoundrobinNodeDistribution_terminal_dist=RoundrobinNodeDistribution_nnodes=4_1583432741.388034.json\n",
      "{'client_TDR': 1.0, 'client_MDR': 0.0, 'client_FDR': 0.41860465116279066, 'client_CDR': 1.66, 'terminal_TDR': 0.92, 'terminal_MDR': 0.07999999999999996, 'terminal_FDR': 0.45882352941176474, 'terminal_CDR': 3.14, 'client_False': 36, 'terminal_False': 39, 'client_latency': 157.74, 'terminal_latency': 256.9782608695652}\n"
     ]
    },
    {
     "data": {
      "application/vnd.jupyter.widget-view+json": {
       "model_id": "6bfc70a31a4d4e8691df75c02da61c29",
       "version_major": 2,
       "version_minor": 0
      },
      "text/plain": [
       "HBox(children=(FloatProgress(value=1.0, bar_style='info', max=1.0), HTML(value='')))"
      ]
     },
     "metadata": {},
     "output_type": "display_data"
    },
    {
     "ename": "KeyboardInterrupt",
     "evalue": "",
     "output_type": "error",
     "traceback": [
      "\u001b[0;31m---------------------------------------------------------------------------\u001b[0m",
      "\u001b[0;31mKeyboardInterrupt\u001b[0m                         Traceback (most recent call last)",
      "\u001b[0;32m<ipython-input-13-789d58cad4ed>\u001b[0m in \u001b[0;36m<module>\u001b[0;34m\u001b[0m\n\u001b[1;32m     33\u001b[0m                 \u001b[0mchange_ids\u001b[0m\u001b[0;34m=\u001b[0m\u001b[0mchange_points_ids\u001b[0m\u001b[0;34m,\u001b[0m\u001b[0;34m\u001b[0m\u001b[0;34m\u001b[0m\u001b[0m\n\u001b[1;32m     34\u001b[0m                 \u001b[0mn_clients\u001b[0m\u001b[0;34m=\u001b[0m\u001b[0mn_clients\u001b[0m\u001b[0;34m,\u001b[0m\u001b[0;34m\u001b[0m\u001b[0;34m\u001b[0m\u001b[0m\n\u001b[0;32m---> 35\u001b[0;31m                 \u001b[0mn_terminals\u001b[0m\u001b[0;34m=\u001b[0m\u001b[0mn_terminals\u001b[0m\u001b[0;34m\u001b[0m\u001b[0;34m\u001b[0m\u001b[0m\n\u001b[0m\u001b[1;32m     36\u001b[0m             )\n\u001b[1;32m     37\u001b[0m             \u001b[0mprint\u001b[0m\u001b[0;34m(\u001b[0m\u001b[0mresult1\u001b[0m\u001b[0;34m)\u001b[0m\u001b[0;34m\u001b[0m\u001b[0;34m\u001b[0m\u001b[0m\n",
      "\u001b[0;32m~/Documents/distributed-changepoint-detection/myutman/stand.py\u001b[0m in \u001b[0;36mtest\u001b[0;34m(self, p, sample, change_points, change_ids, n_clients, n_terminals)\u001b[0m\n\u001b[1;32m     65\u001b[0m             \u001b[0mterminal_node_id\u001b[0m \u001b[0;34m=\u001b[0m \u001b[0mself\u001b[0m\u001b[0;34m.\u001b[0m\u001b[0mterminal_node_distribution\u001b[0m\u001b[0;34m.\u001b[0m\u001b[0mget_node_index\u001b[0m\u001b[0;34m(\u001b[0m\u001b[0mterminal_id\u001b[0m\u001b[0;34m,\u001b[0m \u001b[0mclient_id\u001b[0m\u001b[0;34m)\u001b[0m\u001b[0;34m\u001b[0m\u001b[0;34m\u001b[0m\u001b[0m\n\u001b[1;32m     66\u001b[0m             \u001b[0mnodes\u001b[0m\u001b[0;34m[\u001b[0m\u001b[0mclient_node_id\u001b[0m\u001b[0;34m]\u001b[0m\u001b[0;34m[\u001b[0m\u001b[0;36m0\u001b[0m\u001b[0;34m]\u001b[0m\u001b[0;34m[\u001b[0m\u001b[0mclient_id\u001b[0m\u001b[0;34m]\u001b[0m\u001b[0;34m.\u001b[0m\u001b[0mprocess_element\u001b[0m\u001b[0;34m(\u001b[0m\u001b[0mpoint\u001b[0m\u001b[0;34m)\u001b[0m\u001b[0;34m\u001b[0m\u001b[0;34m\u001b[0m\u001b[0m\n\u001b[0;32m---> 67\u001b[0;31m             \u001b[0mnodes\u001b[0m\u001b[0;34m[\u001b[0m\u001b[0mterminal_node_id\u001b[0m\u001b[0;34m]\u001b[0m\u001b[0;34m[\u001b[0m\u001b[0;36m1\u001b[0m\u001b[0;34m]\u001b[0m\u001b[0;34m[\u001b[0m\u001b[0mterminal_id\u001b[0m\u001b[0;34m]\u001b[0m\u001b[0;34m.\u001b[0m\u001b[0mprocess_element\u001b[0m\u001b[0;34m(\u001b[0m\u001b[0mpoint\u001b[0m\u001b[0;34m)\u001b[0m\u001b[0;34m\u001b[0m\u001b[0;34m\u001b[0m\u001b[0m\n\u001b[0m\u001b[1;32m     68\u001b[0m             \u001b[0mdetection\u001b[0m \u001b[0;34m=\u001b[0m \u001b[0;32mFalse\u001b[0m\u001b[0;34m\u001b[0m\u001b[0;34m\u001b[0m\u001b[0m\n\u001b[1;32m     69\u001b[0m             \u001b[0mdetection_ids\u001b[0m \u001b[0;34m=\u001b[0m \u001b[0;34m[\u001b[0m\u001b[0;34m-\u001b[0m\u001b[0;36m1\u001b[0m\u001b[0;34m,\u001b[0m \u001b[0;34m-\u001b[0m\u001b[0;36m1\u001b[0m\u001b[0;34m]\u001b[0m\u001b[0;34m\u001b[0m\u001b[0;34m\u001b[0m\u001b[0m\n",
      "\u001b[0;32m~/Documents/distributed-changepoint-detection/myutman/window_algo.py\u001b[0m in \u001b[0;36mprocess_element\u001b[0;34m(self, element, meta)\u001b[0m\n\u001b[1;32m     54\u001b[0m             \u001b[0mself\u001b[0m\u001b[0;34m.\u001b[0m\u001b[0mwindow_pairs\u001b[0m\u001b[0;34m[\u001b[0m\u001b[0mk\u001b[0m\u001b[0;34m]\u001b[0m\u001b[0;34m[\u001b[0m\u001b[0;36m0\u001b[0m\u001b[0;34m]\u001b[0m\u001b[0;34m.\u001b[0m\u001b[0madd_point\u001b[0m\u001b[0;34m(\u001b[0m\u001b[0melement\u001b[0m\u001b[0;34m)\u001b[0m\u001b[0;34m\u001b[0m\u001b[0;34m\u001b[0m\u001b[0m\n\u001b[1;32m     55\u001b[0m             \u001b[0;32mfor\u001b[0m \u001b[0mj\u001b[0m \u001b[0;32min\u001b[0m \u001b[0mrange\u001b[0m\u001b[0;34m(\u001b[0m\u001b[0;36m1\u001b[0m\u001b[0;34m,\u001b[0m \u001b[0mself\u001b[0m\u001b[0;34m.\u001b[0m\u001b[0ml\u001b[0m \u001b[0;34m+\u001b[0m \u001b[0;36m1\u001b[0m\u001b[0;34m)\u001b[0m\u001b[0;34m:\u001b[0m\u001b[0;34m\u001b[0m\u001b[0;34m\u001b[0m\u001b[0m\n\u001b[0;32m---> 56\u001b[0;31m                 \u001b[0mself\u001b[0m\u001b[0;34m.\u001b[0m\u001b[0mwindow_pairs\u001b[0m\u001b[0;34m[\u001b[0m\u001b[0mk\u001b[0m\u001b[0;34m]\u001b[0m\u001b[0;34m[\u001b[0m\u001b[0mj\u001b[0m\u001b[0;34m]\u001b[0m\u001b[0;34m.\u001b[0m\u001b[0madd_point\u001b[0m\u001b[0;34m(\u001b[0m\u001b[0mself\u001b[0m\u001b[0;34m.\u001b[0m\u001b[0mrnd\u001b[0m\u001b[0;34m.\u001b[0m\u001b[0muniform\u001b[0m\u001b[0;34m(\u001b[0m\u001b[0;36m0\u001b[0m\u001b[0;34m,\u001b[0m \u001b[0;36m1\u001b[0m\u001b[0;34m)\u001b[0m\u001b[0;34m)\u001b[0m\u001b[0;34m\u001b[0m\u001b[0;34m\u001b[0m\u001b[0m\n\u001b[0m\u001b[1;32m     57\u001b[0m \u001b[0;34m\u001b[0m\u001b[0m\n\u001b[1;32m     58\u001b[0m     \u001b[0;32mdef\u001b[0m \u001b[0mget_stat\u001b[0m\u001b[0;34m(\u001b[0m\u001b[0mself\u001b[0m\u001b[0;34m)\u001b[0m\u001b[0;34m:\u001b[0m\u001b[0;34m\u001b[0m\u001b[0;34m\u001b[0m\u001b[0m\n",
      "\u001b[0;32m~/Documents/distributed-changepoint-detection/myutman/window_algo.py\u001b[0m in \u001b[0;36madd_point\u001b[0;34m(self, point)\u001b[0m\n\u001b[1;32m     23\u001b[0m         \u001b[0mself\u001b[0m\u001b[0;34m.\u001b[0m\u001b[0msliding\u001b[0m\u001b[0;34m.\u001b[0m\u001b[0mappend\u001b[0m\u001b[0;34m(\u001b[0m\u001b[0mpoint\u001b[0m\u001b[0;34m)\u001b[0m\u001b[0;34m\u001b[0m\u001b[0;34m\u001b[0m\u001b[0m\n\u001b[1;32m     24\u001b[0m         \u001b[0;32mif\u001b[0m \u001b[0mself\u001b[0m\u001b[0;34m.\u001b[0m\u001b[0mgrace\u001b[0m \u001b[0;34m>=\u001b[0m \u001b[0mself\u001b[0m\u001b[0;34m.\u001b[0m\u001b[0msizes\u001b[0m\u001b[0;34m[\u001b[0m\u001b[0;36m0\u001b[0m\u001b[0;34m]\u001b[0m \u001b[0;34m+\u001b[0m \u001b[0mself\u001b[0m\u001b[0;34m.\u001b[0m\u001b[0msizes\u001b[0m\u001b[0;34m[\u001b[0m\u001b[0;36m1\u001b[0m\u001b[0;34m]\u001b[0m\u001b[0;34m:\u001b[0m\u001b[0;34m\u001b[0m\u001b[0;34m\u001b[0m\u001b[0m\n\u001b[0;32m---> 25\u001b[0;31m             \u001b[0mself\u001b[0m\u001b[0;34m.\u001b[0m\u001b[0mstat\u001b[0m \u001b[0;34m=\u001b[0m \u001b[0mself\u001b[0m\u001b[0;34m.\u001b[0m\u001b[0m__dist\u001b[0m\u001b[0;34m(\u001b[0m\u001b[0mself\u001b[0m\u001b[0;34m.\u001b[0m\u001b[0mreference\u001b[0m\u001b[0;34m,\u001b[0m \u001b[0mself\u001b[0m\u001b[0;34m.\u001b[0m\u001b[0msliding\u001b[0m\u001b[0;34m)\u001b[0m\u001b[0;34m\u001b[0m\u001b[0;34m\u001b[0m\u001b[0m\n\u001b[0m\u001b[1;32m     26\u001b[0m             \u001b[0mself\u001b[0m\u001b[0;34m.\u001b[0m\u001b[0mmax\u001b[0m \u001b[0;34m=\u001b[0m \u001b[0mmax\u001b[0m\u001b[0;34m(\u001b[0m\u001b[0mself\u001b[0m\u001b[0;34m.\u001b[0m\u001b[0mmax\u001b[0m\u001b[0;34m,\u001b[0m \u001b[0mself\u001b[0m\u001b[0;34m.\u001b[0m\u001b[0mstat\u001b[0m\u001b[0;34m)\u001b[0m\u001b[0;34m\u001b[0m\u001b[0;34m\u001b[0m\u001b[0m\n\u001b[1;32m     27\u001b[0m \u001b[0;34m\u001b[0m\u001b[0m\n",
      "\u001b[0;32m~/Documents/distributed-changepoint-detection/myutman/distance.py\u001b[0m in \u001b[0;36m__call__\u001b[0;34m(self, reference_window, sliding_window)\u001b[0m\n\u001b[1;32m     10\u001b[0m \u001b[0;34m\u001b[0m\u001b[0m\n\u001b[1;32m     11\u001b[0m     \u001b[0;32mdef\u001b[0m \u001b[0m__call__\u001b[0m\u001b[0;34m(\u001b[0m\u001b[0mself\u001b[0m\u001b[0;34m,\u001b[0m \u001b[0mreference_window\u001b[0m\u001b[0;34m:\u001b[0m \u001b[0mList\u001b[0m\u001b[0;34m[\u001b[0m\u001b[0mfloat\u001b[0m\u001b[0;34m]\u001b[0m\u001b[0;34m,\u001b[0m \u001b[0msliding_window\u001b[0m\u001b[0;34m:\u001b[0m \u001b[0mList\u001b[0m\u001b[0;34m[\u001b[0m\u001b[0mfloat\u001b[0m\u001b[0;34m]\u001b[0m\u001b[0;34m)\u001b[0m \u001b[0;34m->\u001b[0m \u001b[0mfloat\u001b[0m\u001b[0;34m:\u001b[0m\u001b[0;34m\u001b[0m\u001b[0;34m\u001b[0m\u001b[0m\n\u001b[0;32m---> 12\u001b[0;31m         \u001b[0;32mreturn\u001b[0m \u001b[0mself\u001b[0m\u001b[0;34m.\u001b[0m\u001b[0mget_dist\u001b[0m\u001b[0;34m(\u001b[0m\u001b[0mreference_window\u001b[0m\u001b[0;34m,\u001b[0m \u001b[0msliding_window\u001b[0m\u001b[0;34m)\u001b[0m\u001b[0;34m\u001b[0m\u001b[0;34m\u001b[0m\u001b[0m\n\u001b[0m\u001b[1;32m     13\u001b[0m \u001b[0;34m\u001b[0m\u001b[0m\n\u001b[1;32m     14\u001b[0m \u001b[0;34m\u001b[0m\u001b[0m\n",
      "\u001b[0;32m~/Documents/distributed-changepoint-detection/myutman/distance.py\u001b[0m in \u001b[0;36mget_dist\u001b[0;34m(self, reference_window, sliding_window)\u001b[0m\n\u001b[1;32m     28\u001b[0m         \u001b[0;32mfor\u001b[0m \u001b[0mv\u001b[0m\u001b[0;34m,\u001b[0m \u001b[0mp\u001b[0m \u001b[0;32min\u001b[0m \u001b[0mlst\u001b[0m\u001b[0;34m:\u001b[0m\u001b[0;34m\u001b[0m\u001b[0;34m\u001b[0m\u001b[0m\n\u001b[1;32m     29\u001b[0m             \u001b[0mcur\u001b[0m \u001b[0;34m+=\u001b[0m \u001b[0mp\u001b[0m\u001b[0;34m\u001b[0m\u001b[0;34m\u001b[0m\u001b[0m\n\u001b[0;32m---> 30\u001b[0;31m             \u001b[0mmx\u001b[0m \u001b[0;34m=\u001b[0m \u001b[0mmax\u001b[0m\u001b[0;34m(\u001b[0m\u001b[0mmx\u001b[0m\u001b[0;34m,\u001b[0m \u001b[0mabs\u001b[0m\u001b[0;34m(\u001b[0m\u001b[0mcur\u001b[0m\u001b[0;34m)\u001b[0m\u001b[0;34m)\u001b[0m\u001b[0;34m\u001b[0m\u001b[0;34m\u001b[0m\u001b[0m\n\u001b[0m\u001b[1;32m     31\u001b[0m         \u001b[0;32mreturn\u001b[0m \u001b[0mmx\u001b[0m\u001b[0;34m\u001b[0m\u001b[0;34m\u001b[0m\u001b[0m\n",
      "\u001b[0;31mKeyboardInterrupt\u001b[0m: "
     ]
    }
   ],
   "source": [
    "generations = [\n",
    "    ChangeSampleGeneration\n",
    "]\n",
    "\n",
    "n_clients = 5\n",
    "n_terminals = 5\n",
    "\n",
    "stands = [\n",
    "    stand_centralized(1),\n",
    "    stand_roundrobins(4),\n",
    "    stand_roundrobins(8),\n",
    "    stand_roundrobins(16)\n",
    "    #stand_client_dependent,\n",
    "    #stand_terminal_dependent\n",
    "]\n",
    "\n",
    "results = [[[] for _ in stands] for _ in generations]\n",
    "for state in range(10):\n",
    "    for i, generation in enumerate(generations):\n",
    "        sample, change_points, change_points_ids = generation(state=state)(\n",
    "            size=101000, \n",
    "            n_clients=n_clients,\n",
    "            n_terminals=n_terminals,\n",
    "            change_period=1000,\n",
    "            change_period_noise=0,\n",
    "            change_interval=1000\n",
    "        )\n",
    "        for j, stand in enumerate(stands):\n",
    "            result1 = stand.test(\n",
    "                p=0.05,\n",
    "                sample=sample,\n",
    "                change_points=change_points,\n",
    "                change_ids=change_points_ids,\n",
    "                n_clients=n_clients,\n",
    "                n_terminals=n_terminals\n",
    "            )\n",
    "            print(result1)\n",
    "            results[i][j].append(result1)\n",
    "            #with open('tuned_sizes_results.json', 'w') as output_file:\n",
    "            #    json.dump(results, output_file, indent=4, ensure_ascii=False)"
   ]
  },
  {
   "cell_type": "code",
   "execution_count": 7,
   "metadata": {},
   "outputs": [
    {
     "data": {
      "image/png": "[encoded data removed]",
      "text/plain": [
       "<Figure size 432x288 with 1 Axes>"
      ]
     },
     "metadata": {
      "needs_background": "light"
     },
     "output_type": "display_data"
    }
   ],
   "source": [
    "show_boxplots('client_FDR', [results[0][0], results[0][1]], ['centralized', 'roundrobin'])"
   ]
  },
  {
   "cell_type": "code",
   "execution_count": null,
   "metadata": {
    "pycharm": {
     "is_executing": true
    }
   },
   "outputs": [],
   "source": [
    "show_boxplots('client_MDR', results[0], ['centralized', 'roundrobin', 'client_dependent', 'terminal_dependent'])"
   ]
  },
  {
   "cell_type": "code",
   "execution_count": null,
   "metadata": {
    "pycharm": {
     "is_executing": true
    }
   },
   "outputs": [],
   "source": [
    "show_boxplots('client_FDR', results[0], ['centralized', 'roundrobin', 'client_dependent', 'terminal_dependent'])"
   ]
  },
  {
   "cell_type": "code",
   "execution_count": null,
   "metadata": {
    "pycharm": {
     "is_executing": true
    }
   },
   "outputs": [],
   "source": [
    "show_boxplots('terminal_MDR', results[0], ['centralized', 'roundrobin', 'client_dependent', 'terminal_dependent'])"
   ]
  },
  {
   "cell_type": "code",
   "execution_count": null,
   "metadata": {
    "pycharm": {
     "is_executing": true
    }
   },
   "outputs": [],
   "source": [
    "show_boxplots('terminal_FDR', results[0], ['centralized', 'roundrobin', 'client_dependent', 'terminal_dependent'])"
   ]
  },
  {
   "cell_type": "code",
   "execution_count": null,
   "metadata": {
    "pycharm": {
     "is_executing": true
    }
   },
   "outputs": [],
   "source": [
    "show_boxplots('client_latency', results[0], ['centralized', 'roundrobin', 'client_dependent', 'terminal_dependent'])"
   ]
  },
  {
   "cell_type": "code",
   "execution_count": null,
   "metadata": {
    "pycharm": {
     "is_executing": true
    }
   },
   "outputs": [],
   "source": [
    "show_boxplots('terminal_latency', results[0], ['centralized', 'roundrobin', 'client_dependent', 'terminal_dependent'])"
   ]
  },
  {
   "cell_type": "code",
   "execution_count": null,
   "metadata": {
    "pycharm": {
     "is_executing": true
    },
    "scrolled": true
   },
   "outputs": [],
   "source": [
    "stands = [\n",
    "    stand_centralized,\n",
    "    stand_roundrobins,\n",
    "    stand_client_dependent,\n",
    "]\n",
    "\n",
    "generations = [\n",
    "    SimpleMultichangeSampleGeneration\n",
    "]\n",
    "\n",
    "n_clients = 1\n",
    "n_terminals = 1\n",
    "\n",
    "results = [[[] for _ in stands] for _ in generations]\n",
    "for state in range(1):\n",
    "    for i, generation in enumerate(generations):\n",
    "        sample, change_points, change_points_ids = generation(state=state)(\n",
    "            size=10000,\n",
    "            tau=200\n",
    "        )\n",
    "        for j, stand in enumerate(stands):\n",
    "            result1 = stand.test(\n",
    "                p=0.05,\n",
    "                sample=sample,\n",
    "                change_points=change_points,\n",
    "                change_ids=change_points_ids,\n",
    "                n_clients=n_clients,\n",
    "                n_terminals=n_terminals\n",
    "            )\n",
    "            print(result1)\n",
    "            results[i][j].append(result1)"
   ]
  },
  {
   "cell_type": "code",
   "execution_count": null,
   "metadata": {
    "pycharm": {
     "is_executing": true
    }
   },
   "outputs": [],
   "source": [
    "show_boxplots('client_MDR', results[0], ['centralized', 'roundrobin', 'client_dependent'])"
   ]
  },
  {
   "cell_type": "code",
   "execution_count": null,
   "metadata": {
    "pycharm": {
     "is_executing": true
    }
   },
   "outputs": [],
   "source": [
    "show_boxplots('client_FDR', results[0], ['centralized', 'roundrobin', 'client_dependent'])"
   ]
  },
  {
   "cell_type": "code",
   "execution_count": null,
   "metadata": {
    "pycharm": {
     "is_executing": true
    }
   },
   "outputs": [],
   "source": [
    "show_boxplots('client_latency', results[0], ['centralized', 'roundrobin', 'client_dependent'])"
   ]
  },
  {
   "cell_type": "code",
   "execution_count": 77,
   "metadata": {
    "pycharm": {
     "is_executing": true
    }
   },
   "outputs": [],
   "source": [
    "with open('centralized_vs_roundrobin_v2_p=[0.01, 0.05, 0.1]_nnodes=[4, 8, 16]_original_experiments.json') as input_file:\n",
    "    results = json.load(input_file)"
   ]
  },
  {
   "cell_type": "code",
   "execution_count": 78,
   "metadata": {
    "pycharm": {
     "is_executing": true
    }
   },
   "outputs": [
    {
     "data": {
      "image/png": "[encoded data removed]",
      "text/plain": [
       "<Figure size 432x288 with 1 Axes>"
      ]
     },
     "metadata": {
      "needs_background": "light"
     },
     "output_type": "display_data"
    }
   ],
   "source": [
    "show_plot_by_p_levels('account1_FDR', results[0], ['centralized', 'roundrobin 4 nodes', 'roundrobin 8 nodes', 'roundrobin 16 nodes'])"
   ]
  },
  {
   "cell_type": "code",
   "execution_count": 79,
   "metadata": {
    "pycharm": {
     "is_executing": true
    }
   },
   "outputs": [
    {
     "data": {
      "image/png": "[encoded data removed]",
      "text/plain": [
       "<Figure size 432x288 with 1 Axes>"
      ]
     },
     "metadata": {
      "needs_background": "light"
     },
     "output_type": "display_data"
    }
   ],
   "source": [
    "show_plot_by_p_levels('account1_latency', results[0], ['centralized', 'roundrobin 4 nodes', 'roundrobin 8 nodes', 'roundrobin 16 nodes'])"
   ]
  },
  {
   "cell_type": "code",
   "execution_count": 80,
   "metadata": {},
   "outputs": [
    {
     "data": {
      "image/png": "[encoded data removed]",
      "text/plain": [
       "<Figure size 432x288 with 1 Axes>"
      ]
     },
     "metadata": {
      "needs_background": "light"
     },
     "output_type": "display_data"
    }
   ],
   "source": [
    "show_boxplots('account1_latency', results[0][3], ['p=0.01', 'p=0.05', 'p=0.1'])"
   ]
  },
  {
   "cell_type": "code",
   "execution_count": 81,
   "metadata": {
    "scrolled": false
   },
   "outputs": [
    {
     "name": "stdout",
     "output_type": "stream",
     "text": [
      "(3, 4, 3)\n",
      "(4, 3)\n",
      "(4, 3)\n",
      "(4, 3)\n"
     ]
    },
    {
     "data": {
      "image/png": "[encoded data removed]",
      "text/plain": [
       "<Figure size 1440x360 with 3 Axes>"
      ]
     },
     "metadata": {
      "needs_background": "light"
     },
     "output_type": "display_data"
    }
   ],
   "source": [
    "show_boxplots_by_p_levels('account1_MDR', results[0], ['centralized', 'roundrobin 4', 'roundrobin 8', 'roundrobin 16'])"
   ]
  },
  {
   "cell_type": "code",
   "execution_count": null,
   "metadata": {},
   "outputs": [],
   "source": []
  }
 ],
 "metadata": {
  "kernelspec": {
   "display_name": "Python 3",
   "language": "python",
   "name": "python3"
  },
  "language_info": {
   "codemirror_mode": {
    "name": "ipython",
    "version": 3
   },
   "file_extension": ".py",
   "mimetype": "text/x-python",
   "name": "python",
   "nbconvert_exporter": "python",
   "pygments_lexer": "ipython3",
   "version": "3.7.6"
  },
  "pycharm": {
   "stem_cell": {
    "cell_type": "raw",
    "metadata": {
     "collapsed": false
    },
    "source": []
   }
  }
 },
 "nbformat": 4,
 "nbformat_minor": 1
}
