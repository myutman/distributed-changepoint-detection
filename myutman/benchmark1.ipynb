{
 "cells": [
  {
   "cell_type": "code",
   "execution_count": 80,
   "metadata": {},
   "outputs": [],
   "source": [
    "from importlib import reload\n",
    "\n",
    "import myutman\n",
    "reload(myutman.stand_utils)\n",
    "reload(myutman.stand)\n",
    "reload(myutman.window_algo)\n",
    "reload(myutman.generation)\n",
    "\n",
    "from myutman.fuse import FuseForWindowAlgo\n",
    "from myutman.generation import ClientTerminalsReorderSampleGeneration, ChangeWithClientSampleGeneration, \\\n",
    "    ChangeWithTerminalSampleGeneration, ChangeSampleGeneration, StillSampleGeneration, \\\n",
    "    SimpleMultichangeSampleGeneration\n",
    "from myutman.node_distribution import RoundrobinNodeDistribution, DependentNodeDistribution, \\\n",
    "    SecondMetaDependentNodeDistribution\n",
    "from myutman.stand import Stand\n",
    "from myutman.stand_utils import compare_vals, show_boxplots\n",
    "from myutman.window_algo import WindowStreamingAlgo\n",
    "\n",
    "import json"
   ]
  },
  {
   "cell_type": "code",
   "execution_count": 49,
   "metadata": {
    "pycharm": {
     "is_executing": false
    }
   },
   "outputs": [
    {
     "data": {
      "text/plain": [
       "'stand_resharding = Stand(\\n    n_nodes=n_nodes,\\n    algo=WindowStreamingAlgo,\\n    client_node_distribution=DependentNodeDistribution,\\n    terminal_node_distribution=DependentNodeDistribution,\\n    fuse=FuseForWindowAlgo()\\n)'"
      ]
     },
     "execution_count": 49,
     "metadata": {},
     "output_type": "execute_result"
    }
   ],
   "source": [
    "n_nodes = 5\n",
    "stand_centralized = Stand(\n",
    "    n_nodes=1,\n",
    "    algo=WindowStreamingAlgo,\n",
    "    client_node_distribution=RoundrobinNodeDistribution,\n",
    "    terminal_node_distribution=RoundrobinNodeDistribution,\n",
    "    fuse=FuseForWindowAlgo()\n",
    ")\n",
    "stand_roundrobins = Stand(\n",
    "    n_nodes=n_nodes,\n",
    "    algo=WindowStreamingAlgo,\n",
    "    client_node_distribution=RoundrobinNodeDistribution,\n",
    "    terminal_node_distribution=RoundrobinNodeDistribution,\n",
    "    fuse=FuseForWindowAlgo()\n",
    ")\n",
    "stand_client_dependent = Stand(\n",
    "    n_nodes=n_nodes,\n",
    "    algo=WindowStreamingAlgo,\n",
    "    client_node_distribution=DependentNodeDistribution,\n",
    "    terminal_node_distribution=SecondMetaDependentNodeDistribution,\n",
    "    fuse=FuseForWindowAlgo()\n",
    ")\n",
    "stand_terminal_dependent = Stand(\n",
    "    n_nodes=n_nodes,\n",
    "    algo=WindowStreamingAlgo,\n",
    "    client_node_distribution=SecondMetaDependentNodeDistribution,\n",
    "    terminal_node_distribution=DependentNodeDistribution,\n",
    "    fuse=FuseForWindowAlgo()\n",
    ")\n",
    "\"\"\"stand_resharding = Stand(\n",
    "    n_nodes=n_nodes,\n",
    "    algo=WindowStreamingAlgo,\n",
    "    client_node_distribution=DependentNodeDistribution,\n",
    "    terminal_node_distribution=DependentNodeDistribution,\n",
    "    fuse=FuseForWindowAlgo()\n",
    ")\"\"\""
   ]
  },
  {
   "cell_type": "code",
   "execution_count": 50,
   "metadata": {},
   "outputs": [
    {
     "name": "stdout",
     "output_type": "stream",
     "text": [
      "outputs/algo=WindowStreamingAlgo_client_dist=RoundrobinNodeDistribution_terminal_dist=RoundrobinNodeDistribution_nnodes=1\n"
     ]
    }
   ],
   "source": [
    "print(stand_centralized.result_filename)"
   ]
  },
  {
   "cell_type": "code",
   "execution_count": null,
   "metadata": {},
   "outputs": [],
   "source": []
  },
  {
   "cell_type": "code",
   "execution_count": null,
   "metadata": {},
   "outputs": [
    {
     "data": {
      "application/vnd.jupyter.widget-view+json": {
       "model_id": "aa1baf65ac7d40aeaed106834d605de2",
       "version_major": 2,
       "version_minor": 0
      },
      "text/plain": [
       "HBox(children=(FloatProgress(value=1.0, bar_style='info', max=1.0), HTML(value='')))"
      ]
     },
     "metadata": {},
     "output_type": "display_data"
    },
    {
     "name": "stdout",
     "output_type": "stream",
     "text": [
      "\n",
      "{'client_TDR': 0.0, 'client_MDR': 1.0, 'client_FDR': None, 'terminal_TDR': None, 'terminal_MDR': None, 'terminal_FDR': 1.0, 'client_False': 0, 'terminal_False': 1, 'client_latency': None, 'terminal_latency': None}\n"
     ]
    },
    {
     "data": {
      "application/vnd.jupyter.widget-view+json": {
       "model_id": "13d84934dd474cccaa4f3f52003ba157",
       "version_major": 2,
       "version_minor": 0
      },
      "text/plain": [
       "HBox(children=(FloatProgress(value=1.0, bar_style='info', max=1.0), HTML(value='')))"
      ]
     },
     "metadata": {},
     "output_type": "display_data"
    },
    {
     "name": "stdout",
     "output_type": "stream",
     "text": [
      "\n",
      "{'client_TDR': 1.0, 'client_MDR': 0.0, 'client_FDR': 0.0, 'terminal_TDR': None, 'terminal_MDR': None, 'terminal_FDR': None, 'client_False': 0, 'terminal_False': 0, 'client_latency': 298.0, 'terminal_latency': None}\n"
     ]
    },
    {
     "data": {
      "application/vnd.jupyter.widget-view+json": {
       "model_id": "abd8426cb8124dd6bd500ef9861515af",
       "version_major": 2,
       "version_minor": 0
      },
      "text/plain": [
       "HBox(children=(FloatProgress(value=1.0, bar_style='info', max=1.0), HTML(value='')))"
      ]
     },
     "metadata": {},
     "output_type": "display_data"
    },
    {
     "name": "stdout",
     "output_type": "stream",
     "text": [
      "\n",
      "{'client_TDR': 0.0, 'client_MDR': 1.0, 'client_FDR': 1.0, 'terminal_TDR': None, 'terminal_MDR': None, 'terminal_FDR': None, 'client_False': 1, 'terminal_False': 0, 'client_latency': None, 'terminal_latency': None}\n"
     ]
    },
    {
     "data": {
      "application/vnd.jupyter.widget-view+json": {
       "model_id": "3502f441fc4048169326477151015caa",
       "version_major": 2,
       "version_minor": 0
      },
      "text/plain": [
       "HBox(children=(FloatProgress(value=1.0, bar_style='info', max=1.0), HTML(value='')))"
      ]
     },
     "metadata": {},
     "output_type": "display_data"
    },
    {
     "name": "stdout",
     "output_type": "stream",
     "text": [
      "\n",
      "{'client_TDR': 0.0, 'client_MDR': 1.0, 'client_FDR': None, 'terminal_TDR': None, 'terminal_MDR': None, 'terminal_FDR': 1.0, 'client_False': 0, 'terminal_False': 1, 'client_latency': None, 'terminal_latency': None}\n"
     ]
    },
    {
     "data": {
      "application/vnd.jupyter.widget-view+json": {
       "model_id": "08cfd9cde74b4602acbc48cb8894bd45",
       "version_major": 2,
       "version_minor": 0
      },
      "text/plain": [
       "HBox(children=(FloatProgress(value=1.0, bar_style='info', max=1.0), HTML(value='')))"
      ]
     },
     "metadata": {},
     "output_type": "display_data"
    },
    {
     "name": "stdout",
     "output_type": "stream",
     "text": [
      "\n",
      "{'client_TDR': 1.0, 'client_MDR': 0.0, 'client_FDR': 0.0, 'terminal_TDR': None, 'terminal_MDR': None, 'terminal_FDR': None, 'client_False': 0, 'terminal_False': 0, 'client_latency': 28.0, 'terminal_latency': None}\n"
     ]
    },
    {
     "data": {
      "application/vnd.jupyter.widget-view+json": {
       "model_id": "dc7cc3ec55ec4b8982e95ed6564b5893",
       "version_major": 2,
       "version_minor": 0
      },
      "text/plain": [
       "HBox(children=(FloatProgress(value=1.0, bar_style='info', max=1.0), HTML(value='')))"
      ]
     },
     "metadata": {},
     "output_type": "display_data"
    },
    {
     "name": "stdout",
     "output_type": "stream",
     "text": [
      "\n",
      "{'client_TDR': 0.0, 'client_MDR': 1.0, 'client_FDR': None, 'terminal_TDR': None, 'terminal_MDR': None, 'terminal_FDR': 1.0, 'client_False': 0, 'terminal_False': 1, 'client_latency': None, 'terminal_latency': None}\n"
     ]
    },
    {
     "data": {
      "application/vnd.jupyter.widget-view+json": {
       "model_id": "b3f3e456e1524ff8ade1c16ee1f1100a",
       "version_major": 2,
       "version_minor": 0
      },
      "text/plain": [
       "HBox(children=(FloatProgress(value=1.0, bar_style='info', max=1.0), HTML(value='')))"
      ]
     },
     "metadata": {},
     "output_type": "display_data"
    },
    {
     "name": "stdout",
     "output_type": "stream",
     "text": [
      "\n",
      "{'client_TDR': 1.0, 'client_MDR': 0.0, 'client_FDR': 0.0, 'terminal_TDR': None, 'terminal_MDR': None, 'terminal_FDR': None, 'client_False': 0, 'terminal_False': 0, 'client_latency': 28.0, 'terminal_latency': None}\n"
     ]
    },
    {
     "data": {
      "application/vnd.jupyter.widget-view+json": {
       "model_id": "877a6b231e4647f082e2f7fd6253a11f",
       "version_major": 2,
       "version_minor": 0
      },
      "text/plain": [
       "HBox(children=(FloatProgress(value=1.0, bar_style='info', max=1.0), HTML(value='')))"
      ]
     },
     "metadata": {},
     "output_type": "display_data"
    },
    {
     "name": "stdout",
     "output_type": "stream",
     "text": [
      "\n",
      "{'client_TDR': 0.0, 'client_MDR': 1.0, 'client_FDR': None, 'terminal_TDR': None, 'terminal_MDR': None, 'terminal_FDR': 1.0, 'client_False': 0, 'terminal_False': 1, 'client_latency': None, 'terminal_latency': None}\n"
     ]
    },
    {
     "data": {
      "application/vnd.jupyter.widget-view+json": {
       "model_id": "b8db38bcf6274057aba34e11f38f1b53",
       "version_major": 2,
       "version_minor": 0
      },
      "text/plain": [
       "HBox(children=(FloatProgress(value=1.0, bar_style='info', max=1.0), HTML(value='')))"
      ]
     },
     "metadata": {},
     "output_type": "display_data"
    },
    {
     "name": "stdout",
     "output_type": "stream",
     "text": [
      "\n",
      "{'client_TDR': 0.0, 'client_MDR': 1.0, 'client_FDR': None, 'terminal_TDR': None, 'terminal_MDR': None, 'terminal_FDR': 1.0, 'client_False': 0, 'terminal_False': 1, 'client_latency': None, 'terminal_latency': None}\n"
     ]
    },
    {
     "data": {
      "application/vnd.jupyter.widget-view+json": {
       "model_id": "3b9347dd4d454d978494d52abf149590",
       "version_major": 2,
       "version_minor": 0
      },
      "text/plain": [
       "HBox(children=(FloatProgress(value=1.0, bar_style='info', max=1.0), HTML(value='')))"
      ]
     },
     "metadata": {},
     "output_type": "display_data"
    },
    {
     "name": "stdout",
     "output_type": "stream",
     "text": [
      "\n",
      "{'client_TDR': 0.0, 'client_MDR': 1.0, 'client_FDR': None, 'terminal_TDR': None, 'terminal_MDR': None, 'terminal_FDR': 1.0, 'client_False': 0, 'terminal_False': 1, 'client_latency': None, 'terminal_latency': None}\n"
     ]
    },
    {
     "data": {
      "application/vnd.jupyter.widget-view+json": {
       "model_id": "c3a0a98b86884e329b67347e0f5d06fa",
       "version_major": 2,
       "version_minor": 0
      },
      "text/plain": [
       "HBox(children=(FloatProgress(value=1.0, bar_style='info', max=1.0), HTML(value='')))"
      ]
     },
     "metadata": {},
     "output_type": "display_data"
    },
    {
     "name": "stdout",
     "output_type": "stream",
     "text": [
      "\n",
      "{'client_TDR': 0.0, 'client_MDR': 1.0, 'client_FDR': None, 'terminal_TDR': None, 'terminal_MDR': None, 'terminal_FDR': 1.0, 'client_False': 0, 'terminal_False': 1, 'client_latency': None, 'terminal_latency': None}\n"
     ]
    },
    {
     "data": {
      "application/vnd.jupyter.widget-view+json": {
       "model_id": "1f14dd4519bf432f9a419d386328ba47",
       "version_major": 2,
       "version_minor": 0
      },
      "text/plain": [
       "HBox(children=(FloatProgress(value=1.0, bar_style='info', max=1.0), HTML(value='')))"
      ]
     },
     "metadata": {},
     "output_type": "display_data"
    },
    {
     "name": "stdout",
     "output_type": "stream",
     "text": [
      "\n",
      "{'client_TDR': 1.0, 'client_MDR': 0.0, 'client_FDR': 0.0, 'terminal_TDR': None, 'terminal_MDR': None, 'terminal_FDR': 1.0, 'client_False': 0, 'terminal_False': 1, 'client_latency': 130.0, 'terminal_latency': None}\n"
     ]
    },
    {
     "data": {
      "application/vnd.jupyter.widget-view+json": {
       "model_id": "b512332a7d8444e7a797db38f2cee8d3",
       "version_major": 2,
       "version_minor": 0
      },
      "text/plain": [
       "HBox(children=(FloatProgress(value=1.0, bar_style='info', max=1.0), HTML(value='')))"
      ]
     },
     "metadata": {},
     "output_type": "display_data"
    },
    {
     "name": "stdout",
     "output_type": "stream",
     "text": [
      "\n",
      "{'client_TDR': 0.0, 'client_MDR': 1.0, 'client_FDR': None, 'terminal_TDR': None, 'terminal_MDR': None, 'terminal_FDR': 1.0, 'client_False': 0, 'terminal_False': 1, 'client_latency': None, 'terminal_latency': None}\n"
     ]
    },
    {
     "data": {
      "application/vnd.jupyter.widget-view+json": {
       "model_id": "aa11b34158d8427bacee44c592692251",
       "version_major": 2,
       "version_minor": 0
      },
      "text/plain": [
       "HBox(children=(FloatProgress(value=1.0, bar_style='info', max=1.0), HTML(value='')))"
      ]
     },
     "metadata": {},
     "output_type": "display_data"
    },
    {
     "name": "stdout",
     "output_type": "stream",
     "text": [
      "\n",
      "{'client_TDR': 1.0, 'client_MDR': 0.0, 'client_FDR': 0.0, 'terminal_TDR': None, 'terminal_MDR': None, 'terminal_FDR': None, 'client_False': 0, 'terminal_False': 0, 'client_latency': 238.0, 'terminal_latency': None}\n"
     ]
    },
    {
     "data": {
      "application/vnd.jupyter.widget-view+json": {
       "model_id": "a7d7ac80910d41d4960e774717ef4757",
       "version_major": 2,
       "version_minor": 0
      },
      "text/plain": [
       "HBox(children=(FloatProgress(value=1.0, bar_style='info', max=1.0), HTML(value='')))"
      ]
     },
     "metadata": {},
     "output_type": "display_data"
    },
    {
     "name": "stdout",
     "output_type": "stream",
     "text": [
      "\n",
      "{'client_TDR': 0.0, 'client_MDR': 1.0, 'client_FDR': None, 'terminal_TDR': None, 'terminal_MDR': None, 'terminal_FDR': 1.0, 'client_False': 0, 'terminal_False': 1, 'client_latency': None, 'terminal_latency': None}\n"
     ]
    },
    {
     "data": {
      "application/vnd.jupyter.widget-view+json": {
       "model_id": "f14ce988ef17496a96c48bfc810933b4",
       "version_major": 2,
       "version_minor": 0
      },
      "text/plain": [
       "HBox(children=(FloatProgress(value=1.0, bar_style='info', max=1.0), HTML(value='')))"
      ]
     },
     "metadata": {},
     "output_type": "display_data"
    },
    {
     "name": "stdout",
     "output_type": "stream",
     "text": [
      "\n",
      "{'client_TDR': 1.0, 'client_MDR': 0.0, 'client_FDR': 0.0, 'terminal_TDR': None, 'terminal_MDR': None, 'terminal_FDR': None, 'client_False': 0, 'terminal_False': 0, 'client_latency': 47.0, 'terminal_latency': None}\n"
     ]
    },
    {
     "data": {
      "application/vnd.jupyter.widget-view+json": {
       "model_id": "449e59019ea846779af44f790570b103",
       "version_major": 2,
       "version_minor": 0
      },
      "text/plain": [
       "HBox(children=(FloatProgress(value=1.0, bar_style='info', max=1.0), HTML(value='')))"
      ]
     },
     "metadata": {},
     "output_type": "display_data"
    },
    {
     "name": "stdout",
     "output_type": "stream",
     "text": [
      "\n",
      "{'client_TDR': 0.0, 'client_MDR': 1.0, 'client_FDR': None, 'terminal_TDR': None, 'terminal_MDR': None, 'terminal_FDR': 1.0, 'client_False': 0, 'terminal_False': 1, 'client_latency': None, 'terminal_latency': None}\n"
     ]
    },
    {
     "data": {
      "application/vnd.jupyter.widget-view+json": {
       "model_id": "759ea630474a486494317e4c1c15555e",
       "version_major": 2,
       "version_minor": 0
      },
      "text/plain": [
       "HBox(children=(FloatProgress(value=1.0, bar_style='info', max=1.0), HTML(value='')))"
      ]
     },
     "metadata": {},
     "output_type": "display_data"
    },
    {
     "name": "stdout",
     "output_type": "stream",
     "text": [
      "\n",
      "{'client_TDR': 0.0, 'client_MDR': 1.0, 'client_FDR': None, 'terminal_TDR': None, 'terminal_MDR': None, 'terminal_FDR': 1.0, 'client_False': 0, 'terminal_False': 1, 'client_latency': None, 'terminal_latency': None}\n"
     ]
    },
    {
     "data": {
      "application/vnd.jupyter.widget-view+json": {
       "model_id": "842d331da13b461ca628b68083c3aa8e",
       "version_major": 2,
       "version_minor": 0
      },
      "text/plain": [
       "HBox(children=(FloatProgress(value=1.0, bar_style='info', max=1.0), HTML(value='')))"
      ]
     },
     "metadata": {},
     "output_type": "display_data"
    }
   ],
   "source": [
    "stands = [\n",
    "    stand_centralized,\n",
    "    stand_roundrobins,\n",
    "    stand_client_dependent,\n",
    "    stand_terminal_dependent\n",
    "]\n",
    "\n",
    "generations = [\n",
    "    ChangeSampleGeneration\n",
    "]\n",
    "\n",
    "n_clients = 5\n",
    "n_terminals = 5\n",
    "\n",
    "results = [[[] for _ in stands] for _ in generations]\n",
    "for state in range(10):\n",
    "    for i, generation in enumerate(generations):\n",
    "        sample, change_points, change_points_ids = generation(state=state)(\n",
    "            size=10000, \n",
    "            n_clients=n_clients,\n",
    "            n_terminals=n_terminals,\n",
    "            change_period=0,\n",
    "            change_period_noise=0,\n",
    "            change_interval=200\n",
    "        )\n",
    "        for j, stand in enumerate(stands):\n",
    "            result1 = stand.test(\n",
    "                p=0.05,\n",
    "                sample=sample,\n",
    "                change_points=change_points,\n",
    "                change_ids=change_points_ids,\n",
    "                n_clients=n_clients,\n",
    "                n_terminals=n_terminals\n",
    "            )\n",
    "            print(result1)\n",
    "            results[i][j].append(result1)"
   ]
  },
  {
   "cell_type": "code",
   "execution_count": 83,
   "metadata": {},
   "outputs": [
    {
     "data": {
      "image/png": "[encoded data removed]",
      "text/plain": [
       "<Figure size 432x288 with 1 Axes>"
      ]
     },
     "metadata": {
      "needs_background": "light"
     },
     "output_type": "display_data"
    }
   ],
   "source": [
    "show_boxplots('client_MDR', results[0], ['centralized', 'roundrobin', 'client_dependent', 'terminal_dependent'])"
   ]
  },
  {
   "cell_type": "code",
   "execution_count": 84,
   "metadata": {},
   "outputs": [
    {
     "data": {
      "image/png": "[encoded data removed]",
      "text/plain": [
       "<Figure size 432x288 with 1 Axes>"
      ]
     },
     "metadata": {
      "needs_background": "light"
     },
     "output_type": "display_data"
    }
   ],
   "source": [
    "show_boxplots('client_FDR', results[0], ['centralized', 'roundrobin', 'client_dependent', 'terminal_dependent'])"
   ]
  },
  {
   "cell_type": "code",
   "execution_count": 85,
   "metadata": {},
   "outputs": [
    {
     "data": {
      "image/png": "[encoded data removed]",
      "text/plain": [
       "<Figure size 432x288 with 1 Axes>"
      ]
     },
     "metadata": {
      "needs_background": "light"
     },
     "output_type": "display_data"
    }
   ],
   "source": [
    "show_boxplots('terminal_MDR', results[0], ['centralized', 'roundrobin', 'client_dependent', 'terminal_dependent'])"
   ]
  },
  {
   "cell_type": "code",
   "execution_count": 86,
   "metadata": {},
   "outputs": [
    {
     "data": {
      "image/png": "[encoded data removed]",
      "text/plain": [
       "<Figure size 432x288 with 1 Axes>"
      ]
     },
     "metadata": {
      "needs_background": "light"
     },
     "output_type": "display_data"
    }
   ],
   "source": [
    "show_boxplots('terminal_FDR', results[0], ['centralized', 'roundrobin', 'client_dependent', 'terminal_dependent'])"
   ]
  },
  {
   "cell_type": "code",
   "execution_count": 87,
   "metadata": {},
   "outputs": [
    {
     "data": {
      "image/png": "[encoded data removed]",
      "text/plain": [
       "<Figure size 432x288 with 1 Axes>"
      ]
     },
     "metadata": {
      "needs_background": "light"
     },
     "output_type": "display_data"
    }
   ],
   "source": [
    "show_boxplots('client_latency', results[0], ['centralized', 'roundrobin', 'client_dependent', 'terminal_dependent'])"
   ]
  },
  {
   "cell_type": "code",
   "execution_count": 88,
   "metadata": {},
   "outputs": [
    {
     "data": {
      "image/png": "[encoded data removed]",
      "text/plain": [
       "<Figure size 432x288 with 1 Axes>"
      ]
     },
     "metadata": {
      "needs_background": "light"
     },
     "output_type": "display_data"
    }
   ],
   "source": [
    "show_boxplots('terminal_latency', results[0], ['centralized', 'roundrobin', 'client_dependent', 'terminal_dependent'])"
   ]
  },
  {
   "cell_type": "code",
   "execution_count": 76,
   "metadata": {
    "scrolled": true
   },
   "outputs": [
    {
     "data": {
      "application/vnd.jupyter.widget-view+json": {
       "model_id": "eb581d75c3234af69d1854bfca111b3e",
       "version_major": 2,
       "version_minor": 0
      },
      "text/plain": [
       "HBox(children=(FloatProgress(value=1.0, bar_style='info', max=1.0), HTML(value='')))"
      ]
     },
     "metadata": {},
     "output_type": "display_data"
    },
    {
     "name": "stdout",
     "output_type": "stream",
     "text": [
      "\n",
      "{'client_TDR': 1.0, 'client_MDR': 0.0, 'client_FDR': 0.0, 'terminal_TDR': 1.0, 'terminal_MDR': 0.0, 'terminal_FDR': 0.0, 'client_False': 0, 'terminal_False': 0, 'client_latency': 6.68, 'terminal_latency': 6.68}\n"
     ]
    },
    {
     "data": {
      "application/vnd.jupyter.widget-view+json": {
       "model_id": "398e519942014717a22cd0717950e386",
       "version_major": 2,
       "version_minor": 0
      },
      "text/plain": [
       "HBox(children=(FloatProgress(value=1.0, bar_style='info', max=1.0), HTML(value='')))"
      ]
     },
     "metadata": {},
     "output_type": "display_data"
    },
    {
     "name": "stdout",
     "output_type": "stream",
     "text": [
      "\n",
      "{'client_TDR': 1.0, 'client_MDR': 0.0, 'client_FDR': 0.0, 'terminal_TDR': 1.0, 'terminal_MDR': 0.0, 'terminal_FDR': 0.0, 'client_False': 0, 'terminal_False': 0, 'client_latency': 20.28, 'terminal_latency': 20.28}\n"
     ]
    },
    {
     "data": {
      "application/vnd.jupyter.widget-view+json": {
       "model_id": "324e40cda31d4021bfb8729729e7c98b",
       "version_major": 2,
       "version_minor": 0
      },
      "text/plain": [
       "HBox(children=(FloatProgress(value=1.0, bar_style='info', max=1.0), HTML(value='')))"
      ]
     },
     "metadata": {},
     "output_type": "display_data"
    },
    {
     "name": "stdout",
     "output_type": "stream",
     "text": [
      "\n",
      "{'client_TDR': 1.0, 'client_MDR': 0.0, 'client_FDR': 0.0, 'terminal_TDR': 1.0, 'terminal_MDR': 0.0, 'terminal_FDR': 0.0, 'client_False': 0, 'terminal_False': 0, 'client_latency': 6.68, 'terminal_latency': 6.68}\n"
     ]
    },
    {
     "data": {
      "application/vnd.jupyter.widget-view+json": {
       "model_id": "e5e7f35d523b4dea8778485c4175c51d",
       "version_major": 2,
       "version_minor": 0
      },
      "text/plain": [
       "HBox(children=(FloatProgress(value=1.0, bar_style='info', max=1.0), HTML(value='')))"
      ]
     },
     "metadata": {},
     "output_type": "display_data"
    },
    {
     "name": "stdout",
     "output_type": "stream",
     "text": [
      "\n",
      "{'client_TDR': 1.0, 'client_MDR': 0.0, 'client_FDR': 0.0, 'terminal_TDR': 1.0, 'terminal_MDR': 0.0, 'terminal_FDR': 0.0, 'client_False': 0, 'terminal_False': 0, 'client_latency': 6.74, 'terminal_latency': 6.74}\n"
     ]
    },
    {
     "data": {
      "application/vnd.jupyter.widget-view+json": {
       "model_id": "d40f1e68b12240e5b31487ef51155dc3",
       "version_major": 2,
       "version_minor": 0
      },
      "text/plain": [
       "HBox(children=(FloatProgress(value=1.0, bar_style='info', max=1.0), HTML(value='')))"
      ]
     },
     "metadata": {},
     "output_type": "display_data"
    },
    {
     "name": "stdout",
     "output_type": "stream",
     "text": [
      "\n",
      "{'client_TDR': 0.98, 'client_MDR': 0.020000000000000018, 'client_FDR': 0.0, 'terminal_TDR': 0.98, 'terminal_MDR': 0.020000000000000018, 'terminal_FDR': 0.0, 'client_False': 0, 'terminal_False': 0, 'client_latency': 34.204081632653065, 'terminal_latency': 34.204081632653065}\n"
     ]
    },
    {
     "data": {
      "application/vnd.jupyter.widget-view+json": {
       "model_id": "6c6b473802f643b4bf4ee9a8375659e8",
       "version_major": 2,
       "version_minor": 0
      },
      "text/plain": [
       "HBox(children=(FloatProgress(value=1.0, bar_style='info', max=1.0), HTML(value='')))"
      ]
     },
     "metadata": {},
     "output_type": "display_data"
    },
    {
     "name": "stdout",
     "output_type": "stream",
     "text": [
      "\n",
      "{'client_TDR': 1.0, 'client_MDR': 0.0, 'client_FDR': 0.0, 'terminal_TDR': 1.0, 'terminal_MDR': 0.0, 'terminal_FDR': 0.0, 'client_False': 0, 'terminal_False': 0, 'client_latency': 6.74, 'terminal_latency': 6.74}\n"
     ]
    },
    {
     "data": {
      "application/vnd.jupyter.widget-view+json": {
       "model_id": "c8988dfe5df14e2c8ed2c68f233f71fd",
       "version_major": 2,
       "version_minor": 0
      },
      "text/plain": [
       "HBox(children=(FloatProgress(value=1.0, bar_style='info', max=1.0), HTML(value='')))"
      ]
     },
     "metadata": {},
     "output_type": "display_data"
    },
    {
     "name": "stdout",
     "output_type": "stream",
     "text": [
      "\n",
      "{'client_TDR': 1.0, 'client_MDR': 0.0, 'client_FDR': 0.0, 'terminal_TDR': 1.0, 'terminal_MDR': 0.0, 'terminal_FDR': 0.0, 'client_False': 0, 'terminal_False': 0, 'client_latency': 6.76, 'terminal_latency': 6.76}\n"
     ]
    },
    {
     "data": {
      "application/vnd.jupyter.widget-view+json": {
       "model_id": "b8dc4c281b104750820244219fe5b478",
       "version_major": 2,
       "version_minor": 0
      },
      "text/plain": [
       "HBox(children=(FloatProgress(value=1.0, bar_style='info', max=1.0), HTML(value='')))"
      ]
     },
     "metadata": {},
     "output_type": "display_data"
    },
    {
     "name": "stdout",
     "output_type": "stream",
     "text": [
      "\n",
      "{'client_TDR': 0.98, 'client_MDR': 0.020000000000000018, 'client_FDR': 0.0, 'terminal_TDR': 0.98, 'terminal_MDR': 0.020000000000000018, 'terminal_FDR': 0.0, 'client_False': 0, 'terminal_False': 0, 'client_latency': 20.306122448979593, 'terminal_latency': 20.306122448979593}\n"
     ]
    },
    {
     "data": {
      "application/vnd.jupyter.widget-view+json": {
       "model_id": "781e60727a134a7d8575ae300b3e8f83",
       "version_major": 2,
       "version_minor": 0
      },
      "text/plain": [
       "HBox(children=(FloatProgress(value=1.0, bar_style='info', max=1.0), HTML(value='')))"
      ]
     },
     "metadata": {},
     "output_type": "display_data"
    },
    {
     "name": "stdout",
     "output_type": "stream",
     "text": [
      "\n",
      "{'client_TDR': 1.0, 'client_MDR': 0.0, 'client_FDR': 0.0, 'terminal_TDR': 1.0, 'terminal_MDR': 0.0, 'terminal_FDR': 0.0, 'client_False': 0, 'terminal_False': 0, 'client_latency': 6.76, 'terminal_latency': 6.76}\n"
     ]
    },
    {
     "data": {
      "application/vnd.jupyter.widget-view+json": {
       "model_id": "2b32bb9b2b8243f28272109cf033369e",
       "version_major": 2,
       "version_minor": 0
      },
      "text/plain": [
       "HBox(children=(FloatProgress(value=1.0, bar_style='info', max=1.0), HTML(value='')))"
      ]
     },
     "metadata": {},
     "output_type": "display_data"
    },
    {
     "name": "stdout",
     "output_type": "stream",
     "text": [
      "\n",
      "{'client_TDR': 1.0, 'client_MDR': 0.0, 'client_FDR': 0.0, 'terminal_TDR': 1.0, 'terminal_MDR': 0.0, 'terminal_FDR': 0.0, 'client_False': 0, 'terminal_False': 0, 'client_latency': 6.78, 'terminal_latency': 6.78}\n"
     ]
    },
    {
     "data": {
      "application/vnd.jupyter.widget-view+json": {
       "model_id": "e2845c7da44d4260ac4047f27372ff7b",
       "version_major": 2,
       "version_minor": 0
      },
      "text/plain": [
       "HBox(children=(FloatProgress(value=1.0, bar_style='info', max=1.0), HTML(value='')))"
      ]
     },
     "metadata": {},
     "output_type": "display_data"
    },
    {
     "name": "stdout",
     "output_type": "stream",
     "text": [
      "\n",
      "{'client_TDR': 0.96, 'client_MDR': 0.040000000000000036, 'client_FDR': 0.0, 'terminal_TDR': 0.96, 'terminal_MDR': 0.040000000000000036, 'terminal_FDR': 0.0, 'client_False': 0, 'terminal_False': 0, 'client_latency': 28.229166666666668, 'terminal_latency': 28.229166666666668}\n"
     ]
    },
    {
     "data": {
      "application/vnd.jupyter.widget-view+json": {
       "model_id": "54dbdf5f563e4387ab0e03f701ae7a18",
       "version_major": 2,
       "version_minor": 0
      },
      "text/plain": [
       "HBox(children=(FloatProgress(value=1.0, bar_style='info', max=1.0), HTML(value='')))"
      ]
     },
     "metadata": {},
     "output_type": "display_data"
    },
    {
     "name": "stdout",
     "output_type": "stream",
     "text": [
      "\n",
      "{'client_TDR': 1.0, 'client_MDR': 0.0, 'client_FDR': 0.0, 'terminal_TDR': 1.0, 'terminal_MDR': 0.0, 'terminal_FDR': 0.0, 'client_False': 0, 'terminal_False': 0, 'client_latency': 6.78, 'terminal_latency': 6.78}\n"
     ]
    },
    {
     "data": {
      "application/vnd.jupyter.widget-view+json": {
       "model_id": "043d5ca196f54e90b235cf5de6fd3435",
       "version_major": 2,
       "version_minor": 0
      },
      "text/plain": [
       "HBox(children=(FloatProgress(value=1.0, bar_style='info', max=1.0), HTML(value='')))"
      ]
     },
     "metadata": {},
     "output_type": "display_data"
    },
    {
     "name": "stdout",
     "output_type": "stream",
     "text": [
      "\n",
      "{'client_TDR': 1.0, 'client_MDR': 0.0, 'client_FDR': 0.0, 'terminal_TDR': 1.0, 'terminal_MDR': 0.0, 'terminal_FDR': 0.0, 'client_False': 0, 'terminal_False': 0, 'client_latency': 6.7, 'terminal_latency': 6.7}\n"
     ]
    },
    {
     "data": {
      "application/vnd.jupyter.widget-view+json": {
       "model_id": "216972126def488b80616d0802f7f9aa",
       "version_major": 2,
       "version_minor": 0
      },
      "text/plain": [
       "HBox(children=(FloatProgress(value=1.0, bar_style='info', max=1.0), HTML(value='')))"
      ]
     },
     "metadata": {},
     "output_type": "display_data"
    },
    {
     "name": "stdout",
     "output_type": "stream",
     "text": [
      "\n",
      "{'client_TDR': 0.98, 'client_MDR': 0.020000000000000018, 'client_FDR': 0.0, 'terminal_TDR': 0.98, 'terminal_MDR': 0.020000000000000018, 'terminal_FDR': 0.0, 'client_False': 0, 'terminal_False': 0, 'client_latency': 20.510204081632654, 'terminal_latency': 20.510204081632654}\n"
     ]
    },
    {
     "data": {
      "application/vnd.jupyter.widget-view+json": {
       "model_id": "882642bf9331468ca650be8c2b00584b",
       "version_major": 2,
       "version_minor": 0
      },
      "text/plain": [
       "HBox(children=(FloatProgress(value=1.0, bar_style='info', max=1.0), HTML(value='')))"
      ]
     },
     "metadata": {},
     "output_type": "display_data"
    },
    {
     "name": "stdout",
     "output_type": "stream",
     "text": [
      "\n",
      "{'client_TDR': 1.0, 'client_MDR': 0.0, 'client_FDR': 0.0, 'terminal_TDR': 1.0, 'terminal_MDR': 0.0, 'terminal_FDR': 0.0, 'client_False': 0, 'terminal_False': 0, 'client_latency': 6.7, 'terminal_latency': 6.7}\n"
     ]
    },
    {
     "data": {
      "application/vnd.jupyter.widget-view+json": {
       "model_id": "f690c08d23174526ab24cced24932207",
       "version_major": 2,
       "version_minor": 0
      },
      "text/plain": [
       "HBox(children=(FloatProgress(value=1.0, bar_style='info', max=1.0), HTML(value='')))"
      ]
     },
     "metadata": {},
     "output_type": "display_data"
    },
    {
     "name": "stdout",
     "output_type": "stream",
     "text": [
      "\n",
      "{'client_TDR': 1.0, 'client_MDR': 0.0, 'client_FDR': 0.0, 'terminal_TDR': 1.0, 'terminal_MDR': 0.0, 'terminal_FDR': 0.0, 'client_False': 0, 'terminal_False': 0, 'client_latency': 6.94, 'terminal_latency': 6.94}\n"
     ]
    },
    {
     "data": {
      "application/vnd.jupyter.widget-view+json": {
       "model_id": "3d190663e8804252ac9637ee62722189",
       "version_major": 2,
       "version_minor": 0
      },
      "text/plain": [
       "HBox(children=(FloatProgress(value=1.0, bar_style='info', max=1.0), HTML(value='')))"
      ]
     },
     "metadata": {},
     "output_type": "display_data"
    },
    {
     "name": "stdout",
     "output_type": "stream",
     "text": [
      "\n",
      "{'client_TDR': 0.96, 'client_MDR': 0.040000000000000036, 'client_FDR': 0.0, 'terminal_TDR': 0.96, 'terminal_MDR': 0.040000000000000036, 'terminal_FDR': 0.0, 'client_False': 0, 'terminal_False': 0, 'client_latency': 24.083333333333332, 'terminal_latency': 24.083333333333332}\n"
     ]
    },
    {
     "data": {
      "application/vnd.jupyter.widget-view+json": {
       "model_id": "11083b4110f54a49b194289ecc6b9b8a",
       "version_major": 2,
       "version_minor": 0
      },
      "text/plain": [
       "HBox(children=(FloatProgress(value=1.0, bar_style='info', max=1.0), HTML(value='')))"
      ]
     },
     "metadata": {},
     "output_type": "display_data"
    },
    {
     "name": "stdout",
     "output_type": "stream",
     "text": [
      "\n",
      "{'client_TDR': 1.0, 'client_MDR': 0.0, 'client_FDR': 0.0, 'terminal_TDR': 1.0, 'terminal_MDR': 0.0, 'terminal_FDR': 0.0, 'client_False': 0, 'terminal_False': 0, 'client_latency': 6.94, 'terminal_latency': 6.94}\n"
     ]
    },
    {
     "data": {
      "application/vnd.jupyter.widget-view+json": {
       "model_id": "7d9fc3885b1c4cbdb3ebf36aabe63408",
       "version_major": 2,
       "version_minor": 0
      },
      "text/plain": [
       "HBox(children=(FloatProgress(value=1.0, bar_style='info', max=1.0), HTML(value='')))"
      ]
     },
     "metadata": {},
     "output_type": "display_data"
    },
    {
     "name": "stdout",
     "output_type": "stream",
     "text": [
      "\n",
      "{'client_TDR': 1.0, 'client_MDR': 0.0, 'client_FDR': 0.0, 'terminal_TDR': 1.0, 'terminal_MDR': 0.0, 'terminal_FDR': 0.0, 'client_False': 0, 'terminal_False': 0, 'client_latency': 6.78, 'terminal_latency': 6.78}\n"
     ]
    },
    {
     "data": {
      "application/vnd.jupyter.widget-view+json": {
       "model_id": "4aa8c45e596b4e1fb3a7ed3cbe76834f",
       "version_major": 2,
       "version_minor": 0
      },
      "text/plain": [
       "HBox(children=(FloatProgress(value=1.0, bar_style='info', max=1.0), HTML(value='')))"
      ]
     },
     "metadata": {},
     "output_type": "display_data"
    },
    {
     "name": "stdout",
     "output_type": "stream",
     "text": [
      "\n",
      "{'client_TDR': 0.94, 'client_MDR': 0.06000000000000005, 'client_FDR': 0.0, 'terminal_TDR': 0.94, 'terminal_MDR': 0.06000000000000005, 'terminal_FDR': 0.0, 'client_False': 0, 'terminal_False': 0, 'client_latency': 24.127659574468087, 'terminal_latency': 24.127659574468087}\n"
     ]
    },
    {
     "data": {
      "application/vnd.jupyter.widget-view+json": {
       "model_id": "88b913b7e2374cc0a8564d3ccd3e8a14",
       "version_major": 2,
       "version_minor": 0
      },
      "text/plain": [
       "HBox(children=(FloatProgress(value=1.0, bar_style='info', max=1.0), HTML(value='')))"
      ]
     },
     "metadata": {},
     "output_type": "display_data"
    },
    {
     "name": "stdout",
     "output_type": "stream",
     "text": [
      "\n",
      "{'client_TDR': 1.0, 'client_MDR': 0.0, 'client_FDR': 0.0, 'terminal_TDR': 1.0, 'terminal_MDR': 0.0, 'terminal_FDR': 0.0, 'client_False': 0, 'terminal_False': 0, 'client_latency': 6.78, 'terminal_latency': 6.78}\n"
     ]
    },
    {
     "data": {
      "application/vnd.jupyter.widget-view+json": {
       "model_id": "80303015b9e249fcb387743f8d4ca1a4",
       "version_major": 2,
       "version_minor": 0
      },
      "text/plain": [
       "HBox(children=(FloatProgress(value=1.0, bar_style='info', max=1.0), HTML(value='')))"
      ]
     },
     "metadata": {},
     "output_type": "display_data"
    },
    {
     "name": "stdout",
     "output_type": "stream",
     "text": [
      "\n",
      "{'client_TDR': 1.0, 'client_MDR': 0.0, 'client_FDR': 0.0, 'terminal_TDR': 1.0, 'terminal_MDR': 0.0, 'terminal_FDR': 0.0, 'client_False': 0, 'terminal_False': 0, 'client_latency': 6.96, 'terminal_latency': 6.96}\n"
     ]
    },
    {
     "data": {
      "application/vnd.jupyter.widget-view+json": {
       "model_id": "076ecbe374574f5c869ceb5c8475da17",
       "version_major": 2,
       "version_minor": 0
      },
      "text/plain": [
       "HBox(children=(FloatProgress(value=1.0, bar_style='info', max=1.0), HTML(value='')))"
      ]
     },
     "metadata": {},
     "output_type": "display_data"
    },
    {
     "name": "stdout",
     "output_type": "stream",
     "text": [
      "\n",
      "{'client_TDR': 1.0, 'client_MDR': 0.0, 'client_FDR': 0.0, 'terminal_TDR': 1.0, 'terminal_MDR': 0.0, 'terminal_FDR': 0.0, 'client_False': 0, 'terminal_False': 0, 'client_latency': 19.62, 'terminal_latency': 19.62}\n"
     ]
    },
    {
     "data": {
      "application/vnd.jupyter.widget-view+json": {
       "model_id": "aa20fbac1a90424aa5497f7bbf3eb2da",
       "version_major": 2,
       "version_minor": 0
      },
      "text/plain": [
       "HBox(children=(FloatProgress(value=1.0, bar_style='info', max=1.0), HTML(value='')))"
      ]
     },
     "metadata": {},
     "output_type": "display_data"
    },
    {
     "name": "stdout",
     "output_type": "stream",
     "text": [
      "\n",
      "{'client_TDR': 1.0, 'client_MDR': 0.0, 'client_FDR': 0.0, 'terminal_TDR': 1.0, 'terminal_MDR': 0.0, 'terminal_FDR': 0.0, 'client_False': 0, 'terminal_False': 0, 'client_latency': 6.96, 'terminal_latency': 6.96}\n"
     ]
    },
    {
     "data": {
      "application/vnd.jupyter.widget-view+json": {
       "model_id": "12696580e78941cd9683ec174be0b8a6",
       "version_major": 2,
       "version_minor": 0
      },
      "text/plain": [
       "HBox(children=(FloatProgress(value=1.0, bar_style='info', max=1.0), HTML(value='')))"
      ]
     },
     "metadata": {},
     "output_type": "display_data"
    },
    {
     "name": "stdout",
     "output_type": "stream",
     "text": [
      "\n",
      "{'client_TDR': 0.98, 'client_MDR': 0.020000000000000018, 'client_FDR': 0.0, 'terminal_TDR': 0.98, 'terminal_MDR': 0.020000000000000018, 'terminal_FDR': 0.0, 'client_False': 0, 'terminal_False': 0, 'client_latency': 6.836734693877551, 'terminal_latency': 6.836734693877551}\n"
     ]
    },
    {
     "data": {
      "application/vnd.jupyter.widget-view+json": {
       "model_id": "939ba9c9c29a41cca8b1d6d62b1d230b",
       "version_major": 2,
       "version_minor": 0
      },
      "text/plain": [
       "HBox(children=(FloatProgress(value=1.0, bar_style='info', max=1.0), HTML(value='')))"
      ]
     },
     "metadata": {},
     "output_type": "display_data"
    },
    {
     "name": "stdout",
     "output_type": "stream",
     "text": [
      "\n",
      "{'client_TDR': 0.98, 'client_MDR': 0.020000000000000018, 'client_FDR': 0.0, 'terminal_TDR': 0.98, 'terminal_MDR': 0.020000000000000018, 'terminal_FDR': 0.0, 'client_False': 0, 'terminal_False': 0, 'client_latency': 29.714285714285715, 'terminal_latency': 29.714285714285715}\n"
     ]
    },
    {
     "data": {
      "application/vnd.jupyter.widget-view+json": {
       "model_id": "ac51de8bec6346e6bf8f96df03ac6bb1",
       "version_major": 2,
       "version_minor": 0
      },
      "text/plain": [
       "HBox(children=(FloatProgress(value=1.0, bar_style='info', max=1.0), HTML(value='')))"
      ]
     },
     "metadata": {},
     "output_type": "display_data"
    },
    {
     "name": "stdout",
     "output_type": "stream",
     "text": [
      "\n",
      "{'client_TDR': 0.98, 'client_MDR': 0.020000000000000018, 'client_FDR': 0.0, 'terminal_TDR': 0.98, 'terminal_MDR': 0.020000000000000018, 'terminal_FDR': 0.0, 'client_False': 0, 'terminal_False': 0, 'client_latency': 6.836734693877551, 'terminal_latency': 6.836734693877551}\n"
     ]
    },
    {
     "data": {
      "application/vnd.jupyter.widget-view+json": {
       "model_id": "0fff740b171649aa97c3bed524154660",
       "version_major": 2,
       "version_minor": 0
      },
      "text/plain": [
       "HBox(children=(FloatProgress(value=1.0, bar_style='info', max=1.0), HTML(value='')))"
      ]
     },
     "metadata": {},
     "output_type": "display_data"
    },
    {
     "name": "stdout",
     "output_type": "stream",
     "text": [
      "\n",
      "{'client_TDR': 1.0, 'client_MDR': 0.0, 'client_FDR': 0.0, 'terminal_TDR': 1.0, 'terminal_MDR': 0.0, 'terminal_FDR': 0.0, 'client_False': 0, 'terminal_False': 0, 'client_latency': 6.32, 'terminal_latency': 6.32}\n"
     ]
    },
    {
     "data": {
      "application/vnd.jupyter.widget-view+json": {
       "model_id": "3784b9f2ae3d478eb709b14596cb2094",
       "version_major": 2,
       "version_minor": 0
      },
      "text/plain": [
       "HBox(children=(FloatProgress(value=1.0, bar_style='info', max=1.0), HTML(value='')))"
      ]
     },
     "metadata": {},
     "output_type": "display_data"
    },
    {
     "name": "stdout",
     "output_type": "stream",
     "text": [
      "\n",
      "{'client_TDR': 0.98, 'client_MDR': 0.020000000000000018, 'client_FDR': 0.0, 'terminal_TDR': 0.98, 'terminal_MDR': 0.020000000000000018, 'terminal_FDR': 0.0, 'client_False': 0, 'terminal_False': 0, 'client_latency': 25.3265306122449, 'terminal_latency': 25.3265306122449}\n"
     ]
    },
    {
     "data": {
      "application/vnd.jupyter.widget-view+json": {
       "model_id": "8b5c2f9ebfd942a8ad3733460bd7e002",
       "version_major": 2,
       "version_minor": 0
      },
      "text/plain": [
       "HBox(children=(FloatProgress(value=1.0, bar_style='info', max=1.0), HTML(value='')))"
      ]
     },
     "metadata": {},
     "output_type": "display_data"
    },
    {
     "name": "stdout",
     "output_type": "stream",
     "text": [
      "\n",
      "{'client_TDR': 1.0, 'client_MDR': 0.0, 'client_FDR': 0.0, 'terminal_TDR': 1.0, 'terminal_MDR': 0.0, 'terminal_FDR': 0.0, 'client_False': 0, 'terminal_False': 0, 'client_latency': 6.32, 'terminal_latency': 6.32}\n"
     ]
    }
   ],
   "source": [
    "stands = [\n",
    "    stand_centralized,\n",
    "    stand_roundrobins,\n",
    "    stand_client_dependent,\n",
    "]\n",
    "\n",
    "generations = [\n",
    "    SimpleMultichangeSampleGeneration\n",
    "]\n",
    "\n",
    "n_clients = 1\n",
    "n_terminals = 1\n",
    "\n",
    "results = [[[] for _ in stands] for _ in generations]\n",
    "for state in range(10):\n",
    "    for i, generation in enumerate(generations):\n",
    "        sample, change_points, change_points_ids = generation(state=state)(\n",
    "            size=10000,\n",
    "            tau=200\n",
    "        )\n",
    "        for j, stand in enumerate(stands):\n",
    "            result1 = stand.test(\n",
    "                p=0.05,\n",
    "                sample=sample,\n",
    "                change_points=change_points,\n",
    "                change_ids=change_points_ids,\n",
    "                n_clients=n_clients,\n",
    "                n_terminals=n_terminals\n",
    "            )\n",
    "            print(result1)\n",
    "            results[i][j].append(result1)"
   ]
  },
  {
   "cell_type": "code",
   "execution_count": 77,
   "metadata": {},
   "outputs": [
    {
     "data": {
      "image/png": "[encoded data removed]",
      "text/plain": [
       "<Figure size 432x288 with 1 Axes>"
      ]
     },
     "metadata": {
      "needs_background": "light"
     },
     "output_type": "display_data"
    }
   ],
   "source": [
    "show_boxplots('client_MDR', results[0], ['centralized', 'roundrobin', 'client_dependent'])"
   ]
  },
  {
   "cell_type": "code",
   "execution_count": 78,
   "metadata": {},
   "outputs": [
    {
     "data": {
      "image/png": "[encoded data removed]",
      "text/plain": [
       "<Figure size 432x288 with 1 Axes>"
      ]
     },
     "metadata": {
      "needs_background": "light"
     },
     "output_type": "display_data"
    }
   ],
   "source": [
    "show_boxplots('client_FDR', results[0], ['centralized', 'roundrobin', 'client_dependent'])"
   ]
  },
  {
   "cell_type": "code",
   "execution_count": 79,
   "metadata": {},
   "outputs": [
    {
     "data": {
      "image/png": "[encoded data removed]",
      "text/plain": [
       "<Figure size 432x288 with 1 Axes>"
      ]
     },
     "metadata": {
      "needs_background": "light"
     },
     "output_type": "display_data"
    }
   ],
   "source": [
    "show_boxplots('client_latency', results[0], ['centralized', 'roundrobin', 'client_dependent'])"
   ]
  },
  {
   "cell_type": "code",
   "execution_count": 81,
   "metadata": {},
   "outputs": [],
   "source": [
    "with open('simple_results.json', 'w') as simple_file:\n",
    "    json.dump(results, simple_file, indent=4, ensure_ascii=False)"
   ]
  },
  {
   "cell_type": "code",
   "execution_count": null,
   "metadata": {},
   "outputs": [],
   "source": []
  },
  {
   "cell_type": "code",
   "execution_count": null,
   "metadata": {},
   "outputs": [],
   "source": []
  }
 ],
 "metadata": {
  "kernelspec": {
   "display_name": "Python 3",
   "language": "python",
   "name": "python3"
  },
  "language_info": {
   "codemirror_mode": {
    "name": "ipython",
    "version": 3
   },
   "file_extension": ".py",
   "mimetype": "text/x-python",
   "name": "python",
   "nbconvert_exporter": "python",
   "pygments_lexer": "ipython3",
   "version": "3.7.6"
  }
 },
 "nbformat": 4,
 "nbformat_minor": 1
}
